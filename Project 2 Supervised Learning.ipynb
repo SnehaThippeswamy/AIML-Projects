{
 "cells": [
  {
   "cell_type": "markdown",
   "metadata": {},
   "source": [
    "# Assignment 2 - Supervised Learning"
   ]
  },
  {
   "cell_type": "markdown",
   "metadata": {},
   "source": [
    "# 1. Import and store the data in a data frame"
   ]
  },
  {
   "cell_type": "code",
   "execution_count": 1,
   "metadata": {},
   "outputs": [
    {
     "data": {
      "text/html": [
       "<div>\n",
       "<style scoped>\n",
       "    .dataframe tbody tr th:only-of-type {\n",
       "        vertical-align: middle;\n",
       "    }\n",
       "\n",
       "    .dataframe tbody tr th {\n",
       "        vertical-align: top;\n",
       "    }\n",
       "\n",
       "    .dataframe thead th {\n",
       "        text-align: right;\n",
       "    }\n",
       "</style>\n",
       "<table border=\"1\" class=\"dataframe\">\n",
       "  <thead>\n",
       "    <tr style=\"text-align: right;\">\n",
       "      <th></th>\n",
       "      <th>City1</th>\n",
       "      <th>City2</th>\n",
       "      <th>Average Fare</th>\n",
       "      <th>Distance</th>\n",
       "      <th>Average weekly passengers</th>\n",
       "      <th>market leading airline</th>\n",
       "      <th>market share</th>\n",
       "      <th>Average fare</th>\n",
       "      <th>Low price airline</th>\n",
       "      <th>market share.1</th>\n",
       "      <th>Price</th>\n",
       "    </tr>\n",
       "  </thead>\n",
       "  <tbody>\n",
       "    <tr>\n",
       "      <th>0</th>\n",
       "      <td>CAK</td>\n",
       "      <td>ATL</td>\n",
       "      <td>114.47</td>\n",
       "      <td>528</td>\n",
       "      <td>424.56</td>\n",
       "      <td>FL</td>\n",
       "      <td>70.19</td>\n",
       "      <td>111.03</td>\n",
       "      <td>FL</td>\n",
       "      <td>70.19</td>\n",
       "      <td>111.03</td>\n",
       "    </tr>\n",
       "    <tr>\n",
       "      <th>1</th>\n",
       "      <td>CAK</td>\n",
       "      <td>MCO</td>\n",
       "      <td>122.47</td>\n",
       "      <td>860</td>\n",
       "      <td>276.84</td>\n",
       "      <td>FL</td>\n",
       "      <td>75.10</td>\n",
       "      <td>123.09</td>\n",
       "      <td>DL</td>\n",
       "      <td>17.23</td>\n",
       "      <td>118.94</td>\n",
       "    </tr>\n",
       "    <tr>\n",
       "      <th>2</th>\n",
       "      <td>ALB</td>\n",
       "      <td>ATL</td>\n",
       "      <td>214.42</td>\n",
       "      <td>852</td>\n",
       "      <td>215.76</td>\n",
       "      <td>DL</td>\n",
       "      <td>78.89</td>\n",
       "      <td>223.98</td>\n",
       "      <td>CO</td>\n",
       "      <td>2.77</td>\n",
       "      <td>167.12</td>\n",
       "    </tr>\n",
       "    <tr>\n",
       "      <th>3</th>\n",
       "      <td>ALB</td>\n",
       "      <td>BWI</td>\n",
       "      <td>69.40</td>\n",
       "      <td>288</td>\n",
       "      <td>606.84</td>\n",
       "      <td>WN</td>\n",
       "      <td>96.97</td>\n",
       "      <td>68.86</td>\n",
       "      <td>WN</td>\n",
       "      <td>96.97</td>\n",
       "      <td>68.86</td>\n",
       "    </tr>\n",
       "    <tr>\n",
       "      <th>4</th>\n",
       "      <td>ALB</td>\n",
       "      <td>ORD</td>\n",
       "      <td>158.13</td>\n",
       "      <td>723</td>\n",
       "      <td>313.04</td>\n",
       "      <td>UA</td>\n",
       "      <td>39.79</td>\n",
       "      <td>161.36</td>\n",
       "      <td>WN</td>\n",
       "      <td>15.34</td>\n",
       "      <td>145.42</td>\n",
       "    </tr>\n",
       "  </tbody>\n",
       "</table>\n",
       "</div>"
      ],
      "text/plain": [
       "  City1 City2  Average Fare  Distance  Average weekly passengers  \\\n",
       "0   CAK   ATL        114.47       528                     424.56   \n",
       "1   CAK   MCO        122.47       860                     276.84   \n",
       "2   ALB   ATL        214.42       852                     215.76   \n",
       "3   ALB   BWI         69.40       288                     606.84   \n",
       "4   ALB   ORD        158.13       723                     313.04   \n",
       "\n",
       "  market leading airline  market share  Average fare Low price airline  \\\n",
       "0                     FL         70.19        111.03                FL   \n",
       "1                     FL         75.10        123.09                DL   \n",
       "2                     DL         78.89        223.98                CO   \n",
       "3                     WN         96.97         68.86                WN   \n",
       "4                     UA         39.79        161.36                WN   \n",
       "\n",
       "   market share.1   Price  \n",
       "0           70.19  111.03  \n",
       "1           17.23  118.94  \n",
       "2            2.77  167.12  \n",
       "3           96.97   68.86  \n",
       "4           15.34  145.42  "
      ]
     },
     "execution_count": 1,
     "metadata": {},
     "output_type": "execute_result"
    }
   ],
   "source": [
    "import pandas as pd\n",
    "import matplotlib.pyplot as plt\n",
    "import seaborn as sns\n",
    "from sklearn.model_selection import train_test_split\n",
    "from sklearn.linear_model import LinearRegression\n",
    "\n",
    "air = pd.read_csv('./airq402.csv')\n",
    "air.head()"
   ]
  },
  {
   "cell_type": "code",
   "execution_count": 2,
   "metadata": {},
   "outputs": [
    {
     "data": {
      "text/html": [
       "<div>\n",
       "<style scoped>\n",
       "    .dataframe tbody tr th:only-of-type {\n",
       "        vertical-align: middle;\n",
       "    }\n",
       "\n",
       "    .dataframe tbody tr th {\n",
       "        vertical-align: top;\n",
       "    }\n",
       "\n",
       "    .dataframe thead th {\n",
       "        text-align: right;\n",
       "    }\n",
       "</style>\n",
       "<table border=\"1\" class=\"dataframe\">\n",
       "  <thead>\n",
       "    <tr style=\"text-align: right;\">\n",
       "      <th></th>\n",
       "      <th>City1</th>\n",
       "      <th>City2</th>\n",
       "      <th>Average Fare</th>\n",
       "      <th>Distance</th>\n",
       "      <th>Average weekly passengers</th>\n",
       "      <th>Market leading airline</th>\n",
       "      <th>Market share - leading</th>\n",
       "      <th>Average fare - leading</th>\n",
       "      <th>Low price airline</th>\n",
       "      <th>Market share - low price</th>\n",
       "      <th>Average fare - low price</th>\n",
       "    </tr>\n",
       "  </thead>\n",
       "  <tbody>\n",
       "    <tr>\n",
       "      <th>0</th>\n",
       "      <td>CAK</td>\n",
       "      <td>ATL</td>\n",
       "      <td>114.47</td>\n",
       "      <td>528</td>\n",
       "      <td>424.56</td>\n",
       "      <td>FL</td>\n",
       "      <td>70.19</td>\n",
       "      <td>111.03</td>\n",
       "      <td>FL</td>\n",
       "      <td>70.19</td>\n",
       "      <td>111.03</td>\n",
       "    </tr>\n",
       "    <tr>\n",
       "      <th>1</th>\n",
       "      <td>CAK</td>\n",
       "      <td>MCO</td>\n",
       "      <td>122.47</td>\n",
       "      <td>860</td>\n",
       "      <td>276.84</td>\n",
       "      <td>FL</td>\n",
       "      <td>75.10</td>\n",
       "      <td>123.09</td>\n",
       "      <td>DL</td>\n",
       "      <td>17.23</td>\n",
       "      <td>118.94</td>\n",
       "    </tr>\n",
       "    <tr>\n",
       "      <th>2</th>\n",
       "      <td>ALB</td>\n",
       "      <td>ATL</td>\n",
       "      <td>214.42</td>\n",
       "      <td>852</td>\n",
       "      <td>215.76</td>\n",
       "      <td>DL</td>\n",
       "      <td>78.89</td>\n",
       "      <td>223.98</td>\n",
       "      <td>CO</td>\n",
       "      <td>2.77</td>\n",
       "      <td>167.12</td>\n",
       "    </tr>\n",
       "    <tr>\n",
       "      <th>3</th>\n",
       "      <td>ALB</td>\n",
       "      <td>BWI</td>\n",
       "      <td>69.40</td>\n",
       "      <td>288</td>\n",
       "      <td>606.84</td>\n",
       "      <td>WN</td>\n",
       "      <td>96.97</td>\n",
       "      <td>68.86</td>\n",
       "      <td>WN</td>\n",
       "      <td>96.97</td>\n",
       "      <td>68.86</td>\n",
       "    </tr>\n",
       "    <tr>\n",
       "      <th>4</th>\n",
       "      <td>ALB</td>\n",
       "      <td>ORD</td>\n",
       "      <td>158.13</td>\n",
       "      <td>723</td>\n",
       "      <td>313.04</td>\n",
       "      <td>UA</td>\n",
       "      <td>39.79</td>\n",
       "      <td>161.36</td>\n",
       "      <td>WN</td>\n",
       "      <td>15.34</td>\n",
       "      <td>145.42</td>\n",
       "    </tr>\n",
       "  </tbody>\n",
       "</table>\n",
       "</div>"
      ],
      "text/plain": [
       "  City1 City2  Average Fare  Distance  Average weekly passengers  \\\n",
       "0   CAK   ATL        114.47       528                     424.56   \n",
       "1   CAK   MCO        122.47       860                     276.84   \n",
       "2   ALB   ATL        214.42       852                     215.76   \n",
       "3   ALB   BWI         69.40       288                     606.84   \n",
       "4   ALB   ORD        158.13       723                     313.04   \n",
       "\n",
       "  Market leading airline  Market share - leading  Average fare - leading  \\\n",
       "0                     FL                   70.19                  111.03   \n",
       "1                     FL                   75.10                  123.09   \n",
       "2                     DL                   78.89                  223.98   \n",
       "3                     WN                   96.97                   68.86   \n",
       "4                     UA                   39.79                  161.36   \n",
       "\n",
       "  Low price airline  Market share - low price  Average fare - low price  \n",
       "0                FL                     70.19                    111.03  \n",
       "1                DL                     17.23                    118.94  \n",
       "2                CO                      2.77                    167.12  \n",
       "3                WN                     96.97                     68.86  \n",
       "4                WN                     15.34                    145.42  "
      ]
     },
     "execution_count": 2,
     "metadata": {},
     "output_type": "execute_result"
    }
   ],
   "source": [
    "# Renaming the column names because column names are same for multiple columns\n",
    "air.rename(columns={'market leading airline':'Market leading airline',\n",
    "'market share':'Market share - leading',\n",
    "'Average fare':'Average fare - leading',\n",
    "'market share.1':'Market share - low price',\n",
    "'Price':'Average fare - low price'}, inplace=True)\n",
    "air.head()"
   ]
  },
  {
   "cell_type": "code",
   "execution_count": 3,
   "metadata": {},
   "outputs": [
    {
     "data": {
      "text/html": [
       "<div>\n",
       "<style scoped>\n",
       "    .dataframe tbody tr th:only-of-type {\n",
       "        vertical-align: middle;\n",
       "    }\n",
       "\n",
       "    .dataframe tbody tr th {\n",
       "        vertical-align: top;\n",
       "    }\n",
       "\n",
       "    .dataframe thead th {\n",
       "        text-align: right;\n",
       "    }\n",
       "</style>\n",
       "<table border=\"1\" class=\"dataframe\">\n",
       "  <thead>\n",
       "    <tr style=\"text-align: right;\">\n",
       "      <th></th>\n",
       "      <th>City1</th>\n",
       "      <th>City2</th>\n",
       "      <th>Average Fare</th>\n",
       "      <th>Distance</th>\n",
       "      <th>Average weekly passengers</th>\n",
       "      <th>Market leading airline</th>\n",
       "      <th>Market share - leading</th>\n",
       "      <th>Average fare - leading</th>\n",
       "      <th>Low price airline</th>\n",
       "      <th>Market share - low price</th>\n",
       "      <th>Average fare - low price</th>\n",
       "    </tr>\n",
       "  </thead>\n",
       "  <tbody>\n",
       "  </tbody>\n",
       "</table>\n",
       "</div>"
      ],
      "text/plain": [
       "Empty DataFrame\n",
       "Columns: [City1, City2, Average Fare, Distance, Average weekly passengers, Market leading airline, Market share - leading, Average fare - leading, Low price airline, Market share - low price, Average fare - low price]\n",
       "Index: []"
      ]
     },
     "execution_count": 3,
     "metadata": {},
     "output_type": "execute_result"
    }
   ],
   "source": [
    "# checking whether data has null values or not\n",
    "air[air.isna().any(axis=1)]"
   ]
  },
  {
   "cell_type": "code",
   "execution_count": 4,
   "metadata": {},
   "outputs": [
    {
     "data": {
      "text/html": [
       "<div>\n",
       "<style scoped>\n",
       "    .dataframe tbody tr th:only-of-type {\n",
       "        vertical-align: middle;\n",
       "    }\n",
       "\n",
       "    .dataframe tbody tr th {\n",
       "        vertical-align: top;\n",
       "    }\n",
       "\n",
       "    .dataframe thead th {\n",
       "        text-align: right;\n",
       "    }\n",
       "</style>\n",
       "<table border=\"1\" class=\"dataframe\">\n",
       "  <thead>\n",
       "    <tr style=\"text-align: right;\">\n",
       "      <th></th>\n",
       "      <th>Average Fare</th>\n",
       "      <th>Distance</th>\n",
       "      <th>Average weekly passengers</th>\n",
       "      <th>Market share - leading</th>\n",
       "      <th>Average fare - leading</th>\n",
       "      <th>Market share - low price</th>\n",
       "      <th>Average fare - low price</th>\n",
       "    </tr>\n",
       "  </thead>\n",
       "  <tbody>\n",
       "    <tr>\n",
       "      <th>0</th>\n",
       "      <td>114.47</td>\n",
       "      <td>528</td>\n",
       "      <td>424.56</td>\n",
       "      <td>70.19</td>\n",
       "      <td>111.03</td>\n",
       "      <td>70.19</td>\n",
       "      <td>111.03</td>\n",
       "    </tr>\n",
       "    <tr>\n",
       "      <th>1</th>\n",
       "      <td>122.47</td>\n",
       "      <td>860</td>\n",
       "      <td>276.84</td>\n",
       "      <td>75.10</td>\n",
       "      <td>123.09</td>\n",
       "      <td>17.23</td>\n",
       "      <td>118.94</td>\n",
       "    </tr>\n",
       "    <tr>\n",
       "      <th>2</th>\n",
       "      <td>214.42</td>\n",
       "      <td>852</td>\n",
       "      <td>215.76</td>\n",
       "      <td>78.89</td>\n",
       "      <td>223.98</td>\n",
       "      <td>2.77</td>\n",
       "      <td>167.12</td>\n",
       "    </tr>\n",
       "    <tr>\n",
       "      <th>3</th>\n",
       "      <td>69.40</td>\n",
       "      <td>288</td>\n",
       "      <td>606.84</td>\n",
       "      <td>96.97</td>\n",
       "      <td>68.86</td>\n",
       "      <td>96.97</td>\n",
       "      <td>68.86</td>\n",
       "    </tr>\n",
       "    <tr>\n",
       "      <th>4</th>\n",
       "      <td>158.13</td>\n",
       "      <td>723</td>\n",
       "      <td>313.04</td>\n",
       "      <td>39.79</td>\n",
       "      <td>161.36</td>\n",
       "      <td>15.34</td>\n",
       "      <td>145.42</td>\n",
       "    </tr>\n",
       "  </tbody>\n",
       "</table>\n",
       "</div>"
      ],
      "text/plain": [
       "   Average Fare  Distance  Average weekly passengers  Market share - leading  \\\n",
       "0        114.47       528                     424.56                   70.19   \n",
       "1        122.47       860                     276.84                   75.10   \n",
       "2        214.42       852                     215.76                   78.89   \n",
       "3         69.40       288                     606.84                   96.97   \n",
       "4        158.13       723                     313.04                   39.79   \n",
       "\n",
       "   Average fare - leading  Market share - low price  Average fare - low price  \n",
       "0                  111.03                     70.19                    111.03  \n",
       "1                  123.09                     17.23                    118.94  \n",
       "2                  223.98                      2.77                    167.12  \n",
       "3                   68.86                     96.97                     68.86  \n",
       "4                  161.36                     15.34                    145.42  "
      ]
     },
     "execution_count": 4,
     "metadata": {},
     "output_type": "execute_result"
    }
   ],
   "source": [
    "# dropping the categorical Columns\n",
    "air = air.drop(['City1','City2','Market leading airline','Low price airline'], axis=1)\n",
    "air.head()"
   ]
  },
  {
   "cell_type": "markdown",
   "metadata": {},
   "source": [
    "# 2. Remove the outliers from the data"
   ]
  },
  {
   "cell_type": "code",
   "execution_count": 5,
   "metadata": {},
   "outputs": [
    {
     "data": {
      "text/html": [
       "<div>\n",
       "<style scoped>\n",
       "    .dataframe tbody tr th:only-of-type {\n",
       "        vertical-align: middle;\n",
       "    }\n",
       "\n",
       "    .dataframe tbody tr th {\n",
       "        vertical-align: top;\n",
       "    }\n",
       "\n",
       "    .dataframe thead th {\n",
       "        text-align: right;\n",
       "    }\n",
       "</style>\n",
       "<table border=\"1\" class=\"dataframe\">\n",
       "  <thead>\n",
       "    <tr style=\"text-align: right;\">\n",
       "      <th></th>\n",
       "      <th>count</th>\n",
       "      <th>mean</th>\n",
       "      <th>std</th>\n",
       "      <th>min</th>\n",
       "      <th>25%</th>\n",
       "      <th>50%</th>\n",
       "      <th>75%</th>\n",
       "      <th>max</th>\n",
       "    </tr>\n",
       "  </thead>\n",
       "  <tbody>\n",
       "    <tr>\n",
       "      <th>Average Fare</th>\n",
       "      <td>1000.0</td>\n",
       "      <td>163.37542</td>\n",
       "      <td>55.365470</td>\n",
       "      <td>50.52</td>\n",
       "      <td>125.9750</td>\n",
       "      <td>161.345</td>\n",
       "      <td>197.3925</td>\n",
       "      <td>401.23</td>\n",
       "    </tr>\n",
       "    <tr>\n",
       "      <th>Distance</th>\n",
       "      <td>1000.0</td>\n",
       "      <td>1056.97300</td>\n",
       "      <td>643.203251</td>\n",
       "      <td>108.00</td>\n",
       "      <td>553.5000</td>\n",
       "      <td>919.000</td>\n",
       "      <td>1452.5000</td>\n",
       "      <td>2724.00</td>\n",
       "    </tr>\n",
       "    <tr>\n",
       "      <th>Average weekly passengers</th>\n",
       "      <td>1000.0</td>\n",
       "      <td>672.27914</td>\n",
       "      <td>766.519254</td>\n",
       "      <td>181.41</td>\n",
       "      <td>257.1975</td>\n",
       "      <td>404.780</td>\n",
       "      <td>769.9125</td>\n",
       "      <td>8950.76</td>\n",
       "    </tr>\n",
       "    <tr>\n",
       "      <th>Market share - leading</th>\n",
       "      <td>1000.0</td>\n",
       "      <td>60.12859</td>\n",
       "      <td>19.367779</td>\n",
       "      <td>17.68</td>\n",
       "      <td>46.5100</td>\n",
       "      <td>59.240</td>\n",
       "      <td>73.5100</td>\n",
       "      <td>100.00</td>\n",
       "    </tr>\n",
       "    <tr>\n",
       "      <th>Average fare - leading</th>\n",
       "      <td>1000.0</td>\n",
       "      <td>166.64756</td>\n",
       "      <td>62.660140</td>\n",
       "      <td>50.52</td>\n",
       "      <td>124.0850</td>\n",
       "      <td>161.400</td>\n",
       "      <td>202.9775</td>\n",
       "      <td>490.03</td>\n",
       "    </tr>\n",
       "    <tr>\n",
       "      <th>Market share - low price</th>\n",
       "      <td>1000.0</td>\n",
       "      <td>34.55148</td>\n",
       "      <td>27.096999</td>\n",
       "      <td>1.06</td>\n",
       "      <td>13.1950</td>\n",
       "      <td>26.140</td>\n",
       "      <td>52.9725</td>\n",
       "      <td>100.00</td>\n",
       "    </tr>\n",
       "    <tr>\n",
       "      <th>Average fare - low price</th>\n",
       "      <td>1000.0</td>\n",
       "      <td>143.19309</td>\n",
       "      <td>47.229184</td>\n",
       "      <td>49.61</td>\n",
       "      <td>113.7675</td>\n",
       "      <td>137.825</td>\n",
       "      <td>168.5300</td>\n",
       "      <td>387.94</td>\n",
       "    </tr>\n",
       "  </tbody>\n",
       "</table>\n",
       "</div>"
      ],
      "text/plain": [
       "                            count        mean         std     min       25%  \\\n",
       "Average Fare               1000.0   163.37542   55.365470   50.52  125.9750   \n",
       "Distance                   1000.0  1056.97300  643.203251  108.00  553.5000   \n",
       "Average weekly passengers  1000.0   672.27914  766.519254  181.41  257.1975   \n",
       "Market share - leading     1000.0    60.12859   19.367779   17.68   46.5100   \n",
       "Average fare - leading     1000.0   166.64756   62.660140   50.52  124.0850   \n",
       "Market share - low price   1000.0    34.55148   27.096999    1.06   13.1950   \n",
       "Average fare - low price   1000.0   143.19309   47.229184   49.61  113.7675   \n",
       "\n",
       "                               50%        75%      max  \n",
       "Average Fare               161.345   197.3925   401.23  \n",
       "Distance                   919.000  1452.5000  2724.00  \n",
       "Average weekly passengers  404.780   769.9125  8950.76  \n",
       "Market share - leading      59.240    73.5100   100.00  \n",
       "Average fare - leading     161.400   202.9775   490.03  \n",
       "Market share - low price    26.140    52.9725   100.00  \n",
       "Average fare - low price   137.825   168.5300   387.94  "
      ]
     },
     "execution_count": 5,
     "metadata": {},
     "output_type": "execute_result"
    }
   ],
   "source": [
    "air.describe().T"
   ]
  },
  {
   "cell_type": "code",
   "execution_count": 6,
   "metadata": {},
   "outputs": [
    {
     "data": {
      "image/png": "[encoded data removed]",
      "text/plain": [
       "<Figure size 432x288 with 7 Axes>"
      ]
     },
     "metadata": {},
     "output_type": "display_data"
    }
   ],
   "source": [
    "# plotting boxplot to check the outliers\n",
    "\n",
    "fig, axes = plt.subplots(3,3) # create figure and axes\n",
    "\n",
    "for i,el in enumerate(list(air.columns.values)[:]):\n",
    "    a = air.boxplot(el, ax=axes.flatten()[i])\n",
    "\n",
    "fig.delaxes(axes[2,1]) # remove empty subplot\n",
    "fig.delaxes(axes[2,2]) # remove empty subplot\n",
    "plt.tight_layout() \n",
    "plt.show()"
   ]
  },
  {
   "cell_type": "code",
   "execution_count": 7,
   "metadata": {},
   "outputs": [
    {
     "name": "stdout",
     "output_type": "stream",
     "text": [
      "(1000, 7)\n",
      "Without outliers (885, 7)\n"
     ]
    },
    {
     "data": {
      "text/html": [
       "<div>\n",
       "<style scoped>\n",
       "    .dataframe tbody tr th:only-of-type {\n",
       "        vertical-align: middle;\n",
       "    }\n",
       "\n",
       "    .dataframe tbody tr th {\n",
       "        vertical-align: top;\n",
       "    }\n",
       "\n",
       "    .dataframe thead th {\n",
       "        text-align: right;\n",
       "    }\n",
       "</style>\n",
       "<table border=\"1\" class=\"dataframe\">\n",
       "  <thead>\n",
       "    <tr style=\"text-align: right;\">\n",
       "      <th></th>\n",
       "      <th>count</th>\n",
       "      <th>mean</th>\n",
       "      <th>std</th>\n",
       "      <th>min</th>\n",
       "      <th>25%</th>\n",
       "      <th>50%</th>\n",
       "      <th>75%</th>\n",
       "      <th>max</th>\n",
       "    </tr>\n",
       "  </thead>\n",
       "  <tbody>\n",
       "    <tr>\n",
       "      <th>Average Fare</th>\n",
       "      <td>885.0</td>\n",
       "      <td>160.292068</td>\n",
       "      <td>48.468895</td>\n",
       "      <td>50.52</td>\n",
       "      <td>126.60</td>\n",
       "      <td>160.71</td>\n",
       "      <td>194.05</td>\n",
       "      <td>288.58</td>\n",
       "    </tr>\n",
       "    <tr>\n",
       "      <th>Distance</th>\n",
       "      <td>885.0</td>\n",
       "      <td>1039.383051</td>\n",
       "      <td>615.224361</td>\n",
       "      <td>108.00</td>\n",
       "      <td>564.00</td>\n",
       "      <td>914.00</td>\n",
       "      <td>1381.00</td>\n",
       "      <td>2724.00</td>\n",
       "    </tr>\n",
       "    <tr>\n",
       "      <th>Average weekly passengers</th>\n",
       "      <td>885.0</td>\n",
       "      <td>499.132644</td>\n",
       "      <td>327.573566</td>\n",
       "      <td>181.41</td>\n",
       "      <td>249.02</td>\n",
       "      <td>372.93</td>\n",
       "      <td>644.56</td>\n",
       "      <td>1519.89</td>\n",
       "    </tr>\n",
       "    <tr>\n",
       "      <th>Market share - leading</th>\n",
       "      <td>885.0</td>\n",
       "      <td>60.636938</td>\n",
       "      <td>19.361447</td>\n",
       "      <td>17.68</td>\n",
       "      <td>47.02</td>\n",
       "      <td>59.75</td>\n",
       "      <td>74.66</td>\n",
       "      <td>100.00</td>\n",
       "    </tr>\n",
       "    <tr>\n",
       "      <th>Average fare - leading</th>\n",
       "      <td>885.0</td>\n",
       "      <td>162.589051</td>\n",
       "      <td>53.288002</td>\n",
       "      <td>50.52</td>\n",
       "      <td>125.59</td>\n",
       "      <td>160.74</td>\n",
       "      <td>198.47</td>\n",
       "      <td>315.86</td>\n",
       "    </tr>\n",
       "    <tr>\n",
       "      <th>Market share - low price</th>\n",
       "      <td>885.0</td>\n",
       "      <td>34.373028</td>\n",
       "      <td>27.183305</td>\n",
       "      <td>1.06</td>\n",
       "      <td>13.06</td>\n",
       "      <td>26.25</td>\n",
       "      <td>52.93</td>\n",
       "      <td>100.00</td>\n",
       "    </tr>\n",
       "    <tr>\n",
       "      <th>Average fare - low price</th>\n",
       "      <td>885.0</td>\n",
       "      <td>140.431073</td>\n",
       "      <td>39.849789</td>\n",
       "      <td>50.52</td>\n",
       "      <td>115.11</td>\n",
       "      <td>138.02</td>\n",
       "      <td>166.26</td>\n",
       "      <td>250.02</td>\n",
       "    </tr>\n",
       "  </tbody>\n",
       "</table>\n",
       "</div>"
      ],
      "text/plain": [
       "                           count         mean         std     min     25%  \\\n",
       "Average Fare               885.0   160.292068   48.468895   50.52  126.60   \n",
       "Distance                   885.0  1039.383051  615.224361  108.00  564.00   \n",
       "Average weekly passengers  885.0   499.132644  327.573566  181.41  249.02   \n",
       "Market share - leading     885.0    60.636938   19.361447   17.68   47.02   \n",
       "Average fare - leading     885.0   162.589051   53.288002   50.52  125.59   \n",
       "Market share - low price   885.0    34.373028   27.183305    1.06   13.06   \n",
       "Average fare - low price   885.0   140.431073   39.849789   50.52  115.11   \n",
       "\n",
       "                              50%      75%      max  \n",
       "Average Fare               160.71   194.05   288.58  \n",
       "Distance                   914.00  1381.00  2724.00  \n",
       "Average weekly passengers  372.93   644.56  1519.89  \n",
       "Market share - leading      59.75    74.66   100.00  \n",
       "Average fare - leading     160.74   198.47   315.86  \n",
       "Market share - low price    26.25    52.93   100.00  \n",
       "Average fare - low price   138.02   166.26   250.02  "
      ]
     },
     "execution_count": 7,
     "metadata": {},
     "output_type": "execute_result"
    }
   ],
   "source": [
    "# Removing outliers and assigning it to new dataframe\n",
    "\n",
    "Q1 = air.quantile(0.25)\n",
    "Q3 = air.quantile(0.75)\n",
    "IQR = Q3 - Q1\n",
    "\n",
    "air_new = air[~((air < (Q1 - 1.5 * IQR)) |(air > (Q3 + 1.5 * IQR))).any(axis=1)]\n",
    "\n",
    "print(air.shape)\n",
    "print('Without outliers {}'.format(air_new.shape))\n",
    "\n",
    "air_new.describe().T"
   ]
  },
  {
   "cell_type": "markdown",
   "metadata": {},
   "source": [
    "# Q3 & Q4"
   ]
  },
  {
   "cell_type": "code",
   "execution_count": 8,
   "metadata": {},
   "outputs": [],
   "source": [
    "X = air_new.drop('Average Fare', axis=1) \n",
    "Y = air_new[['Average Fare']]"
   ]
  },
  {
   "cell_type": "code",
   "execution_count": 9,
   "metadata": {},
   "outputs": [
    {
     "data": {
      "text/plain": [
       "Distance                     0.522650\n",
       "Average weekly passengers   -0.197005\n",
       "Market share - leading      -0.207955\n",
       "Average fare - leading       0.979713\n",
       "Market share - low price    -0.493555\n",
       "Average fare - low price     0.840993\n",
       "Name: Average Fare, dtype: float64"
      ]
     },
     "execution_count": 9,
     "metadata": {},
     "output_type": "execute_result"
    }
   ],
   "source": [
    "# Finding the correlation Between Dependent Variable and Independent Variable\n",
    "air_corr = air_new.corr()\n",
    "air_corr.loc['Average Fare','Distance':]"
   ]
  },
  {
   "cell_type": "markdown",
   "metadata": {},
   "source": [
    "# Scenario 1 - Considering .1 as positive and negative correlation, there is no Independent variables which is between -0.1 and +0.1"
   ]
  },
  {
   "cell_type": "code",
   "execution_count": 10,
   "metadata": {},
   "outputs": [
    {
     "name": "stdout",
     "output_type": "stream",
     "text": [
      "Scenario 1:\n",
      "\n",
      "Training score: 0.9709803472467778\n",
      "Test score: 0.974344519423167\n",
      "\n",
      "The coefficient for Distance is 0.002698587969232818\n",
      "The coefficient for Average weekly passengers is -0.00367292537359392\n",
      "The coefficient for Market share - leading is 0.07893130482596357\n",
      "The coefficient for Average fare - leading is 0.7366228373581053\n",
      "The coefficient for Market share - low price is -0.028513579082319312\n",
      "The coefficient for Average fare - low price is 0.22528413482475854\n",
      "\n",
      "The intercept for our model is 3.912425648539738\n"
     ]
    }
   ],
   "source": [
    "X_train, X_test, Y_train, Y_test = train_test_split(X, Y, test_size=0.30 , random_state=1)\n",
    "\n",
    "regression_model = LinearRegression()\n",
    "regression_model.fit(X_train, Y_train)\n",
    "\n",
    "print(\"Scenario 1:\\n\")\n",
    "print(f'Training score: {regression_model.score(X_train, Y_train)}')\n",
    "print(f'Test score: {regression_model.score(X_test, Y_test)}\\n')\n",
    "\n",
    "# coefficients for each of the independent attributes\n",
    "\n",
    "for idx, col_name in enumerate(X_train.columns):\n",
    "    print(\"The coefficient for {} is {}\".format(col_name, regression_model.coef_[0][idx]))\n",
    "    \n",
    "# intercept for the model\n",
    "intercept = regression_model.intercept_[0]\n",
    "\n",
    "print(\"\\nThe intercept for our model is {}\".format(intercept))"
   ]
  },
  {
   "cell_type": "markdown",
   "metadata": {},
   "source": [
    "# Scenario 2 - Considering .1 as only positive correlation"
   ]
  },
  {
   "cell_type": "code",
   "execution_count": 11,
   "metadata": {},
   "outputs": [
    {
     "name": "stdout",
     "output_type": "stream",
     "text": [
      "Scenario 2:\n",
      "X Shape = (885, 3) Y Shape = (885, 1)\n"
     ]
    }
   ],
   "source": [
    "# Average weekly passengers, Market share - leading and Market share - low price has correlation less than .1 \n",
    "# with dependent Variable\n",
    "# Copying all independent variables to X \n",
    "X = X.drop(['Average weekly passengers','Market share - leading','Market share - low price'], axis=1)\n",
    "\n",
    "print(\"Scenario 2:\")\n",
    "print(f\"X Shape = {X.shape} Y Shape = {Y.shape}\")"
   ]
  },
  {
   "cell_type": "markdown",
   "metadata": {},
   "source": [
    "#  5. Scatter Plot of Independent Variable vs Dependent Variable."
   ]
  },
  {
   "cell_type": "code",
   "execution_count": 12,
   "metadata": {},
   "outputs": [
    {
     "data": {
      "text/plain": [
       "<seaborn.axisgrid.PairGrid at 0x25ab6490cf8>"
      ]
     },
     "execution_count": 12,
     "metadata": {},
     "output_type": "execute_result"
    },
    {
     "data": {
      "image/png": "[encoded data removed]",
      "text/plain": [
       "<Figure size 1080x180 with 6 Axes>"
      ]
     },
     "metadata": {},
     "output_type": "display_data"
    }
   ],
   "source": [
    "# pair plot to understand the relation ship between Average Fare and all other columns\n",
    "air_new_attr = air_new.iloc[:, 0:10]\n",
    "\n",
    "sns.pairplot(air_new_attr, \n",
    "             x_vars=['Distance','Average weekly passengers','Market share - leading','Average fare - leading',\n",
    "                     'Market share - low price','Average fare - low price'],\n",
    "             y_vars=['Average Fare'], diag_kind='kde')\n",
    "\n",
    "# air_new_attr = air_new.iloc[:, 0:10]\n",
    "# sns.pairplot(air_new_attr, x_vars=X.columns, y_vars=Y.columns, diag_kind='kde')"
   ]
  },
  {
   "cell_type": "markdown",
   "metadata": {},
   "source": [
    "# 6. Dividing  the data set into training and test data set and building a Multiple Linear Regression model for Scenario 2"
   ]
  },
  {
   "cell_type": "code",
   "execution_count": 13,
   "metadata": {},
   "outputs": [
    {
     "name": "stdout",
     "output_type": "stream",
     "text": [
      "X_Train Shape = (619, 3) Y_Train Shape = (619, 1)\n",
      "X_Test Shape = (266, 3) Y_Test Shape = (266, 1)\n",
      "\n",
      "Training score: 0.9695547782563688\n",
      "Test score: 0.9739225973080645\n"
     ]
    }
   ],
   "source": [
    "X_train, X_test, Y_train, Y_test = train_test_split(X, Y, test_size=0.30 , random_state=1)\n",
    "print(f\"X_Train Shape = {X_train.shape} Y_Train Shape = {Y_train.shape}\")\n",
    "print(f\"X_Test Shape = {X_test.shape} Y_Test Shape = {Y_test.shape}\\n\")\n",
    "\n",
    "regression_model = LinearRegression()\n",
    "regression_model.fit(X_train, Y_train)\n",
    "\n",
    "print(f'Training score: {regression_model.score(X_train, Y_train)}')\n",
    "print(f'Test score: {regression_model.score(X_test, Y_test)}')"
   ]
  },
  {
   "cell_type": "markdown",
   "metadata": {},
   "source": [
    "# 7. Coefficient and Intercept of Linear Model for Scenario 2"
   ]
  },
  {
   "cell_type": "code",
   "execution_count": 14,
   "metadata": {},
   "outputs": [
    {
     "name": "stdout",
     "output_type": "stream",
     "text": [
      "The coefficient for Distance is 0.0016617876065931519\n",
      "The coefficient for Average fare - leading is 0.7555063053685087\n",
      "The coefficient for Average fare - low price is 0.2119699425833675\n"
     ]
    }
   ],
   "source": [
    "# coefficients for each of the independent attributes\n",
    "\n",
    "for idx, col_name in enumerate(X_train.columns):\n",
    "    print(\"The coefficient for {} is {}\".format(col_name, regression_model.coef_[0][idx]))"
   ]
  },
  {
   "cell_type": "code",
   "execution_count": 15,
   "metadata": {},
   "outputs": [
    {
     "name": "stdout",
     "output_type": "stream",
     "text": [
      "The intercept for our model is 5.742633660744161\n"
     ]
    }
   ],
   "source": [
    "# intercept for the model\n",
    "intercept = regression_model.intercept_[0]\n",
    "\n",
    "print(\"The intercept for our model is {}\".format(intercept))"
   ]
  }
 ],
 "metadata": {
  "kernelspec": {
   "display_name": "Python 3",
   "language": "python",
   "name": "python3"
  },
  "language_info": {
   "codemirror_mode": {
    "name": "ipython",
    "version": 3
   },
   "file_extension": ".py",
   "mimetype": "text/x-python",
   "name": "python",
   "nbconvert_exporter": "python",
   "pygments_lexer": "ipython3",
   "version": "3.6.5"
  }
 },
 "nbformat": 4,
 "nbformat_minor": 2
}
