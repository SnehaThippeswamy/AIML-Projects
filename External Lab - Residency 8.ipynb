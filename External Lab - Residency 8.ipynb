{
 "cells": [
  {
   "cell_type": "markdown",
   "metadata": {},
   "source": [
    "# Text classification using TF-IDF"
   ]
  },
  {
   "cell_type": "markdown",
   "metadata": {},
   "source": [
    "### 1. Load the dataset from sklearn.datasets"
   ]
  },
  {
   "cell_type": "code",
   "execution_count": 1,
   "metadata": {},
   "outputs": [],
   "source": [
    "import warnings\n",
    "warnings.filterwarnings('ignore')"
   ]
  },
  {
   "cell_type": "code",
   "execution_count": 2,
   "metadata": {},
   "outputs": [],
   "source": [
    "import pandas as pd\n",
    "import numpy as np\n",
    "import scipy as sp\n",
    "from sklearn.model_selection import train_test_split\n",
    "from sklearn.feature_extraction.text import CountVectorizer, TfidfVectorizer\n",
    "from sklearn.naive_bayes import MultinomialNB\n",
    "from sklearn.linear_model import LogisticRegression\n",
    "from sklearn import metrics\n",
    "from textblob import TextBlob, Word\n",
    "import nltk\n",
    "from nltk.stem.snowball import SnowballStemmer"
   ]
  },
  {
   "cell_type": "code",
   "execution_count": 3,
   "metadata": {},
   "outputs": [],
   "source": [
    "categories = ['alt.atheism', 'soc.religion.christian', 'comp.graphics', 'sci.med']"
   ]
  },
  {
   "cell_type": "markdown",
   "metadata": {},
   "source": [
    "### 2. Training data"
   ]
  },
  {
   "cell_type": "code",
   "execution_count": 4,
   "metadata": {},
   "outputs": [],
   "source": [
    "from sklearn.datasets import fetch_20newsgroups"
   ]
  },
  {
   "cell_type": "code",
   "execution_count": 5,
   "metadata": {},
   "outputs": [],
   "source": [
    "twenty_train = fetch_20newsgroups(subset='train', categories=categories, shuffle=True, random_state=42)"
   ]
  },
  {
   "cell_type": "markdown",
   "metadata": {},
   "source": [
    "### 3. Test data"
   ]
  },
  {
   "cell_type": "code",
   "execution_count": 6,
   "metadata": {},
   "outputs": [],
   "source": [
    "twenty_test = fetch_20newsgroups(subset='test', categories=categories, shuffle=True, random_state=42)"
   ]
  },
  {
   "cell_type": "markdown",
   "metadata": {},
   "source": [
    "###  a.  You can access the values for the target variable using .target attribute \n",
    "###  b. You can access the name of the class in the target variable with .target_names\n"
   ]
  },
  {
   "cell_type": "code",
   "execution_count": 7,
   "metadata": {},
   "outputs": [
    {
     "data": {
      "text/plain": [
       "array([1, 1, 3, ..., 2, 2, 2], dtype=int64)"
      ]
     },
     "execution_count": 7,
     "metadata": {},
     "output_type": "execute_result"
    }
   ],
   "source": [
    "twenty_train.target"
   ]
  },
  {
   "cell_type": "code",
   "execution_count": 8,
   "metadata": {},
   "outputs": [
    {
     "data": {
      "text/plain": [
       "['alt.atheism', 'comp.graphics', 'sci.med', 'soc.religion.christian']"
      ]
     },
     "execution_count": 8,
     "metadata": {},
     "output_type": "execute_result"
    }
   ],
   "source": [
    "twenty_train.target_names"
   ]
  },
  {
   "cell_type": "code",
   "execution_count": 9,
   "metadata": {},
   "outputs": [
    {
     "data": {
      "text/plain": [
       "['From: sd345@city.ac.uk (Michael Collier)\\nSubject: Converting images to HP LaserJet III?\\nNntp-Posting-Host: hampton\\nOrganization: The City University\\nLines: 14\\n\\nDoes anyone know of a good way (standard PC application/PD utility) to\\nconvert tif/img/tga files into LaserJet III format.  We would also like to\\ndo the same, converting to HPGL (HP plotter) files.\\n\\nPlease email any response.\\n\\nIs this the correct group?\\n\\nThanks in advance.  Michael.\\n-- \\nMichael Collier (Programmer)                 The Computer Unit,\\nEmail: M.P.Collier@uk.ac.city                The City University,\\nTel: 071 477-8000 x3769                      London,\\nFax: 071 477-8565                            EC1V 0HB.\\n',\n",
       " \"From: ani@ms.uky.edu (Aniruddha B. Deglurkar)\\nSubject: help: Splitting a trimming region along a mesh \\nOrganization: University Of Kentucky, Dept. of Math Sciences\\nLines: 28\\n\\n\\n\\n\\tHi,\\n\\n\\tI have a problem, I hope some of the 'gurus' can help me solve.\\n\\n\\tBackground of the problem:\\n\\tI have a rectangular mesh in the uv domain, i.e  the mesh is a \\n\\tmapping of a 3d Bezier patch into 2d. The area in this domain\\n\\twhich is inside a trimming loop had to be rendered. The trimming\\n\\tloop is a set of 2d Bezier curve segments.\\n\\tFor the sake of notation: the mesh is made up of cells.\\n\\n\\tMy problem is this :\\n\\tThe trimming area has to be split up into individual smaller\\n\\tcells bounded by the trimming curve segments. If a cell\\n\\tis wholly inside the area...then it is output as a whole ,\\n\\telse it is trivially rejected. \\n\\n\\tDoes any body know how thiss can be done, or is there any algo. \\n\\tsomewhere for doing this.\\n\\n\\tAny help would be appreciated.\\n\\n\\tThanks, \\n\\tAni.\\n-- \\nTo get irritated is human, to stay cool, divine.\\n\",\n",
       " \"From: djohnson@cs.ucsd.edu (Darin Johnson)\\nSubject: Re: harrassed at work, could use some prayers\\nOrganization: =CSE Dept., U.C. San Diego\\nLines: 63\\n\\n(Well, I'll email also, but this may apply to other people, so\\nI'll post also.)\\n\\n>I've been working at this company for eight years in various\\n>engineering jobs.  I'm female.  Yesterday I counted and realized that\\n>on seven different occasions I've been sexually harrassed at this\\n>company.\\n\\n>I dreaded coming back to work today.  What if my boss comes in to ask\\n>me some kind of question...\\n\\nYour boss should be the person bring these problems to.  If he/she\\ndoes not seem to take any action, keep going up higher and higher.\\nSexual harrassment does not need to be tolerated, and it can be an\\nenormous emotional support to discuss this with someone and know that\\nthey are trying to do something about it.  If you feel you can not\\ndiscuss this with your boss, perhaps your company has a personnel\\ndepartment that can work for you while preserving your privacy.  Most\\ncompanies will want to deal with this problem because constant anxiety\\ndoes seriously affect how effectively employees do their jobs.\\n\\nIt is unclear from your letter if you have done this or not.  It is\\nnot inconceivable that management remains ignorant of employee\\nproblems/strife even after eight years (it's a miracle if they do\\nnotice).  Perhaps your manager did not bring to the attention of\\nhigher ups?  If the company indeed does seem to want to ignore the\\nentire problem, there may be a state agency willing to fight with\\nyou.  (check with a lawyer, a women's resource center, etc to find out)\\n\\nYou may also want to discuss this with your paster, priest, husband,\\netc.  That is, someone you know will not be judgemental and that is\\nsupportive, comforting, etc.  This will bring a lot of healing.\\n\\n>So I returned at 11:25, only to find that ever single\\n>person had already left for lunch.  They left at 11:15 or so.  No one\\n>could be bothered to call me at the other building, even though my\\n>number was posted.\\n\\nThis happens to a lot of people.  Honest.  I believe it may seem\\nto be due to gross insensitivity because of the feelings you are\\ngoing through.  People in offices tend to be more insensitive while\\nworking than they normally are (maybe it's the hustle or stress or...)\\nI've had this happen to me a lot, often because they didn't realize\\nmy car was broken, etc.  Then they will come back and wonder why I\\ndidn't want to go (this would tend to make me stop being angry at\\nbeing ignored and make me laugh).  Once, we went off without our\\nboss, who was paying for the lunch :-)\\n\\n>For this\\n>reason I hope good Mr. Moderator allows me this latest indulgence.\\n\\nWell, if you can't turn to the computer for support, what would\\nwe do?  (signs of the computer age :-)\\n\\nIn closing, please don't let the hateful actions of a single person\\nharm you.  They are doing it because they are still the playground\\nbully and enjoy seeing the hurt they cause.  And you should not\\naccept the opinions of an imbecile that you are worthless - much\\nwiser people hold you in great esteem.\\n-- \\nDarin Johnson\\ndjohnson@ucsd.edu\\n  - Luxury!  In MY day, we had to make do with 5 bytes of swap...\\n\",\n",
       " 'From: s0612596@let.rug.nl (M.M. Zwart)\\nSubject: catholic church poland\\nOrganization: Faculteit der Letteren, Rijksuniversiteit Groningen, NL\\nLines: 10\\n\\nHello,\\n\\nI\\'m writing a paper on the role of the catholic church in Poland after 1989. \\nCan anyone tell me more about this, or fill me in on recent books/articles(\\nin english, german or french). Most important for me is the role of the \\nchurch concerning the abortion-law, religious education at schools,\\nbirth-control and the relation church-state(government). Thanx,\\n\\n                                                 Masja,\\n\"M.M.Zwart\"<s0612596@let.rug.nl>\\n',\n",
       " 'From: stanly@grok11.columbiasc.ncr.com (stanly)\\nSubject: Re: Elder Brother\\nOrganization: NCR Corp., Columbia SC\\nLines: 15\\n\\nIn article <Apr.8.00.57.41.1993.28246@athos.rutgers.edu> REXLEX@fnal.gov writes:\\n>In article <Apr.7.01.56.56.1993.22824@athos.rutgers.edu> shrum@hpfcso.fc.hp.com\\n>Matt. 22:9-14 \\'Go therefore to the main highways, and as many as you find\\n>there, invite to the wedding feast.\\'...\\n\\n>hmmmmmm.  Sounds like your theology and Christ\\'s are at odds. Which one am I \\n>to believe?\\n\\nIn this parable, Jesus tells the parable of the wedding feast. \"The kingdom\\nof heaven is like unto a certain king which made a marriage for his son\".\\nSo the wedding clothes were customary,  and \"given\" to those who \"chose\" to\\nattend.  This man \"refused\" to wear the clothes.  The wedding clothes are\\nequalivant to the \"clothes of righteousness\".  When Jesus died for our sins,\\nthose \"clothes\" were then provided.  Like that man, it is our decision to\\nput the clothes on.\\n']"
      ]
     },
     "execution_count": 9,
     "metadata": {},
     "output_type": "execute_result"
    }
   ],
   "source": [
    "twenty_train.data[0:5]"
   ]
  },
  {
   "cell_type": "markdown",
   "metadata": {},
   "source": [
    "### 4.  Now with dependent and independent data available for both train and test datasets, using TfidfVectorizer fit and transform the training data and test data and get the tfidf features for both"
   ]
  },
  {
   "cell_type": "code",
   "execution_count": 10,
   "metadata": {},
   "outputs": [],
   "source": [
    "# TfidfVectorizer\n",
    "vect = TfidfVectorizer()\n",
    "x_train_dtm = vect.fit_transform(twenty_train.data)\n",
    "x_test_dtm = vect.transform(twenty_test.data)"
   ]
  },
  {
   "cell_type": "markdown",
   "metadata": {},
   "source": [
    "### 5. Use logisticRegression with tfidf features as input and targets as output and train the model and report the train and test accuracy score"
   ]
  },
  {
   "cell_type": "code",
   "execution_count": 11,
   "metadata": {},
   "outputs": [],
   "source": [
    "from sklearn import metrics"
   ]
  },
  {
   "cell_type": "code",
   "execution_count": 12,
   "metadata": {},
   "outputs": [
    {
     "name": "stdout",
     "output_type": "stream",
     "text": [
      "0.8868175765645806\n"
     ]
    }
   ],
   "source": [
    "# use logistic regression with text column only\n",
    "logreg = LogisticRegression()\n",
    "logreg.fit(x_train_dtm, twenty_train.target)\n",
    "y_pred_class = logreg.predict(x_test_dtm)\n",
    "print (metrics.accuracy_score(twenty_test.target, y_pred_class))"
   ]
  },
  {
   "cell_type": "markdown",
   "metadata": {
    "colab_type": "text",
    "id": "FU-HwvIdH0M-"
   },
   "source": [
    "## Sentiment analysis <br> \n",
    "\n",
    "The objective of this problem is to perform Sentiment analysis from the tweets data collected from the users targeted at various mobile devices.\n",
    "Based on the tweet posted by a user (text), we will classify if the sentiment of the user targeted at a particular mobile device is positive or not."
   ]
  },
  {
   "cell_type": "markdown",
   "metadata": {
    "colab_type": "text",
    "id": "nAQDiZHRH0M_"
   },
   "source": [
    "### 1. Read the dataset (tweets.csv) and drop the NA's while reading the dataset"
   ]
  },
  {
   "cell_type": "code",
   "execution_count": 13,
   "metadata": {},
   "outputs": [],
   "source": [
    "import pandas as pd"
   ]
  },
  {
   "cell_type": "code",
   "execution_count": 14,
   "metadata": {
    "colab": {},
    "colab_type": "code",
    "id": "3eXGIe-SH0NA"
   },
   "outputs": [],
   "source": [
    "# read tweet.csv into a DataFrame\n",
    "tweet = pd.read_csv('tweets.csv',encoding='ISO-8859-1').dropna()"
   ]
  },
  {
   "cell_type": "code",
   "execution_count": 15,
   "metadata": {
    "colab": {},
    "colab_type": "code",
    "id": "CWeWe1eJH0NF"
   },
   "outputs": [
    {
     "data": {
      "text/html": [
       "<div>\n",
       "<style scoped>\n",
       "    .dataframe tbody tr th:only-of-type {\n",
       "        vertical-align: middle;\n",
       "    }\n",
       "\n",
       "    .dataframe tbody tr th {\n",
       "        vertical-align: top;\n",
       "    }\n",
       "\n",
       "    .dataframe thead th {\n",
       "        text-align: right;\n",
       "    }\n",
       "</style>\n",
       "<table border=\"1\" class=\"dataframe\">\n",
       "  <thead>\n",
       "    <tr style=\"text-align: right;\">\n",
       "      <th></th>\n",
       "      <th>tweet_text</th>\n",
       "      <th>emotion_in_tweet_is_directed_at</th>\n",
       "      <th>is_there_an_emotion_directed_at_a_brand_or_product</th>\n",
       "    </tr>\n",
       "  </thead>\n",
       "  <tbody>\n",
       "    <tr>\n",
       "      <th>0</th>\n",
       "      <td>.@wesley83 I have a 3G iPhone. After 3 hrs twe...</td>\n",
       "      <td>iPhone</td>\n",
       "      <td>Negative emotion</td>\n",
       "    </tr>\n",
       "    <tr>\n",
       "      <th>1</th>\n",
       "      <td>@jessedee Know about @fludapp ? Awesome iPad/i...</td>\n",
       "      <td>iPad or iPhone App</td>\n",
       "      <td>Positive emotion</td>\n",
       "    </tr>\n",
       "    <tr>\n",
       "      <th>2</th>\n",
       "      <td>@swonderlin Can not wait for #iPad 2 also. The...</td>\n",
       "      <td>iPad</td>\n",
       "      <td>Positive emotion</td>\n",
       "    </tr>\n",
       "    <tr>\n",
       "      <th>3</th>\n",
       "      <td>@sxsw I hope this year's festival isn't as cra...</td>\n",
       "      <td>iPad or iPhone App</td>\n",
       "      <td>Negative emotion</td>\n",
       "    </tr>\n",
       "    <tr>\n",
       "      <th>4</th>\n",
       "      <td>@sxtxstate great stuff on Fri #SXSW: Marissa M...</td>\n",
       "      <td>Google</td>\n",
       "      <td>Positive emotion</td>\n",
       "    </tr>\n",
       "  </tbody>\n",
       "</table>\n",
       "</div>"
      ],
      "text/plain": [
       "                                          tweet_text  \\\n",
       "0  .@wesley83 I have a 3G iPhone. After 3 hrs twe...   \n",
       "1  @jessedee Know about @fludapp ? Awesome iPad/i...   \n",
       "2  @swonderlin Can not wait for #iPad 2 also. The...   \n",
       "3  @sxsw I hope this year's festival isn't as cra...   \n",
       "4  @sxtxstate great stuff on Fri #SXSW: Marissa M...   \n",
       "\n",
       "  emotion_in_tweet_is_directed_at  \\\n",
       "0                          iPhone   \n",
       "1              iPad or iPhone App   \n",
       "2                            iPad   \n",
       "3              iPad or iPhone App   \n",
       "4                          Google   \n",
       "\n",
       "  is_there_an_emotion_directed_at_a_brand_or_product  \n",
       "0                                   Negative emotion  \n",
       "1                                   Positive emotion  \n",
       "2                                   Positive emotion  \n",
       "3                                   Negative emotion  \n",
       "4                                   Positive emotion  "
      ]
     },
     "execution_count": 15,
     "metadata": {},
     "output_type": "execute_result"
    }
   ],
   "source": [
    "tweet.head()"
   ]
  },
  {
   "cell_type": "code",
   "execution_count": 16,
   "metadata": {},
   "outputs": [
    {
     "data": {
      "text/plain": [
       "(3291, 3)"
      ]
     },
     "execution_count": 16,
     "metadata": {},
     "output_type": "execute_result"
    }
   ],
   "source": [
    "tweet.shape"
   ]
  },
  {
   "cell_type": "markdown",
   "metadata": {
    "colab_type": "text",
    "id": "jPJvTjefH0NI"
   },
   "source": [
    "### 2. Preprocess the text and add the preprocessed text in a column with name `text` in the dataframe."
   ]
  },
  {
   "cell_type": "code",
   "execution_count": 17,
   "metadata": {
    "colab": {},
    "colab_type": "code",
    "id": "5iec5s9gH0NI"
   },
   "outputs": [],
   "source": [
    "def preprocess(text):\n",
    "    try:\n",
    "        return text.decode('ascii')\n",
    "    except Exception as e:\n",
    "        return \"\""
   ]
  },
  {
   "cell_type": "code",
   "execution_count": 18,
   "metadata": {
    "colab": {},
    "colab_type": "code",
    "id": "EQSmqA-vH0NT"
   },
   "outputs": [],
   "source": [
    "tweet['text'] = [preprocess(text) for text in tweet.tweet_text]"
   ]
  },
  {
   "cell_type": "code",
   "execution_count": 19,
   "metadata": {
    "colab": {},
    "colab_type": "code",
    "id": "7kX-WoJDH0NV"
   },
   "outputs": [
    {
     "data": {
      "text/html": [
       "<div>\n",
       "<style scoped>\n",
       "    .dataframe tbody tr th:only-of-type {\n",
       "        vertical-align: middle;\n",
       "    }\n",
       "\n",
       "    .dataframe tbody tr th {\n",
       "        vertical-align: top;\n",
       "    }\n",
       "\n",
       "    .dataframe thead th {\n",
       "        text-align: right;\n",
       "    }\n",
       "</style>\n",
       "<table border=\"1\" class=\"dataframe\">\n",
       "  <thead>\n",
       "    <tr style=\"text-align: right;\">\n",
       "      <th></th>\n",
       "      <th>tweet_text</th>\n",
       "      <th>emotion_in_tweet_is_directed_at</th>\n",
       "      <th>is_there_an_emotion_directed_at_a_brand_or_product</th>\n",
       "      <th>text</th>\n",
       "    </tr>\n",
       "  </thead>\n",
       "  <tbody>\n",
       "    <tr>\n",
       "      <th>0</th>\n",
       "      <td>.@wesley83 I have a 3G iPhone. After 3 hrs twe...</td>\n",
       "      <td>iPhone</td>\n",
       "      <td>Negative emotion</td>\n",
       "      <td></td>\n",
       "    </tr>\n",
       "    <tr>\n",
       "      <th>1</th>\n",
       "      <td>@jessedee Know about @fludapp ? Awesome iPad/i...</td>\n",
       "      <td>iPad or iPhone App</td>\n",
       "      <td>Positive emotion</td>\n",
       "      <td></td>\n",
       "    </tr>\n",
       "    <tr>\n",
       "      <th>2</th>\n",
       "      <td>@swonderlin Can not wait for #iPad 2 also. The...</td>\n",
       "      <td>iPad</td>\n",
       "      <td>Positive emotion</td>\n",
       "      <td></td>\n",
       "    </tr>\n",
       "    <tr>\n",
       "      <th>3</th>\n",
       "      <td>@sxsw I hope this year's festival isn't as cra...</td>\n",
       "      <td>iPad or iPhone App</td>\n",
       "      <td>Negative emotion</td>\n",
       "      <td></td>\n",
       "    </tr>\n",
       "    <tr>\n",
       "      <th>4</th>\n",
       "      <td>@sxtxstate great stuff on Fri #SXSW: Marissa M...</td>\n",
       "      <td>Google</td>\n",
       "      <td>Positive emotion</td>\n",
       "      <td></td>\n",
       "    </tr>\n",
       "  </tbody>\n",
       "</table>\n",
       "</div>"
      ],
      "text/plain": [
       "                                          tweet_text  \\\n",
       "0  .@wesley83 I have a 3G iPhone. After 3 hrs twe...   \n",
       "1  @jessedee Know about @fludapp ? Awesome iPad/i...   \n",
       "2  @swonderlin Can not wait for #iPad 2 also. The...   \n",
       "3  @sxsw I hope this year's festival isn't as cra...   \n",
       "4  @sxtxstate great stuff on Fri #SXSW: Marissa M...   \n",
       "\n",
       "  emotion_in_tweet_is_directed_at  \\\n",
       "0                          iPhone   \n",
       "1              iPad or iPhone App   \n",
       "2                            iPad   \n",
       "3              iPad or iPhone App   \n",
       "4                          Google   \n",
       "\n",
       "  is_there_an_emotion_directed_at_a_brand_or_product text  \n",
       "0                                   Negative emotion       \n",
       "1                                   Positive emotion       \n",
       "2                                   Positive emotion       \n",
       "3                                   Negative emotion       \n",
       "4                                   Positive emotion       "
      ]
     },
     "execution_count": 19,
     "metadata": {},
     "output_type": "execute_result"
    }
   ],
   "source": [
    "tweet.head()"
   ]
  },
  {
   "cell_type": "markdown",
   "metadata": {
    "colab_type": "text",
    "id": "OGWB3P2WH0NY"
   },
   "source": [
    "### 3. Consider only rows having Positive emotion and Negative emotion and remove other rows from the dataframe."
   ]
  },
  {
   "cell_type": "code",
   "execution_count": 20,
   "metadata": {
    "colab": {},
    "colab_type": "code",
    "id": "bdgA_8N2H0NY",
    "scrolled": true
   },
   "outputs": [
    {
     "data": {
      "text/html": [
       "<div>\n",
       "<style scoped>\n",
       "    .dataframe tbody tr th:only-of-type {\n",
       "        vertical-align: middle;\n",
       "    }\n",
       "\n",
       "    .dataframe tbody tr th {\n",
       "        vertical-align: top;\n",
       "    }\n",
       "\n",
       "    .dataframe thead th {\n",
       "        text-align: right;\n",
       "    }\n",
       "</style>\n",
       "<table border=\"1\" class=\"dataframe\">\n",
       "  <thead>\n",
       "    <tr style=\"text-align: right;\">\n",
       "      <th></th>\n",
       "      <th>tweet_text</th>\n",
       "      <th>emotion_in_tweet_is_directed_at</th>\n",
       "      <th>text</th>\n",
       "    </tr>\n",
       "    <tr>\n",
       "      <th>is_there_an_emotion_directed_at_a_brand_or_product</th>\n",
       "      <th></th>\n",
       "      <th></th>\n",
       "      <th></th>\n",
       "    </tr>\n",
       "  </thead>\n",
       "  <tbody>\n",
       "    <tr>\n",
       "      <th>I can't tell</th>\n",
       "      <td>9</td>\n",
       "      <td>9</td>\n",
       "      <td>9</td>\n",
       "    </tr>\n",
       "    <tr>\n",
       "      <th>Negative emotion</th>\n",
       "      <td>519</td>\n",
       "      <td>519</td>\n",
       "      <td>519</td>\n",
       "    </tr>\n",
       "    <tr>\n",
       "      <th>No emotion toward brand or product</th>\n",
       "      <td>91</td>\n",
       "      <td>91</td>\n",
       "      <td>91</td>\n",
       "    </tr>\n",
       "    <tr>\n",
       "      <th>Positive emotion</th>\n",
       "      <td>2672</td>\n",
       "      <td>2672</td>\n",
       "      <td>2672</td>\n",
       "    </tr>\n",
       "  </tbody>\n",
       "</table>\n",
       "</div>"
      ],
      "text/plain": [
       "                                                    tweet_text  \\\n",
       "is_there_an_emotion_directed_at_a_brand_or_product               \n",
       "I can't tell                                                 9   \n",
       "Negative emotion                                           519   \n",
       "No emotion toward brand or product                          91   \n",
       "Positive emotion                                          2672   \n",
       "\n",
       "                                                    emotion_in_tweet_is_directed_at  \\\n",
       "is_there_an_emotion_directed_at_a_brand_or_product                                    \n",
       "I can't tell                                                                      9   \n",
       "Negative emotion                                                                519   \n",
       "No emotion toward brand or product                                               91   \n",
       "Positive emotion                                                               2672   \n",
       "\n",
       "                                                    text  \n",
       "is_there_an_emotion_directed_at_a_brand_or_product        \n",
       "I can't tell                                           9  \n",
       "Negative emotion                                     519  \n",
       "No emotion toward brand or product                    91  \n",
       "Positive emotion                                    2672  "
      ]
     },
     "execution_count": 20,
     "metadata": {},
     "output_type": "execute_result"
    }
   ],
   "source": [
    "tweet.groupby('is_there_an_emotion_directed_at_a_brand_or_product').count()"
   ]
  },
  {
   "cell_type": "code",
   "execution_count": 21,
   "metadata": {},
   "outputs": [],
   "source": [
    "tweet_pos_neg = tweet[(tweet.is_there_an_emotion_directed_at_a_brand_or_product == 'Negative emotion') | (tweet.is_there_an_emotion_directed_at_a_brand_or_product == 'Positive emotion')]"
   ]
  },
  {
   "cell_type": "code",
   "execution_count": 22,
   "metadata": {},
   "outputs": [
    {
     "data": {
      "text/html": [
       "<div>\n",
       "<style scoped>\n",
       "    .dataframe tbody tr th:only-of-type {\n",
       "        vertical-align: middle;\n",
       "    }\n",
       "\n",
       "    .dataframe tbody tr th {\n",
       "        vertical-align: top;\n",
       "    }\n",
       "\n",
       "    .dataframe thead th {\n",
       "        text-align: right;\n",
       "    }\n",
       "</style>\n",
       "<table border=\"1\" class=\"dataframe\">\n",
       "  <thead>\n",
       "    <tr style=\"text-align: right;\">\n",
       "      <th></th>\n",
       "      <th>tweet_text</th>\n",
       "      <th>emotion_in_tweet_is_directed_at</th>\n",
       "      <th>is_there_an_emotion_directed_at_a_brand_or_product</th>\n",
       "      <th>text</th>\n",
       "    </tr>\n",
       "  </thead>\n",
       "  <tbody>\n",
       "    <tr>\n",
       "      <th>0</th>\n",
       "      <td>.@wesley83 I have a 3G iPhone. After 3 hrs twe...</td>\n",
       "      <td>iPhone</td>\n",
       "      <td>Negative emotion</td>\n",
       "      <td></td>\n",
       "    </tr>\n",
       "    <tr>\n",
       "      <th>1</th>\n",
       "      <td>@jessedee Know about @fludapp ? Awesome iPad/i...</td>\n",
       "      <td>iPad or iPhone App</td>\n",
       "      <td>Positive emotion</td>\n",
       "      <td></td>\n",
       "    </tr>\n",
       "    <tr>\n",
       "      <th>2</th>\n",
       "      <td>@swonderlin Can not wait for #iPad 2 also. The...</td>\n",
       "      <td>iPad</td>\n",
       "      <td>Positive emotion</td>\n",
       "      <td></td>\n",
       "    </tr>\n",
       "    <tr>\n",
       "      <th>3</th>\n",
       "      <td>@sxsw I hope this year's festival isn't as cra...</td>\n",
       "      <td>iPad or iPhone App</td>\n",
       "      <td>Negative emotion</td>\n",
       "      <td></td>\n",
       "    </tr>\n",
       "    <tr>\n",
       "      <th>4</th>\n",
       "      <td>@sxtxstate great stuff on Fri #SXSW: Marissa M...</td>\n",
       "      <td>Google</td>\n",
       "      <td>Positive emotion</td>\n",
       "      <td></td>\n",
       "    </tr>\n",
       "  </tbody>\n",
       "</table>\n",
       "</div>"
      ],
      "text/plain": [
       "                                          tweet_text  \\\n",
       "0  .@wesley83 I have a 3G iPhone. After 3 hrs twe...   \n",
       "1  @jessedee Know about @fludapp ? Awesome iPad/i...   \n",
       "2  @swonderlin Can not wait for #iPad 2 also. The...   \n",
       "3  @sxsw I hope this year's festival isn't as cra...   \n",
       "4  @sxtxstate great stuff on Fri #SXSW: Marissa M...   \n",
       "\n",
       "  emotion_in_tweet_is_directed_at  \\\n",
       "0                          iPhone   \n",
       "1              iPad or iPhone App   \n",
       "2                            iPad   \n",
       "3              iPad or iPhone App   \n",
       "4                          Google   \n",
       "\n",
       "  is_there_an_emotion_directed_at_a_brand_or_product text  \n",
       "0                                   Negative emotion       \n",
       "1                                   Positive emotion       \n",
       "2                                   Positive emotion       \n",
       "3                                   Negative emotion       \n",
       "4                                   Positive emotion       "
      ]
     },
     "execution_count": 22,
     "metadata": {},
     "output_type": "execute_result"
    }
   ],
   "source": [
    "tweet_pos_neg.head()"
   ]
  },
  {
   "cell_type": "code",
   "execution_count": 23,
   "metadata": {},
   "outputs": [
    {
     "data": {
      "text/plain": [
       "(3191, 4)"
      ]
     },
     "execution_count": 23,
     "metadata": {},
     "output_type": "execute_result"
    }
   ],
   "source": [
    "tweet_pos_neg.shape"
   ]
  },
  {
   "cell_type": "code",
   "execution_count": 24,
   "metadata": {},
   "outputs": [
    {
     "data": {
      "text/html": [
       "<div>\n",
       "<style scoped>\n",
       "    .dataframe tbody tr th:only-of-type {\n",
       "        vertical-align: middle;\n",
       "    }\n",
       "\n",
       "    .dataframe tbody tr th {\n",
       "        vertical-align: top;\n",
       "    }\n",
       "\n",
       "    .dataframe thead th {\n",
       "        text-align: right;\n",
       "    }\n",
       "</style>\n",
       "<table border=\"1\" class=\"dataframe\">\n",
       "  <thead>\n",
       "    <tr style=\"text-align: right;\">\n",
       "      <th></th>\n",
       "      <th>tweet_text</th>\n",
       "      <th>emotion_in_tweet_is_directed_at</th>\n",
       "      <th>text</th>\n",
       "    </tr>\n",
       "    <tr>\n",
       "      <th>is_there_an_emotion_directed_at_a_brand_or_product</th>\n",
       "      <th></th>\n",
       "      <th></th>\n",
       "      <th></th>\n",
       "    </tr>\n",
       "  </thead>\n",
       "  <tbody>\n",
       "    <tr>\n",
       "      <th>Negative emotion</th>\n",
       "      <td>519</td>\n",
       "      <td>519</td>\n",
       "      <td>519</td>\n",
       "    </tr>\n",
       "    <tr>\n",
       "      <th>Positive emotion</th>\n",
       "      <td>2672</td>\n",
       "      <td>2672</td>\n",
       "      <td>2672</td>\n",
       "    </tr>\n",
       "  </tbody>\n",
       "</table>\n",
       "</div>"
      ],
      "text/plain": [
       "                                                    tweet_text  \\\n",
       "is_there_an_emotion_directed_at_a_brand_or_product               \n",
       "Negative emotion                                           519   \n",
       "Positive emotion                                          2672   \n",
       "\n",
       "                                                    emotion_in_tweet_is_directed_at  \\\n",
       "is_there_an_emotion_directed_at_a_brand_or_product                                    \n",
       "Negative emotion                                                                519   \n",
       "Positive emotion                                                               2672   \n",
       "\n",
       "                                                    text  \n",
       "is_there_an_emotion_directed_at_a_brand_or_product        \n",
       "Negative emotion                                     519  \n",
       "Positive emotion                                    2672  "
      ]
     },
     "execution_count": 24,
     "metadata": {},
     "output_type": "execute_result"
    }
   ],
   "source": [
    "tweet_pos_neg.groupby('is_there_an_emotion_directed_at_a_brand_or_product').count()"
   ]
  },
  {
   "cell_type": "code",
   "execution_count": 25,
   "metadata": {
    "scrolled": true
   },
   "outputs": [
    {
     "name": "stdout",
     "output_type": "stream",
     "text": [
      "<class 'pandas.core.frame.DataFrame'>\n",
      "Int64Index: 3191 entries, 0 to 9088\n",
      "Data columns (total 4 columns):\n",
      "tweet_text                                            3191 non-null object\n",
      "emotion_in_tweet_is_directed_at                       3191 non-null object\n",
      "is_there_an_emotion_directed_at_a_brand_or_product    3191 non-null object\n",
      "text                                                  3191 non-null object\n",
      "dtypes: object(4)\n",
      "memory usage: 124.6+ KB\n"
     ]
    }
   ],
   "source": [
    "tweet_pos_neg.info()"
   ]
  },
  {
   "cell_type": "code",
   "execution_count": 26,
   "metadata": {},
   "outputs": [],
   "source": [
    "y = tweet_pos_neg.is_there_an_emotion_directed_at_a_brand_or_product \n",
    "X = tweet_pos_neg.tweet_text\n",
    "\n",
    "X_train, X_test, y_train, y_test = train_test_split(X, y, random_state=1)"
   ]
  },
  {
   "cell_type": "markdown",
   "metadata": {
    "colab_type": "text",
    "id": "SotCRvkDH0Nf"
   },
   "source": [
    "### 4. Represent text as numerical data using `CountVectorizer` and get the document term frequency matrix\n",
    "\n",
    "#### Use `vect` as the variable name for initialising CountVectorizer."
   ]
  },
  {
   "cell_type": "code",
   "execution_count": 27,
   "metadata": {
    "colab": {},
    "colab_type": "code",
    "id": "YcbkY4sgH0Ng"
   },
   "outputs": [
    {
     "data": {
      "text/plain": [
       "CountVectorizer(analyzer='word', binary=False, decode_error='strict',\n",
       "        dtype=<class 'numpy.int64'>, encoding='utf-8', input='content',\n",
       "        lowercase=True, max_df=1.0, max_features=None, min_df=1,\n",
       "        ngram_range=(1, 1), preprocessor=None, stop_words=None,\n",
       "        strip_accents=None, token_pattern='(?u)\\\\b\\\\w\\\\w+\\\\b',\n",
       "        tokenizer=None, vocabulary=None)"
      ]
     },
     "execution_count": 27,
     "metadata": {},
     "output_type": "execute_result"
    }
   ],
   "source": [
    "vect = CountVectorizer()\n",
    "vect.fit(X_train)"
   ]
  },
  {
   "cell_type": "code",
   "execution_count": 28,
   "metadata": {
    "colab": {},
    "colab_type": "code",
    "id": "Z4LUM-XPH0Nn"
   },
   "outputs": [],
   "source": [
    "X_train_dtm = vect.transform(X_train)\n",
    "X_test_dtm = vect.transform(X_test)"
   ]
  },
  {
   "cell_type": "code",
   "execution_count": 46,
   "metadata": {},
   "outputs": [
    {
     "data": {
      "text/plain": [
       "(2393, 4919)"
      ]
     },
     "execution_count": 46,
     "metadata": {},
     "output_type": "execute_result"
    }
   ],
   "source": [
    "X_train_dtm.shape"
   ]
  },
  {
   "cell_type": "code",
   "execution_count": 47,
   "metadata": {},
   "outputs": [
    {
     "data": {
      "text/plain": [
       "(798, 4919)"
      ]
     },
     "execution_count": 47,
     "metadata": {},
     "output_type": "execute_result"
    }
   ],
   "source": [
    "X_test_dtm.shape"
   ]
  },
  {
   "cell_type": "markdown",
   "metadata": {
    "colab_type": "text",
    "id": "5pxd5fSHH0Nt"
   },
   "source": [
    "### 5. Find number of different words in vocabulary"
   ]
  },
  {
   "cell_type": "code",
   "execution_count": 29,
   "metadata": {
    "colab": {},
    "colab_type": "code",
    "id": "p1DQ2LdNH0Nu",
    "scrolled": false
   },
   "outputs": [
    {
     "name": "stdout",
     "output_type": "stream",
     "text": [
      "{'tried': 4435, 'installing': 2239, 'mention': 2721, 'on': 2999, 'my': 2858, 'iphone': 2291, 'but': 669, 'it': 2311, 'crashes': 1027, 'every': 1480, 'time': 4347, 'open': 3008, 'sxsw': 4149, 'ipad2': 2285, 'rocks': 3606, 'apple': 315, 'pop': 3244, 'up': 4546, 'store': 4044, 'link': 2520, 'what': 4722, 'your': 4863, 'take': 4191, 'ipad': 2283, 'really': 3452, 'want': 4671, 'checkins': 791, 'aron': 344, 'pilhofer': 3182, 'from': 1736, 'the': 4279, 'new': 2900, 'york': 4860, 'times': 4351, 'just': 2363, 'endorsed': 1418, 'html': 2119, 'over': 3054, 'at': 367, 'newsapps': 2904, 'and': 268, 'asked': 360, 'us': 4562, 'not': 2937, 'to': 4366, 'tweet': 4475, 'he': 2007, 'actually': 162, 'said': 3640, 'lt': 2595, 'guess': 1929, 'who': 4729, 'won': 4787, 'an': 265, 'unsix': 4538, 'tweetup': 4484, 'thanks': 4276, 'amp': 262, 'happydance': 1983, 'pedicab': 3137, 'charger': 776, 'would': 4816, 'be': 482, 'epic': 1448, 'win': 4752, 'data': 1109, 'crunch': 1059, 'is': 2303, 'crippling': 1047, 'google': 1873, 'voice': 4640, 'back': 428, 'regular': 3494, 'texting': 4272, 'we': 4694, 'go': 1852, 'got': 1884, 'copy': 984, 'of': 2975, 'enchantment': 1414, 'kindle': 2401, 'today': 4368, 'so': 3905, 'excited': 1499, 'thx': 4338, 'for': 1695, 'keeping': 2375, 'world': 4807, 'enchanted': 1412, 'glad': 1844, 'you': 4861, 're': 3441, 'again': 198, 'surprise': 4119, 'has': 1987, 'opened': 3011, 'in': 2190, 'austin': 391, 'that': 4278, 'nerds': 2888, 'town': 4405, 'can': 703, 'get': 1822, 'their': 4286, 'ipads': 2290, 'cnet': 858, 'highlight': 2048, 'day': 1116, 'was': 4680, 'undoubtedly': 4520, 'meeting': 2709, '30': 55, 'seconds': 3713, 'after': 196, 'her': 2036, 'softball': 3916, 'fancrazed': 1563, 'preso': 3295, 'quot': 3411, 'papyrus': 3102, 'sort': 3940, 'like': 2506, 'nice': 2914, 'lol': 2555, 'lavelle': 2458, 'smart': 3882, 'company': 906, 'set': 3755, 'shop': 3797, 'core': 989, 'action': 156, 'paper': 3101, 'phones': 3163, 'means': 2700, 'will': 4746, 'likely': 2509, 'useless': 4570, 'as': 357, 'well': 4715, 'fail': 1551, 'comes': 891, 'with': 4771, 'cool': 977, 'technology': 4238, 'no': 2925, 'one': 3001, 'ever': 1477, 'heard': 2017, 'because': 489, 'they': 4300, 'don': 1290, 'conferences': 928, 'via': 4609, 'rt': 3622, 'found': 1712, 'app': 307, 'kyping': 2424, 'geolocation': 1821, 'releasing': 3508, 'when': 4724, 'background': 429, 'need': 2879, 'patch': 3123, 'batterykiller': 474, 'love': 2583, 'frontend': 1738, 'dev': 1191, 'talk': 4201, 'by': 680, 'way': 4691, 'turned': 4467, 'head': 2008, 'far': 1568, 'could': 1002, 'couldn': 1003, 'see': 3716, 'single': 3839, 'non': 2930, 'device': 1198, 'cor': 985, 'ning': 2924, 'mobile': 2786, 'roadie': 3597, 'are': 334, 'thrilled': 4327, 'offer': 2977, 'unofficial': 4533, 'insider': 2231, 'guide': 1933, 'have': 1996, 'fun': 1757, 'downtown': 1317, 'hey': 2040, 'lucky': 2597, 'dogs': 1282, 'check': 788, 'out': 3046, 'holler': 2074, 'gram': 1893, 'plans': 3203, 'killing': 2398, 'chevytweethouse': 801, 'dj': 1266, 'willing': 4748, 'admit': 178, 'tiny': 4354, 'bit': 541, 'jealous': 2327, 'being': 505, 'bound': 593, 'temperatures': 4251, 'high': 2046, '20s': 41, 'very': 4606, 'hollergram': 2075, 'may': 2691, 'leave': 2472, 'vuvuzela': 4650, 'home': 2080, 'now': 2949, 'join': 2342, 'most': 2823, 'friends': 1734, 'ur': 4559, 'city': 826, 'end': 1415, 'wins': 4760, 'mon': 2803, 'help': 2031, 'our': 3044, 'chng': 808, 'wait': 4654, 'been': 493, 'big': 531, 'news': 2903, 'circles': 823, 'crazy': 1031, 'how': 2113, 'much': 2841, 'culture': 1068, 'documented': 1275, 'doodles': 1299, 'presentation': 3291, 'mayer': 2693, 'sales': 3642, 'pitch': 3187, 'rumor': 3627, 'opening': 3013, 'temporary': 4252, 'launch': 2453, 'hotpot': 2108, 'good': 1868, 'other': 3040, 'services': 3751, 'force': 1698, 'anyways': 299, 'traded': 4413, 'xoom': 4839, 'js': 2355, 'party': 3114, 'winwin': 4763, 'winning': 4759, 'tigerblood': 4342, 'lots': 2577, 'here': 2037, 'bigger': 532, 'than': 4274, 'thought': 4320, 'qrafter': 3387, 'better': 523, 'all': 238, 'paid': 3084, 'or': 3022, 'free': 1723, 'qr': 3386, 'code': 868, 'apps': 330, 'only': 3004, 'scan': 3671, 'vcards': 4594, 'also': 246, 'download': 1312, 'them': 4288, 'qrcode': 3389, 'think': 4307, 'eminent': 1405, 'typing': 4493, 'thoughtful': 4321, 'notes': 2940, 'phone': 3162, 'working': 4804, 'mac': 2608, 'book': 572, 'handwriting': 1971, 'ridic': 3578, 'conquered': 943, 'available': 406, 'blackberry': 545, 'windows': 4754, 'addition': 173, 'android': 272, 'line': 2516, 'outlandish': 3049, 'entire': 1440, 'week': 4707, 'looks': 2566, 'this': 4314, 'session': 3753, 'mistakes': 2774, 'made': 2618, 'building': 654, 'nextflix': 2909, 'might': 2747, 'weekend': 4708, 'without': 4774, 'seeing': 3717, 'same': 3645, 'case': 728, 'twice': 4485, 'wowwwwww': 4819, 'next': 2908, 'maps': 2657, 'amazing': 253, 'ready': 3446, 'some': 3926, 'make': 2634, 'blogging': 557, 'easier': 1371, 'sxswi': 4159, 'someone': 3929, 'buy': 674, 'v1': 4583, 'while': 4727, 'v2': 4584, 'tomorrow': 4372, 'potential': 3264, 'breakout': 618, 'gadgets': 1773, 'festival': 1610, 'begins': 499, 'jeez': 2331, 'guys': 1941, 'dunno': 1351, 'about': 132, 'gold': 1864, 'gym': 1943, 'do': 1271, 'realize': 3450, 'un': 4507, 'jobs': 2339, 'aesthetic': 192, 'strong': 4065, 'rumours': 3630, 'abt': 136, 'unveiling': 4544, 'social': 3907, 'network': 2895, 'called': 692, 'does': 1279, 'look': 2561, 'interesting': 2255, 'long': 2558, 'into': 2263, 'aclu': 152, 'sure': 4115, 'ûï': 4907, 'last': 2441, 'lp': 2594, 'travel': 4425, 'tougher': 4402, 'crowd': 1053, 'colin': 877, 'quinn': 3408, 'marissa': 2664, 'please': 3217, 'tell': 4247, 'something': 3931, 'products': 3322, 'launched': 2454, 'months': 2813, 'ago': 207, 'awesome': 418, 'hear': 2016, 'acknowledge': 151, 'needs': 2881, 'increase': 2200, 'support': 4112, 'its': 2312, 'product': 3321, 'incorrect': 2199, 'routes': 3615, 'chrome': 816, 'web': 4698, 'calls': 694, 'html5': 2120, 'hot': 2105, 'tub': 4457, 'steamy': 4024, 'suck': 4090, 'preview': 3301, 'major': 2632, 'service': 3750, 'diller': 1224, 'says': 3668, 'tv': 4470, 'run': 3631, 'playstation': 3215, 'xbox': 4834, 'which': 4726, 'essentially': 1460, 'more': 2818, 'fees': 1601, 'booyah': 579, 'gitchococktailon': 1838, 'before': 495, 'even': 1470, 'past': 3121, 'there': 4296, 'dilemma': 1223, 'tech': 4228, 'come': 888, 'why': 4735, 'cant': 708, 'spell': 3964, 'checking': 790, 'auto': 401, 'correct': 994, 'must': 2854, 'nothing': 2942, 'grrr': 1920, 'holy': 2078, 'smokes': 3892, 'replacing': 3524, 'flip': 1662, 'cam': 696, 'default': 1139, 'video': 4615, 'capture': 713, 'beautiful': 486, 'elegant': 1396, 'know': 2414, 'started': 4007, 'lying': 2606, 'me': 2698, 'signal': 3826, 'strength': 4060, 'def': 1138, 'use': 4566, 'tweeting': 4482, 'sorta': 3941, 'pretty': 3299, 'sux': 4128, 'airport': 223, 'delay': 1146, 'introduced': 2267, 'catphysics': 736, 'feel': 1596, 'drug': 1340, 'pusher': 3376, 'first': 1643, 'play': 3208, 'hollrback': 2076, 'released': 3506, 'users': 4572, 'grab': 1891, 'com': 884, 'watching': 4686, 'advanced': 187, 'future': 1762, 'location': 2546, 'based': 463, 'augmented': 388, 'reality': 3449, 'projects': 3333, 'congrats': 934, 'sxswbuffalo': 4155, 'lounge': 2581, 'experience': 1518, 'complete': 915, 'quibidswin': 3403, 'cursor': 1075, 'connects': 942, 'physical': 3168, 'digital': 1221, 'worlds': 4808, 'mystery': 2864, 'prize': 3313, 'hope': 2095, 'great': 1901, 'panel': 3092, 'gift': 1830, 'discotalk': 1241, 'ordered': 3025, 'stand': 3996, 'wasting': 4683, 'valuable': 4589, 'fellowship': 1604, 'dear': 1125, 'goer': 1857, 'fucking': 1750, 'walking': 4662, 'halls': 1962, 'hipsters': 2058, 'hilarious': 2052, 'client': 842, 'gotten': 1886, 'buggy': 651, 'lately': 2444, 'blame': 547, 'putting': 3380, 'gun': 1937, 'give': 1839, 'oh': 2989, 'lordy': 2570, 'pulling': 3363, 'trigger': 4437, 'futuremf': 1763, 'trajan': 4418, 'destroyed': 1186, 'title': 4357, 'gt': 1926, 'tag': 4189, 'websites': 4704, 'seo': 3739, 'graph': 1897, 'protocol': 3346, 'added': 168, 'clean': 836, 'instead': 2243, 'umm': 4504, 'hello': 2030, 'version': 4604, 'site': 3846, 'coming': 894, 'miller': 2752, 'makes': 2636, 'shout': 3809, 'khan': 2384, 'academy': 138, 'things': 4305, 'doing': 1283, 'education': 1384, 'fmsignal': 1674, 'cc': 742, 'turn': 4466, 'messaging': 2727, 'platform': 3207, 'cheeky': 793, 'built': 656, 'resist': 3537, 'buying': 676, 'notionink': 2944, 'adam': 164, 'able': 131, 'usb': 4565, 'charging': 780, 'cord': 986, 'plug': 3222, 'add': 167, 'juice': 2357, 'dfw': 1204, 'texas': 4270, 'entry': 1443, 'received': 3461, 'anti': 285, 'privacy': 3311, 'law': 2459, 'petition': 3157, 'sunglasses': 4106, 'beer': 494, 'geo': 1819, 'mixing': 2778, 'music': 2848, 'parties': 3109, 'going': 1863, 'year': 4848, 'trying': 4452, 'steve': 4030, 'wozniak': 4820, 'drink': 1327, 'h4ckers': 1946, 'speakeasy': 3957, 'doesn': 1280, 'too': 4378, 'bad': 434, 'waited': 4655, 'hours': 2111, 'likability': 2505, 'virgin': 4626, 'trustworthiness': 4449, 'zappos': 4874, 'pnid': 3228, 'beta': 521, 'testing': 4266, 'interactive': 2253, 'moonbot': 2816, 'studios': 4072, 'louisiana': 2580, 'listening': 2527, 'twit': 4486, 'live': 2530, 'went': 4716, 'boxee': 598, 'keg': 2376, 'robots': 3600, 'event': 1472, 'saw': 3665, 'tim': 4345, 'ferris': 1606, 'speak': 3956, 'checked': 789, 'ebay': 1377, 'hackathon': 1950, 'hmm': 2068, 'interface': 2256, 'ux': 4580, 'research': 3535, 'sound': 3943, 'politics': 3237, 'behind': 504, 'applauds': 314, 'anyone': 295, '10': 3, 'dangerous': 1102, 'giving': 1843, 'away': 417, 'creator': 1041, 'popular': 3249, 'disc': 1240, 'during': 1353, 'create': 1035, 'share': 3772, 'twitter': 4487, 'outlet': 3050, 'another': 282, 'example': 1493, 'marketing': 2671, 'brilliance': 627, 'art': 349, 'project': 3330, 'street': 4058, 'view': 4620, 'except': 1496, 'museums': 2847, 'around': 345, 'incl': 2194, 'billion': 535, 'pixel': 3190, 'image': 2163, 'starry': 4004, 'night': 2919, 'dang': 1101, 'whoooooo': 4732, 'ps': 3352, 'tvontheradio': 4472, 'tix': 4359, 'yall': 4843, 'rock': 3601, 'right': 3583, 'had': 1954, 'improve': 2182, '15': 21, 'minutes': 2767, 'literally': 2528, 'bumped': 660, 'thinking': 4308, 'should': 3805, 'lottery': 2578, 'ticket': 4339, 'kind': 2399, 'funny': 1760, 'sad': 3637, 'release': 3505, 'longer': 2559, 'any': 292, 'lines': 2517, 'sheeple': 3780, 'several': 3762, 'years': 4849, 'late': 2443, 'trend': 4431, 'conversation': 972, 'laughed': 2452, 'until': 4541, 'spent': 3967, 'hauling': 1995, 'macbook': 2610, 'everywhere': 1486, 'shoulder': 3807, 'rub': 3623, 'kawasaki': 2372, 'pagemaker': 3082, 'saved': 3659, 'those': 4318, 'were': 4717, 'days': 1118, 'jwtatl': 2367, 'kids': 2392, 'the_daily': 4280, 'terrible': 4263, 'concept': 923, 'anyway': 298, 'many': 2651, 'publishers': 3360, 'content': 957, 'enhancements': 1428, 'th': 4273, 'worst': 4812, 'david': 1112, 'foster': 1711, 'wallace': 4665, 'footnotes': 1694, 'kinda': 2400, 'mostly': 2824, 'irrelevant': 2302, 'white': 4728, '64gb': 94, 'wifi': 4741, 'blue': 562, 'cover': 1010, 'thing': 4304, 'sell': 3731, 'mappers': 2654, 'amazingly': 254, 'easy': 1372, 'details': 1189, 'domo': 1289, 'facebook': 1543, 'strangers': 4052, 'didn': 1209, 'airs': 225, 'did': 1208, 'read': 3442, 'where': 4725, 'keynote': 2382, 'mayers': 2694, '12': 15, 'miles': 2749, 'driven': 1330, 'navigation': 2873, 'yr': 4867, 'route': 3614, 'traffic': 4415, 'saving': 3662, 'yrs': 4868, 'total': 4394, 'wow': 4818, 'possibly': 3261, 'super': 4109, 'celebrate': 743, 'charity': 781, 'water': 4687, 'tonight': 4376, 'throwin': 4331, 'jump': 2362, 'start': 4006, 'off': 2976, 'studentsforcleanwater': 4070, 'org': 3028, 'rsvp': 3621, 'interview': 2261, 'bloomberg': 560, 'kick': 2386, 'tons': 4377, 'ipad2s': 2286, 'took': 4379, 'through': 4328, 'pics': 3175, 'already': 245, 'gowalla': 1889, 'pull': 3362, 'website': 4703, 'wasted': 4682, 'festivalgenius': 1612, 'notsomuch': 2946, 'lost': 2575, 'caring': 721, 'business': 666, 'reilly': 3498, 'whale': 4721, 'artist': 352, 'living': 2535, 'crowley': 1058, 'hard': 1984, 'feelings': 1599, 'towards': 4404, 'dodgeball': 1277, 'partner': 3110, 'envy': 1447, 'greater': 1902, 'waaaaaa': 4652, 'drivers': 1331, 'per': 3143, 'finding': 1637, 'best': 517, 'setting': 3758, 'attendees': 377, 'fix': 1651, 'security': 3715, 'guards': 1928, 'enjoy': 1429, 'sleepy': 3864, 'debating': 1127, 'brands': 609, 'role': 3608, 'enjoyed': 1430, 'doodle': 1298, 'australian': 396, 'profits': 3325, 'interested': 2254, 'these': 4298, 'insights': 2235, 'bing': 537, 'digibiz': 1220, 'bout': 595, 'watch': 4684, 'vicariously': 4612, 'popupstore': 3252, 'crack': 1018, 'house': 2112, 'addicts': 171, 'imagine': 2164, 'if': 2151, '20': 36, 'bavcid': 476, 'uppward': 4555, 'tshirt': 4454, 'clever': 840, 'design': 1176, 'jerk': 2333, 'faulty': 1581, 'autocorrect': 402, 'change': 766, 'coworkers': 1015, 'visigoths': 4631, 'five': 1648, 'guard': 1927, 'popup': 3251, 'loves': 2589, 'debut': 1128, 'eatdrinktweet': 1374, 'done': 1294, 'yet': 4857, 'mark': 2668, 'sleep': 3863, 'bring': 629, 'shiny': 3787, 'ya': 4842, 'takes': 4195, 'playhopskoch': 3213, 'market': 2669, 'getting': 1825, 'gps': 1890, 'stuck': 4069, 'updates': 4550, 'foursquare': 1714, 'random': 3426, 'exclusive': 1502, 'shot': 3803, 'tt': 4456, 'ff': 1615, 'fuck': 1749, 'ubersocial': 4497, 'includes': 2197, 'uberguide': 4496, 'post': 3262, 'll': 2536, 'using': 4575, 'south': 3948, 'southwest': 3950, 'verizon': 4602, 'kicking': 2388, 'hairy': 1957, 'butts': 673, 'people': 3142, 'qho': 3385, 'feature': 1588, 'buzz': 678, 'wish': 4769, 'beforetwitter': 496, 'wouldn': 4817, 'such': 4089, 'haha': 1956, 'awesomely': 419, 'rad': 3413, 'map': 2652, 'saves': 3660, 'drive': 1329, 'missed': 2771, 'amount': 261, 'gas': 1788, 'belinsky': 507, '911tweets': 114, 'lonely': 2556, 'planet': 3200, 'releases': 3507, 'aren': 337, 'enough': 1434, 'cluttering': 854, 'handset': 1970, 'part': 3107, 'journalsim': 2350, 'democracy': 1163, 'yes': 4855, 'informed': 2215, 'populous': 3250, 'focus': 1675, 'informal': 2213, 'unscientific': 4537, 'observation': 2966, 'computer': 919, 'choice': 809, 'hands': 1969, 'instagram': 2236, 'moment': 2799, 'mister': 2775, 'different': 1217, 'evo': 1489, 'sucks': 4092, 'decided': 1133, 'usguys': 4574, 'woot': 4796, 'ausxsw': 397, 'shame': 3769, 'schools': 3687, 'experts': 1523, 'official': 2982, 'photos': 3167, 'weird': 4712, 'focusing': 1677, 'bridging': 623, 'divide': 1265, 'eg': 1390, 'streetview': 4059, 'autonomous': 404, 'driving': 1333, 'cow': 1013, 'hooked': 2088, 'paolo': 3098, 'alex': 236, 'backup': 432, 'powermat': 3271, 'powermatteam': 3272, 'gonna': 1867, 'bet': 520, 'que': 3397, 'looking': 2564, 'distribution': 1261, 'enchanting': 1413, 'likeability': 2507, 'airlines': 221, 'ha': 1947, 'guy': 1939, 'explaining': 1525, 'realistic': 3448, 'bots': 589, 'experiment': 1520, 'gee': 1797, 'fell': 1602, 'throwing': 4332, 'nerd': 2883, '3d': 66, 'buildings': 655, 'fast': 1576, 'rendering': 3521, 'own': 3069, 'find': 1635, 'impromptu': 2181, 'til': 4343, 'josh': 2348, 'williams': 4747, 'farmville': 1571, 'success': 4086, 'wakeup': 4657, 'call': 689, 'games': 1782, 'build': 653, 'lose': 2572, 'hour': 2110, 'microsoft': 2739, 'credit': 1042, 'fixing': 1652, 'christmas': 815, 'arm': 342, 'giant': 1827, 'meat': 2704, 'pointer': 3233, 'disgusted': 1250, 'battery': 473, 'life': 2497, 'down': 1311, '11': 12, 'pm': 3227, 'geeky': 1810, 'refrigerator': 3486, 'magnet': 2628, 'game': 1779, 'everyone': 1483, 'stops': 4042, 've': 4595, 'exciting': 1501, 'showing': 3816, 'including': 2198, 'drag': 1320, 'drop': 1336, 'management': 2645, 'talking': 4203, 'effort': 1389, 'allow': 239, 'systems': 4180, 'bettercloud': 524, 'reason': 3454, 'continued': 962, 'survival': 4124, 'existence': 1509, 'god': 1854, 'convention': 971, 'center': 747, 'stuff': 4075, 'thank': 4275, 'biggest': 533, 'events': 1475, '2011': 39, 'û_': 4901, 'strange': 4049, 'little': 2529, 'japan': 2322, 'penetrates': 3141, 'bubble': 647, 'bar': 456, 'tvs': 4473, 'cnn': 859, 'suggest': 4095, 'anything': 297, 'important': 2176, 'fb': 1586, 'uzu': 4582, 'tapworthy': 4207, 'quite': 3410, 'scene': 3677, 'geek': 1798, 'power': 3268, 'popping': 3246, 'lack': 2429, 'patience': 3125, 'douchebaggery': 1309, '10am': 9, 'batt': 472, '54': 85, 'shit': 3791, 'notevenstartedyet': 2941, 'broken': 636, 'follow': 1681, 'hash': 1988, 'nerdiest': 2887, 'tmsxsw': 4364, 'hand': 1964, 'impression': 2179, 'lemon': 2481, 'backlight': 430, 'bleed': 548, 'thru': 4333, 'bottom': 590, 'making': 2638, 'smarter': 3883, 'efficient': 1387, 'knowing': 2415, 'sched': 3680, 'flights': 1661, 'weather': 4697, 'true': 4444, 'nc': 2874, 'buzzing': 679, 'geekdom': 1801, 'elevate': 1398, 'blocks': 553, 'connect': 938, 'running': 3633, 'cuz': 1083, 'girl': 1835, 'sharp': 3776, 'man': 2643, 'strums': 4068, 'guitar': 1936, 'retail': 3557, 'layed': 2462, 'registers': 3490, 'checkout': 792, 'search': 3703, 'work': 4801, 'real': 3447, 'least': 2471, 'results': 3555, 'job': 2338, 'met': 2731, 'team': 4222, 'whole': 4731, 'place': 3193, 'perfect': 3145, 'screen': 3698, 'organization': 3031, 'indoor': 2206, 'venues': 4601, 'businesses': 667, 'centers': 748, 'etc': 1464, 'sony': 3936, 'xperia': 4840, 'tuesday': 4459, 'gamelayer': 1781, 'knew': 2410, 'appreciate': 324, 'guessing': 1930, 'podcast': 3230, 'summit': 4102, 'listened': 2526, 'delight': 1154, 'novelty': 2948, 'fades': 1550, 'among': 260, 'delegates': 1148, 'itunes': 2315, 'sters': 4029, 'madebymany': 2619, '3g': 67, 'hrs': 2117, 'rise_austin': 3592, 'dead': 1120, 'upgrade': 4552, 'plugin': 3224, 'stations': 4015, 'track': 4407, 'tweetignite': 4481, 'bored': 582, 'draw': 1322, 'picture': 3176, 'forward': 1710, 'hearing': 2018, 'lynn': 2607, 'teo': 4260, 'probably': 3316, 'uxdes': 4581, 'name': 2867, 'frm': 1735, 'genius': 1816, 'outside': 3053, 'box': 597, 'googledoodle': 1878, 'mechanics': 2706, 'user': 4571, 'engagement': 1423, 'rocked': 3603, 'fab': 1540, 'spilled': 3969, 'beans': 484, 'flipboard': 1663, 'workin': 4803, 'sxflip': 4147, 'emotional': 1406, 'barrydiller': 459, 'handing': 1966, 'pi': 3169, 'contest': 959, 'internet': 2259, 'implode': 2175, 'friday': 1731, 'normal': 2936, 'activity': 159, 'order': 3024, 'netflix': 2893, 'present': 3290, 'worth': 4813, 'everyday': 1482, 'strategy': 4054, '80s': 105, 'themed': 4290, 'costume': 998, 'yep': 4854, 'smell': 3889, 'hereforwork': 2038, 'nottheipad2': 2947, 'cause': 738, 'uses': 4573, 'voluntarily': 4643, 'thisisdare': 4315, 'filming': 1627, 'trade': 4412, 'show': 3811, 'floor': 1667, 'teeny': 4242, 'held': 2028, 'steady': 4021, 'his': 2061, 'nyt': 2962, 'serve': 3745, 'readership': 3444, 'opportunity': 3016, 'ignore': 2153, 'showcases': 3814, 'never': 2899, 'price': 3304, 'brand': 608, 'equity': 1451, 'factor': 1548, 'attached': 373, 'headaches': 2009, 'bloggable': 555, 'messed': 2728, 'thinks': 4309, 'yonkers': 4859, 'almost': 241, 'learning': 2469, 'latest': 2446, 'food': 1688, 'related': 3501, 'half': 1959, 'rm': 3595, 'gsdm': 1924, 'lovefresh': 2585, 'soon': 3938, 'spotted': 3980, 'ûò': 4913, 'speech': 3961, 'therapy': 4295, 'communication': 901, 'showcased': 3813, 'conference': 927, 'assistivetech': 365, 'idea': 2143, 'plan': 3195, 'opens': 3014, 'middle': 2742, 'pie': 3178, 'booth': 577, 'mylunch': 2860, 'yay': 4845, 'temp': 4249, 'sunny': 4107, 'employees': 1408, 'delivered': 1157, 'hr': 2116, 'qagb': 3384, 'timely': 4350, 'engine': 1425, 'continues': 963, 'rise': 3591, '13': 18, 'still': 4032, 'tops': 4389, '65': 97, 'noon': 2933, 'fresh': 1726, 'shipment': 3788, 'fingers': 1640, 'crossed': 1051, 'visiting': 4633, 'congress': 937, 'ave': 407, 'played': 3210, 'fruit': 1743, 'co': 865, 'soundcloud': 3944, 'ambassador': 256, 'upload': 4554, 'shows': 3817, 'reward': 3571, 'annoyed': 280, 'schedule': 3681, 'ui': 4502, 'ain': 218, 'fat': 1579, 'heading': 2011, 'limited': 2513, 'clearly': 838, 'daylight': 1117, 'savings': 3663, 'bug': 649, 'alarm': 231, 'remember': 3517, 'room': 3611, 'clocks': 846, 'whoops': 4733, 'ordinance': 3027, 'front': 1737, 'admission': 177, 'step': 4026, 'recovery': 3476, 'expectation': 1514, 'both': 587, 'visual': 4636, 'delving': 1160, 'sxfl': 4146, 'fascist': 1574, 'corporation': 992, 'america': 257, 'kara': 2369, 'swisher': 4140, 'gallery': 1778, 'original': 3034, 'daniel': 1103, 'johnston': 2341, 'industry': 2207, 'nptech': 2951, 'deleting': 1150, 'cab': 683, 'ride': 3577, 'hell': 2029, 'mall': 2641, 'sold': 3919, 'dinner': 1227, 'then': 4292, 'figure': 1621, 'hotel': 2106, 'lego': 2477, 'competition': 911, 'startupbus': 4011, 'cle': 835, 'gotta': 1885, 'always': 250, 'innovating': 2223, 'demonstration': 1168, 'uosxsw': 4545, 'marissamayer': 2666, 'nailed': 2865, 'online': 3003, 'respect': 3541, 'boundaries': 594, 'offline': 2984, 'lives': 2532, 'full': 1754, 'swing': 4139, 'actsofsharing': 160, 'plenty': 3219, 'believe': 506, 'explanation': 1526, '101': 7, 'class': 831, 'assume': 366, 'ditch': 1263, 'previous': 3303, 'ouch': 3043, 'wants': 4674, 'say': 3666, 'hi': 2043, 'expected': 1515, 'uber': 4495, 'sharing': 3775, 'thoughts': 4322, 'she': 3778, 'idontbelieve': 2148, 'am': 251, 'iwantacameraonmyipad': 2318, 'lonelyplanet': 2557, 'godsend': 1856, 'aware': 415, 'lot': 2576, 'protecting': 3344, 'tools': 4383, 'review': 3566, 'guest': 1931, 'mixed': 2777, 'magnetic': 2629, 'overall': 3055, 'improvemnt': 2185, 'alive': 237, 'loving': 2592, 'talks': 4204, 'jonathan': 2345, 'dahl': 1087, 'minimalistprogramming': 2763, 'marissagoogle': 2665, 'cases': 729, 'stop': 4040, 'zazzlesxsw': 4876, 'developer': 1194, 'meet': 2708, 'close': 847, 'pc': 3130, 'ûójust': 4916, 'macbooks': 2612, 'devs': 1200, 'definitely': 1142, 'folks': 1680, 'early': 1362, 'nerdbird': 2884, 'wal': 4658, 'mart': 2674, 'airports': 224, 'akqas': 228, 'callback': 691, 'principles': 3306, 'beyond': 528, 'media': 2707, 'examples': 1494, 'jobsco': 2340, 'move': 2829, 'classiest': 833, 'ok': 2991, 'gadgetenvy': 1772, 'sets': 3757, 'im': 2160, 'lil': 2512, 'arrived': 346, 'dell': 1159, 'otherwise': 3042, 'pro': 3315, '5pm': 90, 'tweeps': 4474, 'calendar': 686, 'put': 3378, 'ical': 2138, 'keep': 2373, 'goin': 1862, 'eats': 1376, 'bbq': 479, 'zero': 4881, 'left': 2475, 'appleaddiction': 317, 'square': 3987, 'card': 717, 'reader': 3443, 'simple': 3833, 'impressed': 2178, 'setup': 3761, 'march': 2660, '11th': 14, 'purchase': 3367, '75': 101, 'others': 3041, 'denies': 1169, 'reily': 3499, 'exists': 1511, 'basically': 465, 'foing': 1679, 'ton': 4373, 'features': 1590, 'possible': 3260, 'naomi': 2869, 'campbell': 701, 'stores': 4045, 'rage': 3418, 'roll': 3609, 'tractor': 4411, 'trailer': 4416, 'inventory': 2271, 'justsaying': 2365, 'androidsxsw': 273, 'swag': 4130, 'old': 2993, 'instantly': 2242, 'agencies': 201, 'push': 3375, 'directions': 1230, 'gone': 1866, 'creative': 1038, 'lab': 2427, 'director': 1231, '2nd': 51, 'fandango': 1564, 'karaoke': 2370, '1st': 35, 'tkts': 4360, 'canada': 704, 'useful': 4568, 'second': 3712, 'pure': 3372, 'laptop': 2437, 'school': 3686, 'cashmore': 731, 'gave': 1791, 'crushing': 1060, 'endorsement': 1419, 'paired': 3087, 'contextual': 961, 'aapl': 129, 'vufinders': 4649, 'update': 4548, '3x': 70, 'speedup': 3963, 'object': 2963, 'tagging': 4190, 'conf': 926, 'scoping': 3692, 'locations': 2547, 'desk': 1182, 'blogs': 558, 'atx': 383, 'failure': 1553, 'latitude': 2450, 'circle': 822, 'seriously': 3743, 'concentrate': 922, '15k': 26, 'quality': 3393, 'pdf': 3133, 'investment': 2273, 'small': 3879, 'mags': 2631, 'chris': 813, 'tomlinson': 4371, 'formerly': 1708, 'obs': 2965, 'ap': 302, 'public': 3359, 'common': 898, 'laptops': 2438, 'haven': 1997, 'seen': 3722, 'tablets': 4186, 'updated': 4549, 'song': 3933, 'info': 2212, '24': 44, 'stream': 4055, 'streaming': 4056, 'print': 3307, 'cuts': 1081, 'dropped': 1337, 'estate': 1462, 'invest': 2272, 'experimenting': 1521, 'tinkering': 4353, 'nineties': 2923, 'viewed': 4622, 'explorer': 1528, 'mike': 2748, 'tyson': 4494, 'videogames': 4617, 'cartoon': 727, 'wanna': 4669, 'producers': 3320, 'hopefully': 2096, 'dl': 1269, 'macallan': 2609, 'formula': 1709, 'successful': 4087, 'sessions': 3754, 'glass': 1845, 'malt': 2642, 'stellar': 4025, 'customer': 1077, 'smooth': 3893, 'unadulterated': 4508, 'browse': 639, 'focuses': 1676, 'purpose': 3374, 'survive': 4125, 'succeed': 4085, 'nike': 2921, 'sneakers': 3903, 'performance': 3147, 'restaurant': 3547, 'austinites': 393, 'blogger': 556, 'orange': 3023, 'wodpress': 4781, 'owns': 3072, 'compiling': 914, 'list': 2524, 'doc': 1272, 'taking': 4197, 'musicians': 2850, 'likes': 2510, 'pay': 3129, 'barry': 458, 'acc': 139, 'ballroom': 445, 'pic': 3170, 'grooving': 1910, 'terms': 4262, 'resonance': 3538, 'marisa': 2663, 'mater': 2686, 'places': 3194, 'hotspot': 2109, 'gadget': 1771, 'lust': 2601, 'rubbing': 3624, 'escape': 1456, 'local': 2543, 'discovery': 1244, 'argues': 339, 'exceptionally': 1497, 'type': 4492, 'woo': 4792, 'hoo': 2086, 'finally': 1633, 'il': 2156, 'damm': 1092, 'brilliant': 628, 'rosso': 3612, 'used': 4567, 'paste': 3122, 'recipe': 3463, 'mothers': 2826, 'generated': 1814, 'leanstartup': 2466, 'makeshift': 2637, 'demo': 1162, 'league': 2465, 'extraordinary': 1535, 'hackers': 1952, 'lxh': 2604, 'apparently': 308, 'austinwins': 395, 'neat': 2878, 'database': 1110, 'shall': 3767, 'rather': 3436, 'agileagency': 205, 'teach': 4221, 'gets': 1824, 'tax': 4214, 'write': 4824, 'andoid': 269, 'awards': 414, 'http': 2122, 'ly': 2605, 'htdfim': 2118, 'michaelpiliero': 2737, 'unreal': 4536, 'clicked': 841, 'person': 3153, 'seats': 3710, 'blurs': 565, 'ubiquity': 4499, 'channel': 771, 'camera': 698, 'stabilizer': 3992, 'mode': 2793, 'suggestions': 4097, 'lustre': 2602, 'pearl': 3136, 'teamandroidsxsw': 4225, 'geeks': 1807, 'foodies': 1689, 'arw': 356, 'dine': 1226, 'math': 2687, 'flight': 1660, 'leaves': 2473, '45': 75, 'ahead': 210, 'miss': 2770, 'obsessed': 2969, 'feckin': 1592, 'less': 2483, 'scary': 3675, 'realized': 3451, 'havnt': 2000, 'since': 3837, 'thursday': 4336, 'sprinkle': 3983, 'top': 4385, 'tweeted': 4478, 'appears': 313, 'endeavor': 1416, 'bounced': 592, 'catch': 734, 'admired': 176, 'intelligent': 2248, 'classy': 834, 'girlcrush': 1836, 'playing': 3214, 'fave': 1583, 'mt': 2840, 'sxswnui': 4165, 'denotes': 1171, 'someones': 3930, 'exactly': 1492, 'wanted': 4672, 'unimitated': 4524, 'fingerprint': 1639, '1990style': 31, 'xwave': 4841, 'headsets': 2014, 'control': 966, 'brain': 605, 'piss': 3184, 'pissing': 3186, 'kiiiiiilling': 2393, 'apis': 306, 'visualizing': 4638, 'government': 1888, 'api': 305, 'fusion': 1761, 'tables': 4184, 'refine': 3484, '100': 4, 'waiting': 4656, '30am': 58, '36': 64, 'degrees': 1144, 'badges': 437, 'tc': 4218, 'picked': 3172, 'false': 1556, 'ûòand': 4914, 'powermattteam': 3273, 'photo': 3164, 'installed': 2238, 'padless': 3080, 'bmm': 566, 'rsq': 3620, 'ours': 3045, 'compete': 910, 'sale': 3641, 'disaster': 1239, 'areas': 336, 'filter': 1628, 'care': 719, 'pleased': 3218, 'clark': 830, 'featured': 1589, 'few': 1614, 'clients': 843, 'exploring': 1529, 'xml': 4838, 'combines': 886, 'earth': 1366, 'individuals': 2205, 'speaks': 3959, 'truth': 4450, 'watched': 4685, 'staff': 3994, 'facepalmed': 1544, 'ugh': 4501, 'longlinesbadux': 2560, 'under': 4515, 'usage': 4564, 'rediculous': 3481, 'overflow': 3057, 'sxswsmall': 4167, 'kit': 2406, 'ûªm': 4904, 'clothes': 850, 'tablet': 4185, 'development': 1196, 'note': 2939, 'leisure': 2479, 'planning': 3202, 'restful': 3549, 'webvisions': 4705, 'purchased': 3368, '90': 112, 'tan': 4205, '4square': 83, 'two': 4489, 'invited': 2278, 'fill': 1623, 'third': 4312, 'chair': 760, 'car': 715, 'sighting': 3823, 'knows': 2418, 'showed': 3815, 'banks': 455, 'innovate': 2222, 'die': 1210, '250k': 45, 'customers': 1078, 'joined': 2343, 'bank': 452, 'sponsored': 3976, 'happy': 1982, 'semantic': 3734, 'fogo': 1678, 'de': 1119, 'chìáo': 820, 'prettycool': 3300, 'chevysxsw': 800, 'retrollect': 3559, 'peeps': 3139, 'fiving': 1650, 'sec': 3711, 'enuf': 1444, 'chumps': 818, 'star': 4000, 'given': 1841, 'portable': 3254, 'sweet': 4136, 'crashed': 1025, 'restore': 3551, 'dali': 1090, 'canvas': 709, 'pak': 3088, 'clipcon': 845, 'intro': 2266, 'reel': 3482, 'suasxsw': 4083, 'sxswaccel': 4153, 'entrepreneur': 1442, 'smallbiz': 3880, 'ceokidschat': 753, 'recognition': 3467, 'seriousness': 3744, 'hanging': 1974, 'ask': 359, 'six': 3849, 'frustrating': 1745, 'zeldman': 4880, 'autocorrects': 403, 'zelda': 4879, 'jzsxsw': 2368, 'lockers': 2548, 'registrant': 3491, 'expect': 1513, 'flash': 1654, 'maybe': 2692, 'elonsxsw': 1400, 'function': 1758, 'malbonster': 2640, 'lovely': 2586, 'forbes': 1696, 'g4gzypv': 1770, 'mom': 2797, 'designing': 1180, 'boomers': 576, 'retiring': 3558, 'wine': 4755, 'library': 2495, 'moving': 2833, 'onto': 3005, 'daily': 1088, 'grape': 1896, 'thankyouecon': 4277, 'oversized': 3064, 'earphones': 1364, 'pluged': 3223, 'loose': 2567, 'laws': 2460, 'pls': 3221, 'psfk': 3353, 'judging': 2356, 'constant': 948, 'breaking': 617, 'reports': 3530, 'unveil': 4542, 'grateful': 1899, 'earplugs': 1365, 'awwww': 423, 'yeah': 4847, 'boyfriend': 601, 'aw': 412, 'cbatsxsw': 741, 'alot': 244, 'carry': 723, 'recharge': 3462, 'coffee': 872, 'h2o': 1945, '106': 8, '8th': 111, 'åç': 4894, 'touching': 4399, 'stories': 4046, 'magazines': 2624, 'sxtxstate': 4169, 'solid': 3920, 'resource': 3539, 'short': 3799, 'scheduling': 3684, 'matching': 2685, 'planes': 3199, 'downloaded': 1313, 'nicely': 2915, 'threw': 4326, 'together': 4369, 'attempt': 374, 'gotto': 1887, 'poursite': 3267, 'changing': 770, 'impact': 2170, 'actual': 161, 'bravo': 610, 'zomg': 4886, 'analytics': 267, 'offsite': 2985, 'links': 2522, 'virtual': 4627, 'page': 3081, 'views': 4623, 'javascript': 2325, 'moreknowledge': 2819, 'mitharvard': 2776, 'basis': 467, '150': 22, 'million': 2753, '40': 71, 'ooooo': 3007, 'rumored': 3628, 'word': 4797, 'motherboard': 2825, 'ones': 3002, 'jessedee': 2335, 'fludapp': 1670, 'ts': 4453, 'goes': 1858, 'busy': 668, 'dexteria': 1201, 'developed': 1193, 'exist': 1508, 'try': 4451, 'trip': 4438, 'toast': 4367, 'convince': 974, 'account': 148, 'loading': 2539, 'draining': 1321, 'cancel': 706, 'mwrc11': 2857, 'messina': 2730, 'dropping': 1338, 'knowledge': 2416, 'identity': 2145, 'hyatt': 2134, 'inde': 2202, 'ûó': 4915, 'sketchy': 3853, 'works': 4805, 'ridiculous': 3579, 'sightings': 3824, 'headed': 2010, 'morning': 2820, 'featuring': 1591, 'hamsandwich': 1963, 'ischafer': 2305, 'axzwxb': 424, 'dude': 1347, 'holding': 2072, 'trophy': 4441, 'lookingforwardtothemusicfest': 2565, 'unequipped': 4521, 'compared': 907, 'else': 1401, 'updating': 4551, 'v3': 4585, 'stepped': 4027, 'truly': 4445, 'harlow': 1985, 'winsåê': 4761, 'sum': 4100, 'ludicon': 2598, 'killer': 2396, 'supposedly': 4114, 'ossum': 3039, 'sxswbarcrawl': 4154, 'groupme': 1914, 'insanely': 2227, 'thin': 4303, 'light': 2501, 'hold': 2071, 'mosaicxm': 2822, 'native': 2870, 'optimized': 3019, 'lineup': 2518, '2s': 53, 'wild': 4744, 'kid': 2389, 'atari': 368, '800': 104, 'cash': 730, 'suckling': 4091, 'pig': 3180, 'dandy': 1099, 'shirt': 3790, 'spots': 3979, 'heatmap': 2022, 'leveraging': 2491, '4sq': 81, 'helps': 2035, 'quiet': 3407, 'hordes': 2100, 'purchasers': 3369, 'science': 3690, 'plane': 3197, 'gogglers': 1859, 'marketer': 2670, 'told': 4370, 'friend': 1732, 'liked': 2508, 'community': 903, 'reading': 3445, 'newspapers': 2906, 'brings': 631, 'bizzy': 543, 'fanboys': 1562, 'three': 4325, 'office': 2980, 'locals': 2545, 'bajillions': 441, 'course': 1008, 'heavens': 2025, 'travelers': 4426, 'delayed': 1147, 'passenger': 3117, 'wasn': 4681, 'consumer': 952, 'spoke': 3973, 'searching': 3706, 'reviews': 3567, 'cmswire': 856, 'web30': 4699, 'toolkit': 4381, 'bike': 534, 'shades': 3765, 'ad': 163, 'touch': 4398, 'rei': 3496, 'sxswtoolkit': 4168, 'farmers': 1570, 'prefer': 3278, 'balckberries': 443, 'iphones': 2294, 'andriod': 270, 'devices': 1199, 'durable': 1352, 'mobilefarm': 2787, 'filmaster': 1626, 'road': 3596, 'dawg': 1114, 'planzai': 3205, 'british': 632, 'lie': 2496, 'chance': 764, 'hilton': 2054, 'salon': 3644, 'filling': 1624, 'quickly': 3406, 'surprises': 4120, 'block': 550, 'essentials': 1461, 'energy': 1421, 'bars': 460, 'dt': 1344, 'rainjacket': 3420, 'mp3': 2836, 'player': 3211, 'ipod': 2295, 'selling': 3732, 'softlayer': 3917, 'blog': 554, 'server': 3747, 'challenge': 761, 'äá': 4892, 'yours': 4864, 'taariq': 4181, 'howdy': 2114, 'fav': 1582, 'labs': 2428, 'election': 1394, 'visualization': 4637, 'pr': 3275, 'smartest': 3884, 'imho': 2165, 'developers': 1195, 'matter': 2689, 'banged': 451, 'juicepack': 2359, 'tradeshow': 4414, 'catching': 735, '12b': 16, 'jr': 2354, 'growing': 1918, 'walked': 4660, 'questioner': 3399, 'fan': 1560, 'caused': 739, 'giggle': 1831, 'audience': 386, 'laugh': 2451, 'ways': 4692, 'overview': 3066, 'cheese': 796, 'maggie': 2625, 'mae': 2621, 'concertgoers': 925, 'launches': 2455, 'mashable': 2679, 'excellent': 1495, 'untapped': 4540, 'pour': 3266, 'accessibility': 142, 'dont': 1297, 'apples': 319, 'woke': 4782, 'sandwiched': 3651, 'between': 527, 'forgot': 1703, 'spring': 3982, 'break': 614, 'poor': 3242, 'coincides': 875, 'fri': 1727, 'afternoon': 197, 'begin': 497, 'weeping': 4710, 'ipad1': 2284, 'wipes': 4764, 'donates': 1292, 'mrs': 2838, 'slice': 3866, 'deal': 1122, 'interrupt': 2260, 'regularly': 3495, 'scheduled': 3682, 'programming': 3327, 'sounds': 3946, 'bruises': 643, 'panelists': 3093, 'regarded': 3487, 'sustainability': 4127, 'space': 3951, 'corporate': 991, 'reporting': 3529, 'transparency': 4422, 'band': 447, 'epicurious': 1450, 'wired': 4765, 'moma': 2798, 'vinh': 4624, 'path': 3124, 'visit': 4632, 'partnerhub': 3111, 'group': 1911, 'groups': 1916, 'pre': 3277, 'celebrating': 744, 'style': 4081, 'hobo': 2070, 'shotgun': 3804, 'evernote': 1479, 'taccsxsw': 4187, 'recipient': 3465, 'forget': 1702, 'snap': 3901, 'air': 219, 'samsung': 3647, 'meetup': 2712, 'browserwars': 641, 'samsungmobileus': 3648, 'sprint': 3984, 'galaxy': 1777, 'era': 1452, 'logos': 2554, 'sync': 4174, 'popped': 3245, 'huge': 2125, 'dreams': 1326, 'averages': 410, '______': 124, 'tweetcaster': 4476, 'zip': 4882, 'let': 2485, 'hide': 2045, 'keywords': 2383, 'hashtag': 1990, 'crapped': 1022, 'charge': 774, 'options': 3020, 'knockout': 2413, 'metaphor': 2732, 'behave': 501, 'often': 2986, 'forgotten': 1704, 'attending': 378, 'month': 2812, 'discovr': 1245, 'midem': 2743, 'climbing': 844, 'charts': 784, 'desktop': 1183, 'publishing': 3361, 'sites': 3847, 'danfung': 1100, 'dennis': 1170, 'demoing': 1165, 'immersive': 2166, 'rig': 3581, 'ppl': 3274, 'insane': 2226, 'attractive': 382, 'impressive': 2180, 'permanent': 3150, 'california': 688, 'cult': 1067, 'followings': 1685, 'winsåêsxsw': 4762, 'heck': 2027, 'mozilla': 2834, 'switch': 4141, 'crapkit': 1021, 'webkit': 4701, 'gecko': 1796, 'stupid': 4080, 'bandwaggoners': 449, 'luck': 2596, 'localmind': 2544, 'cont': 955, 'waze': 4693, 'duking': 1349, 'personalized': 3155, 'mapping': 2655, 'friendly': 1733, 'crashing': 1028, 'followers': 1683, 'provide': 3348, 'chargers': 777, 'changed': 767, 'mind': 2756, 'mophie': 2817, 'highly': 2050, 'recommend': 3468, 'goodcustomerservice': 1869, 'arg': 338, 'load': 2537, 'feelin': 1597, 'monday': 2804, 'adfonic': 175, 'ðü': 4898, 'overheating': 3059, 'sounding': 3945, 'woohoo': 4793, 'yourself': 4865, 'scavenger': 3676, 'hunts': 2130, 'crew': 1045, 'ripped': 3589, 'having': 1999, 'droid': 1334, 'horrible': 2102, 'repressed': 3531, 'memories': 2719, 'spinning': 3971, 'beach': 483, 'ball': 444, 'progressbar': 3328, 'outdid': 3048, 'myself': 2862, 'happen': 1977, 'finished': 1641, 'photobooth': 3165, 'heart': 2019, 'larry': 2440, 'elevation': 1399, 'biz': 542, '900': 113, '32': 61, 'gb': 1794, 'willpay': 4749, 'zaarly': 4870, 'phew': 3161, 'beginning': 498, 'panic': 3096, 'exhibitors': 1507, 'effing': 1388, 'hubby': 2124, 'point': 3232, 'him': 2055, 'wife': 4740, 'number': 2956, 'challenged': 762, 'tdg': 4220, 'demonstrates': 1167, 'pause': 3128, 'pick': 3171, 'spot': 3978, 'ireport': 2299, 'worked': 4802, 'hawk': 2001, 'officially': 2983, 'grill': 1908, 'zazzlsxsw': 4877, 'ûªll': 4903, 'ntn': 2953, 'level': 2490, 'field': 1618, 'software': 3918, 'totally': 4396, 'servers': 3748, 'vs': 4648, 'psych': 3355, 'trending': 4432, 'latina': 2447, 'porn': 3253, 'latism': 2449, 'sxswlatam': 4161, 'latinasintech': 2448, 'gawking': 1792, 'yea': 4846, 'isn': 2306, 'juiced': 2358, 'sonos': 3935, 'effective': 1386, 'enviro': 1445, 'bin': 536, '3gs': 68, 'greatergood': 1903, 'et': 1463, 'respectfully': 3542, 'disagree': 1236, 'problem': 3317, 'ubiquitous': 4498, 'seems': 3721, 'project314': 3331, 'executed': 1504, 'closer': 849, 'becoming': 491, 'owner': 3070, 'stoked': 4036, 'finals': 1634, 'discusses': 1247, 'answer': 283, 'ratings': 3438, 'recommendations': 3470, 'kek': 2377, 'massive': 2683, 'agree': 208, 'perhaps': 3148, 'adopter': 182, 'prepared': 3287, 'career': 720, 'cannot': 707, 'concert': 924, 'silly': 3831, 'story': 4048, 'thousands': 4323, 'demonstrate': 1166, 'mar': 2658, 'surrounded': 4121, 'boxes': 599, 'regretting': 3493, 'especially': 1458, 'woops': 4795, 'worry': 4810, 'geogames': 1820, 'develop': 1192, 'couple': 1006, 'letting': 2488, 'giveaway': 1840, 'recap': 3460, 'ranking': 3431, 'expensive': 1517, 'flavor': 1657, 'abroad': 133, 'snakeheead': 3900, 'tee': 4241, 'omfg': 2995, 'nobody': 2926, 'raises': 3422, 'packed': 3077, 'socialviewing': 3912, 'gives': 1842, 'alternate': 247, 'avoid': 411, 'collectively': 881, 'deliciously': 1152, 'ironic': 2301, 'banking': 453, 'cartel': 726, 'military': 2750, 'scientific': 3691, 'dictatorship': 1207, 'takeover': 4194, 'rant': 3433, 'mypov': 2861, 'winner': 4757, 'chevy': 798, 'cruze': 1062, 'losers': 2573, 'investors': 2275, 'propping': 3340, 'frothy': 1741, 'startups': 4012, 'enterprise': 1438, 'ing': 2216, 'integrated': 2245, 'rating': 3437, 'recommendation': 3469, 'system': 4179, 'across': 154, 'weeks': 4709, 'obvious': 2972, 'cough': 1001, 'seem': 3718, 'range': 3428, '2012': 40, 'shat': 3777, 'boy': 600, 'knickers': 2411, 'within': 4772, 'glenda': 1847, 'watson': 4689, 'cerebral': 755, 'palsy': 3090, 'communicate': 900, 'stickers': 4031, 'coupons': 1007, 'dodo': 1278, 'journal': 2349, 'momento': 2800, '59p': 88, '99å': 121, 'suspense': 4126, 'omgz': 2997, 'golds': 1865, 'described': 1175, 'couch': 999, 'mashbash': 2680, 'statement': 4013, 'dammit': 1093, 'plied': 3220, 'stogies': 4035, 'weasel': 4696, 'qs': 3390, 'process': 3318, 'poo': 3239, 'poos': 3243, 'ideas': 2144, 'gamestorming': 1784, '50': 84, '60': 92, 'wise': 4768, 'comfortable': 893, 'sixth': 3850, 'st': 3991, 'spread': 3981, 'quotable': 3412, 'board': 568, 'depressed': 1174, 'omg': 2996, 'agenda': 203, 'reminding': 3519, 'facts': 1549, 'belong': 508, 'launching': 2456, 'everybody': 1481, 'composed': 918, 'acerbic': 149, 'cynical': 1086, 'dumped': 1350, 'twitterpower': 4488, 'imthatgood': 2189, 'vb': 4593, 'korean': 2419, '130': 19, '000': 0, 'movie': 2831, 'entirely': 1441, 'fyi': 1766, 'socialmedia': 3909, 'tore': 4391, 'beat': 485, 'sq': 3986, 'ft': 1747, 'brazil': 612, 'orkut': 3035, 'wonder': 4788, 'snagged': 3899, 'somewhere': 3932, 'campus': 702, 'phenomenal': 3160, 'champ': 763, 'conv': 968, 'fam': 1557, 'stole': 4037, 'interact': 2252, 'panels': 3094, 'speaking': 3958, '6th': 99, 'technews': 4235, 'tech_news': 4230, 'unloaded': 4529, 'vip': 4625, 'nerdheaven': 2886, 'each': 1360, 'ducks': 1346, 'kudos': 2422, 'tx': 4490, 'knackered': 2409, 'timeline': 4349, 'smashed': 3887, 'partytweets': 3115, 'bed': 492, 'pictures': 3177, 'seta': 3756, 'size': 3851, 'rate': 3435, 'although': 249, 'torturous': 4393, 'congratulations': 936, 'award': 413, 'sense': 3737, 'delicious': 1151, '4g': 80, 'struggle': 4067, 'report': 3528, '5th': 91, 'avenue': 408, '200': 37, 'sitting': 3848, 'fondling': 1686, 'disturbing': 1262, 'rumors': 3629, 'signs': 3829, 'rallying': 3423, 'quake': 3391, 'discover': 1242, 'along': 243, 'stumbling': 4077, 'stay': 4018, 'contact': 956, 'application': 321, 'wondering': 4790, 'queue': 3401, 'centre': 750, 'xd': 4835, 'figuring': 1622, 'wot': 4815, 'premature': 3281, 'floating': 1664, 'bt': 645, 'arduino': 333, 'flaming': 1653, 'skulls': 3858, '30pm': 60, 'smartthings': 3886, 'possibility': 3259, 'anybody': 293, 'goog': 1872, 'foot': 1692, 'newest': 2901, 'leading': 2464, 'getjarsxsw': 1823, 'badgeless': 436, 'drinks': 1328, 'lining': 2519, 'promises': 3334, 'attracting': 381, 'swarms': 4132, 'intimate': 2262, 'designflaws': 1179, 'technical': 4236, 'solutions': 3923, 'human': 2126, 'solution': 3922, 'bought': 591, 'nokiaconnects': 2929, 'sadly': 3638, 'tweethouse': 4479, 'www': 4832, 'rana': 3425, 'dotco': 1303, 'megastore': 2715, 'model': 2794, 'exhibit': 1506, 'hall': 1961, 'percent': 3144, 'schwag': 3689, 'organizing': 3033, 'webdoc': 4700, 'exploiting': 1527, '14': 20, 'return': 3560, 'policy': 3236, 'imacs': 2162, 'trends': 4433, 'angry': 274, 'birds': 540, 'ahhh': 213, 'darn': 1106, 'according': 147, 'confirmed': 931, 'enable': 1410, 'woman': 4785, 'fessing': 1607, 'issues': 2308, 'admitting': 180, 'cnt': 863, 'ignite': 2152, 'ogilvy': 2987, 'idiocy': 2146, 'ogilvynotes': 2988, 'television': 4246, 'expierence': 1524, 'enter': 1436, 'pressure': 3298, 'ahem': 211, 'excuse': 1503, 'mounts': 2828, 'hisxsw': 2063, 'douche': 1307, 'cake': 685, 'tries': 4436, 'eat': 1373, 'itself': 2313, 'ads': 186, 'revenue': 3565, 'stock': 4034, 'presenting': 3294, 'tough': 4401, 'dwindling': 1355, 'jeebus': 2330, 'correcting': 995, 'curse': 1073, 'words': 4800, 'revealed': 3563, 'smartphone': 3885, 'rules': 3626, '96': 116, 'eyeballed': 1537, 'ip4': 2282, 'enjoying': 1431, 'changes': 769, 'sleeves': 3865, 'task': 4209, 'usa': 4563, 'shortcuts': 3800, 'newspaper': 2905, 'lightbox': 2502, 'dies': 1214, 'quicker': 3405, 'mean': 2699, 'companies': 905, 'seemed': 3719, 'offering': 2978, 'fabulous': 1541, 'objective': 2964, 'critiques': 1049, 'insightful': 2234, 'bynd': 681, '70': 100, 'buyers': 675, 'alarms': 232, 'botch': 586, 'timechange': 4348, 'ers': 1455, 'freak': 1721, 'bloody': 559, 'marys': 2677, 'rebranded': 3459, 'inner': 2220, 'abuzz': 137, 'googlecircles': 1876, 'reid': 3497, 'cites': 825, 'realtime': 3453, 'near': 2876, 'barton': 462, 'creek': 1043, 'mackbook': 2615, 'peaked': 3135, 'yeay': 4850, 'masha': 2678, 'dr_black': 1318, 'jerranalley': 2334, 'tbalinas': 4216, 'giddy': 1829, 'announce': 276, 'withme': 4773, 'rji': 3594, 'inventing': 2270, 'dislike': 1251, 'button': 671, 'farm': 1569, 'ios': 2280, 'dominance': 1288, 'compels': 909, 'frickin': 1728, 'tonchidot': 4374, 'boom': 575, 'heat': 2020, 'tracker': 4408, 'overlay': 3061, 'everything': 1484, 'fire': 1642, 'playbook': 3209, 'liking': 2511, 'favorite': 1584, 'greatest': 1904, 'collection': 879, 'egomaniacs': 1391, 'history': 2062, 'utter': 4579, 'letter': 2487, 'wrap': 4822, 'pdanet': 3132, 'accessory': 144, 'rockstache': 3607, 'techsmith': 4240, 'istache': 2309, 'dissapointment': 1260, 'offers': 2979, '2yrs': 54, 'ins': 2225, 'outs': 3052, 'study': 4073, 'mktg': 2781, 'vote': 4646, 'providing': 3350, 'indigenous': 2204, 'tribes': 4434, 'statuses': 4017, 'forests': 1700, 'saveustechies': 3661, 'dwindled': 1354, 'borrowing': 584, 'chk': 807, 'schedules': 3683, 'networks': 2897, 'ridiculously': 3580, 'slow': 3873, 'gathering': 1790, 'everbody': 1478, 'revolutions': 3570, 'mint': 2765, 'confines': 930, 'coding': 871, 'luxury': 2603, 'diff': 1215, 'versions': 4605, 'sxswmobileapps': 4162, 'volume': 4642, 'overwhelming': 3067, 'self': 3729, 'police': 3235, 'curatedebate': 1071, 'artistic': 353, 'dig': 1218, '1986': 30, 'sitby': 3845, 'include': 2195, 'film': 1625, 'restaurants': 3548, 'recos': 3475, 'um': 4503, 'yelp': 4852, 'covered': 1012, 'positive': 3257, 'actions': 157, 'earthhour': 1367, 'mobs': 2789, 'hive': 2065, 'dokobots': 1284, 'fans': 1565, '3rd': 69, 'go2': 1853, 'san': 3649, 'antonio': 289, 'environment': 1446, 'rww': 3634, 'f6bcet': 1539, 'goody': 1871, 'overload': 3062, 'source': 3947, 'walk': 4659, 'settle': 3759, 'argument': 340, 'parentheses': 3103, 'wordnerd': 4798, 'quarter': 3396, 'touchingstories': 4400, 'tbwasxsw': 4217, 'ice': 2139, 'cream': 1034, 'sandwich': 3650, 'gsd': 1923, 'edible': 1381, 'wrapper': 4823, 'welivehere': 4714, 'pot': 3263, 'acquired': 153, '30a': 57, 'min': 2755, 'ûïview': 4912, 'tip': 4355, 'plus': 3226, 'text': 4271, 'pocket': 3229, 'machine': 2613, 'noes': 2927, 'rejection': 3500, 'cute': 1080, 'girls': 1837, 'ends': 1420, 'helped': 2032, 'disabilities': 1235, 'former': 1707, 'chief': 802, 'talent': 4198, 'officer': 2981, 'gap': 1785, 'advisory': 191, 'innotribe': 2221, 'tent': 4259, 'powerhouse': 3269, 'consumerization': 954, 'empowered': 1409, '82': 106, 'choose': 810, 'consumerist': 953, 'tournament': 4403, 'bracket': 603, 'pitted': 3188, 'against': 199, 'round': 3613, 'shoot': 3795, 'display': 1255, 'questions': 3400, 'later': 2445, 'osmpw': 3038, 'crasher': 1026, 'cluster': 853, 'amazon': 255, 'casually': 733, 'mentioned': 2722, 'forecast': 1699, 'dow': 1310, 'mood': 2814, 'analysis': 266, 'smvis': 3898, 'imrich': 2188, 'noticed': 2943, 'dst': 1343, 'sunday': 4104, 'beluga': 509, 'coordinate': 981, 'sxsw4japan': 4152, 'relief': 3510, 'refresh': 3485, 'four': 1713, 'africans': 195, 'capped': 712, '35': 63, 'nine': 2922, 'breakthrough': 619, 'squeal': 3988, 'ketchsx': 2380, 'tnw': 4365, 'greeted': 1906, 'lindsay': 2515, 'stillman': 4033, 'sign': 3825, 'urthots': 4561, 'promo': 3335, 'oil': 2990, 'monopoly': 2810, 'wary': 4679, 'lovin': 2591, 'familiarize': 1558, 'playsxsw': 3216, 'quibids': 3402, 'custom': 1076, 'wearing': 4695, 'openbeta': 3009, 'badge': 435, 'timing': 4352, 'hp': 2115, 'proud': 3347, 'omitting': 2998, 'though': 4319, 'h264': 1944, 'xmas': 4837, 'garyvee': 1787, 'competitor': 912, 'creeper': 1044, 'disappointed': 1237, 'channels': 772, 'uncategorized': 4512, 'sis': 3842, 'julie': 2361, 'death': 1126, 'rockaroke': 3602, 'hole': 2073, 'religion': 3512, 'hire': 2059, 'qualified': 3392, 'talented': 4199, 'women': 4786, 'consciously': 944, 'achieve': 150, 'venturebeat': 4599, 'impulse': 2186, 'backupify': 433, 'announces': 278, 'cloudsight': 852, 'searchable': 3704, 'archive': 332, 'usefulness': 4569, 'information': 2214, 'vmware': 4639, 'rockin': 3604, 'signing': 3828, 'professionals': 3323, 'wesley83': 4718, 'hate': 1994, 'suns': 4108, 'convore': 976, 'charles': 782, 'chen': 797, 'chromeos': 817, 'access': 141, '1pm': 34, 'pen': 3140, 'ink': 2219, 'miamibeach': 2734, 'jqtouch': 2353, 'theme': 4289, 'pages': 3083, 'geekery': 1802, 'strangeproblems': 4050, 'rows': 3618, 'embarrassed': 1403, 'minute': 2766, 'mccannsxsw': 2696, 'hundreds': 2127, 'dollars': 1286, 'attend': 375, 'spending': 3966, 'sans': 3653, 'cheers': 795, 'techrockstar': 4239, 'priority': 3310, 'macbookpro': 2611, 'talked': 4202, 'lets': 2486, 'fight': 1620, 'pauly': 3127, 'celebs': 745, 'vid': 4614, 'marty': 2676, 'unboxing': 4511, 'fear': 1587, 'bandwidth': 450, 'issue': 2307, 'dawdled': 1113, 'wjchat': 4775, 'ipoo': 2296, '4chan': 79, 'bathroom': 471, 'wall': 4664, 'sxswmoot': 4163, 'woah': 4780, 'error': 1454, 'messages': 2726, 'deck': 1136, 'rest': 3546, 'upside': 4558, 'whrrl': 4734, 'marketplace': 2672, 'repair': 3522, 'damage': 1091, 'microformats': 2738, 'nuts': 2958, 'cutsies': 1082, 'shortly': 3802, 'record': 3473, 'southby': 3949, 'expecting': 1516, 'fully': 1756, 'shamed': 3770, 'hooray': 2090, 'geekspringbreak': 1808, 'packing': 3078, 'voicefeed': 4641, 'mine': 2761, 'toooo': 4384, 'roof': 3610, 'obviously': 2973, 'shell': 3781, '1500': 23, 'dan': 1096, 'neumann': 2898, 'announced': 277, 'organic': 3029, 'facing': 1546, 'broadfeed': 635, 'zaggle': 4873, 'zms': 4884, 'consultation': 949, 'emc': 1404, 'consulting': 950, 'socialmuse': 3911, 'lookalike': 2562, 'appcircus': 309, 'khoi': 2385, 'economy': 1379, 'crushit': 1061, 'tye': 4491, 'damn': 1094, 'select': 3726, 'streams': 4057, 'lunch': 2600, 'dirty': 1233, 'martinis': 2675, 'mondays': 2805, 'counting': 1005, 'canadian': 705, 'dollar': 1285, 'gear': 1795, '64gig': 95, 'manage': 2644, 'ahh': 212, 'wonderful': 4789, 'ordering': 3026, 'urs': 4560, 'studies': 4071, 'players': 3212, 'petting': 3159, 'murphy': 2845, 'inside': 2230, 'announcing': 279, 'v5': 4586, 'units': 4526, 'googletv': 1882, 'connected': 939, 'connectedtv': 941, 'fascinating': 1573, 'grrrr': 1921, 'muting': 2856, 'spin': 3970, 'videos': 4618, 'whatcha': 4723, 'spend': 3965, 'sorry': 3939, 'forever': 1701, 'approved': 328, 'stereo': 4028, 'mp': 2835, 'i41h53': 2136, 'wishing': 4770, 'alas': 233, 'completely': 916, 'overtaken': 3065, 'stunt': 4079, 'response': 3544, 'draws': 1324, 'crowds': 1056, 'replacement': 3523, 'charm': 783, 'ûªs': 4905, 'fantastic': 1566, 'pandora': 3091, 'youtube': 4866, 'stumbledupon': 4076, 'eric': 1453, 'savvy': 3664, 'earned': 1363, 'discuss': 1246, 'seated': 3709, 'turkey': 4465, 'bowl': 596, 'armadillo': 343, 'kill': 2394, 'sxxpress': 4171, 'passes': 3118, 'sea': 3702, 'silver': 3832, 'dream': 1325, '188': 29, 'parts': 3113, 'suicidal': 4098, 'chinese': 806, 'meetings': 2710, 'mirroring': 2769, 'hdmi': 2006, 'cable': 684, 'gents': 1818, 'observer': 2968, 'double': 1304, 'subscriptions': 4084, 'att': 372, 'slowpoke': 3876, 'sxswmusic': 4164, 'printed': 3308, 'signed': 3827, 'dance': 1097, 'lifetime': 2500, 'evil': 1488, 'slower': 3874, 'leisurely': 2480, 'taken': 4193, 'storm': 4047, 'happening': 1979, 'crisis': 1048, 'japanese': 2323, 'earthquake': 1368, 'tsunami': 4455, 'toolongforme': 4382, 'money': 2807, 'cheaper': 787, 'tips': 4356, 'downloading': 1314, 'startup': 4010, 'heads': 2013, 'imac': 2161, 'staring': 4003, 'resetting': 3536, 'https': 2123, 'id': 2142, 'borderstylo': 581, 'nokia': 2928, 'pushsnowboarding': 3377, 'brains': 606, 'zombies': 4885, 'contentrules': 958, 'creating': 1037, 'dynamic': 1357, 'opposite': 3017, 'sides': 3821, 'killcommunity': 2395, 'combine': 885, 'program': 3326, 'certificate': 757, 'nonprofit': 2931, 'nonprofits': 2932, 'ipad2time': 2287, 'wooooo': 4794, 'midnight': 2744, 'hang': 1973, '30p': 59, 'saturday': 3656, 'fellow': 1603, 'andro': 271, 'bereft': 513, 'wanderer': 4668, 'limp': 2514, 'lifeless': 2498, 'poetry': 3231, 'panhandling': 3095, 'trouble': 4442, 'synching': 4176, 'okay': 2992, 'kthxbai': 2421, 'mania': 2648, 'buttons': 672, 'filters': 1629, 'asleep': 362, 'eyes': 1538, '58': 87, '967': 117, 'visits': 4635, 'ranked': 3430, 'maes': 2622, 'changer': 768, 'affirmative': 193, 'puppy': 3366, 'anywhere': 300, 'fawning': 1585, 'attention': 379, 'orly': 3037, 'value': 4590, 'baby': 427, 'shill': 3784, 'underestimate': 4516, 'appeal': 310, 'fools': 1691, 'once': 3000, 'laurieshook': 2457, 'smcdallas': 3888, 'wed': 4706, 'hoping': 2098, 'resulting': 3554, 'shameless': 3771, 'promotion': 3337, 'chevysmc': 799, 'geniuses': 1817, 'standing': 3999, 'profile': 3324, 'personal': 3154, 'digg': 1219, 'hireme': 2060, 'advertising': 189, 'vestibule': 4607, '64g': 93, 'replenished': 3525, 'supply': 4111, 'stars': 4005, 'moody': 2815, 'directors': 1232, 'fine': 1638, 'joke': 2344, 'sent': 3738, 'seesmic': 3725, 'shut': 3819, 'sabotaged': 3636, 'wtf': 4830, 'ecosystem': 1380, 'form': 1705, 'incapable': 2192, 'disruptive': 1258, 'innovation': 2224, '89': 107, 'herself': 2039, 'zazzle': 4875, 'grille': 1909, 'surface': 4117, 'complex': 917, 'intricate': 2265, 'underneath': 4517, 'honor': 2084, 'landlords': 2435, 'leasing': 2470, 'agents': 204, 'utilize': 4578, 'shops': 3798, 'aim': 217, 'socially': 3908, 'promote': 3336, 'communal': 899, 'googledoodles': 1879, 'papa': 3099, 'sangre': 3652, 'skiers': 3854, 'worthwhile': 4814, 'improvements': 2184, 'geeking': 1805, 'missing': 2772, 'rite': 3593, 'passage': 3116, 'view512': 4621, 'sick': 3820, 'forbidden': 1697, 'spoiled': 3972, 'rocking': 3605, 'mega': 2714, 'tether': 4268, 'chargin2diffphonesatonce': 779, 'dorkinout': 1302, 'mentionn': 2723, 'ships': 3789, 'integration': 2246, 'ncaa': 2875, 'mmod': 2783, 'flawless': 1658, 'livesteam': 2533, 'atrix': 371, 'mute': 2855, 'tweetie': 4480, 'leopard': 2482, 'pariah': 3105, 'body': 570, 'health2dev': 2015, 'homepage': 2082, 'keyboard': 2381, 'stylish': 4082, 'loathe': 2540, 'coolest': 979, 'etch': 1465, 'sketch': 3852, 'g03mzb': 1768, 'liveblog': 2531, 'wordpress': 4799, 'kingston': 2403, 'cheer': 794, 'settling': 3760, 'battledecks': 475, 'ungrateful': 4523, 'bc': 480, 'betterthingstodo': 526, 'raffled': 3416, 'smileyparty': 3890, 'inbox': 2191, 'yesterday': 4856, 'fwd': 1764, 'mk': 2779, 'npr': 2950, 'songs': 3934, 'flypost': 1673, 'bulletin': 657, 'learn': 2467, 'delivery': 1158, 'deviantart': 1197, 'buys': 677, 'tests': 4267, 'muro': 2844, 'drawing': 1323, 'htt': 2121, 'shitty': 3793, '10x': 11, 'crowded': 1055, 'fake': 1555, 'dongle': 1295, 'downside': 1316, 'mocked': 2791, 'extra': 1534, 'cords': 988, 'mapped': 2653, 'aus': 390, 'detail': 1187, 'temptation': 4254, 'nfl': 2912, 'lockout': 2549, 'shinmy': 3786, '40min': 73, 'idk': 2147, 'masses': 2682, 'stopped': 4041, 'tron': 4440, 'legacy': 2476, 'audio': 387, 'extras': 1536, '100s': 5, 'emails': 1402, 'replies': 3527, 'protip': 3345, 'approves': 329, 'irelay': 2298, '2nite': 52, 'b4': 425, 'geeksrule': 1809, 'starts': 4009, 'captured': 714, 'lessons': 2484, 'sheen': 3779, 'score': 3693, 'matt': 2688, 'fricking': 1729, 'damon': 1095, 'frustrated': 1744, 'runaround': 3632, 'leaving': 2474, 'geekdate': 1799, 'register': 3489, 'liberty': 2493, 'sxswpass': 4166, 'impactdashboard': 2171, 'demoed': 1164, 'become': 490, 'incredible': 2201, 'mbp': 2695, 'transparently': 4423, 'selection': 3728, 'obv': 2971, 'hype': 2135, 'test': 4264, 'vector': 4596, 'panning': 3097, 'gasps': 1789, 'appreciation': 325, 'behaving': 502, '80': 103, 'alone': 242, 'pair': 3086, 'general': 1812, 'sigh': 3822, 'pubcamp': 3358, 'kirkus': 2405, 'qrank': 3388, 'prizes': 3314, 'sxsh': 4148, 'sxswh': 4158, 'hcsm': 2005, 'slp': 3877, 'viagra': 4610, 'communications': 902, 'ûª': 4902, 'expansion': 1512, 'outlook': 3051, 'skill': 3855, 'havent': 1998, 'nerdy': 2890, 'berklee': 515, 'topspin': 4390, 'switches': 4142, 'bag': 438, 'traveling': 4427, 'lug': 2599, 'impedimenta': 2172, 'exposing': 1531, 'horrendous': 2101, 'died': 1211, 'learned': 2468, 'mapquest': 2656, 'piece': 3179, 'itwillbemine': 2316, 'bnet': 567, 'acceptable': 140, 'sun': 4103, 'warmth': 4677, 'topics': 4387, '16162': 27, 'cross': 1050, 'cards': 718, 'exchange': 1498, 'serious': 3742, 'cntr': 864, 'fashion': 1575, 'guru': 1938, 'express': 1532, 'scepticism': 3679, 'aristotle': 341, 'taught': 4212, 'nxt': 2960, 'executing': 1505, 'loaded': 2538, 'sxsw11': 4150, 'cleveland': 839, 'hopkins': 2099, 'puts': 3379, 'staying': 4019, 'charged': 775, 'crappy': 1023, 'handle': 1967, 'crazyfest': 1033, 'balance': 442, 'quick': 3404, 'airplane': 222, 'bankinnovation': 454, 'saying': 3667, 'loud': 2579, 'starting': 4008, 'transfer': 4420, 'fetishism': 1613, 'slowly': 3875, 'surely': 4116, 'haz': 2004, 'table': 4183, 'telegraph': 4244, 'conflagration': 932, 'doofusness': 1300, 'area': 335, 'jet': 2336, 'feed': 1594, 'transient': 4421, 'bursts': 663, '8pm': 110, 'widfy': 4738, 'myspace': 2863, 'wireless': 4766, 'essential': 1459, 'king': 2402, 'sister': 3843, 'tonigh': 4375, 'bands': 448, 'nifty': 2918, 'fact': 1547, 'flew': 1659, 'antique': 288, 'everytime': 1485, 'throw': 4330, 'tchin': 4219, 'spazmatics': 3955, 'a3xvwc6': 128, 'thumbs': 4334, 'popplet': 3247, 'minor': 2764, 'revolt': 3568, 'ie9': 2150, 'frustration': 1746, 'glued': 1850, 'named': 2868, 'ten': 4257, 'heavier': 2026, 'pun': 3365, 'intended': 2249, 'backpack': 431, 'mommy': 2802, 'lord': 2569, 'vortex': 4645, 'smugness': 3896, 'unbearable': 4509, 'auntie': 389, 'voxpop': 4647, 'certain': 756, 'peter': 3156, 'improvement': 2183, 'unless': 4528, 'burn': 662, 'land': 2434, 'bus': 664, 'grabbed': 1892, 'seat': 3708, 'resourceful': 3540, 'hashable': 1989, 'nearly': 2877, 'anyones': 296, 'somebody': 3927, 'consistently': 947, 'goddamn': 1855, 'bernd': 516, 'florian': 1668, 'guguchu': 1932, 'terminal': 4261, 'niceness': 2916, 'define': 1140, 'thereby': 4297, 'defining': 1141, 'values': 4591, 'sampler': 3646, 'wonders': 4791, 'theindustryparty': 4285, 'swsurrogates': 4145, 'notpouting': 2945, 'infektd': 2208, 'wider': 4737, 'detect': 1190, 'hipstamatic': 2056, 'weve': 4719, 'heyo': 2041, 'mission': 2773, 'haiti': 1958, '22': 42, 'flying': 1672, 'shelves': 3782, 'hipster': 2057, 'feeding': 1595, 'frenzy': 1725, 'claims': 828, 'ratio': 3439, 'loved': 2584, 'honesty': 2083, 'hls': 2066, 'insertion': 2229, '64mb': 96, 'props': 3342, 'mobileroadie': 2788, 'airline': 220, 'delightful': 1155, 'drumroll': 1341, 'surui': 4122, 'carbon': 716, 'spoken': 3974, 'danny': 1104, 'sullivan': 4099, 'larger': 2439, 'recommended': 3471, 'papasangre': 3100, 'brought': 638, 'slips': 3872, 'jammy': 2320, 'bugger': 650, 'planner': 3201, 'eventprofs': 1474, 'pcma': 3131, 'engage365': 1422, 'bashing': 464, 'consistent': 946, 'takin': 4196, 'mic': 2735, 'brother': 637, 'came': 697, 'randomly': 3427, 'tool': 4380, 'measuring': 2703, 'displaying': 1256, 'cry': 1063, 'kickass': 2387, 'peek': 3138, 'slated': 3861, 'face': 1542, 'sxwsi': 4170, 'ustream': 4576, 'skyfire': 3859, 'browser': 640, 'safari': 3639, 'ken': 2378, 'calhoun': 687, 'bringing': 630, 'included': 2196, 'creatively': 1039, 'socialmediabum': 3910, 'tumblr': 4460, 'surpassed': 4118, 'mentionr': 2724, 'count': 1004, 'reasonable': 3455, 'pack': 3076, 'bahahahaha': 440, 'hurricaneparty': 2131, 'gvlrin': 1942, 'diabetes': 1206, 'plate': 3206, 'send': 3735, 'videogame': 4616, 'cloud': 851, 'adoption': 184, 'influence': 2210, 'åçwhat': 4895, 'theatre': 4281, 'presenters': 3293, 'nexus': 2910, 'afraid': 194, 'swonderlin': 4143, 'newly': 2902, 'unique': 4525, 'season': 3707, 'guild': 1934, 'hijack': 2051, 'frozen': 1742, 'tmobile': 4362, 'teathering': 4227, 'g2': 1769, 'sweeeeet': 4134, 'tastes': 4210, 'tattooed': 4211, 'logo': 2553, 'hoot': 2091, 'hootsuite': 2093, 'shoulda': 3806, 'ingenious': 2217, 'w00t': 4651, 'wrote': 4828, 'produced': 3319, 'mad': 2617, 'periscope': 3149, 'simultaneously': 3835, 'mmm': 2782, 'teamandroid': 4224, 'breakdown': 615, '98': 119, '03': 2, '02': 1, 'symbian': 4172, 'depeche': 1173, 'ftw': 1748, 'groupon': 1915, 'bday': 481, 'pressie': 3297, 'fit': 1647, 'wkd': 4777, 'dfp': 1203, 'insight': 2233, 'managing': 2646, 'campaigns': 700, 'measurement': 2702, 'dm': 1270, 'beautifully': 487, 'cried': 1046, 'frid': 1730, 'cwebb': 1085, 'grant': 1895, 'hill': 2053, 'skills': 3856, 'fest': 1608, 'festgoers': 1609, 'unexpected': 4522, 'geekout': 1806, 'traveller': 4428, 'rpg': 3619, 'radical': 3414, 'arcade': 331, 'wilderness': 4745, 'known': 2417, 'jeans': 2329, 'configuration': 929, 'slides': 3869, 'designers': 1178, 'lobby': 2541, '2am': 47, 'september': 3740, 'tidbit': 4340, 'designed': 1177, 'awesomeness': 420, 'hacker': 1951, 'debuts': 1130, 'steampunk': 4023, '37': 65, 'reclaimed': 3466, 'copper': 983, 'piping': 3183, 'mini': 2762, 'maglight': 2627, 'crash': 1024, '10mins': 10, 'extended': 1533, 'browsing': 642, 'fuckit': 1751, 'illmakeitwork': 2158, 'hop': 2094, 'wil': 4743, 'replicate': 3526, 'press': 3296, 'basket': 468, 'markets': 2673, 'comers': 890, 'adventure': 188, 'ripping': 3590, 'joomla': 2346, 'wannabe': 4670, 'chunky': 819, 'elements': 1397, 'generous': 1815, 'clarity': 829, 'trumps': 4446, 'density': 1172, 'tap': 4206, 'quantity': 3394, 'amused': 263, 'notch': 2938, '1of': 33, 'dfcbto': 1202, 'accommodate': 146, 'fundraising': 1759, 'kiosk': 2404, 'kidding': 2391, 'swoon': 4144, 'nerdcore': 2885, 'earbuds': 1361, 'symbol': 4173, 'proof': 3339, 'toy': 4406, 'guykawasaki': 1940, 'newtrent': 2907, 'imp1000': 2169, 'unpaid': 4535, 'reproducing': 3532, 'digitally': 1222, 'organically': 3030, 'consume': 951, 'goggles': 1860, 'marissameyer': 2667, 'yellow': 4851, 'practice': 3276, 'sending': 3736, 'lorry': 2571, 'riots': 3588, 'ensue': 1435, 'lousy': 2582, 'seemingly': 3720, 'relive': 3514, 'neither': 2882, 'nor': 2935, 'finder': 1636, 'english': 1427, 'cooler': 978, 'lame': 2433, 'chatting': 785, 'trust': 4447, 'cautiously': 740, 'optimistic': 3018, 'holytrafficjams': 2079, 'kenny': 2379, 'enjoys': 1432, 'spanking': 3952, 'meant': 2701, 'dyac': 1356, 'das': 1108, 'verpixelungsrecht': 4603, 'ûóthe': 4918, 'pixelated': 3191, 'theft': 4283, 'impulsive': 2187, 'gen': 1811, '32gb': 62, 'boss': 585, 'absolutely': 135, 'schtuff': 3688, 'iqlab': 2297, 'debuting': 1129, 'waterproof': 4688, 'cigarettes': 821, 'scarborough': 3672, 'corner': 990, 'blacked': 546, 'born': 583, 'suffering': 4094, 'finalists': 1632, 'antwoord': 290, 'umshini': 4506, 'wam': 4667, 'korine': 2420, 'park': 3106, 'fishing': 1645, 'special': 3960, 'btw': 646, 'benefit': 511, 'mocking': 2792, 'overshadowing': 3063, 'arrives': 347, '157': 25, '400': 72, 'shuffling': 3818, 'happily': 1981, 'drowning': 1339, 'macs': 2616, 'monster': 2811, 'books': 574, 'mullenweg': 2842, 'hah': 1955, '2moro': 50, 'busdev': 665, 'wr': 4821, 'discussion': 1248, 'iads': 2137, 'crazyco': 1032, 'lewis': 2492, 'reasoning': 3456, 'evidence': 1487, 'bawling': 477, 'wkend': 4778, 'mass': 2681, 'influx': 2211, 'ridculous': 3576, 'tested': 4265, '41': 74, 'colors': 882, 'difference': 1216, 'scale': 3670, 'nuances': 2954, 'sorted': 3942, 'alternative': 248, 'impossible': 2177, 'succumb': 4088, 'upgrading': 4553, 'ip': 2281, 'vegas': 4598, 'projecting': 3332, 'csr': 1064, 'janecek': 2321, 'drives': 1332, 'decision': 1135, 'edition': 1382, 'tells': 4248, 'smaller': 3881, 'overlapping': 3060, 'article': 350, 'linking': 2521, 'train': 4417, 'ctia': 1066, 'googleio': 1880, 'skip': 3857, 'mindshare': 2760, 'rim': 3584, 'foodspotting': 1690, 'mnbuzz': 2784, 'premiere': 3282, 'screams': 3697, 'eating': 1375, 'coolhaus': 980, 'hmmm': 2069, 'result': 3553, 'hook': 2087, 'singing': 3838, 'dancing': 1098, 'fives': 1649, 'tunage': 4461, 'sxswgood': 4157, 'myegc': 2859, 'eff': 1385, 'reliving': 3515, 'ûïfoursquare': 4909, 'ummmm': 4505, 'djroe': 1267, 'brainwashed': 607, 'striking': 4063, 'iron': 2300, 'biomimicry': 538, 'solving': 3925, 'studying': 4074, 'flocking': 1665, 'swarming': 4131, 'behavior': 503, 'understand': 4518, 'collab': 878, '95': 115, 'downloads': 1315, 'francisco': 1717, 'international': 2258, 'sfo': 3764, 'tweets': 4483, 'plunge': 3225, 'parents': 3104, 'anymore': 294, 'comment': 896, 'child': 803, 'connectedbrands': 940, 'winamp': 4753, 'direct': 1228, 'sliced': 3867, 'bread': 613, 'revolutionary': 3569, 'ass': 363, 'unbelievable': 4510, 'dog': 1281, 'cart': 725, 'flood': 1666, 'cut': 1079, 'weight': 4711, 'cocaine': 866, 'facetime': 1545, 'mel': 2716, 'gibson': 1828, 'gigs': 1832, 'iusxsw': 2317, 'treatment': 4429, 'techie': 4233, 'moderator': 2796, 'europe': 1468, '3000': 56, 'roaming': 3598, 'charges': 778, '2010': 38, 'ûïline': 4910, 'mill': 2751, 'cameras': 699, 'slightly': 3870, 'thinner': 4311, 'rare': 3434, 'earths': 1369, 'smudgy': 3895, 'edtech': 1383, 'whoa': 4730, 'ie': 2149, 'livetapp': 2534, 'raffling': 3417, 'entered': 1437, 'rewards': 3572, 'owners': 3071, 'looked': 2563, 'lighters': 2504, 'homeless': 2081, 'lisa': 2523, 'cohen': 873, 'comcom': 887, 'shooting': 3796, 'aiding': 216, 'shite': 3792, 'sponso': 3975, 'vectors': 4597, 'dimensional': 1225, 'juts': 2366, 'war': 4675, 'heats': 2023, 'society': 3913, 'tempted': 4255, 'severely': 3763, 'autistic': 400, 'mastered': 2684, 'puzzles': 3381, 'decent': 1131, 'prepping': 3289, 'dehumanizing': 1145, 'nightjar': 2920, 'anticipate': 286, 'toting': 4397, 'blocking': 552, 'beauty': 488, 'msft': 2839, '25th': 46, 'doubt': 1306, 'iphone4': 2292, 'preferences': 3279, 'seenocreepy': 3723, 'synced': 4175, 'joy': 2352, 'geekest': 1803, 'hidden': 2044, 'copia': 982, 'cocoon': 867, 'messenger': 2729, 'redbox': 3479, 'gilt': 1833, 'graphic': 1898, 'sesh': 3752, 'stage': 3995, 'frostwire': 1740, 'wi': 4736, 'fi': 1617, 'anxious': 291, 'convenient': 969, 'taxi': 4215, 'magic': 2626, 'appear': 312, 'outbrain': 3047, 'ceo': 752, 'journey': 2351, 'blinksale': 549, 'iconbuffet': 2141, 'packrat': 3079, 'lightbulb': 2503, 'remaining': 3516, 'following': 1684, 'qa': 3383, 'webmasters': 4702, 'decide': 1132, 'employee': 1407, 'psyches': 3356, 'moments': 2801, 'restored': 3552, 'unleash': 4527, 'thingsthatdontgotogether': 4306, 'rinna': 3587, 'teleporting': 4245, 'capabilities': 710, 'firstworldproblems': 1644, 'valid': 4587, 'tho': 4316, 'flask': 1656, '9th': 122, 'aicn': 215, 'screening': 3699, 'iloveasurprise': 2159, 'searches': 3705, 'tweetdeck': 4477, 'bright': 624, 'cnngrill': 860, 'sweepstakes': 4135, 'bro': 633, 'posed': 3255, 'asking': 361, 'unstable': 4539, 'nten': 2952, '11ntc': 13, 'red': 3478, '_______': 125, 'answered': 284, 'docs': 1274, 'looseorganizations': 2568, 'turning': 4468, 'gadgetzilla': 1774, 'scared': 3673, 'netbook': 2892, 'disrupt': 1257, 'thick': 4301, 'rimmed': 3585, 'glasses': 1846, 'comments': 897, 'killers': 2397, 'greet': 1905, 'sweater': 4133, 'drafthouse': 1319, 'ûªt': 4906, 'hack': 1949, 'rails': 3419, 'deliver': 1156, 'dawn': 1115, 'prep': 3284, 'gmail': 1851, 'gamechanger': 1780, 'wave': 4690, 'unveiled': 4543, 'partial': 3108, 'deciding': 1134, 'venue': 4600, 'sweets': 4137, 'vids': 4619, 'swift': 4138, 'upbeat': 4547, 'appolicious': 323, 'clear': 837, 'points': 3234, 'throughout': 4329, 'alert': 234, 'needle': 2880, 'haystack': 2003, 'cr': 1017, '48': 77, 'due': 1348, 'showcase': 3812, 'ther': 4294, 'chain': 759, 'walmart': 4666, 'behance': 500, 'isack': 2304, 'soo': 3937, 'desperately': 1185, 'drooling': 1335, 'chill': 805, 'jk': 2337, 'sxsw2011': 4151, 'atåê': 385, 'rhizome': 3575, 'sxswk': 4160, 'hollywood': 2077, 'silicon': 3830, 'valley': 4588, 'meets': 2711, 'nyc': 2961, 'pool': 3240, 'cowboy': 1014, 'boots': 578, 'vibe': 4611, 'opinions': 3015, 'listen': 2525, 'annoying': 281, 'apac': 303, 'regions': 3488, 'dealing': 1123, 'trauma': 4424, 'permanently': 3151, 'convience': 973, 'appleatxdt': 318, 'dieing': 1213, 'hunger': 2128, 'monitor': 2809, 'illegal': 2157, 'deforestation': 1143, 'tech4good': 4229, 'intrestin': 2264, 'knife': 2412, 'accessories': 143, 'walkin': 4661, 'navigating': 2872, 'yelping': 4853, 'welcome': 4713, 'mr': 2837, 'heavenly': 2024, 'aka': 227, 'michael': 2736, 'cera': 754, 'bat': 470, 'rigeur': 3582, 'previews': 3302, 'thier': 4302, 'black': 544, 'fastcompanygrill': 1577, 'stacks': 3993, 'hassle': 1993, 'handled': 1968, 'perfectly': 3146, 'cited': 824, 'crowdsourcing': 1057, 'proprietary': 3341, 'csuitecsourcing': 1065, 'existent': 1510, 'owllove': 3068, 'lbs': 2463, 'commandeered': 895, 'relinquish': 3513, 'convinced': 975, 'failed': 1552, 'willpower': 4750, 'corralling': 993, 'cattle': 737, 'pickmeupanipad2': 3174, 'tube': 4458, 'socks': 3914, 'smtravel': 3894, 'hasn': 1992, 'socnet': 3915, 'selfish': 3730, 'served': 3746, 'snapping': 3902, 'sundayswagger': 4105, 'eventbrite': 1473, 'scoremore': 3694, 'sporting': 3977, 'install': 2237, 'average': 409, 'sees': 3724, 'donline': 1296, 'dk': 1268, '2honor': 49, 'suffered': 4093, 'maudies': 2690, 'tacos': 4188, 'ajs2011': 226, 'nerdsunite': 2889, 'ipadmadness': 2289, 'speed': 3962, 'purchasing': 3371, 'famous': 1559, 'artworks': 355, 'pixels': 3192, 'allowing': 240, 'zoom': 4888, 'cnnmoney': 861, 'computing': 921, 'passì': 3120, 'wssxsw': 4829, 'ihop': 2155, 'implementation': 2173, 'pac': 3074, 'logic': 2550, 'recreated': 3477, 'approval': 327, 'disrupts': 1259, 'continuous': 964, 'flow': 1669, 'preferred': 3280, 'tune': 4462, 'groupchatapps': 1912, 'rewardswagon': 3573, 'bookbook': 573, 'thirsty': 4313, 'crave': 1029, 'insidious': 2232, 'approaches': 326, 'disgraceful': 1249, 'libraries': 2494, 'target': 4208, 'absolute': 134, 'gaga': 1775, 'preparing': 3288, 'trackpads': 4409, 'positives': 3258, 'natural': 2871, 'sit': 3844, 'relaxed': 3503, 'bettersearch': 525, 'structured': 4066, 'potentially': 3265, 'higher': 2047, 'margin': 2662, 'cpa': 1016, 'nope': 2934, 'applications': 322, 'ray': 3440, 'syncs': 4177, 'additional': 174, 'awkward': 422, 'invisible': 2276, 'instruments': 2244, 'jaw': 2326, 'wii': 4742, 'controller': 967, 'lovemusicapi': 2587, 'picking': 3173, 'agency': 202, 'bluezoom': 564, 'spark': 3953, 'selected': 3727, 'finalist': 1631, 'followed': 1682, 'closely': 848, 'margarita': 2661, 'morphie': 2821, 'referrals': 3483, '12th': 17, 'zaarlyiscoming': 4871, '150m': 24, 'agnerd': 206, 'dairy': 1089, 'relies': 3511, 'agchat': 200, 'alan': 230, 'turing': 4464, 'robot': 3599, 'amigos': 259, 'broadcastr': 634, 'bestappever': 518, 'wknd': 4779, 'mantra': 2650, 'pride': 3305, 'guilty': 1935, '7th': 102, 'deadly': 1121, 'sin': 3836, 'superbia': 4110, 'unlockable': 4531, 'deals': 1124, 'googleblog': 1874, 'headline': 2012, 'salesperson': 3643, 'darryl': 1107, 'millions': 2754, 'incenticize': 2193, 'teams': 4226, 'evolvingworkplace': 1490, 'topicality': 4386, 'reputation': 3534, 'writing': 4826, 'ex': 1491, 'stealing': 4022, 'mkt': 2780, 'tmr': 4363, 'final': 1630, 'preparations': 3286, 'underway': 4519, 'considering': 945, 'solo': 3921, 'introduces': 2268, 'fair': 1554, 'virtualwallet': 4630, 'nfc': 2911, 'iphone5': 2293, 'standardization': 3998, 'confusion': 933, 'interfaces': 2257, 'schemas': 3685, 'discovered': 1243, 'icebreaker': 2140, 'demand': 1161, 'summer': 4101, 'coverage': 1011, 'engines': 1426, 'savebrands': 3658, 'addicted': 169, 'fanboy': 1561, 'intense': 2250, 'gettinng': 1826, 'raised': 3421, 'secret': 3714, 'betainvites': 522, '1m': 32, 'ea1zgd': 1359, 'hosting': 2104, 'cmty': 857, 'mngr': 2785, 'etsy': 1467, '8p': 109, 'magazine': 2623, 'articles': 351, 'glimpse': 1848, 'rule': 3625, 'ooing': 3006, 'ahing': 214, 'skynet': 3860, 'sharers': 3774, 'invite': 2277, 'aos': 301, 'ginger': 1834, 'alerts': 235, 'detailed': 1188, 'colour': 883, 'coded': 869, 'proving': 3351, 'organized': 3032, 'jose': 2347, 'bff': 529, 'wilting': 4751, 'stress': 4061, 'merchant': 2725, 'ûïspecials': 4911, 'flashspecial': 1655, 'pdx': 3134, 'epicenter': 1449, 'madness': 2620, 'mock': 2790, 'remembered': 3518, 'horror': 2103, 'movies': 2832, 'gswsxsw': 1925, 'fragmentation': 1716, 'stats': 4016, 'compatible': 908, 'stood': 4039, 'fuckyeah': 1752, 'intel': 2247, 'thegogame': 4284, 'turns': 4469, 'douchebag': 1308, 'goodness': 1870, 'eventseekr': 1476, 'bunch': 661, 'grown': 1919, 'men': 2720, 'hooting': 2092, 'slick': 3868, 'conveniently': 970, 'rf': 3574, 'rank': 3429, 'al': 229, 'franken': 1720, 'justin': 2364, 'timberlake': 4346, 'midday': 2741, 'mid': 2740, 'blocked': 551, 'immobile': 2167, 'serves': 3749, 'taunt': 4213, 'occasional': 2974, 'couchfan': 1000, 'lovesit': 2590, 'thewildernessdowntown': 4299, 'thomas': 4317, 'gayno': 1793, 'choreography': 812, 'stroke': 4064, 'techies': 4234, 'save': 3657, 'harnessing': 1986, 'collective': 880, 'nick': 2917, 'netflixiphone': 2894, 'googlebread': 1875, 'esp': 1457, 'footage': 1693, 'attended': 376, 'simply': 3834, '100tc': 6, 'felt': 1605, 'threat': 4324, 'observations': 2967, 'vast': 4592, 'majority': 2633, 'appletakingoverworld': 320, 'srsly': 3990, 'appealing': 311, 'somehow': 3928, 'adapt': 166, 'overcome': 3056, 'door': 1301, 'goona': 1883, 'screenings': 3700, 'private': 3312, 'pix': 3189, 'unpack': 4534, 'priorities': 3309, 'ran': 3424, 'shallow': 3768, 'engaging': 1424, 'petricone': 3158, 'easeljs': 1370, 'brah': 604, 'lovers': 2588, 'tiff': 4341, 'disappointingly': 1238, 'hhrs': 2042, 'volunteers': 4644, '45am': 76, 'l8er': 2425, 'scenes': 3678, 'arriving': 348, 'cnnmoneysxsw': 862, 'antigov': 287, 'lobbying': 2542, 'initiative': 2218, 'invoking': 2279, 'puregenius': 3373, 'butt': 670, 'bummed': 658, 'quarantined': 3395, 'kiddie': 2390, 'cold': 876, 'garageband': 1786, 'comfort': 892, 'multiple': 2843, 'monetization': 2806, 'cheapen': 786, 'activations': 158, 'accesssxsw': 145, 'gah': 1776, 'torture': 4392, 'addictedtotheinterwebs': 170, 'trenches': 4430, 'painful': 3085, 'sleek': 3862, 'sat': 3655, 'row': 3617, 'coders': 870, 'cupcake': 1070, 'awesometiming': 421, 'craving': 1030, 'minds': 2759, 'created': 1036, 'admits': 179, 'entertaining': 1439, 'designingforkids': 1181, 'relationship': 3502, 'sapient': 3654, 'asddieu': 358, 'preparation': 3285, 'pumped': 3364, 'networking': 2896, 'theplatform': 4293, 'premium': 3283, 'atl': 369, 'buffalo': 648, 'tempting': 4256, 'nhk': 2913, 'relic': 3509, 'evening': 1471, 'karateka': 2371, 'castle': 732, 'wolfenstein': 4783, 'choplifter': 811, 'classics': 832, 'oldsko0l': 2994, 'wanting': 4673, 'unconfirmed': 4514, '8am': 108, 'bummer': 659, 'crackberry': 1019, '6hours': 98, 'lowest': 2593, 'brightness': 626, 'basics': 466, 'veterans': 4608, 'reasons': 3457, 'shouldn': 3808, 'cost': 997, 'shiner': 3785, 'chaos': 773, 'hunt': 2129, 'java': 2324, 'spy': 3985, 'shouts': 3810, 'ladies': 2430, 'sipping': 3841, 'continuum': 965, 'attitudes': 380, 'redbull': 3480, 'bpm': 602, 'powering': 3270, 'dtas': 1345, 'republic': 3533, 'passport': 3119, 'lady': 2431, 'bird': 539, 'lake': 2432, 'trusted': 4448, 'lax': 2461, 'freespeech': 1724, 'museum': 2846, 'naive': 2866, 'scouts': 3695, 'planting': 3204, 'themselves': 4291, 'atms': 370, 'ca': 682, 'thinmints': 4310, 'worse': 4811, 'walks': 4663, 'adpeopleproblems': 185, 'wew': 4720, 'q7a': 3382, 'zagg': 4872, 'hopes': 2097, 'sneaky': 3904, 'usual': 4577, 'crossing': 1052, 'perserverance': 3152, 'husband': 2133, 'lap': 2436, 'tenets': 4258, 'slim': 3871, 'instant': 2241, 'ness': 2891, 'photoes': 3166, 'sxswchi': 4156, 'ups': 4556, 'date': 1111, 'fed': 1593, 'angrybirds': 275, 'julian': 2360, 'screamed': 3696, 'fly': 1671, 'zone': 4887, 'pigfucker': 3181, 'divasanddorks': 1264, 'invades': 2269, 'saysshewithoutanipad': 3669, 'implementing': 2174, 'brightens': 625, 'logical': 2551, 'progression': 3329, 'fiendishly': 1619, 'austincrowd': 392, 'installs': 2240, 'visitors': 4634, 'recorder': 3474, 'congratulation': 935, 'crowdbeacon': 1054, 'hannukah': 1976, 'miracle': 2768, 'uncharged': 4513, '55': 86, 'smackdown': 3878, 'banality': 446, 'fonts': 1687, 'fxsw': 1765, 'donate': 1291, 'victims': 4613, 'scarfing': 3674, 'amusing': 264, 'starbu': 4001, 'cks': 827, 'acrosse': 155, 'theirs': 4287, 'overheard': 3058, 'mdw': 2697, 'halfway': 1960, 'boarded': 569, 'amateurhour': 252, 'curiosity': 1072, 'serendipity': 3741, 'bugs': 652, 'fantastico': 1567, 'relaxing': 3504, 'agreed': 209, 'calyp': 695, 'avail': 405, 'atzip': 384, 'cunning': 1069, 'purchases': 3370, 'regrets': 3492, 'hawt': 2002, 'honors': 2085, 'delete': 1149, 'tramplings': 4419, 'letushopenot': 2489, 'poppop': 3248, 'googled': 1877, 'ended': 1417, 'wrong': 4827, 'direction': 1229, 'upset': 4557, 'hm': 2067, 'ces': 758, 'warmer': 4676, 'resting': 3550, 'desktops': 1184, 'chances': 765, 'fastcompanygrille': 1578, 'makery': 2635, 'radio': 3415, 'station': 4014, 'ubuntu': 4500, 'writer': 4825, 'plancast': 3196, 'exported': 1530, 'diego': 1212, 'pacific': 3075, 'shift': 3783, 'central': 749, 'tme': 4361, 'wack': 4653, 'compan': 904, 'bastards': 469, 'la': 2426, 'brick': 622, 'grouped': 1913, 'aber': 130, 'leider': 2478, 'nur': 2957, 'fì_r': 1767, 'james': 2319, 'franco': 1718, 'feels': 1600, 'expert': 1522, 'stretches': 4062, 'ze': 4878, 'frank': 1719, 'childhood': 804, 'enables': 1411, 'stunning': 4078, 'revelations': 3564, 'dark': 1105, 'wth': 4831, 'imo': 2168, 'talib': 4200, 'kweli': 2423, 'gogo': 1861, 'takeaway': 4192, 'grumbling': 1922, 'ben': 510, 'benieuwd': 512, 'presented': 3292, 'positioning': 3256, 'apple_store': 316, 'igottagetit': 2154, 'marcelosomers': 2659, 'workspace': 4806, 'virtualoffice': 4629, 'spider': 3968, 'bryce': 644, 'manor': 2649, '99': 120, 'cents': 751, 'hurt': 2132, 'monger': 2808, 'å_': 4893, 'socbiz': 3906, 'disliking': 1252, 'shortening': 3801, 'magnifying': 2630, 'techenvy': 4231, 'moves': 2830, 'stays': 4020, 'hacknews': 1953, 'bart': 461, 'retweeting': 3562, 'unloading': 4530, 'dis': 1234, 'insatiable': 2228, 'suppose': 4113, 'helping': 2034, 'á¾_î¾ð': 4891, '__': 123, '_ô': 127, 'èï': 4897, '_ã': 126, 'öý': 4899, 'çü': 4896, '¼¼': 4890, 'documents': 1276, 'paul': 3126, 'adams': 165, 'disneyland': 1254, 'happiest': 1980, 'responses': 3545, 'fh': 1616, 'ponies': 3238, 'breeds': 620, 'midst': 2745, 'saber': 3635, 'barroom': 457, 'brawls': 611, 'fists': 1646, 'winners': 4758, 'enlightening': 1433, 'freaking': 1722, '23': 43, 'manhandling': 2647, 'unoffic': 4532, '2day': 48, '4android': 78, 'bb': 478, 'cell': 746, 'lifelinetotheworld': 2499, 'mindjet': 2757, 'mindmanager': 2758, 'temperature': 4250, 'globalbestaward': 1849, 'christian': 814, 'wk': 4776, 'heating': 2021, 'titles': 4358, 'happened': 1978, 'obsolete': 2970, 'inferior': 2209, 'geekfest': 1804, 'brian_lam': 621, 'teeth': 4243, 'hit': 2064, 'ittttt': 2314, 'bomb': 571, 'ado': 181, 'adopters': 183, 'quit': 3409, 'resume': 3556, 'tethering': 4269, 'openexhibits': 3012, 'thunder': 4335, 'cm48': 855, 'ecodriving': 1378, 'habits': 1948, 'ûï35': 4908, 'assisted': 364, 'suggestion': 4096, 'dock': 1273, 'motorola': 2827, 'jeanne': 2328, 'retweet': 3561, 'standard': 3997, 'wings': 4756, 'creativity': 1040, 'prompt': 3338, 'virtually': 4628, 'courtesy': 1009, 'dynamics': 1358, 'synergy': 4178, 'poole': 3241, 'recommends': 3472, 'shared': 3773, 'competitors': 913, 'eurosxsw': 1469, 'corrupted': 996, 'hotels': 2107, 'bergstrom': 514, 'member': 2717, 'carrying': 724, 'bags': 439, 'wolfram': 4784, 'helpful': 2033, 'grand': 1894, 'wars': 4678, 'machines': 2614, 'electronics': 1395, 'sd': 3701, 'storage': 4043, 'frabjous': 1715, 'callooh': 693, 'callay': 690, 'baaah': 426, 'ûólewis': 4917, 'carroll': 722, 'x6t1pi6av7': 4833, 'malady': 2639, 'elbow': 1393, 'login': 2552, 'authorization': 399, 'booze': 580, 'frood': 1739, 'recipes': 3464, 'team_android': 4223, 'ringing': 3586, 'pissedimnotgoingtosxsw': 3185, 'rankings': 3432, 'advice': 190, 'indicates': 2203, 'widgets': 4739, 'klick': 2407, 'models': 2795, 'straps': 4053, 'tripping': 4439, 'comedy': 889, 'apartment': 304, 'wires': 4767, 'excitement': 1500, 'smm': 3891, 'zite': 4883, 'deliciousness': 1153, 'youneedthis': 4862, 'methinks': 2733, 'capitol': 711, 'fulltime': 1755, 'eh': 1392, 'nudgenudge': 2955, 'yobongo': 4858, '97': 118, 'suxsw': 4129, 'meetups': 2713, 'memolane': 2718, 'festivalexplorer': 1611, 'solves': 3924, 'musica': 2849, 'musiek': 2851, 'musique': 2853, 'musik': 2852, 'ù_¾': 4900, 'mifi': 2746, 'highlights': 2049, 'thus': 4337, 'istock': 2310, 'singularity': 3840, 'blows': 561, 'oy': 3073, 'fathom': 1580, 'fuel': 1753, 'sem': 3733, 'googlemaps': 1881, 'topnews': 4388, 'formation': 1706, 'rebeltv': 3458, 'intentionally': 2251, 'coincide': 874, 'crafty': 1020, 'geekdilemma': 1800, 'dom': 1287, 'jeff': 2332, 'orlando': 3036, 'disney': 1253, 'adding': 172, 'handy': 1972, 'context': 960, 'deeper': 1137, 'experiential': 1519, 'xm': 4836, 'pakistan': 3089, 'cwc2011': 1084, 'bother': 588, 'optiscan': 3021, 'respecting': 3543, 'shakespeare': 3766, 'pub': 3357, 'hangover': 1975, 'breakfast': 616, 'yummy': 4869, 'tunes': 4463, 'griffin': 1907, 'cordless': 987, 'provided': 3349, '4sq3': 82, 'etsbzk': 1466, 'keepaustinweird': 2374, 'survey': 4123, 'starbucks': 4002, 'gratification': 1900, 'planely': 3198, 'klm': 2408, 'feeling': 1598, 'generally': 1813, 'doubly': 1305, 'handicapped': 1965, 'amex': 258, 'partnership': 3112, 'till': 4344, 'auth': 398, 'computers': 920, 'bicycle': 530, 'cursing': 1074, 'losing': 2574, 'zzzs': 4889, 'yawn': 4844, 'question': 3398, 'trucks': 4443, 'tempt': 4253, 'austintx': 394, '59pm': 89, 'pst': 3354, 'nutters': 2959, 'ipading': 2288, 'techno': 4237, 'mecca': 2705, 'stranger': 4051, 'investor': 2274, 'routing': 3616, 'totalitarian': 4395, 'worldwide': 4809, 'tveverywhere': 4471, 'protect': 3343, 'smut': 3897, 'stolen': 4038, 'donating': 1293, 'remove': 3520, 'hashtags': 1991, 'bestie': 519, 'farooqui': 1572, 'grow': 1917, 'gamesfortv': 1783, 'tracks': 4410, 'artists': 354, 'awareness': 416, '17': 28, 'theem': 4282, 'spazmatic': 3954, 'hoooooooooooooo': 2089, 'shocked': 3794, 'dgtltribe': 1205, 'openbeta6': 3010, 'squeeze': 3989, 'drupalcon': 1342, 'lasts': 2442, 'tab': 4182, 'techgeek': 4232, 'bluetooth': 563}\n"
     ]
    }
   ],
   "source": [
    "print(vect.vocabulary_)"
   ]
  },
  {
   "cell_type": "markdown",
   "metadata": {
    "colab_type": "text",
    "id": "dwtgjTBeH0Ny"
   },
   "source": [
    "#### Tip: To see all available functions for an Object use dir"
   ]
  },
  {
   "cell_type": "code",
   "execution_count": 30,
   "metadata": {
    "colab": {},
    "colab_type": "code",
    "id": "2n_iCcTNH0N0"
   },
   "outputs": [
    {
     "data": {
      "text/plain": [
       "['__class__',\n",
       " '__delattr__',\n",
       " '__dict__',\n",
       " '__dir__',\n",
       " '__doc__',\n",
       " '__eq__',\n",
       " '__format__',\n",
       " '__ge__',\n",
       " '__getattribute__',\n",
       " '__getstate__',\n",
       " '__gt__',\n",
       " '__hash__',\n",
       " '__init__',\n",
       " '__init_subclass__',\n",
       " '__le__',\n",
       " '__lt__',\n",
       " '__module__',\n",
       " '__ne__',\n",
       " '__new__',\n",
       " '__reduce__',\n",
       " '__reduce_ex__',\n",
       " '__repr__',\n",
       " '__setattr__',\n",
       " '__setstate__',\n",
       " '__sizeof__',\n",
       " '__str__',\n",
       " '__subclasshook__',\n",
       " '__weakref__',\n",
       " '_char_ngrams',\n",
       " '_char_wb_ngrams',\n",
       " '_check_vocabulary',\n",
       " '_count_vocab',\n",
       " '_get_param_names',\n",
       " '_limit_features',\n",
       " '_sort_features',\n",
       " '_validate_vocabulary',\n",
       " '_white_spaces',\n",
       " '_word_ngrams',\n",
       " 'analyzer',\n",
       " 'binary',\n",
       " 'build_analyzer',\n",
       " 'build_preprocessor',\n",
       " 'build_tokenizer',\n",
       " 'decode',\n",
       " 'decode_error',\n",
       " 'dtype',\n",
       " 'encoding',\n",
       " 'fit',\n",
       " 'fit_transform',\n",
       " 'fixed_vocabulary_',\n",
       " 'get_feature_names',\n",
       " 'get_params',\n",
       " 'get_stop_words',\n",
       " 'input',\n",
       " 'inverse_transform',\n",
       " 'lowercase',\n",
       " 'max_df',\n",
       " 'max_features',\n",
       " 'min_df',\n",
       " 'ngram_range',\n",
       " 'preprocessor',\n",
       " 'set_params',\n",
       " 'stop_words',\n",
       " 'stop_words_',\n",
       " 'strip_accents',\n",
       " 'token_pattern',\n",
       " 'tokenizer',\n",
       " 'transform',\n",
       " 'vocabulary',\n",
       " 'vocabulary_']"
      ]
     },
     "execution_count": 30,
     "metadata": {},
     "output_type": "execute_result"
    }
   ],
   "source": [
    "dir(vect)"
   ]
  },
  {
   "cell_type": "markdown",
   "metadata": {
    "colab_type": "text",
    "id": "ShA6D8jKH0N5"
   },
   "source": [
    "### 6. Find out how many Positive and Negative emotions are there.\n",
    "\n",
    "Hint: Use value_counts on that column"
   ]
  },
  {
   "cell_type": "code",
   "execution_count": 31,
   "metadata": {
    "colab": {},
    "colab_type": "code",
    "id": "q7LAl5pzH0N6"
   },
   "outputs": [
    {
     "data": {
      "text/plain": [
       "Positive emotion    2672\n",
       "Negative emotion     519\n",
       "Name: is_there_an_emotion_directed_at_a_brand_or_product, dtype: int64"
      ]
     },
     "execution_count": 31,
     "metadata": {},
     "output_type": "execute_result"
    }
   ],
   "source": [
    "tweet_pos_neg['is_there_an_emotion_directed_at_a_brand_or_product'].value_counts()"
   ]
  },
  {
   "cell_type": "markdown",
   "metadata": {
    "colab_type": "text",
    "id": "IUvgj0FoH0N9"
   },
   "source": [
    "### 7. Change the labels for Positive and Negative emotions as 1 and 0 respectively and store in a different column in the same dataframe named 'Label'\n",
    "\n",
    "Hint: use map on that column and give labels"
   ]
  },
  {
   "cell_type": "code",
   "execution_count": 32,
   "metadata": {
    "colab": {},
    "colab_type": "code",
    "id": "YftKwFv7H0N9"
   },
   "outputs": [],
   "source": [
    "tweet_pos_neg['Label'] = tweet_pos_neg.is_there_an_emotion_directed_at_a_brand_or_product.map({\n",
    "    'Negative emotion': 0,\n",
    "    'Positive emotion': 1,\n",
    "})"
   ]
  },
  {
   "cell_type": "code",
   "execution_count": 33,
   "metadata": {},
   "outputs": [
    {
     "data": {
      "text/html": [
       "<div>\n",
       "<style scoped>\n",
       "    .dataframe tbody tr th:only-of-type {\n",
       "        vertical-align: middle;\n",
       "    }\n",
       "\n",
       "    .dataframe tbody tr th {\n",
       "        vertical-align: top;\n",
       "    }\n",
       "\n",
       "    .dataframe thead th {\n",
       "        text-align: right;\n",
       "    }\n",
       "</style>\n",
       "<table border=\"1\" class=\"dataframe\">\n",
       "  <thead>\n",
       "    <tr style=\"text-align: right;\">\n",
       "      <th></th>\n",
       "      <th>tweet_text</th>\n",
       "      <th>emotion_in_tweet_is_directed_at</th>\n",
       "      <th>is_there_an_emotion_directed_at_a_brand_or_product</th>\n",
       "      <th>text</th>\n",
       "      <th>Label</th>\n",
       "    </tr>\n",
       "  </thead>\n",
       "  <tbody>\n",
       "    <tr>\n",
       "      <th>0</th>\n",
       "      <td>.@wesley83 I have a 3G iPhone. After 3 hrs twe...</td>\n",
       "      <td>iPhone</td>\n",
       "      <td>Negative emotion</td>\n",
       "      <td></td>\n",
       "      <td>0</td>\n",
       "    </tr>\n",
       "    <tr>\n",
       "      <th>1</th>\n",
       "      <td>@jessedee Know about @fludapp ? Awesome iPad/i...</td>\n",
       "      <td>iPad or iPhone App</td>\n",
       "      <td>Positive emotion</td>\n",
       "      <td></td>\n",
       "      <td>1</td>\n",
       "    </tr>\n",
       "    <tr>\n",
       "      <th>2</th>\n",
       "      <td>@swonderlin Can not wait for #iPad 2 also. The...</td>\n",
       "      <td>iPad</td>\n",
       "      <td>Positive emotion</td>\n",
       "      <td></td>\n",
       "      <td>1</td>\n",
       "    </tr>\n",
       "    <tr>\n",
       "      <th>3</th>\n",
       "      <td>@sxsw I hope this year's festival isn't as cra...</td>\n",
       "      <td>iPad or iPhone App</td>\n",
       "      <td>Negative emotion</td>\n",
       "      <td></td>\n",
       "      <td>0</td>\n",
       "    </tr>\n",
       "    <tr>\n",
       "      <th>4</th>\n",
       "      <td>@sxtxstate great stuff on Fri #SXSW: Marissa M...</td>\n",
       "      <td>Google</td>\n",
       "      <td>Positive emotion</td>\n",
       "      <td></td>\n",
       "      <td>1</td>\n",
       "    </tr>\n",
       "  </tbody>\n",
       "</table>\n",
       "</div>"
      ],
      "text/plain": [
       "                                          tweet_text  \\\n",
       "0  .@wesley83 I have a 3G iPhone. After 3 hrs twe...   \n",
       "1  @jessedee Know about @fludapp ? Awesome iPad/i...   \n",
       "2  @swonderlin Can not wait for #iPad 2 also. The...   \n",
       "3  @sxsw I hope this year's festival isn't as cra...   \n",
       "4  @sxtxstate great stuff on Fri #SXSW: Marissa M...   \n",
       "\n",
       "  emotion_in_tweet_is_directed_at  \\\n",
       "0                          iPhone   \n",
       "1              iPad or iPhone App   \n",
       "2                            iPad   \n",
       "3              iPad or iPhone App   \n",
       "4                          Google   \n",
       "\n",
       "  is_there_an_emotion_directed_at_a_brand_or_product text  Label  \n",
       "0                                   Negative emotion           0  \n",
       "1                                   Positive emotion           1  \n",
       "2                                   Positive emotion           1  \n",
       "3                                   Negative emotion           0  \n",
       "4                                   Positive emotion           1  "
      ]
     },
     "execution_count": 33,
     "metadata": {},
     "output_type": "execute_result"
    }
   ],
   "source": [
    "tweet_pos_neg.head()"
   ]
  },
  {
   "cell_type": "markdown",
   "metadata": {
    "colab_type": "text",
    "id": "3YErwYLCH0N_"
   },
   "source": [
    "### 8. Define the feature set (independent variable or X) to be `text` column and `labels` as target (or dependent variable)  and divide into train and test datasets"
   ]
  },
  {
   "cell_type": "code",
   "execution_count": 34,
   "metadata": {
    "colab": {},
    "colab_type": "code",
    "id": "lNkwrGgEH0OA"
   },
   "outputs": [],
   "source": [
    "y = tweet_pos_neg.Label\n",
    "X = tweet_pos_neg.tweet_text\n",
    "\n",
    "X_train, X_test, y_train, y_test = train_test_split(X, y, random_state=1)"
   ]
  },
  {
   "cell_type": "markdown",
   "metadata": {
    "colab_type": "text",
    "id": "Q5nlCuaaH0OD"
   },
   "source": [
    "## 9. **Predicting the sentiment:**\n",
    "\n",
    "\n",
    "### Use Naive Bayes and Logistic Regression and their accuracy scores for predicting the sentiment of the given text"
   ]
  },
  {
   "cell_type": "code",
   "execution_count": 35,
   "metadata": {
    "colab": {},
    "colab_type": "code",
    "id": "clv2X0kKH0Ok"
   },
   "outputs": [],
   "source": [
    "def tokenize_test(vect):\n",
    "    vect.fit(X_train)\n",
    "    X_train_dtm = vect.transform(X_train)\n",
    "    print ('Features: ', X_train_dtm.shape[1])\n",
    "    X_test_dtm = vect.transform(X_test)\n",
    "    nb = MultinomialNB()\n",
    "    nb.fit(X_train_dtm, y_train)\n",
    "    y_pred_class = nb.predict(X_test_dtm)\n",
    "    print ('Naive Bayes - Accuracy: ', metrics.accuracy_score(y_test, y_pred_class)*100)"
   ]
  },
  {
   "cell_type": "code",
   "execution_count": 36,
   "metadata": {
    "colab": {},
    "colab_type": "code",
    "id": "K86LRMfdH0Ou"
   },
   "outputs": [
    {
     "name": "stdout",
     "output_type": "stream",
     "text": [
      "Features:  24855\n",
      "Naive Bayes - Accuracy:  85.58897243107769\n"
     ]
    }
   ],
   "source": [
    "vect = CountVectorizer(ngram_range=(1, 2))\n",
    "tokenize_test(vect)"
   ]
  },
  {
   "cell_type": "code",
   "execution_count": 37,
   "metadata": {
    "colab": {},
    "colab_type": "code",
    "id": "clv2X0kKH0Ok"
   },
   "outputs": [],
   "source": [
    "def tokenize_test(vect):\n",
    "    vect.fit(X_train)\n",
    "    X_train_dtm = vect.transform(X_train)\n",
    "    print ('Features: ', X_train_dtm.shape[1])\n",
    "    X_test_dtm = vect.transform(X_test)\n",
    "    nb = LogisticRegression()\n",
    "    nb.fit(X_train_dtm, y_train)\n",
    "    y_pred_class = nb.predict(X_test_dtm)\n",
    "    print ('Logistic - Accuracy: ', metrics.accuracy_score(y_test, y_pred_class)*100)"
   ]
  },
  {
   "cell_type": "code",
   "execution_count": 38,
   "metadata": {
    "colab": {},
    "colab_type": "code",
    "id": "K86LRMfdH0Ou"
   },
   "outputs": [
    {
     "name": "stdout",
     "output_type": "stream",
     "text": [
      "Features:  24855\n",
      "Logistic - Accuracy:  86.59147869674186\n"
     ]
    }
   ],
   "source": [
    "vect = CountVectorizer(ngram_range=(1, 2))\n",
    "tokenize_test(vect)"
   ]
  },
  {
   "cell_type": "markdown",
   "metadata": {
    "colab_type": "text",
    "id": "sw-0B33tH0Ox"
   },
   "source": [
    "## 10. Create a function called `tokenize_predict` which can take count vectorizer object as input and prints the accuracy for x (text) and y (labels)"
   ]
  },
  {
   "cell_type": "code",
   "execution_count": 39,
   "metadata": {
    "colab": {},
    "colab_type": "code",
    "id": "okCTOs1TH0Oy"
   },
   "outputs": [],
   "source": [
    "def tokenize_test(vect):\n",
    "    vect.fit(X_train)\n",
    "    X_train_dtm = vect.transform(X_train)\n",
    "    print ('Features: ', X_train_dtm.shape[1])\n",
    "    X_test_dtm = vect.transform(X_test)\n",
    "    nb = MultinomialNB()\n",
    "    nb.fit(X_train_dtm, y_train)\n",
    "    y_pred_class = nb.predict(X_test_dtm)\n",
    "    print ('Naive Bayes - Accuracy: ', metrics.accuracy_score(y_test, y_pred_class)*100)"
   ]
  },
  {
   "cell_type": "markdown",
   "metadata": {
    "colab_type": "text",
    "id": "JxZ8jfPEH0O0"
   },
   "source": [
    "### Create a count vectorizer function which includes n_grams = 1,2  and pass it to tokenize_predict function to print the accuracy score"
   ]
  },
  {
   "cell_type": "code",
   "execution_count": 40,
   "metadata": {
    "colab": {},
    "colab_type": "code",
    "id": "kdCyAN_IH0O0"
   },
   "outputs": [
    {
     "name": "stdout",
     "output_type": "stream",
     "text": [
      "Features:  24855\n",
      "Naive Bayes - Accuracy:  85.58897243107769\n"
     ]
    }
   ],
   "source": [
    "vect = CountVectorizer(ngram_range=(1, 2))\n",
    "tokenize_test(vect)"
   ]
  },
  {
   "cell_type": "markdown",
   "metadata": {
    "colab_type": "text",
    "id": "axepytmgH0O4"
   },
   "source": [
    "### Create a count vectorizer function with stopwords = 'english'  and pass it to tokenize_predict function to print the accuracy score"
   ]
  },
  {
   "cell_type": "code",
   "execution_count": 41,
   "metadata": {
    "colab": {},
    "colab_type": "code",
    "id": "HToGkq7vH0O4"
   },
   "outputs": [
    {
     "name": "stdout",
     "output_type": "stream",
     "text": [
      "Features:  4681\n",
      "Naive Bayes - Accuracy:  85.33834586466166\n"
     ]
    }
   ],
   "source": [
    "vect = CountVectorizer(stop_words='english')\n",
    "tokenize_test(vect)"
   ]
  },
  {
   "cell_type": "markdown",
   "metadata": {
    "colab_type": "text",
    "id": "iOIlJRxoH0O7"
   },
   "source": [
    "### Create a count vectorizer function with stopwords = 'english' and max_features =300  and pass it to tokenize_predict function to print the accuracy score"
   ]
  },
  {
   "cell_type": "code",
   "execution_count": 42,
   "metadata": {
    "colab": {},
    "colab_type": "code",
    "id": "6fUhff-oH0O8"
   },
   "outputs": [
    {
     "name": "stdout",
     "output_type": "stream",
     "text": [
      "Features:  300\n",
      "Naive Bayes - Accuracy:  81.07769423558896\n"
     ]
    }
   ],
   "source": [
    "vect = CountVectorizer(stop_words='english',max_features=300)\n",
    "tokenize_test(vect)"
   ]
  },
  {
   "cell_type": "markdown",
   "metadata": {
    "colab_type": "text",
    "id": "S2KZNWVkH0PA"
   },
   "source": [
    "### Create a count vectorizer function with n_grams = 1,2  and max_features = 15000  and pass it to tokenize_predict function to print the accuracy score"
   ]
  },
  {
   "cell_type": "code",
   "execution_count": 43,
   "metadata": {
    "colab": {},
    "colab_type": "code",
    "id": "3v9XD082H0PB"
   },
   "outputs": [
    {
     "name": "stdout",
     "output_type": "stream",
     "text": [
      "Features:  15000\n",
      "Naive Bayes - Accuracy:  85.33834586466166\n"
     ]
    }
   ],
   "source": [
    "vect = CountVectorizer(ngram_range=(1, 2),max_features=15000)\n",
    "tokenize_test(vect)"
   ]
  },
  {
   "cell_type": "markdown",
   "metadata": {
    "colab_type": "text",
    "id": "We3JK_SRH0PO"
   },
   "source": [
    "### Create a count vectorizer function with n_grams = 1,2  and include terms that appear at least 2 times (min_df = 2)  and pass it to tokenize_predict function to print the accuracy score"
   ]
  },
  {
   "cell_type": "code",
   "execution_count": 44,
   "metadata": {
    "colab": {},
    "colab_type": "code",
    "id": "fUHrfDCyH0PP"
   },
   "outputs": [
    {
     "name": "stdout",
     "output_type": "stream",
     "text": [
      "Features:  7764\n",
      "Naive Bayes - Accuracy:  85.83959899749374\n"
     ]
    }
   ],
   "source": [
    "vect = CountVectorizer(ngram_range=(1, 2), min_df = 2)\n",
    "tokenize_test(vect)"
   ]
  }
 ],
 "metadata": {
  "kernelspec": {
   "display_name": "Python 3",
   "language": "python",
   "name": "python3"
  },
  "language_info": {
   "codemirror_mode": {
    "name": "ipython",
    "version": 3
   },
   "file_extension": ".py",
   "mimetype": "text/x-python",
   "name": "python",
   "nbconvert_exporter": "python",
   "pygments_lexer": "ipython3",
   "version": "3.6.5"
  }
 },
 "nbformat": 4,
 "nbformat_minor": 2
}
