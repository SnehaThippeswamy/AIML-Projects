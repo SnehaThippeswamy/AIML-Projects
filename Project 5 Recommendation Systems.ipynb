{
 "cells": [
  {
   "cell_type": "markdown",
   "metadata": {},
   "source": [
    "## 1. Read and explore the dataset. (Rename column, plot histograms, find data characteristics)"
   ]
  },
  {
   "cell_type": "code",
   "execution_count": 1,
   "metadata": {},
   "outputs": [],
   "source": [
    "import warnings\n",
    "warnings.filterwarnings('ignore')\n",
    "\n",
    "import pandas as pd\n",
    "import numpy as np\n",
    "import matplotlib.pyplot as plt\n",
    "%matplotlib inline\n",
    "\n",
    "from surprise.model_selection import train_test_split"
   ]
  },
  {
   "cell_type": "code",
   "execution_count": 2,
   "metadata": {
    "scrolled": true
   },
   "outputs": [
    {
     "data": {
      "text/html": [
       "<div>\n",
       "<style scoped>\n",
       "    .dataframe tbody tr th:only-of-type {\n",
       "        vertical-align: middle;\n",
       "    }\n",
       "\n",
       "    .dataframe tbody tr th {\n",
       "        vertical-align: top;\n",
       "    }\n",
       "\n",
       "    .dataframe thead th {\n",
       "        text-align: right;\n",
       "    }\n",
       "</style>\n",
       "<table border=\"1\" class=\"dataframe\">\n",
       "  <thead>\n",
       "    <tr style=\"text-align: right;\">\n",
       "      <th></th>\n",
       "      <th>userId</th>\n",
       "      <th>productId</th>\n",
       "      <th>ratings</th>\n",
       "      <th>timestamp</th>\n",
       "    </tr>\n",
       "  </thead>\n",
       "  <tbody>\n",
       "    <tr>\n",
       "      <th>0</th>\n",
       "      <td>AKM1MP6P0OYPR</td>\n",
       "      <td>0132793040</td>\n",
       "      <td>5.0</td>\n",
       "      <td>1365811200</td>\n",
       "    </tr>\n",
       "    <tr>\n",
       "      <th>1</th>\n",
       "      <td>A2CX7LUOHB2NDG</td>\n",
       "      <td>0321732944</td>\n",
       "      <td>5.0</td>\n",
       "      <td>1341100800</td>\n",
       "    </tr>\n",
       "    <tr>\n",
       "      <th>2</th>\n",
       "      <td>A2NWSAGRHCP8N5</td>\n",
       "      <td>0439886341</td>\n",
       "      <td>1.0</td>\n",
       "      <td>1367193600</td>\n",
       "    </tr>\n",
       "    <tr>\n",
       "      <th>3</th>\n",
       "      <td>A2WNBOD3WNDNKT</td>\n",
       "      <td>0439886341</td>\n",
       "      <td>3.0</td>\n",
       "      <td>1374451200</td>\n",
       "    </tr>\n",
       "    <tr>\n",
       "      <th>4</th>\n",
       "      <td>A1GI0U4ZRJA8WN</td>\n",
       "      <td>0439886341</td>\n",
       "      <td>1.0</td>\n",
       "      <td>1334707200</td>\n",
       "    </tr>\n",
       "  </tbody>\n",
       "</table>\n",
       "</div>"
      ],
      "text/plain": [
       "           userId   productId  ratings   timestamp\n",
       "0   AKM1MP6P0OYPR  0132793040      5.0  1365811200\n",
       "1  A2CX7LUOHB2NDG  0321732944      5.0  1341100800\n",
       "2  A2NWSAGRHCP8N5  0439886341      1.0  1367193600\n",
       "3  A2WNBOD3WNDNKT  0439886341      3.0  1374451200\n",
       "4  A1GI0U4ZRJA8WN  0439886341      1.0  1334707200"
      ]
     },
     "execution_count": 2,
     "metadata": {},
     "output_type": "execute_result"
    }
   ],
   "source": [
    "ratings_df = pd.read_csv(\"ratings_Electronics.csv\", header=None, names=['userId','productId','ratings','timestamp'])\n",
    "ratings_df.head()"
   ]
  },
  {
   "cell_type": "code",
   "execution_count": 3,
   "metadata": {
    "scrolled": true
   },
   "outputs": [
    {
     "data": {
      "text/html": [
       "<div>\n",
       "<style scoped>\n",
       "    .dataframe tbody tr th:only-of-type {\n",
       "        vertical-align: middle;\n",
       "    }\n",
       "\n",
       "    .dataframe tbody tr th {\n",
       "        vertical-align: top;\n",
       "    }\n",
       "\n",
       "    .dataframe thead th {\n",
       "        text-align: right;\n",
       "    }\n",
       "</style>\n",
       "<table border=\"1\" class=\"dataframe\">\n",
       "  <thead>\n",
       "    <tr style=\"text-align: right;\">\n",
       "      <th></th>\n",
       "      <th>userId</th>\n",
       "      <th>productId</th>\n",
       "      <th>ratings</th>\n",
       "    </tr>\n",
       "  </thead>\n",
       "  <tbody>\n",
       "    <tr>\n",
       "      <th>0</th>\n",
       "      <td>AKM1MP6P0OYPR</td>\n",
       "      <td>0132793040</td>\n",
       "      <td>5.0</td>\n",
       "    </tr>\n",
       "    <tr>\n",
       "      <th>1</th>\n",
       "      <td>A2CX7LUOHB2NDG</td>\n",
       "      <td>0321732944</td>\n",
       "      <td>5.0</td>\n",
       "    </tr>\n",
       "    <tr>\n",
       "      <th>2</th>\n",
       "      <td>A2NWSAGRHCP8N5</td>\n",
       "      <td>0439886341</td>\n",
       "      <td>1.0</td>\n",
       "    </tr>\n",
       "    <tr>\n",
       "      <th>3</th>\n",
       "      <td>A2WNBOD3WNDNKT</td>\n",
       "      <td>0439886341</td>\n",
       "      <td>3.0</td>\n",
       "    </tr>\n",
       "    <tr>\n",
       "      <th>4</th>\n",
       "      <td>A1GI0U4ZRJA8WN</td>\n",
       "      <td>0439886341</td>\n",
       "      <td>1.0</td>\n",
       "    </tr>\n",
       "  </tbody>\n",
       "</table>\n",
       "</div>"
      ],
      "text/plain": [
       "           userId   productId  ratings\n",
       "0   AKM1MP6P0OYPR  0132793040      5.0\n",
       "1  A2CX7LUOHB2NDG  0321732944      5.0\n",
       "2  A2NWSAGRHCP8N5  0439886341      1.0\n",
       "3  A2WNBOD3WNDNKT  0439886341      3.0\n",
       "4  A1GI0U4ZRJA8WN  0439886341      1.0"
      ]
     },
     "execution_count": 3,
     "metadata": {},
     "output_type": "execute_result"
    }
   ],
   "source": [
    "#dropping the timestamp column\n",
    "ratings_df = ratings_df.drop(axis=1,columns='timestamp')\n",
    "ratings_df.head()"
   ]
  },
  {
   "cell_type": "code",
   "execution_count": 4,
   "metadata": {},
   "outputs": [
    {
     "data": {
      "text/plain": [
       "(7824482, 3)"
      ]
     },
     "execution_count": 4,
     "metadata": {},
     "output_type": "execute_result"
    }
   ],
   "source": [
    "ratings_df.shape"
   ]
  },
  {
   "cell_type": "code",
   "execution_count": 5,
   "metadata": {
    "scrolled": false
   },
   "outputs": [
    {
     "name": "stdout",
     "output_type": "stream",
     "text": [
      "<class 'pandas.core.frame.DataFrame'>\n",
      "RangeIndex: 7824482 entries, 0 to 7824481\n",
      "Data columns (total 3 columns):\n",
      "userId       object\n",
      "productId    object\n",
      "ratings      float64\n",
      "dtypes: float64(1), object(2)\n",
      "memory usage: 179.1+ MB\n"
     ]
    }
   ],
   "source": [
    "ratings_df.info()"
   ]
  },
  {
   "cell_type": "code",
   "execution_count": 6,
   "metadata": {},
   "outputs": [
    {
     "data": {
      "text/plain": [
       "False"
      ]
     },
     "execution_count": 6,
     "metadata": {},
     "output_type": "execute_result"
    }
   ],
   "source": [
    "ratings_df.duplicated().any()"
   ]
  },
  {
   "cell_type": "code",
   "execution_count": 7,
   "metadata": {
    "scrolled": true
   },
   "outputs": [
    {
     "data": {
      "text/plain": [
       "userId       False\n",
       "productId    False\n",
       "ratings      False\n",
       "dtype: bool"
      ]
     },
     "execution_count": 7,
     "metadata": {},
     "output_type": "execute_result"
    }
   ],
   "source": [
    "ratings_df.isna().any()"
   ]
  },
  {
   "cell_type": "code",
   "execution_count": 8,
   "metadata": {},
   "outputs": [
    {
     "data": {
      "text/plain": [
       "userId       False\n",
       "productId    False\n",
       "ratings      False\n",
       "dtype: bool"
      ]
     },
     "execution_count": 8,
     "metadata": {},
     "output_type": "execute_result"
    }
   ],
   "source": [
    "ratings_df.isnull().any()"
   ]
  },
  {
   "cell_type": "code",
   "execution_count": 9,
   "metadata": {
    "scrolled": true
   },
   "outputs": [
    {
     "data": {
      "text/plain": [
       "array([[<matplotlib.axes._subplots.AxesSubplot object at 0x0000029C0019A5C0>]],\n",
       "      dtype=object)"
      ]
     },
     "execution_count": 9,
     "metadata": {},
     "output_type": "execute_result"
    },
    {
     "data": {
      "image/png": "[encoded data removed]",
      "text/plain": [
       "<Figure size 432x288 with 1 Axes>"
      ]
     },
     "metadata": {},
     "output_type": "display_data"
    }
   ],
   "source": [
    "ratings_df.hist()"
   ]
  },
  {
   "cell_type": "code",
   "execution_count": 10,
   "metadata": {
    "scrolled": false
   },
   "outputs": [
    {
     "data": {
      "text/plain": [
       "count           7824482\n",
       "unique          4201696\n",
       "top       A5JLAU2ARJ0BO\n",
       "freq                520\n",
       "Name: userId, dtype: object"
      ]
     },
     "execution_count": 10,
     "metadata": {},
     "output_type": "execute_result"
    }
   ],
   "source": [
    "ratings_df[\"userId\"].describe()"
   ]
  },
  {
   "cell_type": "code",
   "execution_count": 11,
   "metadata": {
    "scrolled": true
   },
   "outputs": [
    {
     "data": {
      "text/plain": [
       "A5JLAU2ARJ0BO     520\n",
       "ADLVFFE4VBT8      501\n",
       "A3OXHLG6DIBRW8    498\n",
       "A6FIAB28IS79      431\n",
       "A680RUE1FDO8B     406\n",
       "Name: userId, dtype: int64"
      ]
     },
     "execution_count": 11,
     "metadata": {},
     "output_type": "execute_result"
    }
   ],
   "source": [
    "ratings_df[\"userId\"].value_counts().head()"
   ]
  },
  {
   "cell_type": "code",
   "execution_count": 12,
   "metadata": {
    "scrolled": true
   },
   "outputs": [
    {
     "data": {
      "text/plain": [
       "count        7824482\n",
       "unique        476002\n",
       "top       B0074BW614\n",
       "freq           18244\n",
       "Name: productId, dtype: object"
      ]
     },
     "execution_count": 12,
     "metadata": {},
     "output_type": "execute_result"
    }
   ],
   "source": [
    "ratings_df[\"productId\"].describe()"
   ]
  },
  {
   "cell_type": "code",
   "execution_count": 13,
   "metadata": {},
   "outputs": [
    {
     "data": {
      "text/plain": [
       "B0074BW614    18244\n",
       "B00DR0PDNE    16454\n",
       "B007WTAJTO    14172\n",
       "B0019EHU8G    12285\n",
       "B006GWO5WK    12226\n",
       "Name: productId, dtype: int64"
      ]
     },
     "execution_count": 13,
     "metadata": {},
     "output_type": "execute_result"
    }
   ],
   "source": [
    "ratings_df[\"productId\"].value_counts().head()"
   ]
  },
  {
   "cell_type": "code",
   "execution_count": 14,
   "metadata": {
    "scrolled": false
   },
   "outputs": [
    {
     "data": {
      "text/plain": [
       "5.0    4347541\n",
       "4.0    1485781\n",
       "1.0     901765\n",
       "3.0     633073\n",
       "2.0     456322\n",
       "Name: ratings, dtype: int64"
      ]
     },
     "execution_count": 14,
     "metadata": {},
     "output_type": "execute_result"
    }
   ],
   "source": [
    "ratings_df[\"ratings\"].value_counts().head()"
   ]
  },
  {
   "cell_type": "code",
   "execution_count": 15,
   "metadata": {
    "scrolled": true
   },
   "outputs": [
    {
     "data": {
      "text/plain": [
       "<matplotlib.axes._subplots.AxesSubplot at 0x29c00547550>"
      ]
     },
     "execution_count": 15,
     "metadata": {},
     "output_type": "execute_result"
    },
    {
     "data": {
      "image/png": "[encoded data removed]",
      "text/plain": [
       "<Figure size 432x288 with 1 Axes>"
      ]
     },
     "metadata": {},
     "output_type": "display_data"
    }
   ],
   "source": [
    "ratings_df['ratings'].value_counts().plot(kind='bar')"
   ]
  },
  {
   "cell_type": "code",
   "execution_count": 16,
   "metadata": {},
   "outputs": [
    {
     "data": {
      "text/html": [
       "<div>\n",
       "<style scoped>\n",
       "    .dataframe tbody tr th:only-of-type {\n",
       "        vertical-align: middle;\n",
       "    }\n",
       "\n",
       "    .dataframe tbody tr th {\n",
       "        vertical-align: top;\n",
       "    }\n",
       "\n",
       "    .dataframe thead th {\n",
       "        text-align: right;\n",
       "    }\n",
       "</style>\n",
       "<table border=\"1\" class=\"dataframe\">\n",
       "  <thead>\n",
       "    <tr style=\"text-align: right;\">\n",
       "      <th></th>\n",
       "      <th>ratings</th>\n",
       "    </tr>\n",
       "    <tr>\n",
       "      <th>productId</th>\n",
       "      <th></th>\n",
       "    </tr>\n",
       "  </thead>\n",
       "  <tbody>\n",
       "    <tr>\n",
       "      <th>0132793040</th>\n",
       "      <td>5.000000</td>\n",
       "    </tr>\n",
       "    <tr>\n",
       "      <th>0321732944</th>\n",
       "      <td>5.000000</td>\n",
       "    </tr>\n",
       "    <tr>\n",
       "      <th>0439886341</th>\n",
       "      <td>1.666667</td>\n",
       "    </tr>\n",
       "    <tr>\n",
       "      <th>0511189877</th>\n",
       "      <td>4.500000</td>\n",
       "    </tr>\n",
       "    <tr>\n",
       "      <th>0528881469</th>\n",
       "      <td>2.851852</td>\n",
       "    </tr>\n",
       "  </tbody>\n",
       "</table>\n",
       "</div>"
      ],
      "text/plain": [
       "             ratings\n",
       "productId           \n",
       "0132793040  5.000000\n",
       "0321732944  5.000000\n",
       "0439886341  1.666667\n",
       "0511189877  4.500000\n",
       "0528881469  2.851852"
      ]
     },
     "execution_count": 16,
     "metadata": {},
     "output_type": "execute_result"
    }
   ],
   "source": [
    "ratings_new=pd.DataFrame( ratings_df.groupby(\"productId\")[\"ratings\"].mean())\n",
    "ratings_new.head()"
   ]
  },
  {
   "cell_type": "code",
   "execution_count": 17,
   "metadata": {
    "scrolled": true
   },
   "outputs": [
    {
     "data": {
      "text/plain": [
       "productId\n",
       "0132793040     1\n",
       "0321732944     1\n",
       "0439886341     3\n",
       "0511189877     6\n",
       "0528881469    27\n",
       "0558835155     1\n",
       "059400232X     3\n",
       "0594012015     8\n",
       "0594017343     1\n",
       "0594017580     1\n",
       "0594033896     5\n",
       "0594033926    15\n",
       "0594033934     2\n",
       "0594202442     1\n",
       "0594287995     1\n",
       "0594296420     6\n",
       "0594450209     2\n",
       "0594450705     1\n",
       "0594451647    14\n",
       "0594477670     3\n",
       "0594478162     1\n",
       "0594481813    31\n",
       "0594481902    13\n",
       "0594482127     1\n",
       "0594511488     2\n",
       "0594514681     2\n",
       "0594514789     1\n",
       "0594549507     1\n",
       "0594549558     1\n",
       "0743610431     2\n",
       "              ..\n",
       "B00LGN7Y3G     1\n",
       "B00LGQ6HL8     6\n",
       "B00LH4U5JO     1\n",
       "B00LH52WT4     3\n",
       "B00LH9OL5I     1\n",
       "B00LHPXVBW     1\n",
       "B00LI4U2B4     1\n",
       "B00LI4ZZO8     3\n",
       "B00LI8Y9Y6     1\n",
       "B00LITPNRC     1\n",
       "B00LJO86NE     2\n",
       "B00LJZWBK2     1\n",
       "B00LKG1MC8     1\n",
       "B00LKWBN0I     1\n",
       "B00LKWZKH0     1\n",
       "B00LMCPYPG     3\n",
       "B00LMKAUU2     1\n",
       "B00LMMIQ4C     1\n",
       "B00LMOH8DU     4\n",
       "B00LNUH5X6     1\n",
       "B00LOLBBQQ     2\n",
       "B00LPQRT34     1\n",
       "B00LS5WBYE     1\n",
       "B00LTAUTHE     1\n",
       "B00LXEC8CU     1\n",
       "BT008G3W52     1\n",
       "BT008SXQ4C     1\n",
       "BT008T2BGK     1\n",
       "BT008UKTMW    15\n",
       "BT008V9J9U     1\n",
       "Name: ratings, Length: 476002, dtype: int64"
      ]
     },
     "execution_count": 17,
     "metadata": {},
     "output_type": "execute_result"
    }
   ],
   "source": [
    "ratings_df.groupby(\"productId\")[\"ratings\"].count()"
   ]
  },
  {
   "cell_type": "code",
   "execution_count": 18,
   "metadata": {
    "scrolled": false
   },
   "outputs": [
    {
     "data": {
      "text/plain": [
       "userId\n",
       "A00000262KYZUE4J55XGL    5.000000\n",
       "A000063614T1OE0BUSKUT    5.000000\n",
       "A00009182QVLSWIGHLS1B    5.000000\n",
       "A00009661LC9LQPGKJ24G    5.000000\n",
       "A00010809P09NUU6ZP6H     5.000000\n",
       "A00014061C2IZNE0YEILY    4.000000\n",
       "A000145014WOTZJ5NSKOR    5.000000\n",
       "A00015222LZ55IJSVL5IX    1.000000\n",
       "A00015228CUPGPF957DS     1.000000\n",
       "A0001528BGUBOEVR6T5U     4.500000\n",
       "A00018041RRVMCICCAP79    5.000000\n",
       "A000186437REL8X2RW8UW    4.000000\n",
       "A000187635I595IAVSQLH    5.000000\n",
       "A00019466UY2KR1IPXQN     4.000000\n",
       "A0002012T7HVDB2EF4RH     4.000000\n",
       "A0002032ZFQKDVHYKGWR     5.000000\n",
       "A0002550196XWX0PEOZND    3.000000\n",
       "A00027081JC8NE8X6TD5     5.000000\n",
       "A00027561NC7JTXEP3EOD    1.000000\n",
       "A00028781NF0U7YEN9U19    5.000000\n",
       "A00029263J863WSR0TDRS    4.000000\n",
       "A000294826HEMAY5L3K1H    5.000000\n",
       "A00029825UMZ6N0ETLHY     5.000000\n",
       "A00033481VZEEGYXEN32T    3.666667\n",
       "A00037441I8XOQJSUWCAG    5.000000\n",
       "A00038802J7X43YTW44TD    3.000000\n",
       "A000428226SAAAIBK8I36    5.000000\n",
       "A0004478EF5NFPHLGCWG     4.000000\n",
       "A00045341JXVKNK93M6JE    5.000000\n",
       "A00059641RDIAMDC7IJRZ    5.000000\n",
       "                           ...   \n",
       "AZZYJH0XNZ896            1.000000\n",
       "AZZYK2BT6EU8V            3.000000\n",
       "AZZYKX2KZ0Q82            5.000000\n",
       "AZZYMQZHES0KT            4.000000\n",
       "AZZYO4XQYE89O            3.000000\n",
       "AZZYQ6753ZHTK            5.000000\n",
       "AZZYTPFG6JF1K            1.000000\n",
       "AZZYUA6JI1MO0            5.000000\n",
       "AZZYVKZGCY2MQ            1.000000\n",
       "AZZYW4YOE1B6E            4.457143\n",
       "AZZYW8JCAHAQY            1.000000\n",
       "AZZYWDOD33FFE            1.000000\n",
       "AZZYXVW7BAJVD            5.000000\n",
       "AZZYYC8OX8ELM            5.000000\n",
       "AZZYYPNQ2ZYH6            5.000000\n",
       "AZZZ3LGTCGUZF            5.000000\n",
       "AZZZ9NB3TEH8F            2.000000\n",
       "AZZZBEVIZYROM            5.000000\n",
       "AZZZBHHLU1CMM            4.000000\n",
       "AZZZBMD2MDOQR            4.000000\n",
       "AZZZDSAJ757Z4            4.000000\n",
       "AZZZEWADNFNUM            3.500000\n",
       "AZZZJXM9GW3C5            5.000000\n",
       "AZZZM2FO19RUO            4.000000\n",
       "AZZZMSZI9LKE6            4.000000\n",
       "AZZZOVIBXHGDR            3.333333\n",
       "AZZZRS1YZ8HVP            4.000000\n",
       "AZZZSIK7NFFVP            5.000000\n",
       "AZZZWXXUPZ1F3            5.000000\n",
       "AZZZY1W55XHZR            4.000000\n",
       "Name: ratings, Length: 4201696, dtype: float64"
      ]
     },
     "execution_count": 18,
     "metadata": {},
     "output_type": "execute_result"
    }
   ],
   "source": [
    "ratings_df.groupby(\"userId\")[\"ratings\"].mean()"
   ]
  },
  {
   "cell_type": "markdown",
   "metadata": {},
   "source": [
    "## 2. Take subset of dataset to make it less sparse/more dense. (For example, keep the users only who has given 50 or more number of ratings )"
   ]
  },
  {
   "cell_type": "code",
   "execution_count": 19,
   "metadata": {},
   "outputs": [],
   "source": [
    "#filter_user = ratings_df[\"userId\"].value_counts() >= 250\n",
    "#filter_user = filter_user[filter_user].index.tolist()\n",
    "\n",
    "#filter_product = ratings_df[\"productId\"].value_counts() >= 250\n",
    "#filter_product = filter_product[filter_product].index.tolist()\n",
    "\n",
    "#ratings_df_new = ratings_df[(ratings_df['userId'].isin(filter_user)) | (ratings_df['productId'].isin(filter_product))]\n",
    "\n",
    "#ratings_df_new.shape"
   ]
  },
  {
   "cell_type": "code",
   "execution_count": 20,
   "metadata": {},
   "outputs": [],
   "source": [
    "rating_VC = ratings_df['userId'].value_counts()"
   ]
  },
  {
   "cell_type": "code",
   "execution_count": 21,
   "metadata": {},
   "outputs": [],
   "source": [
    "rating_VC_idx_lst = rating_VC[rating_VC>150].index.tolist()"
   ]
  },
  {
   "cell_type": "code",
   "execution_count": 22,
   "metadata": {},
   "outputs": [],
   "source": [
    "ratings_df_new = ratings_df[ratings_df['userId'].isin(rating_VC_idx_lst)]"
   ]
  },
  {
   "cell_type": "code",
   "execution_count": 23,
   "metadata": {},
   "outputs": [
    {
     "data": {
      "text/plain": [
       "(21810, 3)"
      ]
     },
     "execution_count": 23,
     "metadata": {},
     "output_type": "execute_result"
    }
   ],
   "source": [
    "ratings_df_new.shape"
   ]
  },
  {
   "cell_type": "code",
   "execution_count": 24,
   "metadata": {},
   "outputs": [
    {
     "data": {
      "text/html": [
       "<div>\n",
       "<style scoped>\n",
       "    .dataframe tbody tr th:only-of-type {\n",
       "        vertical-align: middle;\n",
       "    }\n",
       "\n",
       "    .dataframe tbody tr th {\n",
       "        vertical-align: top;\n",
       "    }\n",
       "\n",
       "    .dataframe thead th {\n",
       "        text-align: right;\n",
       "    }\n",
       "</style>\n",
       "<table border=\"1\" class=\"dataframe\">\n",
       "  <thead>\n",
       "    <tr style=\"text-align: right;\">\n",
       "      <th></th>\n",
       "      <th>userId</th>\n",
       "      <th>productId</th>\n",
       "      <th>ratings</th>\n",
       "    </tr>\n",
       "  </thead>\n",
       "  <tbody>\n",
       "    <tr>\n",
       "      <th>178</th>\n",
       "      <td>A17HMM1M7T9PJ1</td>\n",
       "      <td>0970407998</td>\n",
       "      <td>4.0</td>\n",
       "    </tr>\n",
       "    <tr>\n",
       "      <th>631</th>\n",
       "      <td>A3TAS1AG6FMBQW</td>\n",
       "      <td>0972683275</td>\n",
       "      <td>5.0</td>\n",
       "    </tr>\n",
       "    <tr>\n",
       "      <th>2162</th>\n",
       "      <td>A5JLAU2ARJ0BO</td>\n",
       "      <td>1400532655</td>\n",
       "      <td>1.0</td>\n",
       "    </tr>\n",
       "    <tr>\n",
       "      <th>3383</th>\n",
       "      <td>A3PD8JD9L4WEII</td>\n",
       "      <td>1400699169</td>\n",
       "      <td>5.0</td>\n",
       "    </tr>\n",
       "    <tr>\n",
       "      <th>4495</th>\n",
       "      <td>A1ZU55TM45Y2R8</td>\n",
       "      <td>8862936826</td>\n",
       "      <td>2.0</td>\n",
       "    </tr>\n",
       "  </tbody>\n",
       "</table>\n",
       "</div>"
      ],
      "text/plain": [
       "              userId   productId  ratings\n",
       "178   A17HMM1M7T9PJ1  0970407998      4.0\n",
       "631   A3TAS1AG6FMBQW  0972683275      5.0\n",
       "2162   A5JLAU2ARJ0BO  1400532655      1.0\n",
       "3383  A3PD8JD9L4WEII  1400699169      5.0\n",
       "4495  A1ZU55TM45Y2R8  8862936826      2.0"
      ]
     },
     "execution_count": 24,
     "metadata": {},
     "output_type": "execute_result"
    }
   ],
   "source": [
    "ratings_df_new.head()"
   ]
  },
  {
   "cell_type": "markdown",
   "metadata": {},
   "source": [
    "## 3. Split the data randomly into train and test dataset. (For example split it in 70/30 ratio)"
   ]
  },
  {
   "cell_type": "code",
   "execution_count": 25,
   "metadata": {},
   "outputs": [],
   "source": [
    "from surprise import Dataset,Reader\n",
    "reader = Reader(rating_scale=(1, 5))"
   ]
  },
  {
   "cell_type": "code",
   "execution_count": 26,
   "metadata": {},
   "outputs": [],
   "source": [
    "data = Dataset.load_from_df(ratings_df_new[['userId', 'productId', 'ratings']], reader)"
   ]
  },
  {
   "cell_type": "code",
   "execution_count": 27,
   "metadata": {},
   "outputs": [
    {
     "data": {
      "text/plain": [
       "<surprise.dataset.DatasetAutoFolds at 0x29c00600b38>"
      ]
     },
     "execution_count": 27,
     "metadata": {},
     "output_type": "execute_result"
    }
   ],
   "source": [
    "data"
   ]
  },
  {
   "cell_type": "code",
   "execution_count": 28,
   "metadata": {},
   "outputs": [],
   "source": [
    "# Split data to train and test\n",
    "from surprise.model_selection import train_test_split\n",
    "trainset, testset = train_test_split(data, test_size=.30,random_state=123)"
   ]
  },
  {
   "cell_type": "code",
   "execution_count": 29,
   "metadata": {},
   "outputs": [],
   "source": [
    "# Split data to train and test\n",
    "from sklearn.model_selection import train_test_split\n",
    "trainset_sk, testset_sk = train_test_split(ratings_df_new, test_size = 0.30, random_state=0)"
   ]
  },
  {
   "cell_type": "markdown",
   "metadata": {},
   "source": [
    "## 4. Build Popularity Recommender model."
   ]
  },
  {
   "cell_type": "code",
   "execution_count": 30,
   "metadata": {},
   "outputs": [],
   "source": [
    "class Popularity_Recommender():\n",
    "\n",
    "    # Initialize all the variables\n",
    "    def __init__(self):\n",
    "        # Tha training data which is been provided.\n",
    "        self.train_data = None\n",
    "\n",
    "        # The id of the user for which the recommendations is needed.\n",
    "        self.user_id = None\n",
    "\n",
    "        # The id of item e.g. Songs, Movies, Products etc.\n",
    "        self.item_id = None\n",
    "\n",
    "        # The final result which is going to be returned as a dataframe. \n",
    "        self.popularity_recommendataions = None\n",
    "\n",
    "    # Create the recommendations.\n",
    "    def create(self,train_data,user_id,item_id):\n",
    "\n",
    "        # The training data\n",
    "        self.train_data = train_data\n",
    "\n",
    "        # The id of the user for which the recommendations is needed.\n",
    "        self.user_id = user_id\n",
    "\n",
    "        # The id of item e.g. Songs, Movies, Products etc.\n",
    "        self.item_id = item_id\n",
    "\n",
    "\n",
    "        # The items are grouped by item_id aggregated with the count of the users and the index is reseted.\n",
    "        train_data_grouped = train_data.groupby([self.item_id]).agg({self.user_id: 'count'}).reset_index()\n",
    "        \n",
    "        # The column named user_id is replaced by the name score.\n",
    "        train_data_grouped.rename(columns = {'userId': 'score'}, inplace = True)\n",
    "\n",
    "\n",
    "        # The training data is sorted according to the score in descending order and by item_id in ascending order.\n",
    "        train_data_sort = train_data_grouped.sort_values(['score', self.item_id], ascending = [0,1])\n",
    "        # The new column named Rank is created by score sorted in ascending order.\n",
    "        train_data_sort['Rank'] = train_data_sort['score'].rank(ascending = 0, method = 'first')\n",
    "\n",
    "\n",
    "        # The first 15 items are saved into the popularity_recommendataions and it is returned. \n",
    "        self.popularity_recommendataions = train_data_sort.head(15)\n",
    "\n",
    "\n",
    "    # Method to user created recommendations\n",
    "    def recommend(self, userId):\n",
    "\n",
    "        # Init the user_recommendataion var by popularity_recommendataions since the recommendations has been saved into this column.\n",
    "        user_recommendataion = self.popularity_recommendataions\n",
    "\n",
    "        # Get the user_id\n",
    "        user_recommendataion['userId'] = userId\n",
    "\n",
    "        # Set the columns\n",
    "        cols = user_recommendataion.columns.tolist()\n",
    "        cols = cols[-1:] + cols[:-1]\n",
    "        user_recommendataion = user_recommendataion[cols]\n",
    "\n",
    "        return user_recommendataion"
   ]
  },
  {
   "cell_type": "code",
   "execution_count": 31,
   "metadata": {},
   "outputs": [
    {
     "data": {
      "text/plain": [
       "98"
      ]
     },
     "execution_count": 31,
     "metadata": {},
     "output_type": "execute_result"
    }
   ],
   "source": [
    "users = ratings_df_new['userId'].unique()\n",
    "len(users)"
   ]
  },
  {
   "cell_type": "code",
   "execution_count": 32,
   "metadata": {},
   "outputs": [
    {
     "data": {
      "text/plain": [
       "13405"
      ]
     },
     "execution_count": 32,
     "metadata": {},
     "output_type": "execute_result"
    }
   ],
   "source": [
    "items = ratings_df_new['productId'].unique()\n",
    "len(items)"
   ]
  },
  {
   "cell_type": "code",
   "execution_count": 33,
   "metadata": {},
   "outputs": [],
   "source": [
    "pr = Popularity_Recommender()\n",
    "pr.create(trainset_sk, 'userId', 'productId')"
   ]
  },
  {
   "cell_type": "code",
   "execution_count": 34,
   "metadata": {
    "scrolled": false
   },
   "outputs": [
    {
     "data": {
      "text/html": [
       "<div>\n",
       "<style scoped>\n",
       "    .dataframe tbody tr th:only-of-type {\n",
       "        vertical-align: middle;\n",
       "    }\n",
       "\n",
       "    .dataframe tbody tr th {\n",
       "        vertical-align: top;\n",
       "    }\n",
       "\n",
       "    .dataframe thead th {\n",
       "        text-align: right;\n",
       "    }\n",
       "</style>\n",
       "<table border=\"1\" class=\"dataframe\">\n",
       "  <thead>\n",
       "    <tr style=\"text-align: right;\">\n",
       "      <th></th>\n",
       "      <th>userId</th>\n",
       "      <th>productId</th>\n",
       "      <th>score</th>\n",
       "      <th>Rank</th>\n",
       "    </tr>\n",
       "  </thead>\n",
       "  <tbody>\n",
       "    <tr>\n",
       "      <th>5491</th>\n",
       "      <td>A1VQHH85U7PX0</td>\n",
       "      <td>B003ES5ZUU</td>\n",
       "      <td>20</td>\n",
       "      <td>1.0</td>\n",
       "    </tr>\n",
       "    <tr>\n",
       "      <th>6196</th>\n",
       "      <td>A1VQHH85U7PX0</td>\n",
       "      <td>B004CLYEE6</td>\n",
       "      <td>18</td>\n",
       "      <td>2.0</td>\n",
       "    </tr>\n",
       "    <tr>\n",
       "      <th>6195</th>\n",
       "      <td>A1VQHH85U7PX0</td>\n",
       "      <td>B004CLYEDC</td>\n",
       "      <td>17</td>\n",
       "      <td>3.0</td>\n",
       "    </tr>\n",
       "    <tr>\n",
       "      <th>6197</th>\n",
       "      <td>A1VQHH85U7PX0</td>\n",
       "      <td>B004CLYEFK</td>\n",
       "      <td>17</td>\n",
       "      <td>4.0</td>\n",
       "    </tr>\n",
       "    <tr>\n",
       "      <th>8016</th>\n",
       "      <td>A1VQHH85U7PX0</td>\n",
       "      <td>B0088CJT4U</td>\n",
       "      <td>17</td>\n",
       "      <td>5.0</td>\n",
       "    </tr>\n",
       "    <tr>\n",
       "      <th>8941</th>\n",
       "      <td>A1VQHH85U7PX0</td>\n",
       "      <td>B00BOHNYTW</td>\n",
       "      <td>17</td>\n",
       "      <td>6.0</td>\n",
       "    </tr>\n",
       "    <tr>\n",
       "      <th>9690</th>\n",
       "      <td>A1VQHH85U7PX0</td>\n",
       "      <td>B00G4UQ6U8</td>\n",
       "      <td>17</td>\n",
       "      <td>7.0</td>\n",
       "    </tr>\n",
       "    <tr>\n",
       "      <th>4940</th>\n",
       "      <td>A1VQHH85U7PX0</td>\n",
       "      <td>B002R5AM7C</td>\n",
       "      <td>16</td>\n",
       "      <td>8.0</td>\n",
       "    </tr>\n",
       "    <tr>\n",
       "      <th>7963</th>\n",
       "      <td>A1VQHH85U7PX0</td>\n",
       "      <td>B00829TIEK</td>\n",
       "      <td>16</td>\n",
       "      <td>9.0</td>\n",
       "    </tr>\n",
       "    <tr>\n",
       "      <th>7967</th>\n",
       "      <td>A1VQHH85U7PX0</td>\n",
       "      <td>B0082E9K7U</td>\n",
       "      <td>16</td>\n",
       "      <td>10.0</td>\n",
       "    </tr>\n",
       "    <tr>\n",
       "      <th>2400</th>\n",
       "      <td>A1VQHH85U7PX0</td>\n",
       "      <td>B000JMJWV2</td>\n",
       "      <td>15</td>\n",
       "      <td>11.0</td>\n",
       "    </tr>\n",
       "    <tr>\n",
       "      <th>8078</th>\n",
       "      <td>A1VQHH85U7PX0</td>\n",
       "      <td>B008DWCRQW</td>\n",
       "      <td>15</td>\n",
       "      <td>12.0</td>\n",
       "    </tr>\n",
       "    <tr>\n",
       "      <th>4971</th>\n",
       "      <td>A1VQHH85U7PX0</td>\n",
       "      <td>B002SQK2F2</td>\n",
       "      <td>14</td>\n",
       "      <td>13.0</td>\n",
       "    </tr>\n",
       "    <tr>\n",
       "      <th>7897</th>\n",
       "      <td>A1VQHH85U7PX0</td>\n",
       "      <td>B007WTAJTO</td>\n",
       "      <td>14</td>\n",
       "      <td>14.0</td>\n",
       "    </tr>\n",
       "    <tr>\n",
       "      <th>7959</th>\n",
       "      <td>A1VQHH85U7PX0</td>\n",
       "      <td>B00829THK0</td>\n",
       "      <td>13</td>\n",
       "      <td>15.0</td>\n",
       "    </tr>\n",
       "  </tbody>\n",
       "</table>\n",
       "</div>"
      ],
      "text/plain": [
       "             userId   productId  score  Rank\n",
       "5491  A1VQHH85U7PX0  B003ES5ZUU     20   1.0\n",
       "6196  A1VQHH85U7PX0  B004CLYEE6     18   2.0\n",
       "6195  A1VQHH85U7PX0  B004CLYEDC     17   3.0\n",
       "6197  A1VQHH85U7PX0  B004CLYEFK     17   4.0\n",
       "8016  A1VQHH85U7PX0  B0088CJT4U     17   5.0\n",
       "8941  A1VQHH85U7PX0  B00BOHNYTW     17   6.0\n",
       "9690  A1VQHH85U7PX0  B00G4UQ6U8     17   7.0\n",
       "4940  A1VQHH85U7PX0  B002R5AM7C     16   8.0\n",
       "7963  A1VQHH85U7PX0  B00829TIEK     16   9.0\n",
       "7967  A1VQHH85U7PX0  B0082E9K7U     16  10.0\n",
       "2400  A1VQHH85U7PX0  B000JMJWV2     15  11.0\n",
       "8078  A1VQHH85U7PX0  B008DWCRQW     15  12.0\n",
       "4971  A1VQHH85U7PX0  B002SQK2F2     14  13.0\n",
       "7897  A1VQHH85U7PX0  B007WTAJTO     14  14.0\n",
       "7959  A1VQHH85U7PX0  B00829THK0     13  15.0"
      ]
     },
     "execution_count": 34,
     "metadata": {},
     "output_type": "execute_result"
    }
   ],
   "source": [
    "pr.recommend(users[5])"
   ]
  },
  {
   "cell_type": "code",
   "execution_count": 35,
   "metadata": {
    "scrolled": true
   },
   "outputs": [
    {
     "data": {
      "text/html": [
       "<div>\n",
       "<style scoped>\n",
       "    .dataframe tbody tr th:only-of-type {\n",
       "        vertical-align: middle;\n",
       "    }\n",
       "\n",
       "    .dataframe tbody tr th {\n",
       "        vertical-align: top;\n",
       "    }\n",
       "\n",
       "    .dataframe thead th {\n",
       "        text-align: right;\n",
       "    }\n",
       "</style>\n",
       "<table border=\"1\" class=\"dataframe\">\n",
       "  <thead>\n",
       "    <tr style=\"text-align: right;\">\n",
       "      <th></th>\n",
       "      <th>userId</th>\n",
       "      <th>productId</th>\n",
       "      <th>score</th>\n",
       "      <th>Rank</th>\n",
       "    </tr>\n",
       "  </thead>\n",
       "  <tbody>\n",
       "    <tr>\n",
       "      <th>5491</th>\n",
       "      <td>A1J75JJ0Q2OEJN</td>\n",
       "      <td>B003ES5ZUU</td>\n",
       "      <td>20</td>\n",
       "      <td>1.0</td>\n",
       "    </tr>\n",
       "    <tr>\n",
       "      <th>6196</th>\n",
       "      <td>A1J75JJ0Q2OEJN</td>\n",
       "      <td>B004CLYEE6</td>\n",
       "      <td>18</td>\n",
       "      <td>2.0</td>\n",
       "    </tr>\n",
       "    <tr>\n",
       "      <th>6195</th>\n",
       "      <td>A1J75JJ0Q2OEJN</td>\n",
       "      <td>B004CLYEDC</td>\n",
       "      <td>17</td>\n",
       "      <td>3.0</td>\n",
       "    </tr>\n",
       "    <tr>\n",
       "      <th>6197</th>\n",
       "      <td>A1J75JJ0Q2OEJN</td>\n",
       "      <td>B004CLYEFK</td>\n",
       "      <td>17</td>\n",
       "      <td>4.0</td>\n",
       "    </tr>\n",
       "    <tr>\n",
       "      <th>8016</th>\n",
       "      <td>A1J75JJ0Q2OEJN</td>\n",
       "      <td>B0088CJT4U</td>\n",
       "      <td>17</td>\n",
       "      <td>5.0</td>\n",
       "    </tr>\n",
       "    <tr>\n",
       "      <th>8941</th>\n",
       "      <td>A1J75JJ0Q2OEJN</td>\n",
       "      <td>B00BOHNYTW</td>\n",
       "      <td>17</td>\n",
       "      <td>6.0</td>\n",
       "    </tr>\n",
       "    <tr>\n",
       "      <th>9690</th>\n",
       "      <td>A1J75JJ0Q2OEJN</td>\n",
       "      <td>B00G4UQ6U8</td>\n",
       "      <td>17</td>\n",
       "      <td>7.0</td>\n",
       "    </tr>\n",
       "    <tr>\n",
       "      <th>4940</th>\n",
       "      <td>A1J75JJ0Q2OEJN</td>\n",
       "      <td>B002R5AM7C</td>\n",
       "      <td>16</td>\n",
       "      <td>8.0</td>\n",
       "    </tr>\n",
       "    <tr>\n",
       "      <th>7963</th>\n",
       "      <td>A1J75JJ0Q2OEJN</td>\n",
       "      <td>B00829TIEK</td>\n",
       "      <td>16</td>\n",
       "      <td>9.0</td>\n",
       "    </tr>\n",
       "    <tr>\n",
       "      <th>7967</th>\n",
       "      <td>A1J75JJ0Q2OEJN</td>\n",
       "      <td>B0082E9K7U</td>\n",
       "      <td>16</td>\n",
       "      <td>10.0</td>\n",
       "    </tr>\n",
       "    <tr>\n",
       "      <th>2400</th>\n",
       "      <td>A1J75JJ0Q2OEJN</td>\n",
       "      <td>B000JMJWV2</td>\n",
       "      <td>15</td>\n",
       "      <td>11.0</td>\n",
       "    </tr>\n",
       "    <tr>\n",
       "      <th>8078</th>\n",
       "      <td>A1J75JJ0Q2OEJN</td>\n",
       "      <td>B008DWCRQW</td>\n",
       "      <td>15</td>\n",
       "      <td>12.0</td>\n",
       "    </tr>\n",
       "    <tr>\n",
       "      <th>4971</th>\n",
       "      <td>A1J75JJ0Q2OEJN</td>\n",
       "      <td>B002SQK2F2</td>\n",
       "      <td>14</td>\n",
       "      <td>13.0</td>\n",
       "    </tr>\n",
       "    <tr>\n",
       "      <th>7897</th>\n",
       "      <td>A1J75JJ0Q2OEJN</td>\n",
       "      <td>B007WTAJTO</td>\n",
       "      <td>14</td>\n",
       "      <td>14.0</td>\n",
       "    </tr>\n",
       "    <tr>\n",
       "      <th>7959</th>\n",
       "      <td>A1J75JJ0Q2OEJN</td>\n",
       "      <td>B00829THK0</td>\n",
       "      <td>13</td>\n",
       "      <td>15.0</td>\n",
       "    </tr>\n",
       "  </tbody>\n",
       "</table>\n",
       "</div>"
      ],
      "text/plain": [
       "              userId   productId  score  Rank\n",
       "5491  A1J75JJ0Q2OEJN  B003ES5ZUU     20   1.0\n",
       "6196  A1J75JJ0Q2OEJN  B004CLYEE6     18   2.0\n",
       "6195  A1J75JJ0Q2OEJN  B004CLYEDC     17   3.0\n",
       "6197  A1J75JJ0Q2OEJN  B004CLYEFK     17   4.0\n",
       "8016  A1J75JJ0Q2OEJN  B0088CJT4U     17   5.0\n",
       "8941  A1J75JJ0Q2OEJN  B00BOHNYTW     17   6.0\n",
       "9690  A1J75JJ0Q2OEJN  B00G4UQ6U8     17   7.0\n",
       "4940  A1J75JJ0Q2OEJN  B002R5AM7C     16   8.0\n",
       "7963  A1J75JJ0Q2OEJN  B00829TIEK     16   9.0\n",
       "7967  A1J75JJ0Q2OEJN  B0082E9K7U     16  10.0\n",
       "2400  A1J75JJ0Q2OEJN  B000JMJWV2     15  11.0\n",
       "8078  A1J75JJ0Q2OEJN  B008DWCRQW     15  12.0\n",
       "4971  A1J75JJ0Q2OEJN  B002SQK2F2     14  13.0\n",
       "7897  A1J75JJ0Q2OEJN  B007WTAJTO     14  14.0\n",
       "7959  A1J75JJ0Q2OEJN  B00829THK0     13  15.0"
      ]
     },
     "execution_count": 35,
     "metadata": {},
     "output_type": "execute_result"
    }
   ],
   "source": [
    "pr.recommend(users[25])"
   ]
  },
  {
   "cell_type": "code",
   "execution_count": 39,
   "metadata": {},
   "outputs": [],
   "source": [
    "import pandas\n",
    "\n",
    "#Class for Item similarity based Recommender System model\n",
    "class item_similarity_recommender_py():\n",
    "    def __init__(self):\n",
    "        self.train_data = None\n",
    "        self.user_id = None\n",
    "        self.item_id = None\n",
    "        self.cooccurence_matrix = None\n",
    "        self.songs_dict = None\n",
    "        self.rev_songs_dict = None\n",
    "        self.item_similarity_recommendations = None\n",
    "        \n",
    "    #Get unique items (songs) corresponding to a given user\n",
    "    def get_user_items(self, user):\n",
    "        user_data = self.train_data[self.train_data[self.user_id] == user]\n",
    "        user_items = list(user_data[self.item_id].unique())\n",
    "        \n",
    "        return user_items\n",
    "        \n",
    "    #Get unique users for a given item (song)\n",
    "    def get_item_users(self, item):\n",
    "        item_data = self.train_data[self.train_data[self.item_id] == item]\n",
    "        item_users = set(item_data[self.user_id].unique())\n",
    "            \n",
    "        return item_users\n",
    "        \n",
    "    #Get unique items (songs) in the training data\n",
    "    def get_all_items_train_data(self):\n",
    "        all_items = list(self.train_data[self.item_id].unique())\n",
    "            \n",
    "        return all_items\n",
    "        \n",
    "    #Construct cooccurence matrix\n",
    "    def construct_cooccurence_matrix(self, user_songs, all_songs):\n",
    "            \n",
    "        ####################################\n",
    "        #Get users for all songs in user_songs.\n",
    "        ####################################\n",
    "        user_songs_users = []        \n",
    "        for i in range(0, len(user_songs)):\n",
    "            user_songs_users.append(self.get_item_users(user_songs[i]))\n",
    "            \n",
    "        ###############################################\n",
    "        #Initialize the item cooccurence matrix of size \n",
    "        #len(user_songs) X len(songs)\n",
    "        ###############################################\n",
    "        cooccurence_matrix = np.matrix(np.zeros(shape=(len(user_songs), len(all_songs))), float)\n",
    "           \n",
    "        #############################################################\n",
    "        #Calculate similarity between user songs and all unique songs\n",
    "        #in the training data\n",
    "        #############################################################\n",
    "        for i in range(0,len(all_songs)):\n",
    "            #Calculate unique listeners (users) of song (item) i\n",
    "            songs_i_data = self.train_data[self.train_data[self.item_id] == all_songs[i]]\n",
    "            users_i = set(songs_i_data[self.user_id].unique())\n",
    "            \n",
    "            for j in range(0,len(user_songs)):       \n",
    "                    \n",
    "                #Get unique listeners (users) of song (item) j\n",
    "                users_j = user_songs_users[j]\n",
    "                    \n",
    "                #Calculate intersection of listeners of songs i and j\n",
    "                users_intersection = users_i.intersection(users_j)\n",
    "                \n",
    "                #Calculate cooccurence_matrix[i,j] as Jaccard Index\n",
    "                if len(users_intersection) != 0:\n",
    "                    #Calculate union of listeners of songs i and j\n",
    "                    users_union = users_i.union(users_j)\n",
    "                    \n",
    "                    cooccurence_matrix[j,i] = float(len(users_intersection))/float(len(users_union))\n",
    "                else:\n",
    "                    cooccurence_matrix[j,i] = 0\n",
    "                    \n",
    "        \n",
    "        return cooccurence_matrix\n",
    "\n",
    "    \n",
    "    #Use the cooccurence matrix to make top recommendations\n",
    "    def generate_top_recommendations(self, user, cooccurence_matrix, all_songs, user_songs):\n",
    "        print(\"Non zero values in cooccurence_matrix :%d\" % np.count_nonzero(cooccurence_matrix))\n",
    "        \n",
    "        #Calculate a weighted average of the scores in cooccurence matrix for all user songs.\n",
    "        user_sim_scores = cooccurence_matrix.sum(axis=0)/float(cooccurence_matrix.shape[0])\n",
    "        user_sim_scores = np.array(user_sim_scores)[0].tolist()\n",
    " \n",
    "        #Sort the indices of user_sim_scores based upon their value\n",
    "        #Also maintain the corresponding score\n",
    "        sort_index = sorted(((e,i) for i,e in enumerate(list(user_sim_scores))), reverse=True)\n",
    "    \n",
    "        #Create a dataframe from the following\n",
    "        columns = ['userId', 'productId', 'score', 'rank']\n",
    "        #index = np.arange(1) # array of numbers for the number of samples\n",
    "        df = pandas.DataFrame(columns=columns)\n",
    "         \n",
    "        #Fill the dataframe with top 10 item based recommendations\n",
    "        rank = 1 \n",
    "        for i in range(0,len(sort_index)):\n",
    "            if ~np.isnan(sort_index[i][0]) and all_songs[sort_index[i][1]] not in user_songs and rank <= 10:\n",
    "                df.loc[len(df)]=[user,all_songs[sort_index[i][1]],sort_index[i][0],rank]\n",
    "                rank = rank+1\n",
    "        \n",
    "        #Handle the case where there are no recommendations\n",
    "        if df.shape[0] == 0:\n",
    "            print(\"The current user has no products for training the item similarity based recommendation model.\")\n",
    "            return -1\n",
    "        else:\n",
    "            return df\n",
    " \n",
    "    #Create the item similarity based recommender system model\n",
    "    def create(self, train_data, user_id, item_id):\n",
    "        self.train_data = train_data\n",
    "        self.user_id = user_id\n",
    "        self.item_id = item_id\n",
    "\n",
    "    #Use the item similarity based recommender system model to\n",
    "    #make recommendations\n",
    "    def recommend(self, user):\n",
    "        \n",
    "        ########################################\n",
    "        #A. Get all unique songs for this user\n",
    "        ########################################\n",
    "        user_songs = self.get_user_items(user)    \n",
    "            \n",
    "        print(\"No. of unique products for the user: %d\" % len(user_songs))\n",
    "        \n",
    "        ######################################################\n",
    "        #B. Get all unique items (songs) in the training data\n",
    "        ######################################################\n",
    "        all_songs = self.get_all_items_train_data()\n",
    "        \n",
    "        print(\"no. of unique products in the training set: %d\" % len(all_songs))\n",
    "         \n",
    "        ###############################################\n",
    "        #C. Construct item cooccurence matrix of size \n",
    "        #len(user_songs) X len(songs)\n",
    "        ###############################################\n",
    "        cooccurence_matrix = self.construct_cooccurence_matrix(user_songs, all_songs)\n",
    "        \n",
    "        #######################################################\n",
    "        #D. Use the cooccurence matrix to make recommendations\n",
    "        #######################################################\n",
    "        df_recommendations = self.generate_top_recommendations(user, cooccurence_matrix, all_songs, user_songs)\n",
    "                \n",
    "        return df_recommendations\n",
    "    \n",
    "    #Get similar items to given items\n",
    "    def get_similar_items(self, item_list):\n",
    "        \n",
    "        user_songs = item_list\n",
    "        \n",
    "        ######################################################\n",
    "        #B. Get all unique items (songs) in the training data\n",
    "        ######################################################\n",
    "        all_songs = self.get_all_items_train_data()\n",
    "        \n",
    "        print(\"no. of unique songs in the training set: %d\" % len(all_songs))\n",
    "         \n",
    "        ###############################################\n",
    "        #C. Construct item cooccurence matrix of size \n",
    "        #len(user_songs) X len(songs)\n",
    "        ###############################################\n",
    "        cooccurence_matrix = self.construct_cooccurence_matrix(user_songs, all_songs)\n",
    "        \n",
    "        #######################################################\n",
    "        #D. Use the cooccurence matrix to make recommendations\n",
    "        #######################################################\n",
    "        user = \"\"\n",
    "        df_recommendations = self.generate_top_recommendations(user, cooccurence_matrix, all_songs, user_songs)\n",
    "         \n",
    "        return df_recommendations"
   ]
  },
  {
   "cell_type": "code",
   "execution_count": 40,
   "metadata": {},
   "outputs": [],
   "source": [
    "is_model = item_similarity_recommender_py()\n",
    "is_model.create(trainset_sk, 'userId', 'productId')"
   ]
  },
  {
   "cell_type": "code",
   "execution_count": 41,
   "metadata": {
    "scrolled": true
   },
   "outputs": [
    {
     "name": "stdout",
     "output_type": "stream",
     "text": [
      "------------------------------------------------------------------------------------\n",
      "Training data products for the user userid: A1VQHH85U7PX0:\n",
      "------------------------------------------------------------------------------------\n",
      "B000FGGG34\n",
      "B000BHQCP4\n",
      "B00007E7JU\n",
      "B008RW6RGE\n",
      "B0011FQUQG\n",
      "B0009XVGMO\n",
      "B00008XETO\n",
      "B000VX6XL6\n",
      "B000OLDG60\n",
      "B00B7XC6PQ\n",
      "B0002V9IKK\n",
      "B003CJTQJC\n",
      "B00829TIEK\n",
      "B007PJ4P4G\n",
      "B0044WWLW0\n",
      "B00181C9LS\n",
      "B001TH7GSW\n",
      "B00168YB78\n",
      "B00HRQB28Y\n",
      "B004DI7CWE\n",
      "B001GKRM90\n",
      "B005276QS6\n",
      "B004VEJYEO\n",
      "B000RB7C4E\n",
      "B00FFZD51Q\n",
      "B00IDYRZ0S\n",
      "B004ALM80A\n",
      "B004R739LE\n",
      "B008ULPD0S\n",
      "B00CRY250U\n",
      "B00007EDM8\n",
      "B00020E4QO\n",
      "B004T9RR6I\n",
      "B0002855KK\n",
      "B0006LSINO\n",
      "B00CXADBRY\n",
      "B0039BPG1U\n",
      "B00000K13I\n",
      "B00004ZCJE\n",
      "B004CLYEAK\n",
      "B006M1MW1Q\n",
      "B0041L3JS4\n",
      "9043413585\n",
      "B005RCVC4E\n",
      "B001M4XCHQ\n",
      "B001GECECQ\n",
      "B0097CZHAU\n",
      "B005KAK2FI\n",
      "B00AB3CGF8\n",
      "B00009R6UU\n",
      "B002QUZL10\n",
      "B00109Y2DQ\n",
      "B0000A98AC\n",
      "B005ELV3HE\n",
      "B000V5G4TK\n",
      "B000V9D5LG\n",
      "B007LK5S0E\n",
      "B00G6CLNCK\n",
      "B00J3HMY1E\n",
      "B000AKK71C\n",
      "B002MUGUFK\n",
      "B001TOD7ME\n",
      "B001DL9WDG\n",
      "B008ULPAT2\n",
      "B002NDBD8K\n",
      "B007X3VEBG\n",
      "B0012V3D3C\n",
      "B002VPE1Z2\n",
      "B002JCSCYS\n",
      "B000BKJZ9Q\n",
      "B002DW96R6\n",
      "B002ISV344\n",
      "B003IE49T8\n",
      "B00DS4LJYG\n",
      "B001MYL1BA\n",
      "B000BUK7KW\n",
      "B000FNDWLQ\n",
      "B008ULPCB8\n",
      "B009NHWVIA\n",
      "B000ZLULOY\n",
      "B002LITT42\n",
      "B001TYRYHS\n",
      "B000KEGCC6\n",
      "B0019RGQVU\n",
      "B000N8OFIW\n",
      "B00076TK6M\n",
      "B003ZLISZU\n",
      "B000YQUTVK\n",
      "B00004Z64Y\n",
      "B003DSCU72\n",
      "B0012MXZ3Y\n",
      "B0099SMFVQ\n",
      "B009H0XQRI\n",
      "B0041H8PH8\n",
      "B003XDE8TK\n",
      "B000066HO4\n",
      "B008HK3SSG\n",
      "B005DLDO4U\n",
      "B00017LRF4\n",
      "B000OTF6G0\n",
      "B000NP3DJW\n",
      "B0001YFXCA\n",
      "B007PJ4PKK\n",
      "B008C4JA66\n",
      "B001D60LG8\n",
      "B004R6WWK4\n",
      "B0006HBCL8\n",
      "B0062XB9FE\n",
      "B002UT42UI\n",
      "B00004TS3Y\n",
      "B000HCT12O\n",
      "B0001YGIB0\n",
      "B001GKJ9EQ\n",
      "B000V5K3FG\n",
      "B00EO96W2I\n",
      "B008MF3X9K\n",
      "B001DULYZG\n",
      "B001BTWOJO\n",
      "B00005QBUU\n",
      "B00170MYIS\n",
      "B00HPM1G8Q\n",
      "B004JJN262\n",
      "B000I81KS0\n",
      "B00009U0XI\n",
      "B0036Q7MV0\n",
      "B000L47AHG\n",
      "B00011R2VS\n",
      "B00074O4UG\n",
      "B001TH7GUU\n",
      "B00BOHNYTW\n",
      "B002LAS1DU\n",
      "B00IVFDZBC\n",
      "B000AZ57M6\n",
      "B001PL951I\n",
      "B002O0L0GC\n",
      "B009YE461C\n",
      "B008ULPA2O\n",
      "B0043T7FXE\n",
      "B00D8X9FSY\n",
      "B000VXIJ3Q\n",
      "B00006JI6E\n",
      "B000EY5F5C\n",
      "B002SIMPXM\n",
      "B000TXZIDM\n",
      "B00E87E1OM\n",
      "B003CJTQJW\n",
      "B000EW8074\n",
      "B009WZRCO6\n",
      "B005OFFH5Y\n",
      "B0015A6YN6\n",
      "B0000BZL5A\n",
      "B00263D7A4\n",
      "B0049SKIDI\n",
      "B00GJO7GOE\n",
      "B000EON3WY\n",
      "B0009EQL5A\n",
      "B000VU0CQG\n",
      "B0031RG29M\n",
      "B0025VKUQQ\n",
      "----------------------------------------------------------------------\n",
      "Recommendation process going on:\n",
      "----------------------------------------------------------------------\n",
      "No. of unique products for the user: 159\n",
      "no. of unique products in the training set: 10250\n",
      "Non zero values in cooccurence_matrix :65278\n"
     ]
    },
    {
     "data": {
      "text/html": [
       "<div>\n",
       "<style scoped>\n",
       "    .dataframe tbody tr th:only-of-type {\n",
       "        vertical-align: middle;\n",
       "    }\n",
       "\n",
       "    .dataframe tbody tr th {\n",
       "        vertical-align: top;\n",
       "    }\n",
       "\n",
       "    .dataframe thead th {\n",
       "        text-align: right;\n",
       "    }\n",
       "</style>\n",
       "<table border=\"1\" class=\"dataframe\">\n",
       "  <thead>\n",
       "    <tr style=\"text-align: right;\">\n",
       "      <th></th>\n",
       "      <th>userId</th>\n",
       "      <th>productId</th>\n",
       "      <th>score</th>\n",
       "      <th>rank</th>\n",
       "    </tr>\n",
       "  </thead>\n",
       "  <tbody>\n",
       "    <tr>\n",
       "      <th>0</th>\n",
       "      <td>A1VQHH85U7PX0</td>\n",
       "      <td>B00F3F0EIU</td>\n",
       "      <td>0.023531</td>\n",
       "      <td>1</td>\n",
       "    </tr>\n",
       "    <tr>\n",
       "      <th>1</th>\n",
       "      <td>A1VQHH85U7PX0</td>\n",
       "      <td>B00137NMMW</td>\n",
       "      <td>0.022234</td>\n",
       "      <td>2</td>\n",
       "    </tr>\n",
       "    <tr>\n",
       "      <th>2</th>\n",
       "      <td>A1VQHH85U7PX0</td>\n",
       "      <td>B009O7XO8U</td>\n",
       "      <td>0.022141</td>\n",
       "      <td>3</td>\n",
       "    </tr>\n",
       "    <tr>\n",
       "      <th>3</th>\n",
       "      <td>A1VQHH85U7PX0</td>\n",
       "      <td>B004TPJKEY</td>\n",
       "      <td>0.022016</td>\n",
       "      <td>4</td>\n",
       "    </tr>\n",
       "    <tr>\n",
       "      <th>4</th>\n",
       "      <td>A1VQHH85U7PX0</td>\n",
       "      <td>B005LMWPYG</td>\n",
       "      <td>0.021962</td>\n",
       "      <td>5</td>\n",
       "    </tr>\n",
       "    <tr>\n",
       "      <th>5</th>\n",
       "      <td>A1VQHH85U7PX0</td>\n",
       "      <td>B002R5AM7C</td>\n",
       "      <td>0.020173</td>\n",
       "      <td>6</td>\n",
       "    </tr>\n",
       "    <tr>\n",
       "      <th>6</th>\n",
       "      <td>A1VQHH85U7PX0</td>\n",
       "      <td>B005FDXMJS</td>\n",
       "      <td>0.019946</td>\n",
       "      <td>7</td>\n",
       "    </tr>\n",
       "    <tr>\n",
       "      <th>7</th>\n",
       "      <td>A1VQHH85U7PX0</td>\n",
       "      <td>B004CLYEH8</td>\n",
       "      <td>0.019932</td>\n",
       "      <td>8</td>\n",
       "    </tr>\n",
       "    <tr>\n",
       "      <th>8</th>\n",
       "      <td>A1VQHH85U7PX0</td>\n",
       "      <td>B0097CXWUW</td>\n",
       "      <td>0.019906</td>\n",
       "      <td>9</td>\n",
       "    </tr>\n",
       "    <tr>\n",
       "      <th>9</th>\n",
       "      <td>A1VQHH85U7PX0</td>\n",
       "      <td>B009PK9S90</td>\n",
       "      <td>0.019887</td>\n",
       "      <td>10</td>\n",
       "    </tr>\n",
       "  </tbody>\n",
       "</table>\n",
       "</div>"
      ],
      "text/plain": [
       "          userId   productId     score rank\n",
       "0  A1VQHH85U7PX0  B00F3F0EIU  0.023531    1\n",
       "1  A1VQHH85U7PX0  B00137NMMW  0.022234    2\n",
       "2  A1VQHH85U7PX0  B009O7XO8U  0.022141    3\n",
       "3  A1VQHH85U7PX0  B004TPJKEY  0.022016    4\n",
       "4  A1VQHH85U7PX0  B005LMWPYG  0.021962    5\n",
       "5  A1VQHH85U7PX0  B002R5AM7C  0.020173    6\n",
       "6  A1VQHH85U7PX0  B005FDXMJS  0.019946    7\n",
       "7  A1VQHH85U7PX0  B004CLYEH8  0.019932    8\n",
       "8  A1VQHH85U7PX0  B0097CXWUW  0.019906    9\n",
       "9  A1VQHH85U7PX0  B009PK9S90  0.019887   10"
      ]
     },
     "execution_count": 41,
     "metadata": {},
     "output_type": "execute_result"
    }
   ],
   "source": [
    "#personalized model to recommed some products\n",
    "user_id = users[5]\n",
    "user_items = is_model.get_user_items(user_id)\n",
    "#\n",
    "print(\"------------------------------------------------------------------------------------\")\n",
    "print(\"Training data products for the user userid: %s:\" % user_id)\n",
    "print(\"------------------------------------------------------------------------------------\")\n",
    "\n",
    "for user_item in user_items:\n",
    "    print(user_item)\n",
    "\n",
    "print(\"----------------------------------------------------------------------\")\n",
    "print(\"Recommendation process going on:\")\n",
    "print(\"----------------------------------------------------------------------\")\n",
    "\n",
    "#Recommend songs for the user using personalized model\n",
    "is_model.recommend(user_id)"
   ]
  },
  {
   "cell_type": "code",
   "execution_count": 42,
   "metadata": {},
   "outputs": [
    {
     "name": "stdout",
     "output_type": "stream",
     "text": [
      "------------------------------------------------------------------------------------\n",
      "Training data products for the user userid: ADLVFFE4VBT8:\n",
      "------------------------------------------------------------------------------------\n",
      "B000FVGM38\n",
      "B0019M9ESC\n",
      "B000MF7R4K\n",
      "B00IF0KJTE\n",
      "B00CBD2X5E\n",
      "B008X9Z528\n",
      "B00GSEOV7U\n",
      "B00FENIPQ4\n",
      "B002WE4HE2\n",
      "B0053R0WWG\n",
      "B00EE18LRU\n",
      "B009C98NPY\n",
      "B000JVCPEY\n",
      "B001P05NBA\n",
      "B001RB1QWW\n",
      "B001GXUCNU\n",
      "B000HEANB0\n",
      "B00006343P\n",
      "B00123WZWK\n",
      "B00005114Z\n",
      "B003O8682Y\n",
      "B003DZ165W\n",
      "B00BZC31WQ\n",
      "B0055QYJIS\n",
      "B005FDXMJS\n",
      "B002PHLZE6\n",
      "B004Q3R9AQ\n",
      "B003VWY0VY\n",
      "B001LF4130\n",
      "B005EWB37S\n",
      "B001GQ39N2\n",
      "B00923G46U\n",
      "B00GPKLWKQ\n",
      "B004CLYJ1Y\n",
      "B000JMJWV2\n",
      "B00006B8K2\n",
      "B004E8Z8Q0\n",
      "B00B588HY2\n",
      "B001PMTAFI\n",
      "B00C57P2BI\n",
      "B001XXAZH6\n",
      "B0011FQUUW\n",
      "B002P3KO8I\n",
      "B008PWUPVY\n",
      "B005KELR3A\n",
      "B001MYLBKG\n",
      "B002C1B9QY\n",
      "B001FRRD48\n",
      "B001RNNXQM\n",
      "B00AQDG9BA\n",
      "B00JWXTOIA\n",
      "B0011U65F2\n",
      "B007PTCFFW\n",
      "B005NHR6KM\n",
      "B008AGP5H4\n",
      "B000BYA5NC\n",
      "B00DR8LAE2\n",
      "B0019M9ENM\n",
      "B0019K3VBU\n",
      "B002BDU89M\n",
      "B002Y6CJJ8\n",
      "B002DEM9G4\n",
      "B0073FE1F0\n",
      "B00608WXGA\n",
      "B00113X7Q4\n",
      "B00G500AE0\n",
      "B002WDMMFO\n",
      "B005GL0H24\n",
      "B002CZ1E2O\n",
      "B00H7FYEPI\n",
      "B00HQ883T4\n",
      "B00JP12170\n",
      "B000M6RX7K\n",
      "B008AF383S\n",
      "B004J4VYG2\n",
      "B0019EHU8G\n",
      "B00BD7L16G\n",
      "B0049MOJ2U\n",
      "B001CCGYJG\n",
      "B00HZT1T5E\n",
      "B000QJ6KXQ\n",
      "B00AYTW80M\n",
      "B00EI4V3FU\n",
      "B002QQ7TLY\n",
      "B008CXTX5U\n",
      "B007XDFNB8\n",
      "B004SD2562\n",
      "B005FDXF2C\n",
      "B00E43JYVU\n",
      "B00F9ZQQ8Q\n",
      "B000DZKUHA\n",
      "B008WAMTZY\n",
      "B00316263Y\n",
      "B00DY2Y28M\n",
      "B00104XCVO\n",
      "B005DM9BGE\n",
      "B003NVMHKY\n",
      "B002WPTMPK\n",
      "B003VAM32E\n",
      "B00685ZCZY\n",
      "B00INNP5VU\n",
      "B0007SKSES\n",
      "B0021AFZBQ\n",
      "B001RKS7AC\n",
      "B005I6EU48\n",
      "B005KELVDG\n",
      "B006GWO5WK\n",
      "B000W5RBQE\n",
      "B002Y27P4Q\n",
      "B005KAK2FI\n",
      "B00178HN0O\n",
      "B001VFNAPU\n",
      "B001B16ZOC\n",
      "B00AOYX2DO\n",
      "B000VMU9VC\n",
      "B00127VF68\n",
      "B00ECERI32\n",
      "B0086V5TVU\n",
      "B000JLU2AI\n",
      "B002LARRDK\n",
      "B009QV72VY\n",
      "B005YQY5TM\n",
      "B004T9RR7C\n",
      "B002ZCXJZE\n",
      "B0019M9EQ4\n",
      "B000RPTUQS\n",
      "B001250KX4\n",
      "B0053NBLFW\n",
      "B0014Z29OU\n",
      "B001RUMW1C\n",
      "B003EYVEUO\n",
      "B0041Q38NU\n",
      "B0016PFBB6\n",
      "B005QBK5V2\n",
      "B002HMWQE2\n",
      "B0018DVX72\n",
      "B003ES5ZUU\n",
      "B000M2GYF6\n",
      "B000EF3YQI\n",
      "B00AEZIESG\n",
      "B001F9IH8M\n",
      "B009LL9VDG\n",
      "B007F9XHBI\n",
      "B00DVFLJDS\n",
      "B001O7F5PI\n",
      "B004TUPCFK\n",
      "B000VCHII4\n",
      "B002MW3G78\n",
      "B00CDIK908\n",
      "B00JP7R7DC\n",
      "B00L1I80K2\n",
      "B0015EXQW4\n",
      "B003YH9EZ8\n",
      "B001DJ7Y2O\n",
      "B00HLDFUM2\n",
      "B00DWMPM92\n",
      "B001JKIHAU\n",
      "B008H7MC2W\n",
      "B001CJRKDS\n",
      "B005FFVTC8\n",
      "B0009MFTSW\n",
      "B00CD8ADKO\n",
      "B003I4FHNA\n",
      "B0039BPG1K\n",
      "B000Y8EXSS\n",
      "B00HL7Z46K\n",
      "B001CTRNYE\n",
      "B0071BTJPI\n",
      "B00EO0MKMI\n",
      "B00CAXC986\n",
      "B000FZX9I0\n",
      "B007M506WS\n",
      "B000NWBVHQ\n",
      "B00AYQ433U\n",
      "B00BJOVUKK\n",
      "B00DQZOIOU\n",
      "B003TNMABW\n",
      "B0079UAT0A\n",
      "B007JIBAZA\n",
      "B0000VP1WQ\n",
      "B000UZH7P6\n",
      "B001D8GR00\n",
      "B000VG0NAU\n",
      "B009NHWVIA\n",
      "B00CHH0JF0\n",
      "B005G0CUP2\n",
      "B00BGCQ3T8\n",
      "B00L3YHF6O\n",
      "B004IM35F8\n",
      "B001CJNWX0\n",
      "B009NUWRF4\n",
      "B00FJXVRM8\n",
      "B005GI2VMG\n",
      "B00A7PPLP2\n",
      "B000Y138EK\n",
      "B0019M4FRW\n",
      "B001XURP7W\n",
      "B0073ESZ58\n",
      "B0019M6GP6\n",
      "B000SY1PQ6\n",
      "B00HHRP11C\n",
      "B008PWUS4I\n",
      "B005Q0WDZE\n",
      "B002MCZJ78\n",
      "B007OY5V68\n",
      "B00HJ4GX10\n",
      "B000HPV3RW\n",
      "B008S2DC84\n",
      "B003ES5ZR8\n",
      "B000OEOMOW\n",
      "B00873ABC4\n",
      "B00139S3U6\n",
      "B001AATTD8\n",
      "B001D7REIK\n",
      "B003MX9L84\n",
      "B002C73WRW\n",
      "B004CLYEH8\n",
      "B004CLYEI2\n",
      "B00267S7XW\n",
      "B00020BJA8\n",
      "B00HK0E0A4\n",
      "B0040702HA\n",
      "B002KBSOXM\n",
      "B00A1EQ950\n",
      "B001TH7GUK\n",
      "B00F6J484O\n",
      "B008X9ZBVI\n",
      "B00JXVPHC8\n",
      "B0026MF17C\n",
      "B001FN2PDG\n",
      "B00E8CF0CE\n",
      "B0007LJHVA\n",
      "B004U78J1G\n",
      "B000HKGK8Y\n",
      "B00ENZRS76\n",
      "B001V9LPT4\n",
      "B0001IXUDK\n",
      "B0054L8MR8\n",
      "B00FDK2OAG\n",
      "B000FDVK2E\n",
      "B005EJLFXI\n",
      "B004J4VYEY\n",
      "B008HK3WK0\n",
      "B00GVRHON2\n",
      "B001OC6DCW\n",
      "B0015HYPOO\n",
      "B000YQSKPM\n",
      "B00EUZV546\n",
      "B0014J07R2\n",
      "B001JTQCU8\n",
      "B0002L5R78\n",
      "B005HGZF7U\n",
      "B0051OKCHG\n",
      "B007KZQM9G\n",
      "B007Y4TTWU\n",
      "B000RPXE74\n",
      "B00DB3SH2G\n",
      "B00B4QESVQ\n",
      "B00CJRZ31S\n",
      "B002YZ3J0W\n",
      "B00CHRID4Y\n",
      "B001F7AJKI\n",
      "B000M51NRM\n",
      "B0081TXIXI\n",
      "B001K7I62Q\n",
      "B008X9Z7N0\n",
      "B00E3K94T6\n",
      "B000F7UXAA\n",
      "B0015GPP5S\n",
      "B004CLYE8C\n",
      "B00834SJSK\n",
      "B00EAR8S76\n",
      "B005IZ65G0\n",
      "B002DEM9HI\n",
      "B00HWSXVDG\n",
      "B002BFA91C\n",
      "B000UF3FT8\n",
      "B005EJLFXS\n",
      "B004T9RR6I\n",
      "B00EFE9OAE\n",
      "B00D5EO27U\n",
      "B002JMYCTC\n",
      "B002PJVUFS\n",
      "B00JX1ZS5O\n",
      "B005KQ2O26\n",
      "B004TPJKEY\n",
      "B0002KKIUA\n",
      "B000A0K4EC\n",
      "B000OH56ZS\n",
      "B002MAPSQM\n",
      "B00HRO3IBA\n",
      "B0032ZZP82\n",
      "B0015AARJI\n",
      "B000TXZIDM\n",
      "B00FDL8TF4\n",
      "B007X3VEBG\n",
      "B002R5AM7C\n",
      "B00FGOTA6K\n",
      "B0043T7FXE\n",
      "B001A5FH9S\n",
      "B008ULPBJG\n",
      "B004XZL980\n",
      "B000069V21\n",
      "B001TH7GUU\n",
      "B000NO8GNG\n",
      "B009O7XO8U\n",
      "B00180B1KO\n",
      "B002XJSB9S\n",
      "B007B6YPAW\n",
      "B0097CXWUW\n",
      "B004GK0GKO\n",
      "B001PTHRL0\n",
      "B004FRSVPU\n",
      "B00EZJQY0C\n",
      "B00BVTLYAY\n",
      "B000Q8UAWY\n",
      "B004KPLNO8\n",
      "B005I6EVUG\n",
      "B0077BB3VA\n",
      "B00BTJIJ40\n",
      "B00JDAIMQ2\n",
      "B002FU5QMK\n",
      "B00153T624\n",
      "B00ETBHOIM\n",
      "B001F7ARTQ\n",
      "B003FMUMN0\n",
      "B000M17AVO\n",
      "B001W1XT5O\n",
      "B008CP5R8K\n",
      "B00CDY0DSA\n",
      "B003M5IQLU\n",
      "B003IT6Z40\n",
      "B0097CZHAU\n",
      "B0056H9KKI\n",
      "B003Y73Q3O\n",
      "B002C1B9PU\n",
      "B004YI9NTS\n",
      "B0045FM6SU\n",
      "B001TH7GUA\n",
      "B00275XTSQ\n",
      "B004NY9V04\n",
      "B008X9ZD5C\n",
      "B000KZ67FC\n",
      "B000CATRHK\n",
      "B0018Z0PWY\n",
      "B001VFUN82\n",
      "B002IC0YL8\n",
      "B008ULPE70\n",
      "B0019M6GS8\n",
      "B0012X5766\n",
      "B005Z6FL80\n",
      "B001CS51DK\n",
      "B005RXGZOU\n",
      "B007C81JL2\n",
      "B003U7LJJ6\n",
      "----------------------------------------------------------------------\n",
      "Recommendation process going on:\n",
      "----------------------------------------------------------------------\n",
      "No. of unique products for the user: 355\n",
      "no. of unique products in the training set: 10250\n",
      "Non zero values in cooccurence_matrix :216334\n"
     ]
    },
    {
     "data": {
      "text/html": [
       "<div>\n",
       "<style scoped>\n",
       "    .dataframe tbody tr th:only-of-type {\n",
       "        vertical-align: middle;\n",
       "    }\n",
       "\n",
       "    .dataframe tbody tr th {\n",
       "        vertical-align: top;\n",
       "    }\n",
       "\n",
       "    .dataframe thead th {\n",
       "        text-align: right;\n",
       "    }\n",
       "</style>\n",
       "<table border=\"1\" class=\"dataframe\">\n",
       "  <thead>\n",
       "    <tr style=\"text-align: right;\">\n",
       "      <th></th>\n",
       "      <th>userId</th>\n",
       "      <th>productId</th>\n",
       "      <th>score</th>\n",
       "      <th>rank</th>\n",
       "    </tr>\n",
       "  </thead>\n",
       "  <tbody>\n",
       "    <tr>\n",
       "      <th>0</th>\n",
       "      <td>ADLVFFE4VBT8</td>\n",
       "      <td>B00HFFDDLG</td>\n",
       "      <td>0.022686</td>\n",
       "      <td>1</td>\n",
       "    </tr>\n",
       "    <tr>\n",
       "      <th>1</th>\n",
       "      <td>ADLVFFE4VBT8</td>\n",
       "      <td>B0082E9K7U</td>\n",
       "      <td>0.022559</td>\n",
       "      <td>2</td>\n",
       "    </tr>\n",
       "    <tr>\n",
       "      <th>2</th>\n",
       "      <td>ADLVFFE4VBT8</td>\n",
       "      <td>B00E3FHXYO</td>\n",
       "      <td>0.021515</td>\n",
       "      <td>3</td>\n",
       "    </tr>\n",
       "    <tr>\n",
       "      <th>3</th>\n",
       "      <td>ADLVFFE4VBT8</td>\n",
       "      <td>B00BB72WX4</td>\n",
       "      <td>0.021355</td>\n",
       "      <td>4</td>\n",
       "    </tr>\n",
       "    <tr>\n",
       "      <th>4</th>\n",
       "      <td>ADLVFFE4VBT8</td>\n",
       "      <td>B00BB6LTI4</td>\n",
       "      <td>0.021175</td>\n",
       "      <td>5</td>\n",
       "    </tr>\n",
       "    <tr>\n",
       "      <th>5</th>\n",
       "      <td>ADLVFFE4VBT8</td>\n",
       "      <td>B00CZDT30S</td>\n",
       "      <td>0.020611</td>\n",
       "      <td>6</td>\n",
       "    </tr>\n",
       "    <tr>\n",
       "      <th>6</th>\n",
       "      <td>ADLVFFE4VBT8</td>\n",
       "      <td>B00GMTN96U</td>\n",
       "      <td>0.020606</td>\n",
       "      <td>7</td>\n",
       "    </tr>\n",
       "    <tr>\n",
       "      <th>7</th>\n",
       "      <td>ADLVFFE4VBT8</td>\n",
       "      <td>B006RG23JC</td>\n",
       "      <td>0.020466</td>\n",
       "      <td>8</td>\n",
       "    </tr>\n",
       "    <tr>\n",
       "      <th>8</th>\n",
       "      <td>ADLVFFE4VBT8</td>\n",
       "      <td>B00G4V0QSK</td>\n",
       "      <td>0.020423</td>\n",
       "      <td>9</td>\n",
       "    </tr>\n",
       "    <tr>\n",
       "      <th>9</th>\n",
       "      <td>ADLVFFE4VBT8</td>\n",
       "      <td>B00FSA8VQ2</td>\n",
       "      <td>0.020276</td>\n",
       "      <td>10</td>\n",
       "    </tr>\n",
       "  </tbody>\n",
       "</table>\n",
       "</div>"
      ],
      "text/plain": [
       "         userId   productId     score rank\n",
       "0  ADLVFFE4VBT8  B00HFFDDLG  0.022686    1\n",
       "1  ADLVFFE4VBT8  B0082E9K7U  0.022559    2\n",
       "2  ADLVFFE4VBT8  B00E3FHXYO  0.021515    3\n",
       "3  ADLVFFE4VBT8  B00BB72WX4  0.021355    4\n",
       "4  ADLVFFE4VBT8  B00BB6LTI4  0.021175    5\n",
       "5  ADLVFFE4VBT8  B00CZDT30S  0.020611    6\n",
       "6  ADLVFFE4VBT8  B00GMTN96U  0.020606    7\n",
       "7  ADLVFFE4VBT8  B006RG23JC  0.020466    8\n",
       "8  ADLVFFE4VBT8  B00G4V0QSK  0.020423    9\n",
       "9  ADLVFFE4VBT8  B00FSA8VQ2  0.020276   10"
      ]
     },
     "execution_count": 42,
     "metadata": {},
     "output_type": "execute_result"
    }
   ],
   "source": [
    "## for another user\n",
    "\n",
    "user_id = users[7]\n",
    "#Fill in the code here\n",
    "user_items = is_model.get_user_items(user_id)\n",
    "#\n",
    "print(\"------------------------------------------------------------------------------------\")\n",
    "print(\"Training data products for the user userid: %s:\" % user_id)\n",
    "print(\"------------------------------------------------------------------------------------\")\n",
    "\n",
    "for user_item in user_items:\n",
    "    print(user_item)\n",
    "\n",
    "print(\"----------------------------------------------------------------------\")\n",
    "print(\"Recommendation process going on:\")\n",
    "print(\"----------------------------------------------------------------------\")\n",
    "\n",
    "#Recommend songs for the user using personalized model\n",
    "is_model.recommend(user_id)"
   ]
  },
  {
   "cell_type": "markdown",
   "metadata": {},
   "source": [
    "## 5. Build Collaborative Filtering model."
   ]
  },
  {
   "cell_type": "code",
   "execution_count": 43,
   "metadata": {},
   "outputs": [
    {
     "data": {
      "text/plain": [
       "collections.defaultdict"
      ]
     },
     "execution_count": 43,
     "metadata": {},
     "output_type": "execute_result"
    }
   ],
   "source": [
    "# user item rating data can be obtained as follows\n",
    "user_records = trainset.ur\n",
    "type(user_records)"
   ]
  },
  {
   "cell_type": "code",
   "execution_count": 44,
   "metadata": {},
   "outputs": [
    {
     "data": {
      "text/plain": [
       "[(0, 4.0),\n",
       " (81, 4.0),\n",
       " (195, 3.0),\n",
       " (278, 4.0),\n",
       " (306, 4.0),\n",
       " (445, 4.0),\n",
       " (501, 5.0),\n",
       " (897, 4.0),\n",
       " (957, 4.0),\n",
       " (1071, 3.0),\n",
       " (1363, 4.0),\n",
       " (1480, 4.0),\n",
       " (1530, 4.0),\n",
       " (1592, 4.0),\n",
       " (1691, 4.0),\n",
       " (1789, 3.0),\n",
       " (2013, 2.0),\n",
       " (2060, 3.0),\n",
       " (237, 4.0),\n",
       " (2958, 4.0),\n",
       " (457, 4.0),\n",
       " (3249, 4.0),\n",
       " (3319, 4.0),\n",
       " (3538, 4.0),\n",
       " (1621, 4.0),\n",
       " (3713, 4.0),\n",
       " (3842, 4.0),\n",
       " (654, 4.0),\n",
       " (3986, 4.0),\n",
       " (4003, 4.0),\n",
       " (4036, 4.0),\n",
       " (4153, 4.0),\n",
       " (3483, 5.0),\n",
       " (4247, 2.0),\n",
       " (4371, 5.0),\n",
       " (4394, 4.0),\n",
       " (4533, 3.0),\n",
       " (4573, 3.0),\n",
       " (4600, 3.0),\n",
       " (4657, 4.0),\n",
       " (4798, 3.0),\n",
       " (4825, 4.0),\n",
       " (4858, 4.0),\n",
       " (4873, 4.0),\n",
       " (5009, 4.0),\n",
       " (5111, 5.0),\n",
       " (5149, 4.0),\n",
       " (5168, 3.0),\n",
       " (5235, 4.0),\n",
       " (5271, 4.0),\n",
       " (5332, 4.0),\n",
       " (5495, 4.0),\n",
       " (5507, 4.0),\n",
       " (5778, 4.0),\n",
       " (4658, 2.0),\n",
       " (5935, 5.0),\n",
       " (5974, 5.0),\n",
       " (2433, 3.0),\n",
       " (6209, 4.0),\n",
       " (5630, 5.0),\n",
       " (6251, 5.0),\n",
       " (6350, 4.0),\n",
       " (6412, 4.0),\n",
       " (6604, 4.0),\n",
       " (2124, 4.0),\n",
       " (2903, 4.0),\n",
       " (6763, 5.0),\n",
       " (6994, 3.0),\n",
       " (4521, 4.0),\n",
       " (7083, 4.0),\n",
       " (7111, 4.0),\n",
       " (425, 4.0),\n",
       " (7258, 2.0),\n",
       " (7348, 4.0),\n",
       " (7459, 4.0),\n",
       " (7466, 4.0),\n",
       " (7691, 2.0),\n",
       " (7129, 4.0),\n",
       " (7761, 4.0),\n",
       " (7771, 4.0),\n",
       " (7775, 3.0),\n",
       " (7859, 3.0),\n",
       " (7871, 1.0),\n",
       " (7959, 2.0),\n",
       " (8022, 4.0),\n",
       " (27, 4.0),\n",
       " (8058, 4.0),\n",
       " (8128, 4.0),\n",
       " (6976, 4.0),\n",
       " (6165, 4.0),\n",
       " (8405, 4.0),\n",
       " (8793, 5.0),\n",
       " (9025, 4.0),\n",
       " (2734, 3.0),\n",
       " (8319, 4.0),\n",
       " (9430, 2.0),\n",
       " (585, 4.0),\n",
       " (8486, 3.0),\n",
       " (9698, 5.0),\n",
       " (9760, 4.0),\n",
       " (9858, 5.0),\n",
       " (9877, 4.0),\n",
       " (9899, 4.0),\n",
       " (9947, 4.0),\n",
       " (1338, 4.0),\n",
       " (10057, 4.0),\n",
       " (4179, 3.0),\n",
       " (10273, 4.0)]"
      ]
     },
     "execution_count": 44,
     "metadata": {},
     "output_type": "execute_result"
    }
   ],
   "source": [
    "user_records[0]"
   ]
  },
  {
   "cell_type": "markdown",
   "metadata": {},
   "source": [
    "### KNN Model"
   ]
  },
  {
   "cell_type": "code",
   "execution_count": 45,
   "metadata": {},
   "outputs": [],
   "source": [
    "from surprise import KNNWithMeans\n",
    "from surprise import accuracy"
   ]
  },
  {
   "cell_type": "code",
   "execution_count": 46,
   "metadata": {
    "scrolled": false
   },
   "outputs": [
    {
     "name": "stdout",
     "output_type": "stream",
     "text": [
      "Computing the pearson similarity matrix...\n",
      "Done computing similarity matrix.\n"
     ]
    },
    {
     "data": {
      "text/plain": [
       "<surprise.prediction_algorithms.knns.KNNWithMeans at 0x29c08d1e320>"
      ]
     },
     "execution_count": 46,
     "metadata": {},
     "output_type": "execute_result"
    }
   ],
   "source": [
    "algo = KNNWithMeans(k=50, sim_options={'name': 'pearson', 'user_based': False})\n",
    "algo.fit(trainset)"
   ]
  },
  {
   "cell_type": "code",
   "execution_count": 47,
   "metadata": {},
   "outputs": [
    {
     "name": "stdout",
     "output_type": "stream",
     "text": [
      "A3W4D8XOGLWUN5\n",
      "B00KC7VY3S\n"
     ]
    }
   ],
   "source": [
    "print(trainset.to_raw_uid(0))\n",
    "print(trainset.to_raw_iid(0))"
   ]
  },
  {
   "cell_type": "code",
   "execution_count": 48,
   "metadata": {},
   "outputs": [],
   "source": [
    "sim_Product = algo.get_neighbors(trainset.to_inner_iid(\"B00AYB3OMG\"), k = 10)"
   ]
  },
  {
   "cell_type": "code",
   "execution_count": 49,
   "metadata": {
    "scrolled": true
   },
   "outputs": [
    {
     "data": {
      "text/plain": [
       "['B00KC7VY3S',\n",
       " 'B004SD2562',\n",
       " 'B00BXF5FVU',\n",
       " 'B004Z9XZHM',\n",
       " 'B009SPUY5O',\n",
       " 'B0044CL1N0',\n",
       " 'B0035JEL6C',\n",
       " 'B002JKEM58',\n",
       " 'B008EQYRRY',\n",
       " 'B001HU4ASU']"
      ]
     },
     "execution_count": 49,
     "metadata": {},
     "output_type": "execute_result"
    }
   ],
   "source": [
    "[trainset.to_raw_iid(x) for x in sim_Product]"
   ]
  },
  {
   "cell_type": "code",
   "execution_count": 50,
   "metadata": {},
   "outputs": [
    {
     "data": {
      "text/plain": [
       "6543"
      ]
     },
     "execution_count": 50,
     "metadata": {},
     "output_type": "execute_result"
    }
   ],
   "source": [
    "len(testset)"
   ]
  },
  {
   "cell_type": "code",
   "execution_count": 51,
   "metadata": {},
   "outputs": [
    {
     "data": {
      "text/plain": [
       "[('ABQWMANK4AR63', 'B002V8C3W2', 4.0),\n",
       " ('A3J8A5L5AF5TX9', 'B001O4EPHA', 5.0),\n",
       " ('A3V7D0LH8L7BG0', 'B000QSF2FY', 4.0),\n",
       " ('A1ODOGXEYECQQ8', 'B001QFYCXO', 3.0),\n",
       " ('A1UQBFCERIP7VJ', 'B0009U7XH4', 5.0)]"
      ]
     },
     "execution_count": 51,
     "metadata": {},
     "output_type": "execute_result"
    }
   ],
   "source": [
    "testset[0:5]"
   ]
  },
  {
   "cell_type": "code",
   "execution_count": 52,
   "metadata": {},
   "outputs": [
    {
     "name": "stdout",
     "output_type": "stream",
     "text": [
      "RMSE: 1.0218\n"
     ]
    },
    {
     "data": {
      "text/plain": [
       "1.0218140913179155"
      ]
     },
     "execution_count": 52,
     "metadata": {},
     "output_type": "execute_result"
    }
   ],
   "source": [
    "# Evalute on test set\n",
    "test_pred = algo.test(testset)\n",
    "\n",
    "# compute RMSE\n",
    "accuracy.rmse(test_pred)"
   ]
  },
  {
   "cell_type": "code",
   "execution_count": 53,
   "metadata": {},
   "outputs": [
    {
     "data": {
      "text/plain": [
       "Prediction(uid='A3V7D0LH8L7BG0', iid='B000QSF2FY', r_ui=4.0, est=4.312176590030785, details={'was_impossible': True, 'reason': 'User and/or item is unkown.'})"
      ]
     },
     "execution_count": 53,
     "metadata": {},
     "output_type": "execute_result"
    }
   ],
   "source": [
    "# View a particular prediction\n",
    "test_pred[2]"
   ]
  },
  {
   "cell_type": "code",
   "execution_count": 54,
   "metadata": {},
   "outputs": [],
   "source": [
    "# convert results to dataframe\n",
    "test_pred_df = pd.DataFrame(test_pred)\n",
    "test_pred_df[\"was_impossible\"] = [x[\"was_impossible\"] for x in test_pred_df[\"details\"]]"
   ]
  },
  {
   "cell_type": "code",
   "execution_count": 55,
   "metadata": {
    "scrolled": false
   },
   "outputs": [
    {
     "data": {
      "text/html": [
       "<div>\n",
       "<style scoped>\n",
       "    .dataframe tbody tr th:only-of-type {\n",
       "        vertical-align: middle;\n",
       "    }\n",
       "\n",
       "    .dataframe tbody tr th {\n",
       "        vertical-align: top;\n",
       "    }\n",
       "\n",
       "    .dataframe thead th {\n",
       "        text-align: right;\n",
       "    }\n",
       "</style>\n",
       "<table border=\"1\" class=\"dataframe\">\n",
       "  <thead>\n",
       "    <tr style=\"text-align: right;\">\n",
       "      <th></th>\n",
       "      <th>uid</th>\n",
       "      <th>iid</th>\n",
       "      <th>r_ui</th>\n",
       "      <th>est</th>\n",
       "      <th>details</th>\n",
       "      <th>was_impossible</th>\n",
       "    </tr>\n",
       "  </thead>\n",
       "  <tbody>\n",
       "    <tr>\n",
       "      <th>2</th>\n",
       "      <td>A3V7D0LH8L7BG0</td>\n",
       "      <td>B000QSF2FY</td>\n",
       "      <td>4.0</td>\n",
       "      <td>4.312177</td>\n",
       "      <td>{'was_impossible': True, 'reason': 'User and/o...</td>\n",
       "      <td>True</td>\n",
       "    </tr>\n",
       "    <tr>\n",
       "      <th>3</th>\n",
       "      <td>A1ODOGXEYECQQ8</td>\n",
       "      <td>B001QFYCXO</td>\n",
       "      <td>3.0</td>\n",
       "      <td>4.312177</td>\n",
       "      <td>{'was_impossible': True, 'reason': 'User and/o...</td>\n",
       "      <td>True</td>\n",
       "    </tr>\n",
       "    <tr>\n",
       "      <th>4</th>\n",
       "      <td>A1UQBFCERIP7VJ</td>\n",
       "      <td>B0009U7XH4</td>\n",
       "      <td>5.0</td>\n",
       "      <td>4.312177</td>\n",
       "      <td>{'was_impossible': True, 'reason': 'User and/o...</td>\n",
       "      <td>True</td>\n",
       "    </tr>\n",
       "    <tr>\n",
       "      <th>8</th>\n",
       "      <td>A3OA4DV4L81N1D</td>\n",
       "      <td>B00829USMQ</td>\n",
       "      <td>4.0</td>\n",
       "      <td>4.312177</td>\n",
       "      <td>{'was_impossible': True, 'reason': 'User and/o...</td>\n",
       "      <td>True</td>\n",
       "    </tr>\n",
       "    <tr>\n",
       "      <th>11</th>\n",
       "      <td>AT6CZDCP4TRGA</td>\n",
       "      <td>B000FUJEM0</td>\n",
       "      <td>4.0</td>\n",
       "      <td>4.312177</td>\n",
       "      <td>{'was_impossible': True, 'reason': 'User and/o...</td>\n",
       "      <td>True</td>\n",
       "    </tr>\n",
       "  </tbody>\n",
       "</table>\n",
       "</div>"
      ],
      "text/plain": [
       "               uid         iid  r_ui       est  \\\n",
       "2   A3V7D0LH8L7BG0  B000QSF2FY   4.0  4.312177   \n",
       "3   A1ODOGXEYECQQ8  B001QFYCXO   3.0  4.312177   \n",
       "4   A1UQBFCERIP7VJ  B0009U7XH4   5.0  4.312177   \n",
       "8   A3OA4DV4L81N1D  B00829USMQ   4.0  4.312177   \n",
       "11   AT6CZDCP4TRGA  B000FUJEM0   4.0  4.312177   \n",
       "\n",
       "                                              details  was_impossible  \n",
       "2   {'was_impossible': True, 'reason': 'User and/o...            True  \n",
       "3   {'was_impossible': True, 'reason': 'User and/o...            True  \n",
       "4   {'was_impossible': True, 'reason': 'User and/o...            True  \n",
       "8   {'was_impossible': True, 'reason': 'User and/o...            True  \n",
       "11  {'was_impossible': True, 'reason': 'User and/o...            True  "
      ]
     },
     "execution_count": 55,
     "metadata": {},
     "output_type": "execute_result"
    }
   ],
   "source": [
    "test_pred_df.loc[test_pred_df.was_impossible].head(5)"
   ]
  },
  {
   "cell_type": "code",
   "execution_count": 56,
   "metadata": {
    "scrolled": false
   },
   "outputs": [
    {
     "data": {
      "text/plain": [
       "uid               3351\n",
       "iid               3351\n",
       "r_ui              3351\n",
       "est               3351\n",
       "details           3351\n",
       "was_impossible    3351\n",
       "dtype: int64"
      ]
     },
     "execution_count": 56,
     "metadata": {},
     "output_type": "execute_result"
    }
   ],
   "source": [
    "test_pred_df.loc[test_pred_df.was_impossible==True].count()"
   ]
  },
  {
   "cell_type": "code",
   "execution_count": 57,
   "metadata": {},
   "outputs": [],
   "source": [
    "testset_new = trainset.build_anti_testset()\n",
    "testset_new[0:5]\n",
    "predictions = algo.test(testset_new[0:10000])\n",
    "predictions_df = pd.DataFrame([[x.uid,x.est] for x in predictions])\n",
    "predictions_df.columns = [\"userId\",\"est_rating\"]\n",
    "predictions_df.sort_values(by = [\"userId\", \"est_rating\"],ascending=False,inplace=True)\n",
    "predictions_df.head()\n",
    "top_10_recos = predictions_df.groupby(\"userId\").head(10).reset_index(drop=True)"
   ]
  },
  {
   "cell_type": "code",
   "execution_count": 58,
   "metadata": {},
   "outputs": [
    {
     "data": {
      "text/html": [
       "<div>\n",
       "<style scoped>\n",
       "    .dataframe tbody tr th:only-of-type {\n",
       "        vertical-align: middle;\n",
       "    }\n",
       "\n",
       "    .dataframe tbody tr th {\n",
       "        vertical-align: top;\n",
       "    }\n",
       "\n",
       "    .dataframe thead th {\n",
       "        text-align: right;\n",
       "    }\n",
       "</style>\n",
       "<table border=\"1\" class=\"dataframe\">\n",
       "  <thead>\n",
       "    <tr style=\"text-align: right;\">\n",
       "      <th></th>\n",
       "      <th>userId</th>\n",
       "      <th>est_rating</th>\n",
       "    </tr>\n",
       "  </thead>\n",
       "  <tbody>\n",
       "    <tr>\n",
       "      <th>0</th>\n",
       "      <td>A3W4D8XOGLWUN5</td>\n",
       "      <td>5.0</td>\n",
       "    </tr>\n",
       "    <tr>\n",
       "      <th>1</th>\n",
       "      <td>A3W4D8XOGLWUN5</td>\n",
       "      <td>5.0</td>\n",
       "    </tr>\n",
       "    <tr>\n",
       "      <th>2</th>\n",
       "      <td>A3W4D8XOGLWUN5</td>\n",
       "      <td>5.0</td>\n",
       "    </tr>\n",
       "    <tr>\n",
       "      <th>3</th>\n",
       "      <td>A3W4D8XOGLWUN5</td>\n",
       "      <td>5.0</td>\n",
       "    </tr>\n",
       "    <tr>\n",
       "      <th>4</th>\n",
       "      <td>A3W4D8XOGLWUN5</td>\n",
       "      <td>5.0</td>\n",
       "    </tr>\n",
       "    <tr>\n",
       "      <th>5</th>\n",
       "      <td>A3W4D8XOGLWUN5</td>\n",
       "      <td>5.0</td>\n",
       "    </tr>\n",
       "    <tr>\n",
       "      <th>6</th>\n",
       "      <td>A3W4D8XOGLWUN5</td>\n",
       "      <td>5.0</td>\n",
       "    </tr>\n",
       "    <tr>\n",
       "      <th>7</th>\n",
       "      <td>A3W4D8XOGLWUN5</td>\n",
       "      <td>5.0</td>\n",
       "    </tr>\n",
       "    <tr>\n",
       "      <th>8</th>\n",
       "      <td>A3W4D8XOGLWUN5</td>\n",
       "      <td>5.0</td>\n",
       "    </tr>\n",
       "    <tr>\n",
       "      <th>9</th>\n",
       "      <td>A3W4D8XOGLWUN5</td>\n",
       "      <td>5.0</td>\n",
       "    </tr>\n",
       "  </tbody>\n",
       "</table>\n",
       "</div>"
      ],
      "text/plain": [
       "           userId  est_rating\n",
       "0  A3W4D8XOGLWUN5         5.0\n",
       "1  A3W4D8XOGLWUN5         5.0\n",
       "2  A3W4D8XOGLWUN5         5.0\n",
       "3  A3W4D8XOGLWUN5         5.0\n",
       "4  A3W4D8XOGLWUN5         5.0\n",
       "5  A3W4D8XOGLWUN5         5.0\n",
       "6  A3W4D8XOGLWUN5         5.0\n",
       "7  A3W4D8XOGLWUN5         5.0\n",
       "8  A3W4D8XOGLWUN5         5.0\n",
       "9  A3W4D8XOGLWUN5         5.0"
      ]
     },
     "execution_count": 58,
     "metadata": {},
     "output_type": "execute_result"
    }
   ],
   "source": [
    "top_10_recos"
   ]
  },
  {
   "cell_type": "markdown",
   "metadata": {},
   "source": [
    "### SVD Based"
   ]
  },
  {
   "cell_type": "code",
   "execution_count": 59,
   "metadata": {},
   "outputs": [],
   "source": [
    "from surprise import Dataset,Reader\n",
    "reader = Reader(rating_scale=(1, 5))\n",
    "data = Dataset.load_from_df(ratings_df_new, reader)"
   ]
  },
  {
   "cell_type": "code",
   "execution_count": 60,
   "metadata": {},
   "outputs": [],
   "source": [
    "# Split data to train and test\n",
    "from surprise.model_selection import train_test_split\n",
    "trainset, testset = train_test_split(data, test_size=.25,random_state=123)"
   ]
  },
  {
   "cell_type": "code",
   "execution_count": 61,
   "metadata": {},
   "outputs": [],
   "source": [
    "from surprise import SVD\n",
    "from surprise import accuracy"
   ]
  },
  {
   "cell_type": "code",
   "execution_count": 62,
   "metadata": {},
   "outputs": [
    {
     "data": {
      "text/plain": [
       "<surprise.prediction_algorithms.matrix_factorization.SVD at 0x29c08d0dcc0>"
      ]
     },
     "execution_count": 62,
     "metadata": {},
     "output_type": "execute_result"
    }
   ],
   "source": [
    "svd_model = SVD(n_factors=50,biased=False)\n",
    "svd_model.fit(trainset)"
   ]
  },
  {
   "cell_type": "code",
   "execution_count": 63,
   "metadata": {},
   "outputs": [
    {
     "name": "stdout",
     "output_type": "stream",
     "text": [
      "RMSE: 2.0210\n"
     ]
    },
    {
     "data": {
      "text/plain": [
       "2.0209502707077096"
      ]
     },
     "execution_count": 63,
     "metadata": {},
     "output_type": "execute_result"
    }
   ],
   "source": [
    "test_pred = svd_model.test(testset)\n",
    "accuracy.rmse(test_pred)"
   ]
  },
  {
   "cell_type": "code",
   "execution_count": 64,
   "metadata": {},
   "outputs": [
    {
     "data": {
      "text/plain": [
       "(10837, 50)"
      ]
     },
     "execution_count": 64,
     "metadata": {},
     "output_type": "execute_result"
    }
   ],
   "source": [
    "user_factors = svd_model.pu\n",
    "user_factors.shape\n",
    "item_factors = svd_model.qi\n",
    "item_factors.shape"
   ]
  },
  {
   "cell_type": "code",
   "execution_count": 65,
   "metadata": {},
   "outputs": [
    {
     "data": {
      "text/plain": [
       "array([1.3860494 , 1.5181694 , 3.48661599, 0.48372407, 1.8571862 ])"
      ]
     },
     "execution_count": 65,
     "metadata": {},
     "output_type": "execute_result"
    }
   ],
   "source": [
    "pred = np.dot(user_factors,np.transpose(item_factors))\n",
    "pred[95,0:5]"
   ]
  },
  {
   "cell_type": "code",
   "execution_count": 66,
   "metadata": {},
   "outputs": [
    {
     "data": {
      "text/plain": [
       "Prediction(uid='A3NHUQ33CFH3VM', iid='B00KC7VY3S', r_ui=None, est=1.3860494008996778, details={'was_impossible': False})"
      ]
     },
     "execution_count": 66,
     "metadata": {},
     "output_type": "execute_result"
    }
   ],
   "source": [
    "svd_model.predict(uid = trainset.to_raw_uid(95), iid = trainset.to_raw_iid(0))"
   ]
  },
  {
   "cell_type": "markdown",
   "metadata": {},
   "source": [
    "## 6. Evaluate both the models. (Once the model is trained on the training data, it can be used to compute the error (RMSE) on predictions made on the test data.)"
   ]
  },
  {
   "cell_type": "code",
   "execution_count": 67,
   "metadata": {},
   "outputs": [],
   "source": [
    "#Class to calculate precision and recall\n",
    "\n",
    "import random\n",
    "import pandas\n",
    "\n",
    "class precision_recall_calculator():\n",
    "    \n",
    "    def __init__(self, test_data, train_data, pm, is_model):\n",
    "        self.test_data = test_data\n",
    "        self.train_data = train_data\n",
    "        self.user_test_sample = None\n",
    "        self.model1 = pm\n",
    "        self.model2 = is_model\n",
    "        \n",
    "        self.ism_training_dict = dict()\n",
    "        self.pm_training_dict = dict()\n",
    "        self.test_dict = dict()\n",
    "    \n",
    "    #Method to return random percentage of values from a list\n",
    "    def remove_percentage(self, list_a, percentage):\n",
    "        k = int(len(list_a) * percentage)\n",
    "        random.seed(0)\n",
    "        indicies = random.sample(range(len(list_a)), k)\n",
    "        new_list = [list_a[i] for i in indicies]\n",
    "    \n",
    "        return new_list\n",
    "    \n",
    "    #Create a test sample of users for use in calculating precision\n",
    "    #and recall\n",
    "    def create_user_test_sample(self, percentage):\n",
    "        #Find users common between training and test set\n",
    "        users_test_and_training = list(set(self.test_data['userId'].unique()).intersection(set(self.train_data['userId'].unique())))\n",
    "        print(\"Length of user_test_and_training:%d\" % len(users_test_and_training))\n",
    "\n",
    "        #Take only random user_sample of users for evaluations\n",
    "        self.users_test_sample = self.remove_percentage(users_test_and_training, percentage)\n",
    "\n",
    "        print(\"Length of user sample:%d\" % len(self.users_test_sample))\n",
    "        \n",
    "    #Method to generate recommendations for users in the user test sample\n",
    "    def get_test_sample_recommendations(self):\n",
    "        #For these test_sample users, get top 10 recommendations from training set\n",
    "        #self.ism_training_dict = {}\n",
    "        #self.pm_training_dict = {}\n",
    "\n",
    "        #self.test_dict = {}\n",
    "\n",
    "        for user_id in self.users_test_sample:\n",
    "            #Get items for user_id from item similarity model\n",
    "            print(\"Getting recommendations for user:%s\" % user_id)\n",
    "            user_sim_items = self.model2.recommend(user_id)\n",
    "            print(\"user_sim_items\",user_sim_items.columns)\n",
    "            self.ism_training_dict[user_id] = list(user_sim_items['productId'])\n",
    "    \n",
    "            #Get items for user_id from popularity model\n",
    "            user_sim_items = self.model1.recommend(user_id)\n",
    "            self.pm_training_dict[user_id] = list(user_sim_items['productId'])\n",
    "    \n",
    "            #Get items for user_id from test_data\n",
    "            test_data_user = self.test_data[self.test_data['userId'] == user_id]\n",
    "            self.test_dict[user_id] = set(test_data_user['productId'].unique() )\n",
    "    \n",
    "    #Method to calculate the precision and recall measures\n",
    "    def calculate_precision_recall(self):\n",
    "        #Create cutoff list for precision and recall calculation\n",
    "        cutoff_list = list(range(1,11))\n",
    "\n",
    "\n",
    "        #For each distinct cutoff:\n",
    "        #    1. For each distinct user, calculate precision and recall.\n",
    "        #    2. Calculate average precision and recall.\n",
    "\n",
    "        ism_avg_precision_list = []\n",
    "        ism_avg_recall_list = []\n",
    "        pm_avg_precision_list = []\n",
    "        pm_avg_recall_list = []\n",
    "\n",
    "\n",
    "        num_users_sample = len(self.users_test_sample)\n",
    "        for N in cutoff_list:\n",
    "            ism_sum_precision = 0\n",
    "            ism_sum_recall = 0\n",
    "            pm_sum_precision = 0\n",
    "            pm_sum_recall = 0\n",
    "            ism_avg_precision = 0\n",
    "            ism_avg_recall = 0\n",
    "            pm_avg_precision = 0\n",
    "            pm_avg_recall = 0\n",
    "\n",
    "            for user_id in self.users_test_sample:\n",
    "                ism_hitset = self.test_dict[user_id].intersection(set(self.ism_training_dict[user_id][0:N]))\n",
    "                pm_hitset = self.test_dict[user_id].intersection(set(self.pm_training_dict[user_id][0:N]))\n",
    "                testset = self.test_dict[user_id]\n",
    "        \n",
    "                pm_sum_precision += float(len(pm_hitset))/float(N)\n",
    "                pm_sum_recall += float(len(pm_hitset))/float(len(testset))\n",
    "\n",
    "                ism_sum_precision += float(len(ism_hitset))/float(len(testset))\n",
    "                ism_sum_recall += float(len(ism_hitset))/float(N)\n",
    "        \n",
    "            pm_avg_precision = pm_sum_precision/float(num_users_sample)\n",
    "            pm_avg_recall = pm_sum_recall/float(num_users_sample)\n",
    "    \n",
    "            ism_avg_precision = ism_sum_precision/float(num_users_sample)\n",
    "            ism_avg_recall = ism_sum_recall/float(num_users_sample)\n",
    "\n",
    "            ism_avg_precision_list.append(ism_avg_precision)\n",
    "            ism_avg_recall_list.append(ism_avg_recall)\n",
    "    \n",
    "            pm_avg_precision_list.append(pm_avg_precision)\n",
    "            pm_avg_recall_list.append(pm_avg_recall)\n",
    "            \n",
    "        return (pm_avg_precision_list, pm_avg_recall_list, ism_avg_precision_list, ism_avg_recall_list)\n",
    "     \n",
    "\n",
    "    #A wrapper method to calculate all the evaluation measures\n",
    "    def calculate_measures(self, percentage):\n",
    "        #Create a test sample of users\n",
    "        self.create_user_test_sample(percentage)\n",
    "        \n",
    "        #Generate recommendations for the test sample users\n",
    "        self.get_test_sample_recommendations()\n",
    "        \n",
    "        #Calculate precision and recall at different cutoff values\n",
    "        #for popularity mode (pm) as well as item similarity model (ism)\n",
    "        \n",
    "        return self.calculate_precision_recall()\n",
    "        #return (pm_avg_precision_list, pm_avg_recall_list, ism_avg_precision_list, ism_avg_recall_list)    "
   ]
  },
  {
   "cell_type": "code",
   "execution_count": 68,
   "metadata": {},
   "outputs": [
    {
     "data": {
      "text/plain": [
       "<__main__.Popularity_Recommender at 0x29c00600da0>"
      ]
     },
     "execution_count": 68,
     "metadata": {},
     "output_type": "execute_result"
    }
   ],
   "source": [
    "pr"
   ]
  },
  {
   "cell_type": "code",
   "execution_count": 69,
   "metadata": {
    "scrolled": true
   },
   "outputs": [
    {
     "name": "stdout",
     "output_type": "stream",
     "text": [
      "Length of user_test_and_training:98\n",
      "Length of user sample:4\n",
      "Getting recommendations for user:A3R4794K2RVU1S\n",
      "No. of unique products for the user: 119\n",
      "no. of unique products in the training set: 10250\n",
      "Non zero values in cooccurence_matrix :32954\n",
      "user_sim_items Index(['userId', 'productId', 'score', 'rank'], dtype='object')\n",
      "Getting recommendations for user:ABDR6IJ93HFIO\n",
      "No. of unique products for the user: 140\n",
      "no. of unique products in the training set: 10250\n",
      "Non zero values in cooccurence_matrix :53081\n",
      "user_sim_items Index(['userId', 'productId', 'score', 'rank'], dtype='object')\n",
      "Getting recommendations for user:AZMY6E8B52L2T\n",
      "No. of unique products for the user: 122\n",
      "no. of unique products in the training set: 10250\n",
      "Non zero values in cooccurence_matrix :54701\n",
      "user_sim_items Index(['userId', 'productId', 'score', 'rank'], dtype='object')\n",
      "Getting recommendations for user:A1RPTVW5VEOSI\n",
      "No. of unique products for the user: 112\n",
      "no. of unique products in the training set: 10250\n",
      "Non zero values in cooccurence_matrix :31207\n",
      "user_sim_items Index(['userId', 'productId', 'score', 'rank'], dtype='object')\n",
      "220.93722128868103\n"
     ]
    }
   ],
   "source": [
    "import time\n",
    "start = time.time()\n",
    "\n",
    "#Define what percentage of users to use for precision recall calculation\n",
    "user_sample = 0.05\n",
    "\n",
    "#Instantiate the precision_recall_calculator class\n",
    "pm = precision_recall_calculator(testset_sk, trainset_sk, pr, is_model)\n",
    "\n",
    "#Call method to calculate precision and recall values\n",
    "(pm_avg_precision_list, pm_avg_recall_list, ism_avg_precision_list, ism_avg_recall_list) = pm.calculate_measures(user_sample)\n",
    "\n",
    "end = time.time()\n",
    "print(end - start)"
   ]
  },
  {
   "cell_type": "code",
   "execution_count": 70,
   "metadata": {},
   "outputs": [
    {
     "name": "stdout",
     "output_type": "stream",
     "text": [
      "[0.25, 0.125, 0.08333333333333333, 0.0625, 0.05, 0.041666666666666664, 0.03571428571428571, 0.03125, 0.05555555555555555, 0.1]\n"
     ]
    }
   ],
   "source": [
    "print(pm_avg_precision_list)"
   ]
  },
  {
   "cell_type": "code",
   "execution_count": 71,
   "metadata": {},
   "outputs": [
    {
     "name": "stdout",
     "output_type": "stream",
     "text": [
      "[0.0037313432835820895, 0.0037313432835820895, 0.0037313432835820895, 0.0037313432835820895, 0.0037313432835820895, 0.0037313432835820895, 0.0037313432835820895, 0.0037313432835820895, 0.008276797829036635, 0.01745188200412081]\n"
     ]
    }
   ],
   "source": [
    "print(pm_avg_recall_list)"
   ]
  },
  {
   "cell_type": "code",
   "execution_count": 72,
   "metadata": {},
   "outputs": [
    {
     "name": "stdout",
     "output_type": "stream",
     "text": [
      "[0.0, 0.0, 0.0, 0.0, 0.0037313432835820895, 0.0037313432835820895, 0.011848651479444881, 0.011848651479444881, 0.011848651479444881, 0.011848651479444881]\n"
     ]
    }
   ],
   "source": [
    "print(ism_avg_precision_list)"
   ]
  },
  {
   "cell_type": "code",
   "execution_count": 73,
   "metadata": {},
   "outputs": [
    {
     "name": "stdout",
     "output_type": "stream",
     "text": [
      "[0.0, 0.0, 0.0, 0.0, 0.05, 0.041666666666666664, 0.10714285714285714, 0.09375, 0.08333333333333333, 0.07500000000000001]\n"
     ]
    }
   ],
   "source": [
    "print(ism_avg_recall_list)"
   ]
  },
  {
   "cell_type": "code",
   "execution_count": 74,
   "metadata": {},
   "outputs": [],
   "source": [
    "import pylab as pl\n",
    "\n",
    "#Method to generate precision and recall curve\n",
    "def plot_precision_recall(m1_precision_list, m1_recall_list, m1_label, m2_precision_list, m2_recall_list, m2_label):\n",
    "    pl.clf()    \n",
    "    pl.plot(m1_recall_list, m1_precision_list, label=m1_label)\n",
    "    pl.plot(m2_recall_list, m2_precision_list, label=m2_label)\n",
    "    pl.xlabel('Recall')\n",
    "    pl.ylabel('Precision')\n",
    "    pl.ylim([0.0, 0.2])\n",
    "    pl.xlim([0.0, 0.2])\n",
    "    pl.title('Precision-Recall curve')\n",
    "    #pl.legend(loc=\"upper right\")\n",
    "    pl.legend(loc=9, bbox_to_anchor=(0.5, -0.2))\n",
    "    pl.show()"
   ]
  },
  {
   "cell_type": "code",
   "execution_count": 75,
   "metadata": {},
   "outputs": [
    {
     "name": "stdout",
     "output_type": "stream",
     "text": [
      "Plotting precision recall curves.\n"
     ]
    },
    {
     "data": {
      "image/png": "[encoded data removed]",
      "text/plain": [
       "<Figure size 432x288 with 1 Axes>"
      ]
     },
     "metadata": {},
     "output_type": "display_data"
    }
   ],
   "source": [
    "print(\"Plotting precision recall curves.\")\n",
    "\n",
    "plot_precision_recall(pm_avg_precision_list, pm_avg_recall_list, \"popularity_model\",\n",
    "                      ism_avg_precision_list, ism_avg_recall_list, \"item_similarity_model\")"
   ]
  },
  {
   "cell_type": "code",
   "execution_count": 76,
   "metadata": {},
   "outputs": [],
   "source": [
    "import recmetrics"
   ]
  },
  {
   "cell_type": "code",
   "execution_count": 77,
   "metadata": {},
   "outputs": [
    {
     "data": {
      "text/html": [
       "<div>\n",
       "<style scoped>\n",
       "    .dataframe tbody tr th:only-of-type {\n",
       "        vertical-align: middle;\n",
       "    }\n",
       "\n",
       "    .dataframe tbody tr th {\n",
       "        vertical-align: top;\n",
       "    }\n",
       "\n",
       "    .dataframe thead th {\n",
       "        text-align: right;\n",
       "    }\n",
       "</style>\n",
       "<table border=\"1\" class=\"dataframe\">\n",
       "  <thead>\n",
       "    <tr style=\"text-align: right;\">\n",
       "      <th></th>\n",
       "      <th>userId</th>\n",
       "      <th>productId</th>\n",
       "      <th>actual</th>\n",
       "      <th>cf_predictions</th>\n",
       "    </tr>\n",
       "  </thead>\n",
       "  <tbody>\n",
       "    <tr>\n",
       "      <th>0</th>\n",
       "      <td>ABQWMANK4AR63</td>\n",
       "      <td>B002V8C3W2</td>\n",
       "      <td>4.0</td>\n",
       "      <td>5.000000</td>\n",
       "    </tr>\n",
       "    <tr>\n",
       "      <th>1</th>\n",
       "      <td>A3J8A5L5AF5TX9</td>\n",
       "      <td>B001O4EPHA</td>\n",
       "      <td>5.0</td>\n",
       "      <td>5.000000</td>\n",
       "    </tr>\n",
       "    <tr>\n",
       "      <th>2</th>\n",
       "      <td>A3V7D0LH8L7BG0</td>\n",
       "      <td>B000QSF2FY</td>\n",
       "      <td>4.0</td>\n",
       "      <td>4.312177</td>\n",
       "    </tr>\n",
       "    <tr>\n",
       "      <th>3</th>\n",
       "      <td>A1ODOGXEYECQQ8</td>\n",
       "      <td>B001QFYCXO</td>\n",
       "      <td>3.0</td>\n",
       "      <td>4.312177</td>\n",
       "    </tr>\n",
       "    <tr>\n",
       "      <th>4</th>\n",
       "      <td>A1UQBFCERIP7VJ</td>\n",
       "      <td>B0009U7XH4</td>\n",
       "      <td>5.0</td>\n",
       "      <td>4.312177</td>\n",
       "    </tr>\n",
       "  </tbody>\n",
       "</table>\n",
       "</div>"
      ],
      "text/plain": [
       "           userId   productId  actual  cf_predictions\n",
       "0   ABQWMANK4AR63  B002V8C3W2     4.0        5.000000\n",
       "1  A3J8A5L5AF5TX9  B001O4EPHA     5.0        5.000000\n",
       "2  A3V7D0LH8L7BG0  B000QSF2FY     4.0        4.312177\n",
       "3  A1ODOGXEYECQQ8  B001QFYCXO     3.0        4.312177\n",
       "4  A1UQBFCERIP7VJ  B0009U7XH4     5.0        4.312177"
      ]
     },
     "execution_count": 77,
     "metadata": {},
     "output_type": "execute_result"
    }
   ],
   "source": [
    "test = test_pred_df.copy()\n",
    "test.drop({\"details\",\"was_impossible\"}, inplace=True, axis=1)\n",
    "test.columns = ['userId', 'productId', 'actual', 'cf_predictions']\n",
    "test.head()"
   ]
  },
  {
   "cell_type": "code",
   "execution_count": 78,
   "metadata": {},
   "outputs": [
    {
     "name": "stdout",
     "output_type": "stream",
     "text": [
      "MSE - 1.0441040372158574\n",
      "RMSE - 1.0218140913179155\n"
     ]
    }
   ],
   "source": [
    "print(\"MSE -\", recmetrics.mse(test.actual, test.cf_predictions))\n",
    "print(\"RMSE -\", recmetrics.rmse(test.actual, test.cf_predictions))"
   ]
  },
  {
   "cell_type": "code",
   "execution_count": 79,
   "metadata": {},
   "outputs": [
    {
     "data": {
      "text/html": [
       "<div>\n",
       "<style scoped>\n",
       "    .dataframe tbody tr th:only-of-type {\n",
       "        vertical-align: middle;\n",
       "    }\n",
       "\n",
       "    .dataframe tbody tr th {\n",
       "        vertical-align: top;\n",
       "    }\n",
       "\n",
       "    .dataframe thead th {\n",
       "        text-align: right;\n",
       "    }\n",
       "</style>\n",
       "<table border=\"1\" class=\"dataframe\">\n",
       "  <thead>\n",
       "    <tr style=\"text-align: right;\">\n",
       "      <th>productId</th>\n",
       "      <th>0972683275</th>\n",
       "      <th>9043413585</th>\n",
       "      <th>B00000DM9W</th>\n",
       "      <th>B00000J08C</th>\n",
       "      <th>B00000J08Q</th>\n",
       "      <th>B00000J1TX</th>\n",
       "      <th>B00000J1US</th>\n",
       "      <th>B00000JBIA</th>\n",
       "      <th>B00000JDGO</th>\n",
       "      <th>B00000JFJA</th>\n",
       "      <th>...</th>\n",
       "      <th>B00L1I80K2</th>\n",
       "      <th>B00L21HC7A</th>\n",
       "      <th>B00L2442H0</th>\n",
       "      <th>B00L26YDA4</th>\n",
       "      <th>B00L2P3TRS</th>\n",
       "      <th>B00L3YHF6O</th>\n",
       "      <th>B00L8I6SFY</th>\n",
       "      <th>B00LBZ1Z7K</th>\n",
       "      <th>B00LGQ6HL8</th>\n",
       "      <th>B00LI4ZZO8</th>\n",
       "    </tr>\n",
       "    <tr>\n",
       "      <th>userId</th>\n",
       "      <th></th>\n",
       "      <th></th>\n",
       "      <th></th>\n",
       "      <th></th>\n",
       "      <th></th>\n",
       "      <th></th>\n",
       "      <th></th>\n",
       "      <th></th>\n",
       "      <th></th>\n",
       "      <th></th>\n",
       "      <th></th>\n",
       "      <th></th>\n",
       "      <th></th>\n",
       "      <th></th>\n",
       "      <th></th>\n",
       "      <th></th>\n",
       "      <th></th>\n",
       "      <th></th>\n",
       "      <th></th>\n",
       "      <th></th>\n",
       "      <th></th>\n",
       "    </tr>\n",
       "  </thead>\n",
       "  <tbody>\n",
       "    <tr>\n",
       "      <th>A11I1I9QLMAM1A</th>\n",
       "      <td>0.0</td>\n",
       "      <td>0.0</td>\n",
       "      <td>0.0</td>\n",
       "      <td>0.0</td>\n",
       "      <td>0.0</td>\n",
       "      <td>0.0</td>\n",
       "      <td>0.0</td>\n",
       "      <td>0.0</td>\n",
       "      <td>0.0</td>\n",
       "      <td>0.0</td>\n",
       "      <td>...</td>\n",
       "      <td>0.0</td>\n",
       "      <td>0.0</td>\n",
       "      <td>0.0</td>\n",
       "      <td>0.0</td>\n",
       "      <td>0.0</td>\n",
       "      <td>0.0</td>\n",
       "      <td>0.0</td>\n",
       "      <td>0.0</td>\n",
       "      <td>0.0</td>\n",
       "      <td>0.0</td>\n",
       "    </tr>\n",
       "    <tr>\n",
       "      <th>A11KZ906QD08C5</th>\n",
       "      <td>0.0</td>\n",
       "      <td>0.0</td>\n",
       "      <td>0.0</td>\n",
       "      <td>0.0</td>\n",
       "      <td>0.0</td>\n",
       "      <td>0.0</td>\n",
       "      <td>0.0</td>\n",
       "      <td>0.0</td>\n",
       "      <td>0.0</td>\n",
       "      <td>0.0</td>\n",
       "      <td>...</td>\n",
       "      <td>0.0</td>\n",
       "      <td>0.0</td>\n",
       "      <td>0.0</td>\n",
       "      <td>0.0</td>\n",
       "      <td>0.0</td>\n",
       "      <td>0.0</td>\n",
       "      <td>0.0</td>\n",
       "      <td>0.0</td>\n",
       "      <td>0.0</td>\n",
       "      <td>0.0</td>\n",
       "    </tr>\n",
       "    <tr>\n",
       "      <th>A12DQZKRKTNF5E</th>\n",
       "      <td>0.0</td>\n",
       "      <td>0.0</td>\n",
       "      <td>0.0</td>\n",
       "      <td>0.0</td>\n",
       "      <td>0.0</td>\n",
       "      <td>0.0</td>\n",
       "      <td>0.0</td>\n",
       "      <td>0.0</td>\n",
       "      <td>0.0</td>\n",
       "      <td>0.0</td>\n",
       "      <td>...</td>\n",
       "      <td>0.0</td>\n",
       "      <td>0.0</td>\n",
       "      <td>0.0</td>\n",
       "      <td>0.0</td>\n",
       "      <td>0.0</td>\n",
       "      <td>0.0</td>\n",
       "      <td>0.0</td>\n",
       "      <td>0.0</td>\n",
       "      <td>0.0</td>\n",
       "      <td>0.0</td>\n",
       "    </tr>\n",
       "    <tr>\n",
       "      <th>A15QYHQH80W30L</th>\n",
       "      <td>0.0</td>\n",
       "      <td>0.0</td>\n",
       "      <td>0.0</td>\n",
       "      <td>0.0</td>\n",
       "      <td>0.0</td>\n",
       "      <td>0.0</td>\n",
       "      <td>0.0</td>\n",
       "      <td>0.0</td>\n",
       "      <td>0.0</td>\n",
       "      <td>0.0</td>\n",
       "      <td>...</td>\n",
       "      <td>0.0</td>\n",
       "      <td>0.0</td>\n",
       "      <td>0.0</td>\n",
       "      <td>0.0</td>\n",
       "      <td>0.0</td>\n",
       "      <td>0.0</td>\n",
       "      <td>0.0</td>\n",
       "      <td>0.0</td>\n",
       "      <td>0.0</td>\n",
       "      <td>0.0</td>\n",
       "    </tr>\n",
       "    <tr>\n",
       "      <th>A17BUUBOU0598B</th>\n",
       "      <td>0.0</td>\n",
       "      <td>0.0</td>\n",
       "      <td>0.0</td>\n",
       "      <td>0.0</td>\n",
       "      <td>0.0</td>\n",
       "      <td>0.0</td>\n",
       "      <td>0.0</td>\n",
       "      <td>0.0</td>\n",
       "      <td>0.0</td>\n",
       "      <td>0.0</td>\n",
       "      <td>...</td>\n",
       "      <td>0.0</td>\n",
       "      <td>0.0</td>\n",
       "      <td>0.0</td>\n",
       "      <td>0.0</td>\n",
       "      <td>0.0</td>\n",
       "      <td>0.0</td>\n",
       "      <td>0.0</td>\n",
       "      <td>0.0</td>\n",
       "      <td>0.0</td>\n",
       "      <td>0.0</td>\n",
       "    </tr>\n",
       "    <tr>\n",
       "      <th>A17HMM1M7T9PJ1</th>\n",
       "      <td>0.0</td>\n",
       "      <td>0.0</td>\n",
       "      <td>0.0</td>\n",
       "      <td>0.0</td>\n",
       "      <td>0.0</td>\n",
       "      <td>0.0</td>\n",
       "      <td>0.0</td>\n",
       "      <td>0.0</td>\n",
       "      <td>0.0</td>\n",
       "      <td>0.0</td>\n",
       "      <td>...</td>\n",
       "      <td>0.0</td>\n",
       "      <td>0.0</td>\n",
       "      <td>0.0</td>\n",
       "      <td>0.0</td>\n",
       "      <td>0.0</td>\n",
       "      <td>0.0</td>\n",
       "      <td>0.0</td>\n",
       "      <td>0.0</td>\n",
       "      <td>0.0</td>\n",
       "      <td>0.0</td>\n",
       "    </tr>\n",
       "    <tr>\n",
       "      <th>A18HE80910BTZI</th>\n",
       "      <td>0.0</td>\n",
       "      <td>0.0</td>\n",
       "      <td>0.0</td>\n",
       "      <td>0.0</td>\n",
       "      <td>0.0</td>\n",
       "      <td>0.0</td>\n",
       "      <td>0.0</td>\n",
       "      <td>0.0</td>\n",
       "      <td>0.0</td>\n",
       "      <td>0.0</td>\n",
       "      <td>...</td>\n",
       "      <td>0.0</td>\n",
       "      <td>0.0</td>\n",
       "      <td>0.0</td>\n",
       "      <td>0.0</td>\n",
       "      <td>0.0</td>\n",
       "      <td>0.0</td>\n",
       "      <td>0.0</td>\n",
       "      <td>0.0</td>\n",
       "      <td>0.0</td>\n",
       "      <td>0.0</td>\n",
       "    </tr>\n",
       "    <tr>\n",
       "      <th>A19W47CXJJP1MI</th>\n",
       "      <td>0.0</td>\n",
       "      <td>0.0</td>\n",
       "      <td>0.0</td>\n",
       "      <td>0.0</td>\n",
       "      <td>0.0</td>\n",
       "      <td>0.0</td>\n",
       "      <td>0.0</td>\n",
       "      <td>0.0</td>\n",
       "      <td>0.0</td>\n",
       "      <td>0.0</td>\n",
       "      <td>...</td>\n",
       "      <td>0.0</td>\n",
       "      <td>0.0</td>\n",
       "      <td>0.0</td>\n",
       "      <td>0.0</td>\n",
       "      <td>0.0</td>\n",
       "      <td>0.0</td>\n",
       "      <td>0.0</td>\n",
       "      <td>0.0</td>\n",
       "      <td>0.0</td>\n",
       "      <td>0.0</td>\n",
       "    </tr>\n",
       "    <tr>\n",
       "      <th>A1BT6TL7UCIC5Y</th>\n",
       "      <td>0.0</td>\n",
       "      <td>0.0</td>\n",
       "      <td>0.0</td>\n",
       "      <td>0.0</td>\n",
       "      <td>0.0</td>\n",
       "      <td>0.0</td>\n",
       "      <td>0.0</td>\n",
       "      <td>0.0</td>\n",
       "      <td>0.0</td>\n",
       "      <td>0.0</td>\n",
       "      <td>...</td>\n",
       "      <td>0.0</td>\n",
       "      <td>0.0</td>\n",
       "      <td>0.0</td>\n",
       "      <td>0.0</td>\n",
       "      <td>0.0</td>\n",
       "      <td>0.0</td>\n",
       "      <td>0.0</td>\n",
       "      <td>0.0</td>\n",
       "      <td>0.0</td>\n",
       "      <td>0.0</td>\n",
       "    </tr>\n",
       "    <tr>\n",
       "      <th>A1CMD08Z49PGKQ</th>\n",
       "      <td>0.0</td>\n",
       "      <td>0.0</td>\n",
       "      <td>0.0</td>\n",
       "      <td>0.0</td>\n",
       "      <td>0.0</td>\n",
       "      <td>0.0</td>\n",
       "      <td>0.0</td>\n",
       "      <td>0.0</td>\n",
       "      <td>0.0</td>\n",
       "      <td>0.0</td>\n",
       "      <td>...</td>\n",
       "      <td>0.0</td>\n",
       "      <td>0.0</td>\n",
       "      <td>0.0</td>\n",
       "      <td>0.0</td>\n",
       "      <td>0.0</td>\n",
       "      <td>0.0</td>\n",
       "      <td>0.0</td>\n",
       "      <td>0.0</td>\n",
       "      <td>0.0</td>\n",
       "      <td>0.0</td>\n",
       "    </tr>\n",
       "  </tbody>\n",
       "</table>\n",
       "<p>10 rows × 5192 columns</p>\n",
       "</div>"
      ],
      "text/plain": [
       "productId       0972683275  9043413585  B00000DM9W  B00000J08C  B00000J08Q  \\\n",
       "userId                                                                       \n",
       "A11I1I9QLMAM1A         0.0         0.0         0.0         0.0         0.0   \n",
       "A11KZ906QD08C5         0.0         0.0         0.0         0.0         0.0   \n",
       "A12DQZKRKTNF5E         0.0         0.0         0.0         0.0         0.0   \n",
       "A15QYHQH80W30L         0.0         0.0         0.0         0.0         0.0   \n",
       "A17BUUBOU0598B         0.0         0.0         0.0         0.0         0.0   \n",
       "A17HMM1M7T9PJ1         0.0         0.0         0.0         0.0         0.0   \n",
       "A18HE80910BTZI         0.0         0.0         0.0         0.0         0.0   \n",
       "A19W47CXJJP1MI         0.0         0.0         0.0         0.0         0.0   \n",
       "A1BT6TL7UCIC5Y         0.0         0.0         0.0         0.0         0.0   \n",
       "A1CMD08Z49PGKQ         0.0         0.0         0.0         0.0         0.0   \n",
       "\n",
       "productId       B00000J1TX  B00000J1US  B00000JBIA  B00000JDGO  B00000JFJA  \\\n",
       "userId                                                                       \n",
       "A11I1I9QLMAM1A         0.0         0.0         0.0         0.0         0.0   \n",
       "A11KZ906QD08C5         0.0         0.0         0.0         0.0         0.0   \n",
       "A12DQZKRKTNF5E         0.0         0.0         0.0         0.0         0.0   \n",
       "A15QYHQH80W30L         0.0         0.0         0.0         0.0         0.0   \n",
       "A17BUUBOU0598B         0.0         0.0         0.0         0.0         0.0   \n",
       "A17HMM1M7T9PJ1         0.0         0.0         0.0         0.0         0.0   \n",
       "A18HE80910BTZI         0.0         0.0         0.0         0.0         0.0   \n",
       "A19W47CXJJP1MI         0.0         0.0         0.0         0.0         0.0   \n",
       "A1BT6TL7UCIC5Y         0.0         0.0         0.0         0.0         0.0   \n",
       "A1CMD08Z49PGKQ         0.0         0.0         0.0         0.0         0.0   \n",
       "\n",
       "productId          ...      B00L1I80K2  B00L21HC7A  B00L2442H0  B00L26YDA4  \\\n",
       "userId             ...                                                       \n",
       "A11I1I9QLMAM1A     ...             0.0         0.0         0.0         0.0   \n",
       "A11KZ906QD08C5     ...             0.0         0.0         0.0         0.0   \n",
       "A12DQZKRKTNF5E     ...             0.0         0.0         0.0         0.0   \n",
       "A15QYHQH80W30L     ...             0.0         0.0         0.0         0.0   \n",
       "A17BUUBOU0598B     ...             0.0         0.0         0.0         0.0   \n",
       "A17HMM1M7T9PJ1     ...             0.0         0.0         0.0         0.0   \n",
       "A18HE80910BTZI     ...             0.0         0.0         0.0         0.0   \n",
       "A19W47CXJJP1MI     ...             0.0         0.0         0.0         0.0   \n",
       "A1BT6TL7UCIC5Y     ...             0.0         0.0         0.0         0.0   \n",
       "A1CMD08Z49PGKQ     ...             0.0         0.0         0.0         0.0   \n",
       "\n",
       "productId       B00L2P3TRS  B00L3YHF6O  B00L8I6SFY  B00LBZ1Z7K  B00LGQ6HL8  \\\n",
       "userId                                                                       \n",
       "A11I1I9QLMAM1A         0.0         0.0         0.0         0.0         0.0   \n",
       "A11KZ906QD08C5         0.0         0.0         0.0         0.0         0.0   \n",
       "A12DQZKRKTNF5E         0.0         0.0         0.0         0.0         0.0   \n",
       "A15QYHQH80W30L         0.0         0.0         0.0         0.0         0.0   \n",
       "A17BUUBOU0598B         0.0         0.0         0.0         0.0         0.0   \n",
       "A17HMM1M7T9PJ1         0.0         0.0         0.0         0.0         0.0   \n",
       "A18HE80910BTZI         0.0         0.0         0.0         0.0         0.0   \n",
       "A19W47CXJJP1MI         0.0         0.0         0.0         0.0         0.0   \n",
       "A1BT6TL7UCIC5Y         0.0         0.0         0.0         0.0         0.0   \n",
       "A1CMD08Z49PGKQ         0.0         0.0         0.0         0.0         0.0   \n",
       "\n",
       "productId       B00LI4ZZO8  \n",
       "userId                      \n",
       "A11I1I9QLMAM1A         0.0  \n",
       "A11KZ906QD08C5         0.0  \n",
       "A12DQZKRKTNF5E         0.0  \n",
       "A15QYHQH80W30L         0.0  \n",
       "A17BUUBOU0598B         0.0  \n",
       "A17HMM1M7T9PJ1         0.0  \n",
       "A18HE80910BTZI         0.0  \n",
       "A19W47CXJJP1MI         0.0  \n",
       "A1BT6TL7UCIC5Y         0.0  \n",
       "A1CMD08Z49PGKQ         0.0  \n",
       "\n",
       "[10 rows x 5192 columns]"
      ]
     },
     "execution_count": 79,
     "metadata": {},
     "output_type": "execute_result"
    }
   ],
   "source": [
    "cf_model = test.pivot_table(index='userId', columns='productId', values='cf_predictions').fillna(0)\n",
    "cf_model.head(10)"
   ]
  },
  {
   "cell_type": "code",
   "execution_count": 80,
   "metadata": {},
   "outputs": [
    {
     "data": {
      "text/plain": [
       "'A680RUE1FDO8B'"
      ]
     },
     "execution_count": 80,
     "metadata": {},
     "output_type": "execute_result"
    }
   ],
   "source": [
    "test_pred_df.iloc[162,0]"
   ]
  },
  {
   "cell_type": "code",
   "execution_count": 81,
   "metadata": {},
   "outputs": [],
   "source": [
    "def get_users_predictions(userId, n, model):\n",
    "    recommended_items = pd.DataFrame(model.loc[userId])\n",
    "    recommended_items.columns = [\"predicted_rating\"]\n",
    "    recommended_items = recommended_items.sort_values('predicted_rating', ascending=False)    \n",
    "    recommended_items = recommended_items.head(n)\n",
    "    return recommended_items.index.tolist()"
   ]
  },
  {
   "cell_type": "code",
   "execution_count": 82,
   "metadata": {},
   "outputs": [
    {
     "data": {
      "text/plain": [
       "['B001F7AJKI',\n",
       " 'B000UE50O2',\n",
       " 'B004V4IWHY',\n",
       " 'B001764QQU',\n",
       " 'B004K1EZDS',\n",
       " 'B0009GZAGO',\n",
       " 'B000W4TZSC',\n",
       " 'B005BOMTT0',\n",
       " 'B000ZMCILW',\n",
       " 'B007BWTOHU']"
      ]
     },
     "execution_count": 82,
     "metadata": {},
     "output_type": "execute_result"
    }
   ],
   "source": [
    "# Get example prediction\n",
    "get_users_predictions('A2XRMQA6PJ5ZJ8', 10, cf_model)"
   ]
  },
  {
   "cell_type": "code",
   "execution_count": 83,
   "metadata": {},
   "outputs": [
    {
     "data": {
      "text/html": [
       "<div>\n",
       "<style scoped>\n",
       "    .dataframe tbody tr th:only-of-type {\n",
       "        vertical-align: middle;\n",
       "    }\n",
       "\n",
       "    .dataframe tbody tr th {\n",
       "        vertical-align: top;\n",
       "    }\n",
       "\n",
       "    .dataframe thead th {\n",
       "        text-align: right;\n",
       "    }\n",
       "</style>\n",
       "<table border=\"1\" class=\"dataframe\">\n",
       "  <thead>\n",
       "    <tr style=\"text-align: right;\">\n",
       "      <th></th>\n",
       "      <th>actual</th>\n",
       "      <th>cf_predictions</th>\n",
       "    </tr>\n",
       "    <tr>\n",
       "      <th>userId</th>\n",
       "      <th></th>\n",
       "      <th></th>\n",
       "    </tr>\n",
       "  </thead>\n",
       "  <tbody>\n",
       "    <tr>\n",
       "      <th>A11I1I9QLMAM1A</th>\n",
       "      <td>[B000Q3ECFK, B009C3M7H0, B008DWCRQW, B003L77Y5...</td>\n",
       "      <td>[B00E3FHXYO, B00HFFDDLG, B0018O77Q2, B004C9P9T...</td>\n",
       "    </tr>\n",
       "    <tr>\n",
       "      <th>A11KZ906QD08C5</th>\n",
       "      <td>[B003GR6IUK, B000GIT002, B00IVFDZBC, B0044R1VX...</td>\n",
       "      <td>[B004J3V7RO, B00ICZL3KG, B000EHUE7I, B001SER47...</td>\n",
       "    </tr>\n",
       "    <tr>\n",
       "      <th>A12DQZKRKTNF5E</th>\n",
       "      <td>[B00DK2JQOQ, B0009CDYF2, B0052SCU8U, B00DIFIM3...</td>\n",
       "      <td>[B00DKBU5W4, B006YLYYZ6, B006OM75I8, B00FMTIUD...</td>\n",
       "    </tr>\n",
       "    <tr>\n",
       "      <th>A15QYHQH80W30L</th>\n",
       "      <td>[B00009MDBQ, B001J8BPYM, B000144I30, B004HGVH5...</td>\n",
       "      <td>[B000VDCTCI, B000144I30, B009924TSY, B000VRV6L...</td>\n",
       "    </tr>\n",
       "    <tr>\n",
       "      <th>A17BUUBOU0598B</th>\n",
       "      <td>[B004CLYEFK, B004YNE7V2, B00A7FS3AW, B00ATZ9I8...</td>\n",
       "      <td>[B00A7FS3AW, B00023CJI6, B001IYS1QM, B001HMVAW...</td>\n",
       "    </tr>\n",
       "  </tbody>\n",
       "</table>\n",
       "</div>"
      ],
      "text/plain": [
       "                                                           actual  \\\n",
       "userId                                                              \n",
       "A11I1I9QLMAM1A  [B000Q3ECFK, B009C3M7H0, B008DWCRQW, B003L77Y5...   \n",
       "A11KZ906QD08C5  [B003GR6IUK, B000GIT002, B00IVFDZBC, B0044R1VX...   \n",
       "A12DQZKRKTNF5E  [B00DK2JQOQ, B0009CDYF2, B0052SCU8U, B00DIFIM3...   \n",
       "A15QYHQH80W30L  [B00009MDBQ, B001J8BPYM, B000144I30, B004HGVH5...   \n",
       "A17BUUBOU0598B  [B004CLYEFK, B004YNE7V2, B00A7FS3AW, B00ATZ9I8...   \n",
       "\n",
       "                                                   cf_predictions  \n",
       "userId                                                             \n",
       "A11I1I9QLMAM1A  [B00E3FHXYO, B00HFFDDLG, B0018O77Q2, B004C9P9T...  \n",
       "A11KZ906QD08C5  [B004J3V7RO, B00ICZL3KG, B000EHUE7I, B001SER47...  \n",
       "A12DQZKRKTNF5E  [B00DKBU5W4, B006YLYYZ6, B006OM75I8, B00FMTIUD...  \n",
       "A15QYHQH80W30L  [B000VDCTCI, B000144I30, B009924TSY, B000VRV6L...  \n",
       "A17BUUBOU0598B  [B00A7FS3AW, B00023CJI6, B001IYS1QM, B001HMVAW...  "
      ]
     },
     "execution_count": 83,
     "metadata": {},
     "output_type": "execute_result"
    }
   ],
   "source": [
    "\n",
    "test = test.copy().groupby('userId')['productId'].agg({'actual': (lambda x: list(set(x)))})\n",
    "# make recommendations for all members in the test data\n",
    "recs = []\n",
    "for user in test.index:\n",
    "    cf_predictions = get_users_predictions(user, 10, cf_model)\n",
    "    recs.append(cf_predictions)\n",
    "        \n",
    "test['cf_predictions'] = recs\n",
    "test.head()"
   ]
  },
  {
   "cell_type": "code",
   "execution_count": 84,
   "metadata": {},
   "outputs": [
    {
     "data": {
      "text/html": [
       "<div>\n",
       "<style scoped>\n",
       "    .dataframe tbody tr th:only-of-type {\n",
       "        vertical-align: middle;\n",
       "    }\n",
       "\n",
       "    .dataframe tbody tr th {\n",
       "        vertical-align: top;\n",
       "    }\n",
       "\n",
       "    .dataframe thead th {\n",
       "        text-align: right;\n",
       "    }\n",
       "</style>\n",
       "<table border=\"1\" class=\"dataframe\">\n",
       "  <thead>\n",
       "    <tr style=\"text-align: right;\">\n",
       "      <th></th>\n",
       "      <th>actual</th>\n",
       "      <th>cf_predictions</th>\n",
       "      <th>pop_predictions</th>\n",
       "    </tr>\n",
       "    <tr>\n",
       "      <th>userId</th>\n",
       "      <th></th>\n",
       "      <th></th>\n",
       "      <th></th>\n",
       "    </tr>\n",
       "  </thead>\n",
       "  <tbody>\n",
       "    <tr>\n",
       "      <th>A11I1I9QLMAM1A</th>\n",
       "      <td>[B000Q3ECFK, B009C3M7H0, B008DWCRQW, B003L77Y5...</td>\n",
       "      <td>[B00E3FHXYO, B00HFFDDLG, B0018O77Q2, B004C9P9T...</td>\n",
       "      <td>[B003ES5ZUU, B0088CJT4U, B004CLYEDC, B004CLYEF...</td>\n",
       "    </tr>\n",
       "    <tr>\n",
       "      <th>A11KZ906QD08C5</th>\n",
       "      <td>[B003GR6IUK, B000GIT002, B00IVFDZBC, B0044R1VX...</td>\n",
       "      <td>[B004J3V7RO, B00ICZL3KG, B000EHUE7I, B001SER47...</td>\n",
       "      <td>[B003ES5ZUU, B0088CJT4U, B004CLYEDC, B004CLYEF...</td>\n",
       "    </tr>\n",
       "    <tr>\n",
       "      <th>A12DQZKRKTNF5E</th>\n",
       "      <td>[B00DK2JQOQ, B0009CDYF2, B0052SCU8U, B00DIFIM3...</td>\n",
       "      <td>[B00DKBU5W4, B006YLYYZ6, B006OM75I8, B00FMTIUD...</td>\n",
       "      <td>[B003ES5ZUU, B0088CJT4U, B004CLYEDC, B004CLYEF...</td>\n",
       "    </tr>\n",
       "    <tr>\n",
       "      <th>A15QYHQH80W30L</th>\n",
       "      <td>[B00009MDBQ, B001J8BPYM, B000144I30, B004HGVH5...</td>\n",
       "      <td>[B000VDCTCI, B000144I30, B009924TSY, B000VRV6L...</td>\n",
       "      <td>[B003ES5ZUU, B0088CJT4U, B004CLYEDC, B004CLYEF...</td>\n",
       "    </tr>\n",
       "    <tr>\n",
       "      <th>A17BUUBOU0598B</th>\n",
       "      <td>[B004CLYEFK, B004YNE7V2, B00A7FS3AW, B00ATZ9I8...</td>\n",
       "      <td>[B00A7FS3AW, B00023CJI6, B001IYS1QM, B001HMVAW...</td>\n",
       "      <td>[B003ES5ZUU, B0088CJT4U, B004CLYEDC, B004CLYEF...</td>\n",
       "    </tr>\n",
       "  </tbody>\n",
       "</table>\n",
       "</div>"
      ],
      "text/plain": [
       "                                                           actual  \\\n",
       "userId                                                              \n",
       "A11I1I9QLMAM1A  [B000Q3ECFK, B009C3M7H0, B008DWCRQW, B003L77Y5...   \n",
       "A11KZ906QD08C5  [B003GR6IUK, B000GIT002, B00IVFDZBC, B0044R1VX...   \n",
       "A12DQZKRKTNF5E  [B00DK2JQOQ, B0009CDYF2, B0052SCU8U, B00DIFIM3...   \n",
       "A15QYHQH80W30L  [B00009MDBQ, B001J8BPYM, B000144I30, B004HGVH5...   \n",
       "A17BUUBOU0598B  [B004CLYEFK, B004YNE7V2, B00A7FS3AW, B00ATZ9I8...   \n",
       "\n",
       "                                                   cf_predictions  \\\n",
       "userId                                                              \n",
       "A11I1I9QLMAM1A  [B00E3FHXYO, B00HFFDDLG, B0018O77Q2, B004C9P9T...   \n",
       "A11KZ906QD08C5  [B004J3V7RO, B00ICZL3KG, B000EHUE7I, B001SER47...   \n",
       "A12DQZKRKTNF5E  [B00DKBU5W4, B006YLYYZ6, B006OM75I8, B00FMTIUD...   \n",
       "A15QYHQH80W30L  [B000VDCTCI, B000144I30, B009924TSY, B000VRV6L...   \n",
       "A17BUUBOU0598B  [B00A7FS3AW, B00023CJI6, B001IYS1QM, B001HMVAW...   \n",
       "\n",
       "                                                  pop_predictions  \n",
       "userId                                                             \n",
       "A11I1I9QLMAM1A  [B003ES5ZUU, B0088CJT4U, B004CLYEDC, B004CLYEF...  \n",
       "A11KZ906QD08C5  [B003ES5ZUU, B0088CJT4U, B004CLYEDC, B004CLYEF...  \n",
       "A12DQZKRKTNF5E  [B003ES5ZUU, B0088CJT4U, B004CLYEDC, B004CLYEF...  \n",
       "A15QYHQH80W30L  [B003ES5ZUU, B0088CJT4U, B004CLYEDC, B004CLYEF...  \n",
       "A17BUUBOU0598B  [B003ES5ZUU, B0088CJT4U, B004CLYEDC, B004CLYEF...  "
      ]
     },
     "execution_count": 84,
     "metadata": {},
     "output_type": "execute_result"
    }
   ],
   "source": [
    "# make recommendations for all members in the test data based on popularity based approach\n",
    "popularity_recs = ratings_df_new.productId.value_counts().head(10).index.tolist()\n",
    "\n",
    "recs = []\n",
    "for user in test.index:\n",
    "    pop_predictions = popularity_recs\n",
    "    recs.append(pop_predictions)\n",
    "        \n",
    "test['pop_predictions'] = recs\n",
    "test.head()"
   ]
  },
  {
   "cell_type": "code",
   "execution_count": 85,
   "metadata": {},
   "outputs": [
    {
     "data": {
      "text/html": [
       "<div>\n",
       "<style scoped>\n",
       "    .dataframe tbody tr th:only-of-type {\n",
       "        vertical-align: middle;\n",
       "    }\n",
       "\n",
       "    .dataframe tbody tr th {\n",
       "        vertical-align: top;\n",
       "    }\n",
       "\n",
       "    .dataframe thead th {\n",
       "        text-align: right;\n",
       "    }\n",
       "</style>\n",
       "<table border=\"1\" class=\"dataframe\">\n",
       "  <thead>\n",
       "    <tr style=\"text-align: right;\">\n",
       "      <th></th>\n",
       "      <th>actual</th>\n",
       "      <th>cf_predictions</th>\n",
       "      <th>pop_predictions</th>\n",
       "      <th>random_predictions</th>\n",
       "    </tr>\n",
       "    <tr>\n",
       "      <th>userId</th>\n",
       "      <th></th>\n",
       "      <th></th>\n",
       "      <th></th>\n",
       "      <th></th>\n",
       "    </tr>\n",
       "  </thead>\n",
       "  <tbody>\n",
       "    <tr>\n",
       "      <th>A11I1I9QLMAM1A</th>\n",
       "      <td>[B000Q3ECFK, B009C3M7H0, B008DWCRQW, B003L77Y5...</td>\n",
       "      <td>[B00E3FHXYO, B00HFFDDLG, B0018O77Q2, B004C9P9T...</td>\n",
       "      <td>[B003ES5ZUU, B0088CJT4U, B004CLYEDC, B004CLYEF...</td>\n",
       "      <td>[B000XB9GV0, B007VPGL5U, B001RB24L4, B00018U7O...</td>\n",
       "    </tr>\n",
       "    <tr>\n",
       "      <th>A11KZ906QD08C5</th>\n",
       "      <td>[B003GR6IUK, B000GIT002, B00IVFDZBC, B0044R1VX...</td>\n",
       "      <td>[B004J3V7RO, B00ICZL3KG, B000EHUE7I, B001SER47...</td>\n",
       "      <td>[B003ES5ZUU, B0088CJT4U, B004CLYEDC, B004CLYEF...</td>\n",
       "      <td>[B004CLYEE6, B00B5C2UDC, B005EV1R8Y, B001ISKNK...</td>\n",
       "    </tr>\n",
       "    <tr>\n",
       "      <th>A12DQZKRKTNF5E</th>\n",
       "      <td>[B00DK2JQOQ, B0009CDYF2, B0052SCU8U, B00DIFIM3...</td>\n",
       "      <td>[B00DKBU5W4, B006YLYYZ6, B006OM75I8, B00FMTIUD...</td>\n",
       "      <td>[B003ES5ZUU, B0088CJT4U, B004CLYEDC, B004CLYEF...</td>\n",
       "      <td>[B006DEBYWU, B001MSVPM6, B000W8XQS8, B00009XVO...</td>\n",
       "    </tr>\n",
       "    <tr>\n",
       "      <th>A15QYHQH80W30L</th>\n",
       "      <td>[B00009MDBQ, B001J8BPYM, B000144I30, B004HGVH5...</td>\n",
       "      <td>[B000VDCTCI, B000144I30, B009924TSY, B000VRV6L...</td>\n",
       "      <td>[B003ES5ZUU, B0088CJT4U, B004CLYEDC, B004CLYEF...</td>\n",
       "      <td>[B008ULPD0S, B00A3LSDKA, B00CBCUS1G, B000050ZS...</td>\n",
       "    </tr>\n",
       "    <tr>\n",
       "      <th>A17BUUBOU0598B</th>\n",
       "      <td>[B004CLYEFK, B004YNE7V2, B00A7FS3AW, B00ATZ9I8...</td>\n",
       "      <td>[B00A7FS3AW, B00023CJI6, B001IYS1QM, B001HMVAW...</td>\n",
       "      <td>[B003ES5ZUU, B0088CJT4U, B004CLYEDC, B004CLYEF...</td>\n",
       "      <td>[B004X8EO6Q, B004F1NZTS, B007OY5V68, B00HVT27B...</td>\n",
       "    </tr>\n",
       "  </tbody>\n",
       "</table>\n",
       "</div>"
      ],
      "text/plain": [
       "                                                           actual  \\\n",
       "userId                                                              \n",
       "A11I1I9QLMAM1A  [B000Q3ECFK, B009C3M7H0, B008DWCRQW, B003L77Y5...   \n",
       "A11KZ906QD08C5  [B003GR6IUK, B000GIT002, B00IVFDZBC, B0044R1VX...   \n",
       "A12DQZKRKTNF5E  [B00DK2JQOQ, B0009CDYF2, B0052SCU8U, B00DIFIM3...   \n",
       "A15QYHQH80W30L  [B00009MDBQ, B001J8BPYM, B000144I30, B004HGVH5...   \n",
       "A17BUUBOU0598B  [B004CLYEFK, B004YNE7V2, B00A7FS3AW, B00ATZ9I8...   \n",
       "\n",
       "                                                   cf_predictions  \\\n",
       "userId                                                              \n",
       "A11I1I9QLMAM1A  [B00E3FHXYO, B00HFFDDLG, B0018O77Q2, B004C9P9T...   \n",
       "A11KZ906QD08C5  [B004J3V7RO, B00ICZL3KG, B000EHUE7I, B001SER47...   \n",
       "A12DQZKRKTNF5E  [B00DKBU5W4, B006YLYYZ6, B006OM75I8, B00FMTIUD...   \n",
       "A15QYHQH80W30L  [B000VDCTCI, B000144I30, B009924TSY, B000VRV6L...   \n",
       "A17BUUBOU0598B  [B00A7FS3AW, B00023CJI6, B001IYS1QM, B001HMVAW...   \n",
       "\n",
       "                                                  pop_predictions  \\\n",
       "userId                                                              \n",
       "A11I1I9QLMAM1A  [B003ES5ZUU, B0088CJT4U, B004CLYEDC, B004CLYEF...   \n",
       "A11KZ906QD08C5  [B003ES5ZUU, B0088CJT4U, B004CLYEDC, B004CLYEF...   \n",
       "A12DQZKRKTNF5E  [B003ES5ZUU, B0088CJT4U, B004CLYEDC, B004CLYEF...   \n",
       "A15QYHQH80W30L  [B003ES5ZUU, B0088CJT4U, B004CLYEDC, B004CLYEF...   \n",
       "A17BUUBOU0598B  [B003ES5ZUU, B0088CJT4U, B004CLYEDC, B004CLYEF...   \n",
       "\n",
       "                                               random_predictions  \n",
       "userId                                                             \n",
       "A11I1I9QLMAM1A  [B000XB9GV0, B007VPGL5U, B001RB24L4, B00018U7O...  \n",
       "A11KZ906QD08C5  [B004CLYEE6, B00B5C2UDC, B005EV1R8Y, B001ISKNK...  \n",
       "A12DQZKRKTNF5E  [B006DEBYWU, B001MSVPM6, B000W8XQS8, B00009XVO...  \n",
       "A15QYHQH80W30L  [B008ULPD0S, B00A3LSDKA, B00CBCUS1G, B000050ZS...  \n",
       "A17BUUBOU0598B  [B004X8EO6Q, B004F1NZTS, B007OY5V68, B00HVT27B...  "
      ]
     },
     "execution_count": 85,
     "metadata": {},
     "output_type": "execute_result"
    }
   ],
   "source": [
    "\n",
    "recs = []\n",
    "for user in test.index:\n",
    "    random_predictions = ratings_df_new.productId.sample(10).values.tolist()\n",
    "    recs.append(random_predictions)\n",
    "        \n",
    "test['random_predictions'] = recs\n",
    "test.head()"
   ]
  },
  {
   "cell_type": "code",
   "execution_count": 86,
   "metadata": {},
   "outputs": [],
   "source": [
    "actual = test.actual.values.tolist()\n",
    "cf_predictions = test.cf_predictions.values.tolist()\n",
    "pop_predictions = test.pop_predictions.values.tolist()\n",
    "random_predictions = test.random_predictions.values.tolist()"
   ]
  },
  {
   "cell_type": "code",
   "execution_count": 87,
   "metadata": {},
   "outputs": [
    {
     "data": {
      "text/plain": [
       "[0.0013499044484831656,\n",
       " 0.0021157185768614765,\n",
       " 0.002481888782748391,\n",
       " 0.0030089995485617807,\n",
       " 0.0032928106018480677,\n",
       " 0.0035105541454597787,\n",
       " 0.0036400390188762216,\n",
       " 0.003898455705952882,\n",
       " 0.004079141296725298,\n",
       " 0.004225715959125087]"
      ]
     },
     "execution_count": 87,
     "metadata": {},
     "output_type": "execute_result"
    }
   ],
   "source": [
    "pop_mark = []\n",
    "for K in np.arange(1, 11):\n",
    "    pop_mark.extend([recmetrics.mark(actual, pop_predictions, k=K)])\n",
    "pop_mark"
   ]
  },
  {
   "cell_type": "code",
   "execution_count": 88,
   "metadata": {},
   "outputs": [
    {
     "data": {
      "text/plain": [
       "[0.00024891321497940686,\n",
       " 0.00024891321497940686,\n",
       " 0.0003156065589836752,\n",
       " 0.00038641543394945887,\n",
       " 0.0004827826394688552,\n",
       " 0.0004827826394688552,\n",
       " 0.0005630854372797088,\n",
       " 0.0005794381322038323,\n",
       " 0.0005794381322038323,\n",
       " 0.0006260868857491376]"
      ]
     },
     "execution_count": 88,
     "metadata": {},
     "output_type": "execute_result"
    }
   ],
   "source": [
    "random_mark = []\n",
    "for K in np.arange(1, 11):\n",
    "    random_mark.extend([recmetrics.mark(actual, random_predictions, k=K)])\n",
    "random_mark"
   ]
  },
  {
   "cell_type": "code",
   "execution_count": 89,
   "metadata": {},
   "outputs": [
    {
     "data": {
      "text/plain": [
       "[0.01642592436395443,\n",
       " 0.03285184872790886,\n",
       " 0.049277773091863285,\n",
       " 0.06570369745581772,\n",
       " 0.08212962181977214,\n",
       " 0.09855554618372657,\n",
       " 0.11498147054768103,\n",
       " 0.13140739491163544,\n",
       " 0.14783331927558988,\n",
       " 0.16425924363954428]"
      ]
     },
     "execution_count": 89,
     "metadata": {},
     "output_type": "execute_result"
    }
   ],
   "source": [
    "cf_mark = []\n",
    "for K in np.arange(1, 11):\n",
    "    cf_mark.extend([recmetrics.mark(actual, cf_predictions, k=K)])\n",
    "cf_mark"
   ]
  },
  {
   "cell_type": "code",
   "execution_count": 90,
   "metadata": {},
   "outputs": [],
   "source": [
    "catalog = ratings_df_new.productId.unique().tolist()\n",
    "random_coverage = recmetrics.coverage(random_predictions, catalog)\n",
    "pop_coverage = recmetrics.coverage(pop_predictions, catalog)\n",
    "cf_coverage = recmetrics.coverage(cf_predictions, catalog)"
   ]
  },
  {
   "cell_type": "code",
   "execution_count": 91,
   "metadata": {},
   "outputs": [
    {
     "data": {
      "image/png": "[encoded data removed]",
      "text/plain": [
       "<Figure size 720x360 with 1 Axes>"
      ]
     },
     "metadata": {},
     "output_type": "display_data"
    }
   ],
   "source": [
    "coverage_scores = [random_coverage, pop_coverage, cf_coverage]\n",
    "model_names = ['Random Recommender', 'Popularity Recommender', 'Collaborative Filter']\n",
    "\n",
    "fig = plt.figure(figsize=(10, 5))\n",
    "recmetrics.coverage_plot(coverage_scores, model_names)"
   ]
  },
  {
   "cell_type": "code",
   "execution_count": 92,
   "metadata": {},
   "outputs": [
    {
     "data": {
      "text/plain": [
       "0.995097832947612"
      ]
     },
     "execution_count": 92,
     "metadata": {},
     "output_type": "execute_result"
    }
   ],
   "source": [
    "recmetrics.personalization(cf_predictions)"
   ]
  },
  {
   "cell_type": "code",
   "execution_count": 93,
   "metadata": {},
   "outputs": [
    {
     "data": {
      "text/plain": [
       "2.220446049250313e-16"
      ]
     },
     "execution_count": 93,
     "metadata": {},
     "output_type": "execute_result"
    }
   ],
   "source": [
    "recmetrics.personalization(pop_predictions)"
   ]
  },
  {
   "cell_type": "markdown",
   "metadata": {},
   "source": [
    "## 7. Get top - K (K = 5) recommendations. Since our goal is to recommend new products to each user based on his/her habits,we will recommend 5 new products."
   ]
  },
  {
   "cell_type": "code",
   "execution_count": 94,
   "metadata": {},
   "outputs": [],
   "source": [
    "predictions_df = pd.DataFrame([[x.uid,x.iid,x.est] for x in predictions])"
   ]
  },
  {
   "cell_type": "code",
   "execution_count": 95,
   "metadata": {},
   "outputs": [],
   "source": [
    "predictions_df.columns = [\"userId\",\"productId\",\"est_rating\"]\n",
    "predictions_df.sort_values(by = [\"userId\",\"productId\", \"est_rating\"],ascending=False,inplace=True)"
   ]
  },
  {
   "cell_type": "code",
   "execution_count": 96,
   "metadata": {},
   "outputs": [
    {
     "data": {
      "text/html": [
       "<div>\n",
       "<style scoped>\n",
       "    .dataframe tbody tr th:only-of-type {\n",
       "        vertical-align: middle;\n",
       "    }\n",
       "\n",
       "    .dataframe tbody tr th {\n",
       "        vertical-align: top;\n",
       "    }\n",
       "\n",
       "    .dataframe thead th {\n",
       "        text-align: right;\n",
       "    }\n",
       "</style>\n",
       "<table border=\"1\" class=\"dataframe\">\n",
       "  <thead>\n",
       "    <tr style=\"text-align: right;\">\n",
       "      <th></th>\n",
       "      <th>userId</th>\n",
       "      <th>productId</th>\n",
       "      <th>est_rating</th>\n",
       "    </tr>\n",
       "  </thead>\n",
       "  <tbody>\n",
       "    <tr>\n",
       "      <th>0</th>\n",
       "      <td>A3W4D8XOGLWUN5</td>\n",
       "      <td>B00LKG1MC8</td>\n",
       "      <td>5.0</td>\n",
       "    </tr>\n",
       "    <tr>\n",
       "      <th>1</th>\n",
       "      <td>A3W4D8XOGLWUN5</td>\n",
       "      <td>B00LGQ6HL8</td>\n",
       "      <td>5.0</td>\n",
       "    </tr>\n",
       "    <tr>\n",
       "      <th>2</th>\n",
       "      <td>A3W4D8XOGLWUN5</td>\n",
       "      <td>B00LA6T0LS</td>\n",
       "      <td>4.0</td>\n",
       "    </tr>\n",
       "    <tr>\n",
       "      <th>3</th>\n",
       "      <td>A3W4D8XOGLWUN5</td>\n",
       "      <td>B00L8I6SFY</td>\n",
       "      <td>5.0</td>\n",
       "    </tr>\n",
       "    <tr>\n",
       "      <th>4</th>\n",
       "      <td>A3W4D8XOGLWUN5</td>\n",
       "      <td>B00L43HAY6</td>\n",
       "      <td>5.0</td>\n",
       "    </tr>\n",
       "  </tbody>\n",
       "</table>\n",
       "</div>"
      ],
      "text/plain": [
       "           userId   productId  est_rating\n",
       "0  A3W4D8XOGLWUN5  B00LKG1MC8         5.0\n",
       "1  A3W4D8XOGLWUN5  B00LGQ6HL8         5.0\n",
       "2  A3W4D8XOGLWUN5  B00LA6T0LS         4.0\n",
       "3  A3W4D8XOGLWUN5  B00L8I6SFY         5.0\n",
       "4  A3W4D8XOGLWUN5  B00L43HAY6         5.0"
      ]
     },
     "execution_count": 96,
     "metadata": {},
     "output_type": "execute_result"
    }
   ],
   "source": [
    "top_5_recos = predictions_df.groupby(\"userId\").head(5).reset_index(drop=True)\n",
    "top_5_recos.head(5)"
   ]
  },
  {
   "cell_type": "markdown",
   "metadata": {},
   "source": [
    "## 8. Summarise your insights."
   ]
  },
  {
   "cell_type": "markdown",
   "metadata": {},
   "source": [
    "##### Compared to poularity model, recall rate of collaberative filtering is more.\n",
    "\n",
    "##### Coverage of collaberative filetring is better than popularity model. \n",
    "\n",
    "##### We can go for popularity model when the recommendation is not useer's specific"
   ]
  }
 ],
 "metadata": {
  "kernelspec": {
   "display_name": "Python 3",
   "language": "python",
   "name": "python3"
  },
  "language_info": {
   "codemirror_mode": {
    "name": "ipython",
    "version": 3
   },
   "file_extension": ".py",
   "mimetype": "text/x-python",
   "name": "python",
   "nbconvert_exporter": "python",
   "pygments_lexer": "ipython3",
   "version": "3.6.5"
  }
 },
 "nbformat": 4,
 "nbformat_minor": 2
}
