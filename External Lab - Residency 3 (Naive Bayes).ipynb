{
 "cells": [
  {
   "cell_type": "code",
   "execution_count": 1,
   "metadata": {},
   "outputs": [],
   "source": [
    "#Load all required library\n",
    "import pandas as pd\n",
    "import numpy as np\n",
    "import warnings \n",
    "warnings.filterwarnings('ignore')\n",
    "from matplotlib import pyplot as plt\n",
    "%matplotlib inline\n",
    "from sklearn import datasets\n",
    "from sklearn.decomposition import PCA\n",
    "from sklearn.naive_bayes import GaussianNB, BernoulliNB, MultinomialNB\n",
    "from sklearn import metrics"
   ]
  },
  {
   "cell_type": "markdown",
   "metadata": {},
   "source": [
    "### Import Iris.csv"
   ]
  },
  {
   "cell_type": "code",
   "execution_count": 2,
   "metadata": {},
   "outputs": [
    {
     "data": {
      "text/html": [
       "<div>\n",
       "<style scoped>\n",
       "    .dataframe tbody tr th:only-of-type {\n",
       "        vertical-align: middle;\n",
       "    }\n",
       "\n",
       "    .dataframe tbody tr th {\n",
       "        vertical-align: top;\n",
       "    }\n",
       "\n",
       "    .dataframe thead th {\n",
       "        text-align: right;\n",
       "    }\n",
       "</style>\n",
       "<table border=\"1\" class=\"dataframe\">\n",
       "  <thead>\n",
       "    <tr style=\"text-align: right;\">\n",
       "      <th></th>\n",
       "      <th>Sepal Length (in cm)</th>\n",
       "      <th>Sepal Width in (cm)</th>\n",
       "      <th>Petal length (in cm)</th>\n",
       "      <th>Petal width (in cm)</th>\n",
       "      <th>Class</th>\n",
       "    </tr>\n",
       "  </thead>\n",
       "  <tbody>\n",
       "    <tr>\n",
       "      <th>0</th>\n",
       "      <td>5.1</td>\n",
       "      <td>3.5</td>\n",
       "      <td>1.4</td>\n",
       "      <td>0.2</td>\n",
       "      <td>Iris-setosa</td>\n",
       "    </tr>\n",
       "    <tr>\n",
       "      <th>1</th>\n",
       "      <td>4.9</td>\n",
       "      <td>3.0</td>\n",
       "      <td>1.4</td>\n",
       "      <td>0.2</td>\n",
       "      <td>Iris-setosa</td>\n",
       "    </tr>\n",
       "    <tr>\n",
       "      <th>2</th>\n",
       "      <td>4.7</td>\n",
       "      <td>3.2</td>\n",
       "      <td>1.3</td>\n",
       "      <td>0.2</td>\n",
       "      <td>Iris-setosa</td>\n",
       "    </tr>\n",
       "    <tr>\n",
       "      <th>3</th>\n",
       "      <td>4.6</td>\n",
       "      <td>3.1</td>\n",
       "      <td>1.5</td>\n",
       "      <td>0.2</td>\n",
       "      <td>Iris-setosa</td>\n",
       "    </tr>\n",
       "    <tr>\n",
       "      <th>4</th>\n",
       "      <td>5.0</td>\n",
       "      <td>3.6</td>\n",
       "      <td>1.4</td>\n",
       "      <td>0.2</td>\n",
       "      <td>Iris-setosa</td>\n",
       "    </tr>\n",
       "  </tbody>\n",
       "</table>\n",
       "</div>"
      ],
      "text/plain": [
       "   Sepal Length (in cm)  Sepal Width in (cm)  Petal length (in cm)  \\\n",
       "0                   5.1                  3.5                   1.4   \n",
       "1                   4.9                  3.0                   1.4   \n",
       "2                   4.7                  3.2                   1.3   \n",
       "3                   4.6                  3.1                   1.5   \n",
       "4                   5.0                  3.6                   1.4   \n",
       "\n",
       "   Petal width (in cm)        Class  \n",
       "0                  0.2  Iris-setosa  \n",
       "1                  0.2  Iris-setosa  \n",
       "2                  0.2  Iris-setosa  \n",
       "3                  0.2  Iris-setosa  \n",
       "4                  0.2  Iris-setosa  "
      ]
     },
     "execution_count": 2,
     "metadata": {},
     "output_type": "execute_result"
    }
   ],
   "source": [
    "iris = pd.read_csv('iris.csv')\n",
    "iris.head()"
   ]
  },
  {
   "cell_type": "code",
   "execution_count": 3,
   "metadata": {},
   "outputs": [
    {
     "data": {
      "text/plain": [
       "(150, 5)"
      ]
     },
     "execution_count": 3,
     "metadata": {},
     "output_type": "execute_result"
    }
   ],
   "source": [
    "iris.shape"
   ]
  },
  {
   "cell_type": "code",
   "execution_count": 4,
   "metadata": {},
   "outputs": [
    {
     "data": {
      "text/plain": [
       "Sepal Length (in cm)    float64\n",
       "Sepal Width in (cm)     float64\n",
       "Petal length (in cm)    float64\n",
       "Petal width (in cm)     float64\n",
       "Class                    object\n",
       "dtype: object"
      ]
     },
     "execution_count": 4,
     "metadata": {},
     "output_type": "execute_result"
    }
   ],
   "source": [
    "iris.dtypes"
   ]
  },
  {
   "cell_type": "code",
   "execution_count": 5,
   "metadata": {},
   "outputs": [
    {
     "data": {
      "text/plain": [
       "False"
      ]
     },
     "execution_count": 5,
     "metadata": {},
     "output_type": "execute_result"
    }
   ],
   "source": [
    "iris.isnull().values.any()"
   ]
  },
  {
   "cell_type": "code",
   "execution_count": 6,
   "metadata": {},
   "outputs": [
    {
     "data": {
      "text/html": [
       "<div>\n",
       "<style scoped>\n",
       "    .dataframe tbody tr th:only-of-type {\n",
       "        vertical-align: middle;\n",
       "    }\n",
       "\n",
       "    .dataframe tbody tr th {\n",
       "        vertical-align: top;\n",
       "    }\n",
       "\n",
       "    .dataframe thead th {\n",
       "        text-align: right;\n",
       "    }\n",
       "</style>\n",
       "<table border=\"1\" class=\"dataframe\">\n",
       "  <thead>\n",
       "    <tr style=\"text-align: right;\">\n",
       "      <th></th>\n",
       "      <th>Sepal Length (in cm)</th>\n",
       "      <th>Sepal Width in (cm)</th>\n",
       "      <th>Petal length (in cm)</th>\n",
       "      <th>Petal width (in cm)</th>\n",
       "      <th>Species</th>\n",
       "    </tr>\n",
       "  </thead>\n",
       "  <tbody>\n",
       "    <tr>\n",
       "      <th>0</th>\n",
       "      <td>5.1</td>\n",
       "      <td>3.5</td>\n",
       "      <td>1.4</td>\n",
       "      <td>0.2</td>\n",
       "      <td>Iris-setosa</td>\n",
       "    </tr>\n",
       "    <tr>\n",
       "      <th>1</th>\n",
       "      <td>4.9</td>\n",
       "      <td>3.0</td>\n",
       "      <td>1.4</td>\n",
       "      <td>0.2</td>\n",
       "      <td>Iris-setosa</td>\n",
       "    </tr>\n",
       "    <tr>\n",
       "      <th>2</th>\n",
       "      <td>4.7</td>\n",
       "      <td>3.2</td>\n",
       "      <td>1.3</td>\n",
       "      <td>0.2</td>\n",
       "      <td>Iris-setosa</td>\n",
       "    </tr>\n",
       "    <tr>\n",
       "      <th>3</th>\n",
       "      <td>4.6</td>\n",
       "      <td>3.1</td>\n",
       "      <td>1.5</td>\n",
       "      <td>0.2</td>\n",
       "      <td>Iris-setosa</td>\n",
       "    </tr>\n",
       "    <tr>\n",
       "      <th>4</th>\n",
       "      <td>5.0</td>\n",
       "      <td>3.6</td>\n",
       "      <td>1.4</td>\n",
       "      <td>0.2</td>\n",
       "      <td>Iris-setosa</td>\n",
       "    </tr>\n",
       "  </tbody>\n",
       "</table>\n",
       "</div>"
      ],
      "text/plain": [
       "   Sepal Length (in cm)  Sepal Width in (cm)  Petal length (in cm)  \\\n",
       "0                   5.1                  3.5                   1.4   \n",
       "1                   4.9                  3.0                   1.4   \n",
       "2                   4.7                  3.2                   1.3   \n",
       "3                   4.6                  3.1                   1.5   \n",
       "4                   5.0                  3.6                   1.4   \n",
       "\n",
       "   Petal width (in cm)      Species  \n",
       "0                  0.2  Iris-setosa  \n",
       "1                  0.2  Iris-setosa  \n",
       "2                  0.2  Iris-setosa  \n",
       "3                  0.2  Iris-setosa  \n",
       "4                  0.2  Iris-setosa  "
      ]
     },
     "execution_count": 6,
     "metadata": {},
     "output_type": "execute_result"
    }
   ],
   "source": [
    "iris.rename(columns={'Class':'Species'}, inplace=True)\n",
    "iris.head()"
   ]
  },
  {
   "cell_type": "markdown",
   "metadata": {},
   "source": [
    "### Slice data set for Independent variables and dependent variables ( 1 Marks)\n",
    "#### Please note 'Species' is my dependent variables, name it y and independent set data as X"
   ]
  },
  {
   "cell_type": "code",
   "execution_count": 7,
   "metadata": {},
   "outputs": [],
   "source": [
    "from sklearn.model_selection import train_test_split\n",
    "\n",
    "X =  iris.drop(\"Species\", axis=1)\n",
    "y =  iris[['Species']]"
   ]
  },
  {
   "cell_type": "code",
   "execution_count": 8,
   "metadata": {},
   "outputs": [
    {
     "name": "stdout",
     "output_type": "stream",
     "text": [
      "            Species\n",
      "0       Iris-setosa\n",
      "1       Iris-setosa\n",
      "2       Iris-setosa\n",
      "3       Iris-setosa\n",
      "4       Iris-setosa\n",
      "5       Iris-setosa\n",
      "6       Iris-setosa\n",
      "7       Iris-setosa\n",
      "8       Iris-setosa\n",
      "9       Iris-setosa\n",
      "10      Iris-setosa\n",
      "11      Iris-setosa\n",
      "12      Iris-setosa\n",
      "13      Iris-setosa\n",
      "14      Iris-setosa\n",
      "15      Iris-setosa\n",
      "16      Iris-setosa\n",
      "17      Iris-setosa\n",
      "18      Iris-setosa\n",
      "19      Iris-setosa\n",
      "20      Iris-setosa\n",
      "21      Iris-setosa\n",
      "22      Iris-setosa\n",
      "23      Iris-setosa\n",
      "24      Iris-setosa\n",
      "25      Iris-setosa\n",
      "26      Iris-setosa\n",
      "27      Iris-setosa\n",
      "28      Iris-setosa\n",
      "29      Iris-setosa\n",
      "..              ...\n",
      "120  Iris-virginica\n",
      "121  Iris-virginica\n",
      "122  Iris-virginica\n",
      "123  Iris-virginica\n",
      "124  Iris-virginica\n",
      "125  Iris-virginica\n",
      "126  Iris-virginica\n",
      "127  Iris-virginica\n",
      "128  Iris-virginica\n",
      "129  Iris-virginica\n",
      "130  Iris-virginica\n",
      "131  Iris-virginica\n",
      "132  Iris-virginica\n",
      "133  Iris-virginica\n",
      "134  Iris-virginica\n",
      "135  Iris-virginica\n",
      "136  Iris-virginica\n",
      "137  Iris-virginica\n",
      "138  Iris-virginica\n",
      "139  Iris-virginica\n",
      "140  Iris-virginica\n",
      "141  Iris-virginica\n",
      "142  Iris-virginica\n",
      "143  Iris-virginica\n",
      "144  Iris-virginica\n",
      "145  Iris-virginica\n",
      "146  Iris-virginica\n",
      "147  Iris-virginica\n",
      "148  Iris-virginica\n",
      "149  Iris-virginica\n",
      "\n",
      "[150 rows x 1 columns]\n",
      "     Sepal Length (in cm)  Sepal Width in (cm)  Petal length (in cm)  \\\n",
      "0                     5.1                  3.5                   1.4   \n",
      "1                     4.9                  3.0                   1.4   \n",
      "2                     4.7                  3.2                   1.3   \n",
      "3                     4.6                  3.1                   1.5   \n",
      "4                     5.0                  3.6                   1.4   \n",
      "5                     5.4                  3.9                   1.7   \n",
      "6                     4.6                  3.4                   1.4   \n",
      "7                     5.0                  3.4                   1.5   \n",
      "8                     4.4                  2.9                   1.4   \n",
      "9                     4.9                  3.1                   1.5   \n",
      "10                    5.4                  3.7                   1.5   \n",
      "11                    4.8                  3.4                   1.6   \n",
      "12                    4.8                  3.0                   1.4   \n",
      "13                    4.3                  3.0                   1.1   \n",
      "14                    5.8                  4.0                   1.2   \n",
      "15                    5.7                  4.4                   1.5   \n",
      "16                    5.4                  3.9                   1.3   \n",
      "17                    5.1                  3.5                   1.4   \n",
      "18                    5.7                  3.8                   1.7   \n",
      "19                    5.1                  3.8                   1.5   \n",
      "20                    5.4                  3.4                   1.7   \n",
      "21                    5.1                  3.7                   1.5   \n",
      "22                    4.6                  3.6                   1.0   \n",
      "23                    5.1                  3.3                   1.7   \n",
      "24                    4.8                  3.4                   1.9   \n",
      "25                    5.0                  3.0                   1.6   \n",
      "26                    5.0                  3.4                   1.6   \n",
      "27                    5.2                  3.5                   1.5   \n",
      "28                    5.2                  3.4                   1.4   \n",
      "29                    4.7                  3.2                   1.6   \n",
      "..                    ...                  ...                   ...   \n",
      "120                   6.9                  3.2                   5.7   \n",
      "121                   5.6                  2.8                   4.9   \n",
      "122                   7.7                  2.8                   6.7   \n",
      "123                   6.3                  2.7                   4.9   \n",
      "124                   6.7                  3.3                   5.7   \n",
      "125                   7.2                  3.2                   6.0   \n",
      "126                   6.2                  2.8                   4.8   \n",
      "127                   6.1                  3.0                   4.9   \n",
      "128                   6.4                  2.8                   5.6   \n",
      "129                   7.2                  3.0                   5.8   \n",
      "130                   7.4                  2.8                   6.1   \n",
      "131                   7.9                  3.8                   6.4   \n",
      "132                   6.4                  2.8                   5.6   \n",
      "133                   6.3                  2.8                   5.1   \n",
      "134                   6.1                  2.6                   5.6   \n",
      "135                   7.7                  3.0                   6.1   \n",
      "136                   6.3                  3.4                   5.6   \n",
      "137                   6.4                  3.1                   5.5   \n",
      "138                   6.0                  3.0                   4.8   \n",
      "139                   6.9                  3.1                   5.4   \n",
      "140                   6.7                  3.1                   5.6   \n",
      "141                   6.9                  3.1                   5.1   \n",
      "142                   5.8                  2.7                   5.1   \n",
      "143                   6.8                  3.2                   5.9   \n",
      "144                   6.7                  3.3                   5.7   \n",
      "145                   6.7                  3.0                   5.2   \n",
      "146                   6.3                  2.5                   5.0   \n",
      "147                   6.5                  3.0                   5.2   \n",
      "148                   6.2                  3.4                   5.4   \n",
      "149                   5.9                  3.0                   5.1   \n",
      "\n",
      "     Petal width (in cm)  \n",
      "0                    0.2  \n",
      "1                    0.2  \n",
      "2                    0.2  \n",
      "3                    0.2  \n",
      "4                    0.2  \n",
      "5                    0.4  \n",
      "6                    0.3  \n",
      "7                    0.2  \n",
      "8                    0.2  \n",
      "9                    0.1  \n",
      "10                   0.2  \n",
      "11                   0.2  \n",
      "12                   0.1  \n",
      "13                   0.1  \n",
      "14                   0.2  \n",
      "15                   0.4  \n",
      "16                   0.4  \n",
      "17                   0.3  \n",
      "18                   0.3  \n",
      "19                   0.3  \n",
      "20                   0.2  \n",
      "21                   0.4  \n",
      "22                   0.2  \n",
      "23                   0.5  \n",
      "24                   0.2  \n",
      "25                   0.2  \n",
      "26                   0.4  \n",
      "27                   0.2  \n",
      "28                   0.2  \n",
      "29                   0.2  \n",
      "..                   ...  \n",
      "120                  2.3  \n",
      "121                  2.0  \n",
      "122                  2.0  \n",
      "123                  1.8  \n",
      "124                  2.1  \n",
      "125                  1.8  \n",
      "126                  1.8  \n",
      "127                  1.8  \n",
      "128                  2.1  \n",
      "129                  1.6  \n",
      "130                  1.9  \n",
      "131                  2.0  \n",
      "132                  2.2  \n",
      "133                  1.5  \n",
      "134                  1.4  \n",
      "135                  2.3  \n",
      "136                  2.4  \n",
      "137                  1.8  \n",
      "138                  1.8  \n",
      "139                  2.1  \n",
      "140                  2.4  \n",
      "141                  2.3  \n",
      "142                  1.9  \n",
      "143                  2.3  \n",
      "144                  2.5  \n",
      "145                  2.3  \n",
      "146                  1.9  \n",
      "147                  2.0  \n",
      "148                  2.3  \n",
      "149                  1.8  \n",
      "\n",
      "[150 rows x 4 columns]\n"
     ]
    }
   ],
   "source": [
    "#Check the dataset\n",
    "print(y)\n",
    "print(X)"
   ]
  },
  {
   "cell_type": "markdown",
   "metadata": {},
   "source": [
    "### Find the distribution of target variable (Class) (1 Marks)"
   ]
  },
  {
   "cell_type": "markdown",
   "metadata": {},
   "source": [
    "### Plot the distribution of target variable using histogram"
   ]
  },
  {
   "cell_type": "code",
   "execution_count": 9,
   "metadata": {
    "scrolled": true
   },
   "outputs": [
    {
     "data": {
      "image/png": "[encoded data removed]",
      "text/plain": [
       "<Figure size 432x288 with 1 Axes>"
      ]
     },
     "metadata": {},
     "output_type": "display_data"
    }
   ],
   "source": [
    "for col in iris.select_dtypes(include=[object]):\n",
    "    iris[col].value_counts().plot(kind='bar')\n",
    "    plt.show"
   ]
  },
  {
   "cell_type": "markdown",
   "metadata": {},
   "source": [
    "### Plot Scatter Matrix to understand the distribution of variables and give insights from it( 1 Marks)"
   ]
  },
  {
   "cell_type": "code",
   "execution_count": 10,
   "metadata": {},
   "outputs": [
    {
     "data": {
      "text/plain": [
       "<seaborn.axisgrid.PairGrid at 0x1ecc8f34550>"
      ]
     },
     "execution_count": 10,
     "metadata": {},
     "output_type": "execute_result"
    },
    {
     "data": {
      "image/png": "[encoded data removed]",
      "text/plain": [
       "<Figure size 823.5x720 with 20 Axes>"
      ]
     },
     "metadata": {},
     "output_type": "display_data"
    }
   ],
   "source": [
    "import seaborn as sns\n",
    "sns.pairplot(iris,hue=\"Species\",diag_kind='kde')"
   ]
  },
  {
   "cell_type": "code",
   "execution_count": 11,
   "metadata": {},
   "outputs": [],
   "source": [
    "# As Petal width increases -> Sepal Length increases\n",
    "# As Petal width increases -> Sepal Width decreases \n",
    "# As Petal width increases -> Petal Length increases\n",
    "\n",
    "# As Petal Length increases -> Sepal Length increases \n",
    "# As Petal Length increases -> Sepal Width decreases\n",
    "# As Petal Length increases -> Petal Width increases"
   ]
  },
  {
   "cell_type": "markdown",
   "metadata": {},
   "source": [
    "### Summary Statistics and explain insights for at least 2 variables (1 Marks)"
   ]
  },
  {
   "cell_type": "code",
   "execution_count": 12,
   "metadata": {},
   "outputs": [
    {
     "data": {
      "text/html": [
       "<div>\n",
       "<style scoped>\n",
       "    .dataframe tbody tr th:only-of-type {\n",
       "        vertical-align: middle;\n",
       "    }\n",
       "\n",
       "    .dataframe tbody tr th {\n",
       "        vertical-align: top;\n",
       "    }\n",
       "\n",
       "    .dataframe thead th {\n",
       "        text-align: right;\n",
       "    }\n",
       "</style>\n",
       "<table border=\"1\" class=\"dataframe\">\n",
       "  <thead>\n",
       "    <tr style=\"text-align: right;\">\n",
       "      <th></th>\n",
       "      <th>count</th>\n",
       "      <th>mean</th>\n",
       "      <th>std</th>\n",
       "      <th>min</th>\n",
       "      <th>25%</th>\n",
       "      <th>50%</th>\n",
       "      <th>75%</th>\n",
       "      <th>max</th>\n",
       "    </tr>\n",
       "  </thead>\n",
       "  <tbody>\n",
       "    <tr>\n",
       "      <th>Sepal Length (in cm)</th>\n",
       "      <td>150.0</td>\n",
       "      <td>5.843333</td>\n",
       "      <td>0.828066</td>\n",
       "      <td>4.3</td>\n",
       "      <td>5.1</td>\n",
       "      <td>5.80</td>\n",
       "      <td>6.4</td>\n",
       "      <td>7.9</td>\n",
       "    </tr>\n",
       "    <tr>\n",
       "      <th>Sepal Width in (cm)</th>\n",
       "      <td>150.0</td>\n",
       "      <td>3.054000</td>\n",
       "      <td>0.433594</td>\n",
       "      <td>2.0</td>\n",
       "      <td>2.8</td>\n",
       "      <td>3.00</td>\n",
       "      <td>3.3</td>\n",
       "      <td>4.4</td>\n",
       "    </tr>\n",
       "    <tr>\n",
       "      <th>Petal length (in cm)</th>\n",
       "      <td>150.0</td>\n",
       "      <td>3.758667</td>\n",
       "      <td>1.764420</td>\n",
       "      <td>1.0</td>\n",
       "      <td>1.6</td>\n",
       "      <td>4.35</td>\n",
       "      <td>5.1</td>\n",
       "      <td>6.9</td>\n",
       "    </tr>\n",
       "    <tr>\n",
       "      <th>Petal width (in cm)</th>\n",
       "      <td>150.0</td>\n",
       "      <td>1.198667</td>\n",
       "      <td>0.763161</td>\n",
       "      <td>0.1</td>\n",
       "      <td>0.3</td>\n",
       "      <td>1.30</td>\n",
       "      <td>1.8</td>\n",
       "      <td>2.5</td>\n",
       "    </tr>\n",
       "  </tbody>\n",
       "</table>\n",
       "</div>"
      ],
      "text/plain": [
       "                      count      mean       std  min  25%   50%  75%  max\n",
       "Sepal Length (in cm)  150.0  5.843333  0.828066  4.3  5.1  5.80  6.4  7.9\n",
       "Sepal Width in (cm)   150.0  3.054000  0.433594  2.0  2.8  3.00  3.3  4.4\n",
       "Petal length (in cm)  150.0  3.758667  1.764420  1.0  1.6  4.35  5.1  6.9\n",
       "Petal width (in cm)   150.0  1.198667  0.763161  0.1  0.3  1.30  1.8  2.5"
      ]
     },
     "execution_count": 12,
     "metadata": {},
     "output_type": "execute_result"
    }
   ],
   "source": [
    "iris.describe().T"
   ]
  },
  {
   "cell_type": "code",
   "execution_count": 13,
   "metadata": {},
   "outputs": [],
   "source": [
    "# Sepal Width:\n",
    "    # 1. Variation / Std Dev of Sepal Width variable is less compared to other variables\n",
    "    # 2. The mean is very close to Median. The spread of tails almost equally distributed with the distribution tending towards close to normal\n",
    "# Petal Length and Petal Width:\n",
    "    # 1. The mean of the above two variables lesser than Median.\n",
    "    # 2. More points on the left hand side, skewed towards negative."
   ]
  },
  {
   "cell_type": "code",
   "execution_count": 14,
   "metadata": {},
   "outputs": [],
   "source": [
    "#Drop Id variable from data \n",
    "# there is no variable called as id"
   ]
  },
  {
   "cell_type": "markdown",
   "metadata": {},
   "source": [
    "### Correlation among all variables and give your insights (1 Marks)"
   ]
  },
  {
   "cell_type": "code",
   "execution_count": 15,
   "metadata": {},
   "outputs": [
    {
     "data": {
      "text/html": [
       "<div>\n",
       "<style scoped>\n",
       "    .dataframe tbody tr th:only-of-type {\n",
       "        vertical-align: middle;\n",
       "    }\n",
       "\n",
       "    .dataframe tbody tr th {\n",
       "        vertical-align: top;\n",
       "    }\n",
       "\n",
       "    .dataframe thead th {\n",
       "        text-align: right;\n",
       "    }\n",
       "</style>\n",
       "<table border=\"1\" class=\"dataframe\">\n",
       "  <thead>\n",
       "    <tr style=\"text-align: right;\">\n",
       "      <th></th>\n",
       "      <th>Sepal Length (in cm)</th>\n",
       "      <th>Sepal Width in (cm)</th>\n",
       "      <th>Petal length (in cm)</th>\n",
       "      <th>Petal width (in cm)</th>\n",
       "    </tr>\n",
       "  </thead>\n",
       "  <tbody>\n",
       "    <tr>\n",
       "      <th>Sepal Length (in cm)</th>\n",
       "      <td>1.000000</td>\n",
       "      <td>-0.109369</td>\n",
       "      <td>0.871754</td>\n",
       "      <td>0.817954</td>\n",
       "    </tr>\n",
       "    <tr>\n",
       "      <th>Sepal Width in (cm)</th>\n",
       "      <td>-0.109369</td>\n",
       "      <td>1.000000</td>\n",
       "      <td>-0.420516</td>\n",
       "      <td>-0.356544</td>\n",
       "    </tr>\n",
       "    <tr>\n",
       "      <th>Petal length (in cm)</th>\n",
       "      <td>0.871754</td>\n",
       "      <td>-0.420516</td>\n",
       "      <td>1.000000</td>\n",
       "      <td>0.962757</td>\n",
       "    </tr>\n",
       "    <tr>\n",
       "      <th>Petal width (in cm)</th>\n",
       "      <td>0.817954</td>\n",
       "      <td>-0.356544</td>\n",
       "      <td>0.962757</td>\n",
       "      <td>1.000000</td>\n",
       "    </tr>\n",
       "  </tbody>\n",
       "</table>\n",
       "</div>"
      ],
      "text/plain": [
       "                      Sepal Length (in cm)  Sepal Width in (cm)  \\\n",
       "Sepal Length (in cm)              1.000000            -0.109369   \n",
       "Sepal Width in (cm)              -0.109369             1.000000   \n",
       "Petal length (in cm)              0.871754            -0.420516   \n",
       "Petal width (in cm)               0.817954            -0.356544   \n",
       "\n",
       "                      Petal length (in cm)  Petal width (in cm)  \n",
       "Sepal Length (in cm)              0.871754             0.817954  \n",
       "Sepal Width in (cm)              -0.420516            -0.356544  \n",
       "Petal length (in cm)              1.000000             0.962757  \n",
       "Petal width (in cm)               0.962757             1.000000  "
      ]
     },
     "execution_count": 15,
     "metadata": {},
     "output_type": "execute_result"
    }
   ],
   "source": [
    "#Please note, it's Require to remove correlated features because they are voted twice in the model and \n",
    "## it can lead to over inflating importance.We will ignore it here\n",
    "iris.corr()"
   ]
  },
  {
   "cell_type": "code",
   "execution_count": 16,
   "metadata": {},
   "outputs": [],
   "source": [
    "# As Petal width increases -> Sepal Length increases (Correlation coefficient: 0.82 - Highly correlated)\n",
    "# As Petal width increases -> Sepal Width decreases (Correlation coefficient: -0.37 - moderately correlated)\n",
    "# As Petal width increases -> Petal Length increases (Correlation coefficient: 0.96 - Highly correlated)\n",
    "\n",
    "# As Petal Length increases -> Sepal Length increases (Correlation coefficient: 0.87 - Highly correlated)\n",
    "# As Petal Length increases -> Sepal Width decreases (Correlation coefficient: -0.43 - moderately correlated)\n",
    "# As Petal Length increases -> Petal Width increases (Correlation coefficient: 0.96 - Highly correlated)\n",
    "\n",
    "\n",
    "# As Sepal Width increases -> Sepal Length decreases (Correlation coefficient: -0.12 - Slightly correlated)\n",
    "# However, for Naive Bayes analysis, we will not drop / ignore any variables / dimensions."
   ]
  },
  {
   "cell_type": "markdown",
   "metadata": {},
   "source": [
    "### Split data in Training and Validation in 80:20 (1 Marks)"
   ]
  },
  {
   "cell_type": "code",
   "execution_count": 17,
   "metadata": {},
   "outputs": [
    {
     "name": "stdout",
     "output_type": "stream",
     "text": [
      "2    50\n",
      "1    50\n",
      "0    50\n",
      "Name: Species, dtype: int64\n"
     ]
    }
   ],
   "source": [
    "### SPLITTING INTO TRAINING AND TEST SETS\n",
    "from sklearn.preprocessing import LabelEncoder\n",
    "cols = iris.select_dtypes(include=[object]).columns\n",
    "le_class = LabelEncoder()\n",
    "for i in cols:\n",
    "    iris[i]= le_class.fit_transform(iris[i])\n",
    "\n",
    "print(iris[\"Species\"].value_counts())\n",
    "y =  iris[['Species']]"
   ]
  },
  {
   "cell_type": "code",
   "execution_count": 18,
   "metadata": {},
   "outputs": [],
   "source": [
    "train_set, test_set, train_labels, test_labels = train_test_split(X, y, test_size=0.20, random_state=1)"
   ]
  },
  {
   "cell_type": "markdown",
   "metadata": {},
   "source": [
    "### Do Feature Scaling ( 1 Marks)"
   ]
  },
  {
   "cell_type": "code",
   "execution_count": 19,
   "metadata": {},
   "outputs": [],
   "source": [
    "from scipy.stats import zscore\n",
    "from sklearn.preprocessing import StandardScaler\n",
    "\n",
    "scaler = StandardScaler()\n",
    "scaled_train_set = scaler.fit_transform(train_set)\n",
    "scaled_test_set = scaler.transform(test_set)"
   ]
  },
  {
   "cell_type": "markdown",
   "metadata": {},
   "source": [
    "### Train and Fit NaiveBayes Model(2 Marks)"
   ]
  },
  {
   "cell_type": "code",
   "execution_count": 25,
   "metadata": {},
   "outputs": [
    {
     "name": "stderr",
     "output_type": "stream",
     "text": [
      "C:\\Users\\rames\\Anaconda3\\lib\\site-packages\\sklearn\\utils\\validation.py:578: DataConversionWarning: A column-vector y was passed when a 1d array was expected. Please change the shape of y to (n_samples, ), for example using ravel().\n",
      "  y = column_or_1d(y, warn=True)\n"
     ]
    },
    {
     "data": {
      "text/plain": [
       "GaussianNB(priors=None)"
      ]
     },
     "execution_count": 25,
     "metadata": {},
     "output_type": "execute_result"
    }
   ],
   "source": [
    "#Fit the model\n",
    "model = GaussianNB()\n",
    "model.fit(scaled_train_set, train_labels)"
   ]
  },
  {
   "cell_type": "markdown",
   "metadata": {},
   "source": [
    "### Print Accuracy and Confusion Matrix and Conclude your findings(1 Marks)"
   ]
  },
  {
   "cell_type": "code",
   "execution_count": 26,
   "metadata": {},
   "outputs": [
    {
     "name": "stdout",
     "output_type": "stream",
     "text": [
      "[[11  0  0]\n",
      " [ 0 12  1]\n",
      " [ 0  0  6]]\n"
     ]
    }
   ],
   "source": [
    "# show Confusion Matrix\n",
    "test_pred = model.predict(scaled_test_set)\n",
    "print(metrics.confusion_matrix(test_labels, test_pred))"
   ]
  },
  {
   "cell_type": "code",
   "execution_count": 22,
   "metadata": {},
   "outputs": [
    {
     "data": {
      "text/plain": [
       "0.95"
      ]
     },
     "execution_count": 22,
     "metadata": {},
     "output_type": "execute_result"
    }
   ],
   "source": [
    "# show accuracy\n",
    "model.score(scaled_train_set , train_labels)"
   ]
  },
  {
   "cell_type": "code",
   "execution_count": 23,
   "metadata": {},
   "outputs": [
    {
     "data": {
      "text/plain": [
       "0.9666666666666667"
      ]
     },
     "execution_count": 23,
     "metadata": {},
     "output_type": "execute_result"
    }
   ],
   "source": [
    "model.score(scaled_test_set , test_labels)"
   ]
  },
  {
   "cell_type": "code",
   "execution_count": 24,
   "metadata": {},
   "outputs": [
    {
     "name": "stdout",
     "output_type": "stream",
     "text": [
      "             precision    recall  f1-score   support\n",
      "\n",
      "          0       1.00      1.00      1.00        11\n",
      "          1       1.00      0.92      0.96        13\n",
      "          2       0.86      1.00      0.92         6\n",
      "\n",
      "avg / total       0.97      0.97      0.97        30\n",
      "\n"
     ]
    }
   ],
   "source": [
    "#Show precision and Recall metrics\n",
    "print(metrics.classification_report(test_labels, test_pred))"
   ]
  }
 ],
 "metadata": {
  "kernelspec": {
   "display_name": "Python 3",
   "language": "python",
   "name": "python3"
  },
  "language_info": {
   "codemirror_mode": {
    "name": "ipython",
    "version": 3
   },
   "file_extension": ".py",
   "mimetype": "text/x-python",
   "name": "python",
   "nbconvert_exporter": "python",
   "pygments_lexer": "ipython3",
   "version": "3.6.5"
  }
 },
 "nbformat": 4,
 "nbformat_minor": 2
}
