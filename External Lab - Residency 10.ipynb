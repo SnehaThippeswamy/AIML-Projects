{
 "cells": [
  {
   "cell_type": "markdown",
   "metadata": {
    "_cell_guid": "608e43e3-8699-4299-9d18-9e9a6a3dd9bf",
    "_uuid": "434ffd54c774edd4e8b851ab0a4b6675425e46da"
   },
   "source": [
    "# Siamese Neural Networks\n",
    "Recognize images of icebergs from images of ships. \n",
    "These images were taken from space with a Sentinel-4 satellite. The goal was to create the most accurate neural network to differentiate them. However, neural networks usually only work well with A LOT of data, and I constrained you guys to 1000 examples to train on. That seems like a lot, but a CONVENTIONAL neural network needs more data. However, we are going to make a special kind of neural network: *Siamese Network*. This special network is used for face recognition and few-shot learning(learning from few examples). Let's get started by importing the usual liraries:"
   ]
  },
  {
   "cell_type": "code",
   "execution_count": 1,
   "metadata": {
    "_cell_guid": "b1076dfc-b9ad-4769-8c92-a6c4dae69d19",
    "_uuid": "8f2839f25d086af736a60e9eeb907d3b93b6e0e5"
   },
   "outputs": [
    {
     "name": "stderr",
     "output_type": "stream",
     "text": [
      "C:\\Users\\rames\\Anaconda3\\lib\\site-packages\\h5py\\__init__.py:36: FutureWarning: Conversion of the second argument of issubdtype from `float` to `np.floating` is deprecated. In future, it will be treated as `np.float64 == np.dtype(float).type`.\n",
      "  from ._conv import register_converters as _register_converters\n",
      "Using TensorFlow backend.\n"
     ]
    }
   ],
   "source": [
    "from keras.layers import Input, Conv2D, Lambda, merge, Dense, Flatten,MaxPooling2D,Activation, Dropout\n",
    "from keras.models import Model, Sequential\n",
    "from keras.regularizers import l2\n",
    "from keras import backend as K\n",
    "from keras.optimizers import Adam\n",
    "from skimage.io import imshow\n",
    "import matplotlib.pyplot as plt\n",
    "import numpy as np\n",
    "import pandas as pd\n",
    "import random"
   ]
  },
  {
   "cell_type": "markdown",
   "metadata": {
    "_cell_guid": "adbffb0a-1784-4595-b3f2-2ea930abc31f",
    "_uuid": "b9200b733a896e4b6f261122fe9134c00955cc91"
   },
   "source": [
    "## Load the Data\n"
   ]
  },
  {
   "cell_type": "code",
   "execution_count": 2,
   "metadata": {
    "_cell_guid": "79c7e3d0-c299-4dcb-8224-4455121ee9b0",
    "_uuid": "d629ff2d2480ee46fbb7e2d37f6b5fab8052498a"
   },
   "outputs": [
    {
     "name": "stdout",
     "output_type": "stream",
     "text": [
      "We have 3113 examples to work with\n"
     ]
    }
   ],
   "source": [
    "npz = np.load('input_data.npz')\n",
    "X_train = npz['X_train']\n",
    "Y_train = npz['Y_train']\n",
    "del npz\n",
    "print ('We have {} examples to work with'.format(Y_train.shape[0]-1000))"
   ]
  },
  {
   "cell_type": "markdown",
   "metadata": {
    "_cell_guid": "ed28bc84-1a8a-472f-98ae-9553fe6d1097",
    "_uuid": "b2e2306b8b16ae7f4f9b63249d1f2ff6e29559d3"
   },
   "source": [
    "## Check the data\n",
    "\n",
    "Load some of the images to observe how your data look like."
   ]
  },
  {
   "cell_type": "code",
   "execution_count": 3,
   "metadata": {},
   "outputs": [
    {
     "data": {
      "image/png": "[encoded data removed]",
      "text/plain": [
       "<Figure size 432x288 with 2 Axes>"
      ]
     },
     "metadata": {},
     "output_type": "display_data"
    },
    {
     "name": "stdout",
     "output_type": "stream",
     "text": [
      "This is: Ship\n"
     ]
    }
   ],
   "source": [
    "ix = 100 #0-4112\n",
    "imshow(np.squeeze(X_train[ix,:,:,2]))#Looking at the combined channel\n",
    "plt.show()\n",
    "labels = ['Ship','Iceberg']#0 is no iceberg(ship) and 1 is iceberg\n",
    "print ('This is:',labels[int(Y_train[ix])])"
   ]
  },
  {
   "cell_type": "markdown",
   "metadata": {},
   "source": [
    "# Creating the structure of Siamese Network"
   ]
  },
  {
   "cell_type": "raw",
   "metadata": {},
   "source": [
    "You just need to break it into some steps:\n",
    "1. 2 Inputs for each images\n",
    "2. Creating a network which both images will go through individually\n",
    "3. Couple the network to each input\n",
    "4. Calculate the L1 distance between them. Just (x1,y1)-(x2,y2)\n",
    "5. 1 Added layer that will say 1 if they are the same and 0 if they are different"
   ]
  },
  {
   "cell_type": "markdown",
   "metadata": {},
   "source": [
    "# Create two Inputs for each image - left_input and right_input\n",
    "Hint - use Input Function in Keras and keep the shape to be 75,75,3"
   ]
  },
  {
   "cell_type": "code",
   "execution_count": 4,
   "metadata": {},
   "outputs": [],
   "source": [
    "# We have 2 inputs, 1 for each picture\n",
    "left_input = Input((75,75,3))\n",
    "right_input = Input((75,75,3))"
   ]
  },
  {
   "cell_type": "markdown",
   "metadata": {},
   "source": [
    "# Create a base Network in which both images will go through individually.\n",
    "\n",
    "Hint - Use Sequential Model in Keras with convolution layers, Maxpooling Layers, Flatten Layer and Denser Layer with appropriate activation functions.\n",
    "Name the network as base_network"
   ]
  },
  {
   "cell_type": "code",
   "execution_count": 5,
   "metadata": {},
   "outputs": [],
   "source": [
    "# We will use 2 instances of 1 network for this task\n",
    "base_network = Sequential([\n",
    "    Conv2D(5,3, input_shape=(75,75,3)),\n",
    "    Activation('relu'),\n",
    "    MaxPooling2D(),\n",
    "    Conv2D(5,3),\n",
    "    Activation('relu'),\n",
    "    MaxPooling2D(),\n",
    "    Conv2D(7,2),\n",
    "    Activation('relu'),\n",
    "    MaxPooling2D(),\n",
    "    Conv2D(7,2),\n",
    "    Activation('relu'),\n",
    "    Flatten(),\n",
    "    Dense(18),\n",
    "    Activation('sigmoid')\n",
    "])\n"
   ]
  },
  {
   "cell_type": "code",
   "execution_count": null,
   "metadata": {},
   "outputs": [],
   "source": []
  },
  {
   "cell_type": "markdown",
   "metadata": {},
   "source": [
    "# Process the left and right inputs to the same Base Network(base_network)"
   ]
  },
  {
   "cell_type": "code",
   "execution_count": 6,
   "metadata": {},
   "outputs": [],
   "source": [
    "# Connect each 'leg' of the network to each input\n",
    "# Remember, they have the same weights\n",
    "encoded_l = base_network(left_input)\n",
    "encoded_r = base_network(right_input)"
   ]
  },
  {
   "cell_type": "code",
   "execution_count": null,
   "metadata": {},
   "outputs": [],
   "source": []
  },
  {
   "cell_type": "markdown",
   "metadata": {},
   "source": [
    "# Get the L1 Distance layer between the 2 processed encodings (processed_a and processed_b)\n",
    "Hint - You can use Lambda function for this."
   ]
  },
  {
   "cell_type": "code",
   "execution_count": 7,
   "metadata": {},
   "outputs": [],
   "source": [
    "# Getting the L1 Distance between the 2 encodings\n",
    "L1_layer = Lambda(lambda tensor:K.abs(tensor[0] - tensor[1]))\n",
    "\n",
    "# Add the distance function to the network\n",
    "L1_distance = L1_layer([encoded_l, encoded_r])\n"
   ]
  },
  {
   "cell_type": "code",
   "execution_count": null,
   "metadata": {},
   "outputs": [],
   "source": []
  },
  {
   "cell_type": "markdown",
   "metadata": {},
   "source": [
    "# Add the prediction layer in the end and create the Siamese Network using Model function."
   ]
  },
  {
   "cell_type": "code",
   "execution_count": 8,
   "metadata": {},
   "outputs": [],
   "source": [
    "prediction = Dense(1,activation='sigmoid')(L1_distance)\n",
    "siamese_net = Model(inputs=[left_input,right_input],outputs=prediction)"
   ]
  },
  {
   "cell_type": "markdown",
   "metadata": {},
   "source": [
    "# Define the Optimizer Adam and Compile the Siamese Model."
   ]
  },
  {
   "cell_type": "code",
   "execution_count": 9,
   "metadata": {},
   "outputs": [],
   "source": [
    "optimizer = Adam(0.001, decay=2.5e-4)\n",
    "\n",
    "siamese_net.compile(loss=\"binary_crossentropy\",optimizer=optimizer,metrics=['accuracy'])"
   ]
  },
  {
   "cell_type": "markdown",
   "metadata": {
    "_cell_guid": "dbba8e74-6b9c-4c84-96ed-55137265280b",
    "_uuid": "28e3843cae1a192bb14eb04cc1fe1705ef69f405"
   },
   "source": [
    "# Show the Summary of your Siamese Network"
   ]
  },
  {
   "cell_type": "code",
   "execution_count": 10,
   "metadata": {},
   "outputs": [
    {
     "name": "stdout",
     "output_type": "stream",
     "text": [
      "__________________________________________________________________________________________________\n",
      "Layer (type)                    Output Shape         Param #     Connected to                     \n",
      "==================================================================================================\n",
      "input_1 (InputLayer)            (None, 75, 75, 3)    0                                            \n",
      "__________________________________________________________________________________________________\n",
      "input_2 (InputLayer)            (None, 75, 75, 3)    0                                            \n",
      "__________________________________________________________________________________________________\n",
      "sequential_1 (Sequential)       (None, 18)           6912        input_1[0][0]                    \n",
      "                                                                 input_2[0][0]                    \n",
      "__________________________________________________________________________________________________\n",
      "lambda_1 (Lambda)               (None, 18)           0           sequential_1[1][0]               \n",
      "                                                                 sequential_1[2][0]               \n",
      "__________________________________________________________________________________________________\n",
      "dense_2 (Dense)                 (None, 1)            19          lambda_1[0][0]                   \n",
      "==================================================================================================\n",
      "Total params: 6,931\n",
      "Trainable params: 6,931\n",
      "Non-trainable params: 0\n",
      "__________________________________________________________________________________________________\n"
     ]
    }
   ],
   "source": [
    "siamese_net.summary()"
   ]
  },
  {
   "cell_type": "markdown",
   "metadata": {},
   "source": [
    "# Creating the Pair of Images to train on"
   ]
  },
  {
   "cell_type": "markdown",
   "metadata": {
    "_cell_guid": "7080234f-01f4-4df1-88a7-459746335c50",
    "_uuid": "4553890c8130dc76076252a09290497a4afc27e6"
   },
   "source": [
    "It's not time to train though. We still have to create pairs of images to train on. There will be Positive(the same class) or Negative(different classes) for outputs. Let's construct this dataset. It is recommended that there are equal amounts positive and negative."
   ]
  },
  {
   "cell_type": "code",
   "execution_count": 11,
   "metadata": {
    "_cell_guid": "32cb30db-144d-4f93-af05-6cb9a697c084",
    "_uuid": "09a3e9d488acd34e99912c5f01474029e77637f5"
   },
   "outputs": [],
   "source": [
    "# First let's separate the dataset from 1 matrix to a list of matricies\n",
    "image_list = np.split(X_train[:1000],1000)\n",
    "label_list = np.split(Y_train[:1000],1000)\n",
    "\n",
    "left_input = []\n",
    "right_input = []\n",
    "targets = []\n",
    "\n",
    "#Number of pairs per image\n",
    "pairs = 5\n",
    "#Let's create the new dataset to train on\n",
    "for i in range(len(label_list)):\n",
    "    for _ in range(pairs):\n",
    "        compare_to = i\n",
    "        while compare_to == i: #Make sure it's not comparing to itself\n",
    "            compare_to = random.randint(0,999)\n",
    "        left_input.append(image_list[i])\n",
    "        right_input.append(image_list[compare_to])\n",
    "        if label_list[i] == label_list[compare_to]:# They are the same\n",
    "            targets.append(1.)\n",
    "        else:# Not the same\n",
    "            targets.append(0.)\n",
    "            \n",
    "left_input = np.squeeze(np.array(left_input))\n",
    "right_input = np.squeeze(np.array(right_input))\n",
    "targets = np.squeeze(np.array(targets))\n",
    "\n",
    "iceimage = X_train[101]\n",
    "test_left = []\n",
    "test_right = []\n",
    "test_targets = []\n",
    "\n",
    "for i in range(Y_train.shape[0]-1000):\n",
    "    test_left.append(iceimage)\n",
    "    test_right.append(X_train[i+1000])\n",
    "    test_targets.append(Y_train[i+1000])\n",
    "\n",
    "test_left = np.squeeze(np.array(test_left))\n",
    "test_right = np.squeeze(np.array(test_right))\n",
    "test_targets = np.squeeze(np.array(test_targets))"
   ]
  },
  {
   "cell_type": "markdown",
   "metadata": {},
   "source": [
    "Now we have a lot more examples.\n",
    "Now we have pairs x 1000 examples to train the network on. \n",
    "Each side will have an input of an image and the output will be one if they are the same and zero if not."
   ]
  },
  {
   "cell_type": "markdown",
   "metadata": {},
   "source": [
    "# Train the Siamese train on left and right input image pairs created and validate it by test pairs."
   ]
  },
  {
   "cell_type": "code",
   "execution_count": 12,
   "metadata": {},
   "outputs": [
    {
     "name": "stdout",
     "output_type": "stream",
     "text": [
      "Train on 5000 samples, validate on 3113 samples\n",
      "Epoch 1/30\n",
      "5000/5000 [==============================] - 163s 33ms/step - loss: 0.6843 - acc: 0.5554 - val_loss: 0.7009 - val_acc: 0.4626\n",
      "Epoch 2/30\n",
      "5000/5000 [==============================] - 158s 32ms/step - loss: 0.6428 - acc: 0.6426 - val_loss: 0.6431 - val_acc: 0.6624\n",
      "Epoch 3/30\n",
      "5000/5000 [==============================] - 160s 32ms/step - loss: 0.5971 - acc: 0.7008 - val_loss: 0.5906 - val_acc: 0.7225\n",
      "Epoch 4/30\n",
      "5000/5000 [==============================] - 157s 31ms/step - loss: 0.5515 - acc: 0.7410 - val_loss: 0.5443 - val_acc: 0.7642\n",
      "Epoch 5/30\n",
      "5000/5000 [==============================] - 159s 32ms/step - loss: 0.5176 - acc: 0.7620 - val_loss: 0.5518 - val_acc: 0.7571\n",
      "Epoch 6/30\n",
      "5000/5000 [==============================] - 161s 32ms/step - loss: 0.4933 - acc: 0.7768 - val_loss: 0.4852 - val_acc: 0.7864\n",
      "Epoch 7/30\n",
      "5000/5000 [==============================] - 161s 32ms/step - loss: 0.4675 - acc: 0.7956 - val_loss: 0.4792 - val_acc: 0.7877\n",
      "Epoch 8/30\n",
      "5000/5000 [==============================] - 161s 32ms/step - loss: 0.4493 - acc: 0.8066 - val_loss: 0.5246 - val_acc: 0.7674\n",
      "Epoch 9/30\n",
      "5000/5000 [==============================] - 160s 32ms/step - loss: 0.4286 - acc: 0.8162 - val_loss: 0.4952 - val_acc: 0.7838\n",
      "Epoch 10/30\n",
      "5000/5000 [==============================] - 157s 31ms/step - loss: 0.4085 - acc: 0.8318 - val_loss: 0.5266 - val_acc: 0.7633\n",
      "Epoch 11/30\n",
      "5000/5000 [==============================] - 160s 32ms/step - loss: 0.3911 - acc: 0.8384 - val_loss: 0.5193 - val_acc: 0.7719\n",
      "Epoch 12/30\n",
      "5000/5000 [==============================] - 156s 31ms/step - loss: 0.3793 - acc: 0.8438 - val_loss: 0.5057 - val_acc: 0.7796\n",
      "Epoch 13/30\n",
      "5000/5000 [==============================] - 156s 31ms/step - loss: 0.3665 - acc: 0.8512 - val_loss: 0.5214 - val_acc: 0.7687\n",
      "Epoch 14/30\n",
      "5000/5000 [==============================] - 158s 32ms/step - loss: 0.3515 - acc: 0.8594 - val_loss: 0.5145 - val_acc: 0.7809\n",
      "Epoch 15/30\n",
      "5000/5000 [==============================] - 157s 31ms/step - loss: 0.3370 - acc: 0.8682 - val_loss: 0.5073 - val_acc: 0.7848\n",
      "Epoch 16/30\n",
      "5000/5000 [==============================] - 156s 31ms/step - loss: 0.3320 - acc: 0.8692 - val_loss: 0.4963 - val_acc: 0.7922\n",
      "Epoch 17/30\n",
      "5000/5000 [==============================] - 157s 31ms/step - loss: 0.3198 - acc: 0.8724 - val_loss: 0.5250 - val_acc: 0.7828\n",
      "Epoch 18/30\n",
      "5000/5000 [==============================] - 158s 32ms/step - loss: 0.3092 - acc: 0.8796 - val_loss: 0.5046 - val_acc: 0.7947\n",
      "Epoch 19/30\n",
      "5000/5000 [==============================] - 156s 31ms/step - loss: 0.2980 - acc: 0.8846 - val_loss: 0.5176 - val_acc: 0.7931\n",
      "Epoch 20/30\n",
      "5000/5000 [==============================] - 155s 31ms/step - loss: 0.2917 - acc: 0.8868 - val_loss: 0.5378 - val_acc: 0.7861\n",
      "Epoch 21/30\n",
      "5000/5000 [==============================] - 172s 34ms/step - loss: 0.2818 - acc: 0.8920 - val_loss: 0.5394 - val_acc: 0.7828\n",
      "Epoch 22/30\n",
      "5000/5000 [==============================] - 167s 33ms/step - loss: 0.2724 - acc: 0.8942 - val_loss: 0.5465 - val_acc: 0.7774\n",
      "Epoch 23/30\n",
      "5000/5000 [==============================] - 200s 40ms/step - loss: 0.2681 - acc: 0.8984 - val_loss: 0.5608 - val_acc: 0.7800\n",
      "Epoch 24/30\n",
      "5000/5000 [==============================] - 192s 38ms/step - loss: 0.2600 - acc: 0.9014 - val_loss: 0.5401 - val_acc: 0.7867\n",
      "Epoch 25/30\n",
      "5000/5000 [==============================] - ETA: 0s - loss: 0.2509 - acc: 0.908 - 184s 37ms/step - loss: 0.2510 - acc: 0.9086 - val_loss: 0.5596 - val_acc: 0.7851\n",
      "Epoch 26/30\n",
      "5000/5000 [==============================] - 195s 39ms/step - loss: 0.2445 - acc: 0.9096 - val_loss: 0.5759 - val_acc: 0.7748\n",
      "Epoch 27/30\n",
      "5000/5000 [==============================] - 175s 35ms/step - loss: 0.2385 - acc: 0.9118 - val_loss: 0.5866 - val_acc: 0.7735\n",
      "Epoch 28/30\n",
      "5000/5000 [==============================] - 188s 38ms/step - loss: 0.2327 - acc: 0.9124 - val_loss: 0.5944 - val_acc: 0.7713\n",
      "Epoch 29/30\n",
      "5000/5000 [==============================] - 174s 35ms/step - loss: 0.2273 - acc: 0.9174 - val_loss: 0.6045 - val_acc: 0.7649\n",
      "Epoch 30/30\n",
      "5000/5000 [==============================] - 178s 36ms/step - loss: 0.2211 - acc: 0.9180 - val_loss: 0.5925 - val_acc: 0.7774\n"
     ]
    },
    {
     "data": {
      "text/plain": [
       "<keras.callbacks.History at 0x227e930cbe0>"
      ]
     },
     "execution_count": 12,
     "metadata": {},
     "output_type": "execute_result"
    }
   ],
   "source": [
    "siamese_net.fit([left_input,right_input], targets,\n",
    "          batch_size=16,\n",
    "          epochs=30,\n",
    "          verbose=1,\n",
    "          validation_data=([test_left,test_right],test_targets))"
   ]
  }
 ],
 "metadata": {
  "kernelspec": {
   "display_name": "Python 3",
   "language": "python",
   "name": "python3"
  },
  "language_info": {
   "codemirror_mode": {
    "name": "ipython",
    "version": 3
   },
   "file_extension": ".py",
   "mimetype": "text/x-python",
   "name": "python",
   "nbconvert_exporter": "python",
   "pygments_lexer": "ipython3",
   "version": "3.6.5"
  }
 },
 "nbformat": 4,
 "nbformat_minor": 1
}
