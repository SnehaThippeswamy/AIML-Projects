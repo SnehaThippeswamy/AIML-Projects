{
 "cells": [
  {
   "cell_type": "code",
   "execution_count": 1,
   "metadata": {
    "scrolled": true
   },
   "outputs": [
    {
     "name": "stderr",
     "output_type": "stream",
     "text": [
      "C:\\Users\\rames\\Anaconda3\\lib\\site-packages\\sklearn\\cross_validation.py:41: DeprecationWarning: This module was deprecated in version 0.18 in favor of the model_selection module into which all the refactored classes and functions are moved. Also note that the interface of the new CV iterators are different from that of this module. This module will be removed in 0.20.\n",
      "  \"This module will be removed in 0.20.\", DeprecationWarning)\n",
      "Using TensorFlow backend.\n"
     ]
    }
   ],
   "source": [
    "import warnings\n",
    "warnings.filterwarnings('ignore')\n",
    "\n",
    "import h5py\n",
    "\n",
    "from __future__ import print_function\n",
    "from sklearn.cross_validation import train_test_split\n",
    "from sklearn.neighbors import KNeighborsClassifier\n",
    "from sklearn.metrics import confusion_matrix\n",
    "from sklearn.metrics import classification_report\n",
    "from sklearn import datasets\n",
    "#from skimage import exposure\n",
    "import numpy as np\n",
    "import matplotlib.pyplot as plt\n",
    "\n",
    "\n",
    "import tensorflow as tf\n",
    "import keras\n",
    "\n",
    "from keras.models import Sequential\n",
    "from keras.optimizers import SGD\n",
    "from keras import regularizers\n",
    "from keras import optimizers\n",
    "\n",
    "import matplotlib.pyplot as plt\n",
    "%matplotlib inline\n",
    "\n",
    "from keras.layers import Reshape, Dense, Flatten, Dropout,MaxPooling2D, BatchNormalization"
   ]
  },
  {
   "cell_type": "code",
   "execution_count": 2,
   "metadata": {},
   "outputs": [],
   "source": [
    "from sklearn.metrics import classification_report, confusion_matrix"
   ]
  },
  {
   "cell_type": "code",
   "execution_count": 3,
   "metadata": {},
   "outputs": [],
   "source": [
    "f = h5py.File(\"SVHN_single_grey1.h5\",mode='r')"
   ]
  },
  {
   "cell_type": "code",
   "execution_count": 4,
   "metadata": {},
   "outputs": [
    {
     "data": {
      "text/plain": [
       "['X_test', 'X_train', 'X_val', 'y_test', 'y_train', 'y_val']"
      ]
     },
     "execution_count": 4,
     "metadata": {},
     "output_type": "execute_result"
    }
   ],
   "source": [
    "list(f)"
   ]
  },
  {
   "cell_type": "code",
   "execution_count": 5,
   "metadata": {},
   "outputs": [
    {
     "data": {
      "text/plain": [
       "(18000, 32, 32)"
      ]
     },
     "execution_count": 5,
     "metadata": {},
     "output_type": "execute_result"
    }
   ],
   "source": [
    "f['X_test'].shape"
   ]
  },
  {
   "cell_type": "code",
   "execution_count": 6,
   "metadata": {},
   "outputs": [
    {
     "data": {
      "text/plain": [
       "(42000, 32, 32)"
      ]
     },
     "execution_count": 6,
     "metadata": {},
     "output_type": "execute_result"
    }
   ],
   "source": [
    "f['X_train'].shape"
   ]
  },
  {
   "cell_type": "code",
   "execution_count": 7,
   "metadata": {},
   "outputs": [
    {
     "data": {
      "text/plain": [
       "(60000, 32, 32)"
      ]
     },
     "execution_count": 7,
     "metadata": {},
     "output_type": "execute_result"
    }
   ],
   "source": [
    "f['X_val'].shape"
   ]
  },
  {
   "cell_type": "code",
   "execution_count": 8,
   "metadata": {},
   "outputs": [
    {
     "data": {
      "text/plain": [
       "42000"
      ]
     },
     "execution_count": 8,
     "metadata": {},
     "output_type": "execute_result"
    }
   ],
   "source": [
    "len(f['X_train'])"
   ]
  },
  {
   "cell_type": "code",
   "execution_count": 10,
   "metadata": {},
   "outputs": [],
   "source": [
    "x_train = f['X_train'][:]\n",
    "x_test = f['X_test'][:]\n",
    "x_val = f['X_val'][:]\n",
    "\n",
    "y_train = f['y_train'][:]\n",
    "y_test = f['y_test'][:]\n",
    "y_val = f['y_val'][:]"
   ]
  },
  {
   "cell_type": "code",
   "execution_count": 26,
   "metadata": {},
   "outputs": [
    {
     "name": "stdout",
     "output_type": "stream",
     "text": [
      "x_train shape:  (42000, 32, 32)  y_train shape:  (42000,)\n",
      "x_test shape:  (18000, 32, 32)  y_test shape:  (18000,)\n",
      "x_val shape:  (60000, 32, 32)  y_val shape:  (60000,)\n"
     ]
    }
   ],
   "source": [
    "print(\"x_train shape: \",x_train.shape ,\" y_train shape: \",y_train.shape)\n",
    "print(\"x_test shape: \",x_test.shape ,\" y_test shape: \",y_test.shape)\n",
    "print(\"x_val shape: \",x_val.shape ,\" y_val shape: \",y_val.shape)"
   ]
  },
  {
   "cell_type": "code",
   "execution_count": 11,
   "metadata": {},
   "outputs": [],
   "source": [
    "x_train_reshape = np.reshape(x_train,(42000,1024))\n",
    "x_test_reshape = np.reshape(x_test,(18000,1024))\n",
    "x_val_reshape = np.reshape(x_val,(60000,1024))"
   ]
  },
  {
   "cell_type": "code",
   "execution_count": 28,
   "metadata": {},
   "outputs": [
    {
     "name": "stdout",
     "output_type": "stream",
     "text": [
      "x_train shape after reshape:  (42000, 1024)\n",
      "x_test shape after reshape:  (18000, 1024)\n",
      "x_val shape after reshape:  (60000, 1024)\n"
     ]
    }
   ],
   "source": [
    "print(\"x_train shape after reshape: \",x_train_reshape.shape)\n",
    "print(\"x_test shape after reshape: \",x_test_reshape.shape)\n",
    "print(\"x_val shape after reshape: \",x_val_reshape.shape)"
   ]
  },
  {
   "cell_type": "code",
   "execution_count": 13,
   "metadata": {},
   "outputs": [
    {
     "data": {
      "text/plain": [
       "<matplotlib.image.AxesImage at 0x22b683974a8>"
      ]
     },
     "execution_count": 13,
     "metadata": {},
     "output_type": "execute_result"
    },
    {
     "data": {
      "image/png": "[encoded data removed]",
      "text/plain": [
       "<Figure size 144x144 with 1 Axes>"
      ]
     },
     "metadata": {},
     "output_type": "display_data"
    }
   ],
   "source": [
    "plt.figure(figsize=(2,2))\n",
    "plt.imshow(x_train[0])"
   ]
  },
  {
   "cell_type": "code",
   "execution_count": 14,
   "metadata": {},
   "outputs": [
    {
     "data": {
      "image/png": "[encoded data removed]",
      "text/plain": [
       "<Figure size 720x720 with 10 Axes>"
      ]
     },
     "metadata": {},
     "output_type": "display_data"
    }
   ],
   "source": [
    "plt.figure(figsize=(10,10))\n",
    "for i in range(10):\n",
    "    plt.subplot(1,10,i+1)\n",
    "    plt.xticks([])\n",
    "    plt.yticks([])\n",
    "    ##plt.grid(False)\n",
    "    plt.imshow(x_train[i], cmap='gray')#cmap=plt.cm.binary)\n",
    "    ##plt.xlabel(trainY[i])\n",
    "plt.show()"
   ]
  },
  {
   "cell_type": "code",
   "execution_count": null,
   "metadata": {},
   "outputs": [],
   "source": []
  },
  {
   "cell_type": "code",
   "execution_count": 90,
   "metadata": {},
   "outputs": [
    {
     "name": "stdout",
     "output_type": "stream",
     "text": [
      "k=1, accuracy=45.92%\n",
      "k=3, accuracy=46.18%\n",
      "k=5, accuracy=49.02%\n",
      "k=7, accuracy=50.71%\n",
      "k=9, accuracy=51.24%\n",
      "k=11, accuracy=51.80%\n",
      "k=13, accuracy=52.11%\n",
      "k=15, accuracy=52.36%\n",
      "k=17, accuracy=52.87%\n",
      "k=19, accuracy=52.72%\n"
     ]
    }
   ],
   "source": [
    "# initialize the values of k for our k-Nearest Neighbor classifier along with the\n",
    "# list of accuracies for each value of k\n",
    "kVals = range(1, 20, 2)\n",
    "accuracies = []\n",
    "\n",
    "# loop over kVals\n",
    "for k in range(1, 20, 2):\n",
    "    # train the classifier with the current value of `k`\n",
    "    model = KNeighborsClassifier(n_neighbors=k)\n",
    "    model.fit(x_train_reshape, y_train)\n",
    "\n",
    "    # evaluate the model and print the accuracies list\n",
    "    score = model.score(x_test_reshape, y_test)\n",
    "    print(\"k=%d, accuracy=%.2f%%\" % (k, score * 100))\n",
    "    accuracies.append(score)"
   ]
  },
  {
   "cell_type": "code",
   "execution_count": 91,
   "metadata": {},
   "outputs": [
    {
     "name": "stdout",
     "output_type": "stream",
     "text": [
      "k=17 achieved highest accuracy of 52.87% on validation data\n",
      "EVALUATION ON TESTING DATA\n",
      "             precision    recall  f1-score   support\n",
      "\n",
      "          0       0.45      0.70      0.55      1814\n",
      "          1       0.46      0.73      0.56      1828\n",
      "          2       0.62      0.55      0.59      1803\n",
      "          3       0.45      0.43      0.44      1719\n",
      "          4       0.67      0.65      0.66      1812\n",
      "          5       0.51      0.39      0.44      1768\n",
      "          6       0.50      0.41      0.45      1832\n",
      "          7       0.71      0.62      0.67      1808\n",
      "          8       0.47      0.36      0.41      1812\n",
      "          9       0.55      0.43      0.48      1804\n",
      "\n",
      "avg / total       0.54      0.53      0.52     18000\n",
      "\n",
      "Confusion matrix\n",
      "[[1274   66   34   35   46   45   98   39   78   99]\n",
      " [  99 1335   55   95   69   36   31   46   26   36]\n",
      " [  94  226 1000   95   44   37   35  141   52   79]\n",
      " [ 129  260  135  736   47  160   36   57   94   65]\n",
      " [ 105  249   41   60 1177   16   54   19   43   48]\n",
      " [ 165  172   47  269   58  693  137   31  119   77]\n",
      " [ 319  128   40   67  135  116  744   21  202   60]\n",
      " [ 100  209  110   88   27   37   37 1128   24   48]\n",
      " [ 247  119   68  114   94  115  265   25  654  111]\n",
      " [ 323  142   71   89   71   93   55   73  111  776]]\n"
     ]
    }
   ],
   "source": [
    "i = np.argmax(accuracies)\n",
    "print(\"k=%d achieved highest accuracy of %.2f%% on validation data\" % (kVals[i],\n",
    "accuracies[i] * 100))\n",
    "\n",
    "# re-train our classifier using the best k value and predict the labels of the\n",
    "# test data\n",
    "\n",
    "model = KNeighborsClassifier(n_neighbors=kVals[i])\n",
    "model.fit(x_train_reshape, y_train)\n",
    "predictions = model.predict(x_test_reshape)\n",
    "#print(predictions[1])\n",
    "\n",
    "# show a final classification report demonstrating the accuracy of the classifier\n",
    "# for each of the digits\n",
    "\n",
    "print(\"EVALUATION ON TESTING DATA\")\n",
    "print(classification_report(y_test, predictions))\n",
    "\n",
    "print (\"Confusion matrix\")\n",
    "print(confusion_matrix(y_test,predictions))"
   ]
  },
  {
   "cell_type": "code",
   "execution_count": null,
   "metadata": {},
   "outputs": [],
   "source": []
  },
  {
   "cell_type": "code",
   "execution_count": 15,
   "metadata": {},
   "outputs": [],
   "source": [
    "train_Y = tf.keras.utils.to_categorical(y_train, num_classes=10)\n",
    "test_Y = tf.keras.utils.to_categorical(y_test, num_classes=10)"
   ]
  },
  {
   "cell_type": "code",
   "execution_count": 16,
   "metadata": {},
   "outputs": [],
   "source": [
    "X_train = x_train / 255\n",
    "X_test = x_test / 255"
   ]
  },
  {
   "cell_type": "code",
   "execution_count": 17,
   "metadata": {},
   "outputs": [
    {
     "name": "stdout",
     "output_type": "stream",
     "text": [
      "(42000, 32, 32)\n"
     ]
    }
   ],
   "source": [
    "print(X_train.shape)"
   ]
  },
  {
   "cell_type": "code",
   "execution_count": null,
   "metadata": {},
   "outputs": [],
   "source": []
  },
  {
   "cell_type": "code",
   "execution_count": 30,
   "metadata": {},
   "outputs": [],
   "source": [
    "model = Sequential()\n",
    "model.add(Reshape((1024,),input_shape=(32,32,)))\n",
    "model.add(Dense(units=250,activation=\"relu\"))\n",
    "model.add(Dense(units=100,activation=\"relu\"))\n",
    "\n",
    "model.add(Dense(units=10,activation=\"softmax\"))\n",
    "model.compile(optimizer='sgd', loss='categorical_crossentropy', metrics=['accuracy'])"
   ]
  },
  {
   "cell_type": "code",
   "execution_count": 31,
   "metadata": {
    "scrolled": true
   },
   "outputs": [
    {
     "name": "stdout",
     "output_type": "stream",
     "text": [
      "Train on 42000 samples, validate on 18000 samples\n",
      "Epoch 1/30\n",
      "42000/42000 [==============================] - 7s 159us/step - loss: 2.2573 - acc: 0.1829 - val_loss: 2.1737 - val_acc: 0.2741\n",
      "Epoch 2/30\n",
      "42000/42000 [==============================] - 6s 145us/step - loss: 2.0152 - acc: 0.3571 - val_loss: 1.8679 - val_acc: 0.3809\n",
      "Epoch 3/30\n",
      "42000/42000 [==============================] - 5s 129us/step - loss: 1.6729 - acc: 0.4783 - val_loss: 1.4932 - val_acc: 0.5618\n",
      "Epoch 4/30\n",
      "42000/42000 [==============================] - 5s 121us/step - loss: 1.4315 - acc: 0.5625 - val_loss: 1.4190 - val_acc: 0.5579\n",
      "Epoch 5/30\n",
      "42000/42000 [==============================] - 5s 117us/step - loss: 1.2724 - acc: 0.6113 - val_loss: 1.2666 - val_acc: 0.6131\n",
      "Epoch 6/30\n",
      "42000/42000 [==============================] - 5s 127us/step - loss: 1.1718 - acc: 0.6413 - val_loss: 1.1775 - val_acc: 0.6274\n",
      "Epoch 7/30\n",
      "42000/42000 [==============================] - 5s 124us/step - loss: 1.0984 - acc: 0.6628 - val_loss: 1.5243 - val_acc: 0.5326\n",
      "Epoch 8/30\n",
      "42000/42000 [==============================] - 5s 124us/step - loss: 1.0409 - acc: 0.6782 - val_loss: 0.9979 - val_acc: 0.6983\n",
      "Epoch 9/30\n",
      "42000/42000 [==============================] - 5s 130us/step - loss: 0.9930 - acc: 0.6974 - val_loss: 0.9880 - val_acc: 0.6962\n",
      "Epoch 10/30\n",
      "42000/42000 [==============================] - 5s 126us/step - loss: 0.9531 - acc: 0.7074 - val_loss: 0.9595 - val_acc: 0.7027\n",
      "Epoch 11/30\n",
      "42000/42000 [==============================] - 5s 126us/step - loss: 0.9160 - acc: 0.7212 - val_loss: 1.0888 - val_acc: 0.6627\n",
      "Epoch 12/30\n",
      "42000/42000 [==============================] - 6s 139us/step - loss: 0.8867 - acc: 0.7279 - val_loss: 0.8921 - val_acc: 0.7325\n",
      "Epoch 13/30\n",
      "42000/42000 [==============================] - 6s 139us/step - loss: 0.8570 - acc: 0.7376 - val_loss: 0.9141 - val_acc: 0.7232\n",
      "Epoch 14/30\n",
      "42000/42000 [==============================] - 5s 126us/step - loss: 0.8277 - acc: 0.7477 - val_loss: 0.9517 - val_acc: 0.7032\n",
      "Epoch 15/30\n",
      "42000/42000 [==============================] - 6s 132us/step - loss: 0.8091 - acc: 0.7532 - val_loss: 0.8669 - val_acc: 0.7423\n",
      "Epoch 16/30\n",
      "42000/42000 [==============================] - 5s 124us/step - loss: 0.7885 - acc: 0.7596 - val_loss: 0.9505 - val_acc: 0.7031\n",
      "Epoch 17/30\n",
      "42000/42000 [==============================] - 5s 122us/step - loss: 0.7670 - acc: 0.7649 - val_loss: 0.9466 - val_acc: 0.7086\n",
      "Epoch 18/30\n",
      "42000/42000 [==============================] - 6s 131us/step - loss: 0.7471 - acc: 0.7723 - val_loss: 0.8068 - val_acc: 0.7570\n",
      "Epoch 19/30\n",
      "42000/42000 [==============================] - 5s 122us/step - loss: 0.7316 - acc: 0.7764 - val_loss: 0.8085 - val_acc: 0.7582\n",
      "Epoch 20/30\n",
      "42000/42000 [==============================] - 5s 126us/step - loss: 0.7174 - acc: 0.7808 - val_loss: 0.8109 - val_acc: 0.7508\n",
      "Epoch 21/30\n",
      "42000/42000 [==============================] - 6s 134us/step - loss: 0.7016 - acc: 0.7854 - val_loss: 0.7611 - val_acc: 0.7762\n",
      "Epoch 22/30\n",
      "42000/42000 [==============================] - 5s 127us/step - loss: 0.6877 - acc: 0.7892 - val_loss: 0.7490 - val_acc: 0.7768\n",
      "Epoch 23/30\n",
      "42000/42000 [==============================] - 5s 126us/step - loss: 0.6780 - acc: 0.7956 - val_loss: 0.7844 - val_acc: 0.7675\n",
      "Epoch 24/30\n",
      "42000/42000 [==============================] - 6s 134us/step - loss: 0.6655 - acc: 0.7981 - val_loss: 0.8666 - val_acc: 0.7440\n",
      "Epoch 25/30\n",
      "42000/42000 [==============================] - 5s 127us/step - loss: 0.6549 - acc: 0.7998 - val_loss: 0.7110 - val_acc: 0.7924\n",
      "Epoch 26/30\n",
      "42000/42000 [==============================] - 5s 126us/step - loss: 0.6450 - acc: 0.8020 - val_loss: 0.7293 - val_acc: 0.7863\n",
      "Epoch 27/30\n",
      "42000/42000 [==============================] - 6s 139us/step - loss: 0.6325 - acc: 0.8086 - val_loss: 0.7525 - val_acc: 0.7781\n",
      "Epoch 28/30\n",
      "42000/42000 [==============================] - 6s 132us/step - loss: 0.6236 - acc: 0.8112 - val_loss: 0.8191 - val_acc: 0.7490\n",
      "Epoch 29/30\n",
      "42000/42000 [==============================] - 6s 148us/step - loss: 0.6172 - acc: 0.8125 - val_loss: 0.7610 - val_acc: 0.7734\n",
      "Epoch 30/30\n",
      "42000/42000 [==============================] - 6s 134us/step - loss: 0.6066 - acc: 0.8156 - val_loss: 0.8681 - val_acc: 0.7477\n"
     ]
    }
   ],
   "source": [
    "model_history = model.fit(X_train, train_Y, \n",
    "          validation_data=(X_test, test_Y), \n",
    "          epochs=30)"
   ]
  },
  {
   "cell_type": "code",
   "execution_count": 32,
   "metadata": {},
   "outputs": [
    {
     "name": "stdout",
     "output_type": "stream",
     "text": [
      "18000/18000 [==============================] - 2s 100us/step\n",
      "Accuracy:  74.7722221919232\n"
     ]
    }
   ],
   "source": [
    "accuracy = model.evaluate(x=X_test,y=test_Y,batch_size=10)\n",
    "print(\"Accuracy: \", accuracy[1]*100)"
   ]
  },
  {
   "cell_type": "code",
   "execution_count": null,
   "metadata": {},
   "outputs": [],
   "source": []
  },
  {
   "cell_type": "code",
   "execution_count": null,
   "metadata": {},
   "outputs": [],
   "source": []
  },
  {
   "cell_type": "code",
   "execution_count": 21,
   "metadata": {},
   "outputs": [],
   "source": [
    "model = Sequential()\n",
    "model.add(Reshape((1024,),input_shape=(32,32,)))\n",
    "model.add(Dense(units=250,activation=\"relu\"))\n",
    "model.add(Dense(units=100,activation=\"relu\"))\n",
    "\n",
    "model.add(Dense(units=10,activation=\"softmax\"))\n",
    "model.compile(optimizer='adam', loss='categorical_crossentropy', metrics=['accuracy'])"
   ]
  },
  {
   "cell_type": "code",
   "execution_count": 22,
   "metadata": {
    "scrolled": true
   },
   "outputs": [
    {
     "name": "stdout",
     "output_type": "stream",
     "text": [
      "Train on 42000 samples, validate on 18000 samples\n",
      "Epoch 1/30\n",
      "42000/42000 [==============================] - 10s 237us/step - loss: 2.3060 - acc: 0.1001 - val_loss: 2.3027 - val_acc: 0.0982\n",
      "Epoch 2/30\n",
      "42000/42000 [==============================] - 9s 206us/step - loss: 2.3028 - acc: 0.1006 - val_loss: 2.3027 - val_acc: 0.1008\n",
      "Epoch 3/30\n",
      "42000/42000 [==============================] - 9s 207us/step - loss: 2.3031 - acc: 0.1000 - val_loss: 2.3029 - val_acc: 0.0955\n",
      "Epoch 4/30\n",
      "42000/42000 [==============================] - 8s 200us/step - loss: 2.3027 - acc: 0.0993 - val_loss: 2.3029 - val_acc: 0.0955\n",
      "Epoch 5/30\n",
      "42000/42000 [==============================] - 9s 207us/step - loss: 2.3028 - acc: 0.0995 - val_loss: 2.3028 - val_acc: 0.0955\n",
      "Epoch 6/30\n",
      "42000/42000 [==============================] - 8s 199us/step - loss: 2.3028 - acc: 0.0989 - val_loss: 2.3027 - val_acc: 0.0955\n",
      "Epoch 7/30\n",
      "42000/42000 [==============================] - 9s 213us/step - loss: 2.3027 - acc: 0.0983 - val_loss: 2.3028 - val_acc: 0.0955\n",
      "Epoch 8/30\n",
      "42000/42000 [==============================] - 8s 199us/step - loss: 2.3028 - acc: 0.0996 - val_loss: 2.3028 - val_acc: 0.0955\n",
      "Epoch 9/30\n",
      "42000/42000 [==============================] - 9s 214us/step - loss: 2.3028 - acc: 0.0968 - val_loss: 2.3029 - val_acc: 0.0955\n",
      "Epoch 10/30\n",
      "42000/42000 [==============================] - 9s 205us/step - loss: 2.3027 - acc: 0.1009 - val_loss: 2.3027 - val_acc: 0.0982\n",
      "Epoch 11/30\n",
      "42000/42000 [==============================] - 9s 212us/step - loss: 2.3028 - acc: 0.0979 - val_loss: 2.3027 - val_acc: 0.1004\n",
      "Epoch 12/30\n",
      "42000/42000 [==============================] - 9s 207us/step - loss: 2.3027 - acc: 0.0996 - val_loss: 2.3028 - val_acc: 0.0955\n",
      "Epoch 13/30\n",
      "42000/42000 [==============================] - 9s 217us/step - loss: 2.3028 - acc: 0.0984 - val_loss: 2.3028 - val_acc: 0.0955\n",
      "Epoch 14/30\n",
      "42000/42000 [==============================] - 9s 207us/step - loss: 2.3028 - acc: 0.1009 - val_loss: 2.3028 - val_acc: 0.0982\n",
      "Epoch 15/30\n",
      "42000/42000 [==============================] - 9s 204us/step - loss: 2.3027 - acc: 0.0990 - val_loss: 2.3029 - val_acc: 0.0955\n",
      "Epoch 16/30\n",
      "42000/42000 [==============================] - 9s 208us/step - loss: 2.3028 - acc: 0.1003 - val_loss: 2.3028 - val_acc: 0.0955\n",
      "Epoch 17/30\n",
      "42000/42000 [==============================] - 8s 202us/step - loss: 2.3027 - acc: 0.0990 - val_loss: 2.3028 - val_acc: 0.0955\n",
      "Epoch 18/30\n",
      "42000/42000 [==============================] - 9s 213us/step - loss: 2.3028 - acc: 0.1000 - val_loss: 2.3027 - val_acc: 0.1004\n",
      "Epoch 19/30\n",
      "42000/42000 [==============================] - 9s 204us/step - loss: 2.3027 - acc: 0.1000 - val_loss: 2.3029 - val_acc: 0.0955\n",
      "Epoch 20/30\n",
      "42000/42000 [==============================] - 9s 220us/step - loss: 2.3028 - acc: 0.0990 - val_loss: 2.3029 - val_acc: 0.0955\n",
      "Epoch 21/30\n",
      "42000/42000 [==============================] - 9s 208us/step - loss: 2.3028 - acc: 0.1002 - val_loss: 2.3028 - val_acc: 0.0982\n",
      "Epoch 22/30\n",
      "42000/42000 [==============================] - 9s 211us/step - loss: 2.3027 - acc: 0.1001 - val_loss: 2.3028 - val_acc: 0.0982\n",
      "Epoch 23/30\n",
      "42000/42000 [==============================] - 9s 213us/step - loss: 2.3028 - acc: 0.1007 - val_loss: 2.3028 - val_acc: 0.0955\n",
      "Epoch 24/30\n",
      "42000/42000 [==============================] - 9s 209us/step - loss: 2.3028 - acc: 0.0996 - val_loss: 2.3028 - val_acc: 0.0955\n",
      "Epoch 25/30\n",
      "42000/42000 [==============================] - 9s 215us/step - loss: 2.3028 - acc: 0.1000 - val_loss: 2.3029 - val_acc: 0.0955\n",
      "Epoch 26/30\n",
      "42000/42000 [==============================] - 9s 205us/step - loss: 2.3027 - acc: 0.1009 - val_loss: 2.3029 - val_acc: 0.0955\n",
      "Epoch 27/30\n",
      "42000/42000 [==============================] - 9s 212us/step - loss: 2.3028 - acc: 0.1018 - val_loss: 2.3027 - val_acc: 0.0955\n",
      "Epoch 28/30\n",
      "42000/42000 [==============================] - 9s 206us/step - loss: 2.3027 - acc: 0.0994 - val_loss: 2.3028 - val_acc: 0.0982\n",
      "Epoch 29/30\n",
      "42000/42000 [==============================] - 9s 210us/step - loss: 2.3028 - acc: 0.0999 - val_loss: 2.3027 - val_acc: 0.0955\n",
      "Epoch 30/30\n",
      "42000/42000 [==============================] - 9s 214us/step - loss: 2.3027 - acc: 0.0991 - val_loss: 2.3028 - val_acc: 0.0955\n"
     ]
    }
   ],
   "source": [
    "model_history = model.fit(X_train, train_Y, \n",
    "          validation_data=(X_test, test_Y), \n",
    "          epochs=30)"
   ]
  },
  {
   "cell_type": "code",
   "execution_count": 23,
   "metadata": {
    "scrolled": true
   },
   "outputs": [
    {
     "name": "stdout",
     "output_type": "stream",
     "text": [
      "18000/18000 [==============================] - 2s 115us/step\n",
      "Accuracy:  9.550000184526047\n"
     ]
    }
   ],
   "source": [
    "accuracy = model.evaluate(x=X_test,y=test_Y,batch_size=10)\n",
    "print(\"Accuracy: \", accuracy[1]*100)"
   ]
  },
  {
   "cell_type": "code",
   "execution_count": null,
   "metadata": {},
   "outputs": [],
   "source": []
  },
  {
   "cell_type": "code",
   "execution_count": null,
   "metadata": {},
   "outputs": [],
   "source": []
  },
  {
   "cell_type": "code",
   "execution_count": null,
   "metadata": {},
   "outputs": [],
   "source": []
  },
  {
   "cell_type": "code",
   "execution_count": null,
   "metadata": {},
   "outputs": [],
   "source": []
  },
  {
   "cell_type": "code",
   "execution_count": 21,
   "metadata": {},
   "outputs": [],
   "source": [
    "model = Sequential()\n",
    "model.add(Reshape((1024,),input_shape=(32,32,)))\n",
    "model.add(Dense(units=500,activation=\"relu\"))\n",
    "model.add(Dense(units=250,activation=\"relu\"))\n",
    "#Dropout layer\n",
    "model.add(Dropout(0.25))\n",
    "model.add(Dense(units=150,activation=\"relu\"))\n",
    "model.add(Dense(units=100,activation=\"relu\"))\n",
    "model.add(Dropout(0.25))\n",
    "\n",
    "model.add(Dense(units=10,activation=\"softmax\"))\n",
    "model.compile(optimizer='sgd', loss='categorical_crossentropy', metrics=['accuracy'])"
   ]
  },
  {
   "cell_type": "code",
   "execution_count": 22,
   "metadata": {},
   "outputs": [
    {
     "name": "stdout",
     "output_type": "stream",
     "text": [
      "Train on 42000 samples, validate on 18000 samples\n",
      "Epoch 1/30\n",
      "42000/42000 [==============================] - 15s 349us/step - loss: 2.2972 - acc: 0.1211 - val_loss: 2.2693 - val_acc: 0.1976\n",
      "Epoch 2/30\n",
      "42000/42000 [==============================] - 15s 349us/step - loss: 2.2141 - acc: 0.2025 - val_loss: 2.0329 - val_acc: 0.3521\n",
      "Epoch 3/30\n",
      "42000/42000 [==============================] - 14s 344us/step - loss: 1.8681 - acc: 0.3461 - val_loss: 1.5953 - val_acc: 0.4929\n",
      "Epoch 4/30\n",
      "42000/42000 [==============================] - 14s 345us/step - loss: 1.5790 - acc: 0.4631 - val_loss: 1.3939 - val_acc: 0.5382\n",
      "Epoch 5/30\n",
      "42000/42000 [==============================] - 14s 343us/step - loss: 1.3940 - acc: 0.5402 - val_loss: 1.2341 - val_acc: 0.6105\n",
      "Epoch 6/30\n",
      "42000/42000 [==============================] - 14s 339us/step - loss: 1.2837 - acc: 0.5878 - val_loss: 1.2265 - val_acc: 0.6034\n",
      "Epoch 7/30\n",
      "42000/42000 [==============================] - 15s 363us/step - loss: 1.2011 - acc: 0.6165 - val_loss: 1.0358 - val_acc: 0.6817\n",
      "Epoch 8/30\n",
      "42000/42000 [==============================] - 15s 359us/step - loss: 1.1282 - acc: 0.6438 - val_loss: 1.0472 - val_acc: 0.6642\n",
      "Epoch 9/30\n",
      "42000/42000 [==============================] - 15s 347us/step - loss: 1.0717 - acc: 0.6653 - val_loss: 1.0179 - val_acc: 0.6828\n",
      "Epoch 10/30\n",
      "42000/42000 [==============================] - 14s 341us/step - loss: 1.0281 - acc: 0.6803 - val_loss: 0.9252 - val_acc: 0.7087\n",
      "Epoch 11/30\n",
      "42000/42000 [==============================] - 14s 341us/step - loss: 0.9901 - acc: 0.6906 - val_loss: 0.8832 - val_acc: 0.7292\n",
      "Epoch 12/30\n",
      "42000/42000 [==============================] - 14s 341us/step - loss: 0.9540 - acc: 0.7015 - val_loss: 0.8877 - val_acc: 0.7206\n",
      "Epoch 13/30\n",
      "42000/42000 [==============================] - 14s 338us/step - loss: 0.9227 - acc: 0.7114 - val_loss: 0.8662 - val_acc: 0.7313\n",
      "Epoch 14/30\n",
      "42000/42000 [==============================] - 15s 366us/step - loss: 0.9015 - acc: 0.7179 - val_loss: 0.8770 - val_acc: 0.7223\n",
      "Epoch 15/30\n",
      "42000/42000 [==============================] - 15s 346us/step - loss: 0.8770 - acc: 0.7245 - val_loss: 0.8218 - val_acc: 0.7420\n",
      "Epoch 16/30\n",
      "42000/42000 [==============================] - 15s 348us/step - loss: 0.8558 - acc: 0.7319 - val_loss: 0.8225 - val_acc: 0.7415\n",
      "Epoch 17/30\n",
      "42000/42000 [==============================] - 14s 343us/step - loss: 0.8358 - acc: 0.7381 - val_loss: 0.8163 - val_acc: 0.7424\n",
      "Epoch 18/30\n",
      "42000/42000 [==============================] - 15s 345us/step - loss: 0.8174 - acc: 0.7448 - val_loss: 0.7577 - val_acc: 0.7660\n",
      "Epoch 19/30\n",
      "42000/42000 [==============================] - 14s 342us/step - loss: 0.7921 - acc: 0.7515 - val_loss: 0.7655 - val_acc: 0.7566\n",
      "Epoch 20/30\n",
      "42000/42000 [==============================] - 14s 341us/step - loss: 0.7793 - acc: 0.7564 - val_loss: 0.7507 - val_acc: 0.7685\n",
      "Epoch 21/30\n",
      "42000/42000 [==============================] - 15s 368us/step - loss: 0.7667 - acc: 0.7620 - val_loss: 0.8157 - val_acc: 0.7434\n",
      "Epoch 22/30\n",
      "42000/42000 [==============================] - 15s 357us/step - loss: 0.7515 - acc: 0.7654 - val_loss: 0.8977 - val_acc: 0.7142\n",
      "Epoch 23/30\n",
      "42000/42000 [==============================] - 15s 361us/step - loss: 0.7323 - acc: 0.7704 - val_loss: 0.7760 - val_acc: 0.7568\n",
      "Epoch 24/30\n",
      "42000/42000 [==============================] - 15s 352us/step - loss: 0.7214 - acc: 0.7755 - val_loss: 0.8248 - val_acc: 0.7358\n",
      "Epoch 25/30\n",
      "42000/42000 [==============================] - 15s 353us/step - loss: 0.7096 - acc: 0.7777 - val_loss: 0.7773 - val_acc: 0.7643\n",
      "Epoch 26/30\n",
      "42000/42000 [==============================] - 15s 360us/step - loss: 0.6986 - acc: 0.7830 - val_loss: 0.7015 - val_acc: 0.7834\n",
      "Epoch 27/30\n",
      "42000/42000 [==============================] - 16s 369us/step - loss: 0.6884 - acc: 0.7839 - val_loss: 0.6682 - val_acc: 0.7916\n",
      "Epoch 28/30\n",
      "42000/42000 [==============================] - 15s 364us/step - loss: 0.6751 - acc: 0.7909 - val_loss: 0.6550 - val_acc: 0.7972\n",
      "Epoch 29/30\n",
      "42000/42000 [==============================] - 15s 357us/step - loss: 0.6625 - acc: 0.7933 - val_loss: 0.6816 - val_acc: 0.7897\n",
      "Epoch 30/30\n",
      "42000/42000 [==============================] - 15s 360us/step - loss: 0.6557 - acc: 0.7951 - val_loss: 0.6972 - val_acc: 0.7806\n"
     ]
    }
   ],
   "source": [
    "model_history = model.fit(X_train, train_Y, \n",
    "          validation_data=(X_test, test_Y), \n",
    "          epochs=30)"
   ]
  },
  {
   "cell_type": "code",
   "execution_count": 23,
   "metadata": {},
   "outputs": [
    {
     "name": "stdout",
     "output_type": "stream",
     "text": [
      "18000/18000 [==============================] - 4s 211us/step\n",
      "Accuracy:  78.05555535852909\n"
     ]
    }
   ],
   "source": [
    "accuracy = model.evaluate(x=X_test,y=test_Y,batch_size=10)\n",
    "print(\"Accuracy: \", accuracy[1]*100)"
   ]
  },
  {
   "cell_type": "code",
   "execution_count": null,
   "metadata": {},
   "outputs": [],
   "source": []
  },
  {
   "cell_type": "code",
   "execution_count": 18,
   "metadata": {},
   "outputs": [],
   "source": [
    "model = Sequential()\n",
    "model.add(Reshape((1024,),input_shape=(32,32,)))\n",
    "model.add(Dense(units=500,activation=\"relu\"))\n",
    "model.add(Dense(units=250,activation=\"relu\"))\n",
    "#Dropout layer\n",
    "model.add(Dropout(0.25))\n",
    "model.add(Dense(units=150,activation=\"relu\"))\n",
    "model.add(Dense(units=100,activation=\"relu\"))\n",
    "model.add(Dropout(0.25))\n",
    "\n",
    "model.add(Dense(units=10,activation=\"softmax\"))\n",
    "model.compile(optimizer='adam', loss='categorical_crossentropy', metrics=['accuracy'])"
   ]
  },
  {
   "cell_type": "code",
   "execution_count": 19,
   "metadata": {
    "scrolled": true
   },
   "outputs": [
    {
     "name": "stdout",
     "output_type": "stream",
     "text": [
      "Train on 42000 samples, validate on 18000 samples\n",
      "Epoch 1/30\n",
      "42000/42000 [==============================] - 24s 570us/step - loss: 2.3065 - acc: 0.0994 - val_loss: 2.3029 - val_acc: 0.0955\n",
      "Epoch 2/30\n",
      "42000/42000 [==============================] - 23s 553us/step - loss: 2.3028 - acc: 0.1004 - val_loss: 2.3027 - val_acc: 0.1007\n",
      "Epoch 3/30\n",
      "42000/42000 [==============================] - 23s 544us/step - loss: 2.3028 - acc: 0.1005 - val_loss: 2.3029 - val_acc: 0.0982\n",
      "Epoch 4/30\n",
      "42000/42000 [==============================] - 23s 555us/step - loss: 2.3028 - acc: 0.1006 - val_loss: 2.3028 - val_acc: 0.0955\n",
      "Epoch 5/30\n",
      "42000/42000 [==============================] - 23s 556us/step - loss: 2.3028 - acc: 0.1011 - val_loss: 2.3028 - val_acc: 0.0955\n",
      "Epoch 6/30\n",
      "42000/42000 [==============================] - 23s 552us/step - loss: 2.3028 - acc: 0.0997 - val_loss: 2.3028 - val_acc: 0.0955\n",
      "Epoch 7/30\n",
      "42000/42000 [==============================] - 23s 543us/step - loss: 2.3027 - acc: 0.1019 - val_loss: 2.3029 - val_acc: 0.0955\n",
      "Epoch 8/30\n",
      "42000/42000 [==============================] - 23s 555us/step - loss: 2.3028 - acc: 0.0989 - val_loss: 2.3028 - val_acc: 0.1007\n",
      "Epoch 9/30\n",
      "42000/42000 [==============================] - 24s 562us/step - loss: 2.3028 - acc: 0.0991 - val_loss: 2.3028 - val_acc: 0.0955\n",
      "Epoch 10/30\n",
      "42000/42000 [==============================] - 24s 567us/step - loss: 2.3029 - acc: 0.0969 - val_loss: 2.3033 - val_acc: 0.0955\n",
      "Epoch 11/30\n",
      "42000/42000 [==============================] - 23s 557us/step - loss: 2.3031 - acc: 0.0991 - val_loss: 2.3028 - val_acc: 0.0955\n",
      "Epoch 12/30\n",
      "42000/42000 [==============================] - 23s 554us/step - loss: 2.3028 - acc: 0.1006 - val_loss: 2.3028 - val_acc: 0.0955\n",
      "Epoch 13/30\n",
      "42000/42000 [==============================] - 24s 561us/step - loss: 2.3028 - acc: 0.0979 - val_loss: 2.3029 - val_acc: 0.0955\n",
      "Epoch 14/30\n",
      "42000/42000 [==============================] - 24s 560us/step - loss: 2.3028 - acc: 0.0990 - val_loss: 2.3028 - val_acc: 0.0955\n",
      "Epoch 15/30\n",
      "42000/42000 [==============================] - 24s 565us/step - loss: 2.3028 - acc: 0.0980 - val_loss: 2.3028 - val_acc: 0.0955\n",
      "Epoch 16/30\n",
      "42000/42000 [==============================] - 24s 562us/step - loss: 2.3028 - acc: 0.0984 - val_loss: 2.3027 - val_acc: 0.0955\n",
      "Epoch 17/30\n",
      "42000/42000 [==============================] - 24s 570us/step - loss: 2.3027 - acc: 0.0984 - val_loss: 2.3029 - val_acc: 0.0955\n",
      "Epoch 18/30\n",
      "42000/42000 [==============================] - 24s 564us/step - loss: 2.3027 - acc: 0.1020 - val_loss: 2.3028 - val_acc: 0.0982\n",
      "Epoch 19/30\n",
      "42000/42000 [==============================] - 24s 578us/step - loss: 2.3027 - acc: 0.0997 - val_loss: 2.3027 - val_acc: 0.1007\n",
      "Epoch 20/30\n",
      "42000/42000 [==============================] - 23s 559us/step - loss: 2.3028 - acc: 0.0983 - val_loss: 2.3029 - val_acc: 0.0955\n",
      "Epoch 21/30\n",
      "42000/42000 [==============================] - 24s 560us/step - loss: 2.3028 - acc: 0.0985 - val_loss: 2.3029 - val_acc: 0.0955\n",
      "Epoch 22/30\n",
      "42000/42000 [==============================] - 24s 561us/step - loss: 2.3027 - acc: 0.1021 - val_loss: 2.3027 - val_acc: 0.1007\n",
      "Epoch 23/30\n",
      "42000/42000 [==============================] - 24s 565us/step - loss: 2.3028 - acc: 0.0978 - val_loss: 2.3027 - val_acc: 0.0955\n",
      "Epoch 24/30\n",
      "42000/42000 [==============================] - 23s 557us/step - loss: 2.3028 - acc: 0.0999 - val_loss: 2.3028 - val_acc: 0.0955\n",
      "Epoch 25/30\n",
      "42000/42000 [==============================] - 24s 575us/step - loss: 2.3028 - acc: 0.1015 - val_loss: 2.3028 - val_acc: 0.0955\n",
      "Epoch 26/30\n",
      "42000/42000 [==============================] - 24s 566us/step - loss: 2.3028 - acc: 0.1010 - val_loss: 2.3027 - val_acc: 0.0955\n",
      "Epoch 27/30\n",
      "42000/42000 [==============================] - 24s 571us/step - loss: 2.3027 - acc: 0.1009 - val_loss: 2.3029 - val_acc: 0.0955\n",
      "Epoch 28/30\n",
      "42000/42000 [==============================] - 24s 565us/step - loss: 2.3028 - acc: 0.1009 - val_loss: 2.3028 - val_acc: 0.0955\n",
      "Epoch 29/30\n",
      "42000/42000 [==============================] - 24s 576us/step - loss: 2.3027 - acc: 0.1004 - val_loss: 2.3029 - val_acc: 0.0955\n",
      "Epoch 30/30\n",
      "42000/42000 [==============================] - 24s 572us/step - loss: 2.3027 - acc: 0.1011 - val_loss: 2.3028 - val_acc: 0.1002\n"
     ]
    }
   ],
   "source": [
    "model_history = model.fit(X_train, train_Y, \n",
    "          validation_data=(X_test, test_Y), \n",
    "          epochs=30)"
   ]
  },
  {
   "cell_type": "code",
   "execution_count": 20,
   "metadata": {},
   "outputs": [
    {
     "name": "stdout",
     "output_type": "stream",
     "text": [
      "18000/18000 [==============================] - 4s 233us/step\n",
      "Accuracy:  10.022222411301401\n"
     ]
    }
   ],
   "source": [
    "accuracy = model.evaluate(x=X_test,y=test_Y,batch_size=10)\n",
    "print(\"Accuracy: \", accuracy[1]*100)"
   ]
  },
  {
   "cell_type": "code",
   "execution_count": null,
   "metadata": {},
   "outputs": [],
   "source": []
  },
  {
   "cell_type": "code",
   "execution_count": null,
   "metadata": {},
   "outputs": [],
   "source": []
  },
  {
   "cell_type": "code",
   "execution_count": null,
   "metadata": {},
   "outputs": [],
   "source": []
  },
  {
   "cell_type": "code",
   "execution_count": 24,
   "metadata": {},
   "outputs": [],
   "source": [
    "model = Sequential()\n",
    "model.add(Reshape((1024,),input_shape=(32,32,)))\n",
    "\n",
    "model.add(BatchNormalization())\n",
    "\n",
    "model.add(Dense(units=500,activation=\"relu\"))\n",
    "model.add(Dense(units=250,activation=\"relu\"))\n",
    "#Dropout layer\n",
    "model.add(Dropout(0.25))\n",
    "model.add(Dense(units=100,activation=\"relu\"))\n",
    "model.add(Dense(units=100,activation=\"relu\"))\n",
    "#model.add(Dropout(0.5))\n",
    "\n",
    "model.add(Dense(units=10,activation=\"softmax\"))\n",
    "model.compile(optimizer='sgd', loss='categorical_crossentropy', metrics=['accuracy'])"
   ]
  },
  {
   "cell_type": "code",
   "execution_count": 25,
   "metadata": {
    "scrolled": false
   },
   "outputs": [
    {
     "name": "stdout",
     "output_type": "stream",
     "text": [
      "Train on 42000 samples, validate on 18000 samples\n",
      "Epoch 1/30\n",
      "42000/42000 [==============================] - 17s 414us/step - loss: 1.9232 - acc: 0.3250 - val_loss: 1.2550 - val_acc: 0.6197\n",
      "Epoch 2/30\n",
      "42000/42000 [==============================] - 18s 421us/step - loss: 1.2369 - acc: 0.5978 - val_loss: 0.9817 - val_acc: 0.6972\n",
      "Epoch 3/30\n",
      "42000/42000 [==============================] - 17s 402us/step - loss: 1.0261 - acc: 0.6748 - val_loss: 0.8756 - val_acc: 0.7249\n",
      "Epoch 4/30\n",
      "42000/42000 [==============================] - 17s 405us/step - loss: 0.9154 - acc: 0.7099 - val_loss: 0.7852 - val_acc: 0.7646\n",
      "Epoch 5/30\n",
      "42000/42000 [==============================] - 17s 407us/step - loss: 0.8321 - acc: 0.7371 - val_loss: 0.7160 - val_acc: 0.7852\n",
      "Epoch 6/30\n",
      "42000/42000 [==============================] - 17s 407us/step - loss: 0.7799 - acc: 0.7526 - val_loss: 0.6732 - val_acc: 0.8018\n",
      "Epoch 7/30\n",
      "42000/42000 [==============================] - 18s 421us/step - loss: 0.7372 - acc: 0.7665 - val_loss: 0.6541 - val_acc: 0.8047\n",
      "Epoch 8/30\n",
      "42000/42000 [==============================] - 17s 411us/step - loss: 0.7041 - acc: 0.7773 - val_loss: 0.6337 - val_acc: 0.8130\n",
      "Epoch 9/30\n",
      "42000/42000 [==============================] - 18s 418us/step - loss: 0.6722 - acc: 0.7849 - val_loss: 0.6130 - val_acc: 0.8199\n",
      "Epoch 10/30\n",
      "42000/42000 [==============================] - 18s 430us/step - loss: 0.6484 - acc: 0.7956 - val_loss: 0.5915 - val_acc: 0.8255\n",
      "Epoch 11/30\n",
      "42000/42000 [==============================] - 18s 429us/step - loss: 0.6256 - acc: 0.8014 - val_loss: 0.5854 - val_acc: 0.8287\n",
      "Epoch 12/30\n",
      "42000/42000 [==============================] - 18s 440us/step - loss: 0.6083 - acc: 0.8055 - val_loss: 0.5977 - val_acc: 0.8229\n",
      "Epoch 13/30\n",
      "42000/42000 [==============================] - 18s 440us/step - loss: 0.5899 - acc: 0.8123 - val_loss: 0.5688 - val_acc: 0.8332\n",
      "Epoch 14/30\n",
      "42000/42000 [==============================] - 18s 421us/step - loss: 0.5713 - acc: 0.8190 - val_loss: 0.6448 - val_acc: 0.8083\n",
      "Epoch 15/30\n",
      "42000/42000 [==============================] - 18s 420us/step - loss: 0.5540 - acc: 0.8216 - val_loss: 0.5516 - val_acc: 0.8363\n",
      "Epoch 16/30\n",
      "42000/42000 [==============================] - 18s 421us/step - loss: 0.5466 - acc: 0.8237 - val_loss: 0.5629 - val_acc: 0.8339\n",
      "Epoch 17/30\n",
      "42000/42000 [==============================] - 18s 440us/step - loss: 0.5393 - acc: 0.8270 - val_loss: 0.5476 - val_acc: 0.8385\n",
      "Epoch 18/30\n",
      "42000/42000 [==============================] - 18s 426us/step - loss: 0.5262 - acc: 0.8307 - val_loss: 0.5492 - val_acc: 0.8378\n",
      "Epoch 19/30\n",
      "42000/42000 [==============================] - 18s 425us/step - loss: 0.5067 - acc: 0.8375 - val_loss: 0.5314 - val_acc: 0.8472\n",
      "Epoch 20/30\n",
      "42000/42000 [==============================] - 18s 428us/step - loss: 0.4981 - acc: 0.8413 - val_loss: 0.5254 - val_acc: 0.8473\n",
      "Epoch 21/30\n",
      "42000/42000 [==============================] - 18s 434us/step - loss: 0.4870 - acc: 0.8441 - val_loss: 0.5338 - val_acc: 0.8453\n",
      "Epoch 22/30\n",
      "42000/42000 [==============================] - 19s 441us/step - loss: 0.4848 - acc: 0.8436 - val_loss: 0.5134 - val_acc: 0.8507\n",
      "Epoch 23/30\n",
      "42000/42000 [==============================] - 18s 432us/step - loss: 0.4752 - acc: 0.8460 - val_loss: 0.5223 - val_acc: 0.8482\n",
      "Epoch 24/30\n",
      "42000/42000 [==============================] - 18s 433us/step - loss: 0.4650 - acc: 0.8491 - val_loss: 0.5808 - val_acc: 0.8294\n",
      "Epoch 25/30\n",
      "42000/42000 [==============================] - 18s 428us/step - loss: 0.4585 - acc: 0.8519 - val_loss: 0.5500 - val_acc: 0.8414\n",
      "Epoch 26/30\n",
      "42000/42000 [==============================] - 18s 426us/step - loss: 0.4488 - acc: 0.8537 - val_loss: 0.5357 - val_acc: 0.8469\n",
      "Epoch 27/30\n",
      "42000/42000 [==============================] - 19s 447us/step - loss: 0.4438 - acc: 0.8568 - val_loss: 0.5031 - val_acc: 0.8548\n",
      "Epoch 28/30\n",
      "42000/42000 [==============================] - 18s 430us/step - loss: 0.4394 - acc: 0.8578 - val_loss: 0.5276 - val_acc: 0.8481\n",
      "Epoch 29/30\n",
      "42000/42000 [==============================] - 18s 425us/step - loss: 0.4297 - acc: 0.8595 - val_loss: 0.5170 - val_acc: 0.8524\n",
      "Epoch 30/30\n",
      "42000/42000 [==============================] - 18s 424us/step - loss: 0.4228 - acc: 0.8625 - val_loss: 0.5240 - val_acc: 0.8492\n"
     ]
    }
   ],
   "source": [
    "model_history = model.fit(X_train, train_Y, \n",
    "          validation_data=(X_test, test_Y), \n",
    "          epochs=30)"
   ]
  },
  {
   "cell_type": "code",
   "execution_count": 26,
   "metadata": {},
   "outputs": [
    {
     "name": "stdout",
     "output_type": "stream",
     "text": [
      "18000/18000 [==============================] - 4s 224us/step\n",
      "Accuracy:  84.92222169703908\n"
     ]
    }
   ],
   "source": [
    "accuracy = model.evaluate(x=X_test,y=test_Y,batch_size=10)\n",
    "print(\"Accuracy: \", accuracy[1]*100)"
   ]
  },
  {
   "cell_type": "code",
   "execution_count": 29,
   "metadata": {},
   "outputs": [],
   "source": [
    "model = Sequential()\n",
    "model.add(Reshape((1024,),input_shape=(32,32,)))\n",
    "\n",
    "model.add(BatchNormalization())\n",
    "\n",
    "model.add(Dense(units=500,activation=\"relu\"))\n",
    "model.add(Dense(units=250,activation=\"relu\"))\n",
    "#Dropout layer\n",
    "model.add(Dropout(0.25))\n",
    "model.add(Dense(units=100,activation=\"relu\"))\n",
    "model.add(Dense(units=100,activation=\"relu\"))\n",
    "#model.add(Dropout(0.5))\n",
    "\n",
    "model.add(Dense(units=10,activation=\"softmax\"))\n",
    "model.compile(optimizer='adam', loss='categorical_crossentropy', metrics=['accuracy'])"
   ]
  },
  {
   "cell_type": "code",
   "execution_count": 30,
   "metadata": {},
   "outputs": [
    {
     "name": "stdout",
     "output_type": "stream",
     "text": [
      "Train on 42000 samples, validate on 18000 samples\n",
      "Epoch 1/30\n",
      "42000/42000 [==============================] - 37s 879us/step - loss: 1.5343 - acc: 0.4806 - val_loss: 1.0115 - val_acc: 0.6869\n",
      "Epoch 2/30\n",
      "42000/42000 [==============================] - 34s 820us/step - loss: 1.0958 - acc: 0.6510 - val_loss: 0.9631 - val_acc: 0.7065\n",
      "Epoch 3/30\n",
      "42000/42000 [==============================] - 34s 808us/step - loss: 0.9642 - acc: 0.6946 - val_loss: 0.7539 - val_acc: 0.7775\n",
      "Epoch 4/30\n",
      "42000/42000 [==============================] - 34s 809us/step - loss: 0.8680 - acc: 0.7277 - val_loss: 0.7163 - val_acc: 0.7869\n",
      "Epoch 5/30\n",
      "42000/42000 [==============================] - 34s 801us/step - loss: 0.8092 - acc: 0.7489 - val_loss: 0.6717 - val_acc: 0.8011\n",
      "Epoch 6/30\n",
      "42000/42000 [==============================] - 34s 814us/step - loss: 0.7561 - acc: 0.7632 - val_loss: 0.6587 - val_acc: 0.8037\n",
      "Epoch 7/30\n",
      "42000/42000 [==============================] - 34s 813us/step - loss: 0.7216 - acc: 0.7731 - val_loss: 0.6197 - val_acc: 0.8152\n",
      "Epoch 8/30\n",
      "42000/42000 [==============================] - 34s 799us/step - loss: 0.6839 - acc: 0.7871 - val_loss: 0.5952 - val_acc: 0.8221\n",
      "Epoch 9/30\n",
      "42000/42000 [==============================] - 34s 800us/step - loss: 0.6585 - acc: 0.7934 - val_loss: 0.5925 - val_acc: 0.8215\n",
      "Epoch 10/30\n",
      "42000/42000 [==============================] - 34s 815us/step - loss: 0.6254 - acc: 0.8048 - val_loss: 0.5553 - val_acc: 0.8361\n",
      "Epoch 11/30\n",
      "42000/42000 [==============================] - 34s 816us/step - loss: 0.6133 - acc: 0.8094 - val_loss: 0.5802 - val_acc: 0.8280\n",
      "Epoch 12/30\n",
      "42000/42000 [==============================] - 34s 803us/step - loss: 0.5926 - acc: 0.8134 - val_loss: 0.5590 - val_acc: 0.8334\n",
      "Epoch 13/30\n",
      "42000/42000 [==============================] - 34s 816us/step - loss: 0.5830 - acc: 0.8170 - val_loss: 0.5237 - val_acc: 0.8443\n",
      "Epoch 14/30\n",
      "42000/42000 [==============================] - 34s 815us/step - loss: 0.5672 - acc: 0.8216 - val_loss: 0.5257 - val_acc: 0.8446\n",
      "Epoch 15/30\n",
      "42000/42000 [==============================] - 34s 820us/step - loss: 0.5542 - acc: 0.8267 - val_loss: 0.5503 - val_acc: 0.8393\n",
      "Epoch 16/30\n",
      "42000/42000 [==============================] - 34s 801us/step - loss: 0.5474 - acc: 0.8278 - val_loss: 0.5187 - val_acc: 0.8474\n",
      "Epoch 17/30\n",
      "42000/42000 [==============================] - 34s 803us/step - loss: 0.5271 - acc: 0.8334 - val_loss: 0.5108 - val_acc: 0.8498\n",
      "Epoch 18/30\n",
      "42000/42000 [==============================] - 34s 806us/step - loss: 0.5159 - acc: 0.8362 - val_loss: 0.5268 - val_acc: 0.8513\n",
      "Epoch 19/30\n",
      "42000/42000 [==============================] - 34s 805us/step - loss: 0.5124 - acc: 0.8393 - val_loss: 0.5117 - val_acc: 0.8497\n",
      "Epoch 20/30\n",
      "42000/42000 [==============================] - 34s 800us/step - loss: 0.4952 - acc: 0.8447 - val_loss: 0.5149 - val_acc: 0.8517\n",
      "Epoch 21/30\n",
      "42000/42000 [==============================] - 34s 799us/step - loss: 0.4968 - acc: 0.8423 - val_loss: 0.4940 - val_acc: 0.8557\n",
      "Epoch 22/30\n",
      "42000/42000 [==============================] - 34s 802us/step - loss: 0.4865 - acc: 0.8457 - val_loss: 0.4959 - val_acc: 0.8587\n",
      "Epoch 23/30\n",
      "42000/42000 [==============================] - 34s 803us/step - loss: 0.4747 - acc: 0.8504 - val_loss: 0.4986 - val_acc: 0.8558\n",
      "Epoch 24/30\n",
      "42000/42000 [==============================] - 34s 803us/step - loss: 0.4719 - acc: 0.8519 - val_loss: 0.4954 - val_acc: 0.8603\n",
      "Epoch 25/30\n",
      "42000/42000 [==============================] - 34s 799us/step - loss: 0.4623 - acc: 0.8517 - val_loss: 0.5081 - val_acc: 0.8566\n",
      "Epoch 26/30\n",
      "42000/42000 [==============================] - 33s 791us/step - loss: 0.4564 - acc: 0.8562 - val_loss: 0.4820 - val_acc: 0.8606\n",
      "Epoch 27/30\n",
      "42000/42000 [==============================] - 33s 790us/step - loss: 0.4563 - acc: 0.8561 - val_loss: 0.5043 - val_acc: 0.8533\n",
      "Epoch 28/30\n",
      "42000/42000 [==============================] - 34s 799us/step - loss: 0.4456 - acc: 0.8564 - val_loss: 0.4807 - val_acc: 0.8643\n",
      "Epoch 29/30\n",
      "42000/42000 [==============================] - 33s 783us/step - loss: 0.4430 - acc: 0.8589 - val_loss: 0.5051 - val_acc: 0.8587\n",
      "Epoch 30/30\n",
      "42000/42000 [==============================] - 33s 789us/step - loss: 0.4455 - acc: 0.8597 - val_loss: 0.5016 - val_acc: 0.8629\n"
     ]
    }
   ],
   "source": [
    "model_history = model.fit(X_train, train_Y, \n",
    "          validation_data=(X_test, test_Y), \n",
    "          epochs=30)"
   ]
  },
  {
   "cell_type": "code",
   "execution_count": 31,
   "metadata": {},
   "outputs": [
    {
     "name": "stdout",
     "output_type": "stream",
     "text": [
      "18000/18000 [==============================] - 6s 312us/step\n",
      "Accuracy:  86.29444383415911\n"
     ]
    }
   ],
   "source": [
    "accuracy = model.evaluate(x=X_test,y=test_Y,batch_size=10)\n",
    "print(\"Accuracy: \", accuracy[1]*100)"
   ]
  },
  {
   "cell_type": "code",
   "execution_count": 32,
   "metadata": {},
   "outputs": [
    {
     "data": {
      "image/png": "[encoded data removed]",
      "text/plain": [
       "<Figure size 432x288 with 1 Axes>"
      ]
     },
     "metadata": {},
     "output_type": "display_data"
    }
   ],
   "source": [
    "# Model Accuracy \n",
    "plt.plot(model_history.history['acc'])\n",
    "plt.plot(model_history.history['val_acc'])\n",
    "plt.title('Model accuracy')\n",
    "plt.ylabel('Accuracy')\n",
    "plt.xlabel('Epoch')\n",
    "plt.legend(['train', 'test'], loc='upper left')\n",
    "plt.show()"
   ]
  },
  {
   "cell_type": "code",
   "execution_count": 33,
   "metadata": {},
   "outputs": [
    {
     "data": {
      "image/png": "[encoded data removed]",
      "text/plain": [
       "<Figure size 432x288 with 1 Axes>"
      ]
     },
     "metadata": {},
     "output_type": "display_data"
    }
   ],
   "source": [
    "# summarize history for loss\n",
    "plt.plot(model_history.history['loss'])\n",
    "plt.plot(model_history.history['val_loss'])\n",
    "plt.title('Model loss')\n",
    "plt.ylabel('Loss')\n",
    "plt.xlabel('Epoch')\n",
    "plt.legend(['train', 'test'], loc='upper left')\n",
    "plt.show()"
   ]
  },
  {
   "cell_type": "code",
   "execution_count": null,
   "metadata": {},
   "outputs": [],
   "source": []
  },
  {
   "cell_type": "code",
   "execution_count": null,
   "metadata": {},
   "outputs": [],
   "source": []
  }
 ],
 "metadata": {
  "kernelspec": {
   "display_name": "Python 3",
   "language": "python",
   "name": "python3"
  },
  "language_info": {
   "codemirror_mode": {
    "name": "ipython",
    "version": 3
   },
   "file_extension": ".py",
   "mimetype": "text/x-python",
   "name": "python",
   "nbconvert_exporter": "python",
   "pygments_lexer": "ipython3",
   "version": "3.6.5"
  }
 },
 "nbformat": 4,
 "nbformat_minor": 2
}
